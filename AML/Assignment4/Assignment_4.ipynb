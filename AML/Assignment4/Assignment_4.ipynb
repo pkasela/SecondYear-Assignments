{
  "nbformat": 4,
  "nbformat_minor": 0,
  "metadata": {
    "colab": {
      "name": "Assignment 4.ipynb",
      "provenance": [],
      "collapsed_sections": []
    },
    "kernelspec": {
      "name": "python3",
      "display_name": "Python 3"
    },
    "accelerator": "GPU"
  },
  "cells": [
    {
      "cell_type": "code",
      "metadata": {
        "id": "R2c159d7sNfs",
        "colab_type": "code",
        "outputId": "8b151c55-6046-4c16-ad92-dfedcc76d914",
        "colab": {
          "base_uri": "https://localhost:8080/",
          "height": 34
        }
      },
      "source": [
        "%tensorflow_version 2.x\n",
        "import tensorflow as tf\n",
        "from tensorflow import keras"
      ],
      "execution_count": 1,
      "outputs": [
        {
          "output_type": "stream",
          "text": [
            "TensorFlow 2.x selected.\n"
          ],
          "name": "stdout"
        }
      ]
    },
    {
      "cell_type": "code",
      "metadata": {
        "id": "vdeRX4TWCQRR",
        "colab_type": "code",
        "outputId": "dbfe71d3-3f32-462b-ed19-472fff7ba1aa",
        "colab": {
          "base_uri": "https://localhost:8080/",
          "height": 34
        }
      },
      "source": [
        "from google.colab import drive\n",
        "drive.mount('/content/drive', force_remount=True)"
      ],
      "execution_count": 2,
      "outputs": [
        {
          "output_type": "stream",
          "text": [
            "Mounted at /content/drive\n"
          ],
          "name": "stdout"
        }
      ]
    },
    {
      "cell_type": "code",
      "metadata": {
        "id": "cKysgeXtD8KU",
        "colab_type": "code",
        "colab": {}
      },
      "source": [
        "import zipfile\n",
        "with zipfile.ZipFile('/content/drive/My Drive/pranav/intel-image-classification.zip', 'r') as zip_ref:\n",
        "    zip_ref.extractall('/content/data')"
      ],
      "execution_count": 0,
      "outputs": []
    },
    {
      "cell_type": "code",
      "metadata": {
        "id": "WSwgEh74Eiig",
        "colab_type": "code",
        "colab": {}
      },
      "source": [
        "from tensorflow.keras.applications import vgg16"
      ],
      "execution_count": 0,
      "outputs": []
    },
    {
      "cell_type": "code",
      "metadata": {
        "id": "3udFBBA5wYD8",
        "colab_type": "code",
        "colab": {}
      },
      "source": [
        "model = vgg16.VGG16(include_top=False, pooling='avg', input_shape = (150, 150, 3))"
      ],
      "execution_count": 0,
      "outputs": []
    },
    {
      "cell_type": "code",
      "metadata": {
        "id": "RMCa_9AG80FR",
        "colab_type": "code",
        "colab": {}
      },
      "source": [
        "import numpy as np\n",
        "\n",
        "from sklearn.utils import shuffle\n",
        "from sklearn.model_selection import train_test_split\n",
        "from sklearn.svm import LinearSVC\n",
        "from sklearn.metrics import classification_report, confusion_matrix\n",
        "from sklearn.neighbors import KNeighborsClassifier\n",
        "\n",
        "\n",
        "from tensorflow.keras.layers import GlobalAveragePooling2D\n",
        "from tensorflow.keras.layers import Dense\n",
        "from tensorflow.keras.models import Model\n",
        "from tensorflow.keras.preprocessing import image as kimage"
      ],
      "execution_count": 0,
      "outputs": []
    },
    {
      "cell_type": "markdown",
      "metadata": {
        "id": "AQ6b7HigO52r",
        "colab_type": "text"
      },
      "source": [
        "#First Cut"
      ]
    },
    {
      "cell_type": "code",
      "metadata": {
        "id": "juBNyYCzyARz",
        "colab_type": "code",
        "outputId": "5853eb35-3029-4847-cff7-c73d82c6fa54",
        "colab": {
          "base_uri": "https://localhost:8080/",
          "height": 833
        }
      },
      "source": [
        "model.summary()"
      ],
      "execution_count": 7,
      "outputs": [
        {
          "output_type": "stream",
          "text": [
            "Model: \"vgg16\"\n",
            "_________________________________________________________________\n",
            "Layer (type)                 Output Shape              Param #   \n",
            "=================================================================\n",
            "input_1 (InputLayer)         [(None, 150, 150, 3)]     0         \n",
            "_________________________________________________________________\n",
            "block1_conv1 (Conv2D)        (None, 150, 150, 64)      1792      \n",
            "_________________________________________________________________\n",
            "block1_conv2 (Conv2D)        (None, 150, 150, 64)      36928     \n",
            "_________________________________________________________________\n",
            "block1_pool (MaxPooling2D)   (None, 75, 75, 64)        0         \n",
            "_________________________________________________________________\n",
            "block2_conv1 (Conv2D)        (None, 75, 75, 128)       73856     \n",
            "_________________________________________________________________\n",
            "block2_conv2 (Conv2D)        (None, 75, 75, 128)       147584    \n",
            "_________________________________________________________________\n",
            "block2_pool (MaxPooling2D)   (None, 37, 37, 128)       0         \n",
            "_________________________________________________________________\n",
            "block3_conv1 (Conv2D)        (None, 37, 37, 256)       295168    \n",
            "_________________________________________________________________\n",
            "block3_conv2 (Conv2D)        (None, 37, 37, 256)       590080    \n",
            "_________________________________________________________________\n",
            "block3_conv3 (Conv2D)        (None, 37, 37, 256)       590080    \n",
            "_________________________________________________________________\n",
            "block3_pool (MaxPooling2D)   (None, 18, 18, 256)       0         \n",
            "_________________________________________________________________\n",
            "block4_conv1 (Conv2D)        (None, 18, 18, 512)       1180160   \n",
            "_________________________________________________________________\n",
            "block4_conv2 (Conv2D)        (None, 18, 18, 512)       2359808   \n",
            "_________________________________________________________________\n",
            "block4_conv3 (Conv2D)        (None, 18, 18, 512)       2359808   \n",
            "_________________________________________________________________\n",
            "block4_pool (MaxPooling2D)   (None, 9, 9, 512)         0         \n",
            "_________________________________________________________________\n",
            "block5_conv1 (Conv2D)        (None, 9, 9, 512)         2359808   \n",
            "_________________________________________________________________\n",
            "block5_conv2 (Conv2D)        (None, 9, 9, 512)         2359808   \n",
            "_________________________________________________________________\n",
            "block5_conv3 (Conv2D)        (None, 9, 9, 512)         2359808   \n",
            "_________________________________________________________________\n",
            "block5_pool (MaxPooling2D)   (None, 4, 4, 512)         0         \n",
            "_________________________________________________________________\n",
            "global_average_pooling2d (Gl (None, 512)               0         \n",
            "=================================================================\n",
            "Total params: 14,714,688\n",
            "Trainable params: 14,714,688\n",
            "Non-trainable params: 0\n",
            "_________________________________________________________________\n"
          ],
          "name": "stdout"
        }
      ]
    },
    {
      "cell_type": "code",
      "metadata": {
        "id": "QZ8gFPrHzbNf",
        "colab_type": "code",
        "colab": {}
      },
      "source": [
        "for layer in model.layers:\n",
        "  layer.trainable = False"
      ],
      "execution_count": 0,
      "outputs": []
    },
    {
      "cell_type": "code",
      "metadata": {
        "id": "gCKYrrPAO_fn",
        "colab_type": "code",
        "outputId": "4c9dc710-5f36-4568-d278-4e9f47e87d67",
        "colab": {
          "base_uri": "https://localhost:8080/",
          "height": 51
        }
      },
      "source": [
        "train_processing = kimage.ImageDataGenerator(\n",
        "    preprocessing_function=vgg16.preprocess_input)\n",
        "train_generator = train_processing.flow_from_directory('/content/data/seg_train/seg_train', \n",
        "                                                       batch_size=102,\n",
        "                                                       target_size=(150,150), shuffle=False)\n",
        "\n",
        "test_processing = kimage.ImageDataGenerator(\n",
        "    preprocessing_function=vgg16.preprocess_input)\n",
        "test_generator = test_processing.flow_from_directory('/content/data/seg_test/seg_test', \n",
        "                                                     batch_size=100,\n",
        "                                                     target_size=(150,150), shuffle=False)"
      ],
      "execution_count": 9,
      "outputs": [
        {
          "output_type": "stream",
          "text": [
            "Found 14034 images belonging to 6 classes.\n",
            "Found 3000 images belonging to 6 classes.\n"
          ],
          "name": "stdout"
        }
      ]
    },
    {
      "cell_type": "code",
      "metadata": {
        "id": "8BnUhyKNyaOY",
        "colab_type": "code",
        "outputId": "60bbde96-cd74-450a-b8fa-b54b135ddda2",
        "colab": {
          "base_uri": "https://localhost:8080/",
          "height": 306
        }
      },
      "source": [
        "%%time\n",
        "for i in range(138): #round(14034/102)\n",
        "  X, y = next(train_generator)\n",
        "  if i == 0:\n",
        "    X_train = model.predict(X)\n",
        "    y_train = np.argmax(y, axis=1)\n",
        "  else:\n",
        "    X_train = np.concatenate((X_train, model.predict(X)))\n",
        "    y_train = np.concatenate((y_train, np.argmax(y, axis=1)))\n",
        "  if i%10==0 or i == 137:\n",
        "    print(i, X_train.shape, y_train.shape)\n",
        "np.save('/content/drive/My Drive/pranav/X_train_1', X_train)\n",
        "np.save('/content/drive/My Drive/pranav/y_train_1', y_train)"
      ],
      "execution_count": 10,
      "outputs": [
        {
          "output_type": "stream",
          "text": [
            "0 (102, 512) (102,)\n",
            "10 (1122, 512) (1122,)\n",
            "20 (2142, 512) (2142,)\n",
            "30 (3162, 512) (3162,)\n",
            "40 (4182, 512) (4182,)\n",
            "50 (5202, 512) (5202,)\n",
            "60 (6222, 512) (6222,)\n",
            "70 (7242, 512) (7242,)\n",
            "80 (8262, 512) (8262,)\n",
            "90 (9282, 512) (9282,)\n",
            "100 (10302, 512) (10302,)\n",
            "110 (11322, 512) (11322,)\n",
            "120 (12342, 512) (12342,)\n",
            "130 (13362, 512) (13362,)\n",
            "137 (14034, 512) (14034,)\n",
            "CPU times: user 31.1 s, sys: 7.87 s, total: 39 s\n",
            "Wall time: 38.9 s\n"
          ],
          "name": "stdout"
        }
      ]
    },
    {
      "cell_type": "code",
      "metadata": {
        "id": "bH7VXRjA5UMb",
        "colab_type": "code",
        "outputId": "e6891d65-f1ed-4302-80c1-587638ed7630",
        "colab": {
          "base_uri": "https://localhost:8080/",
          "height": 119
        }
      },
      "source": [
        "%%time\n",
        "for i in range(30):\n",
        "  X, y = next(test_generator)\n",
        "  if i == 0:\n",
        "    X_test = model.predict(X)\n",
        "    y_test = np.argmax(y, axis=1)\n",
        "  else:\n",
        "    X_test = np.concatenate((X_test, model.predict(X)))\n",
        "    y_test = np.concatenate((y_test, np.argmax(y, axis=1)))\n",
        "  if i%10==0 or i == 29:\n",
        "    print(i, X_test.shape, y_test.shape)\n",
        "np.save('/content/drive/My Drive/pranav/X_test_1', X_test)\n",
        "np.save('/content/drive/My Drive/pranav/y_test_1', y_test)"
      ],
      "execution_count": 11,
      "outputs": [
        {
          "output_type": "stream",
          "text": [
            "0 (100, 512) (100,)\n",
            "10 (1100, 512) (1100,)\n",
            "20 (2100, 512) (2100,)\n",
            "29 (3000, 512) (3000,)\n",
            "CPU times: user 6.33 s, sys: 1.54 s, total: 7.87 s\n",
            "Wall time: 7.9 s\n"
          ],
          "name": "stdout"
        }
      ]
    },
    {
      "cell_type": "code",
      "metadata": {
        "id": "XGB52Zd3iEHO",
        "colab_type": "code",
        "colab": {}
      },
      "source": [
        "X_train = np.load('/content/drive/My Drive/pranav/X_train_1.npy')\n",
        "y_train = np.load('/content/drive/My Drive/pranav/y_train_1.npy')\n",
        "X_test  = np.load('/content/drive/My Drive/pranav/X_test_1.npy')\n",
        "y_test  = np.load('/content/drive/My Drive/pranav/y_test_1.npy')\n",
        "\n",
        "X_train, y_train = shuffle(X_train, y_train)\n",
        "X_test, y_test = shuffle(X_test, y_test)"
      ],
      "execution_count": 0,
      "outputs": []
    },
    {
      "cell_type": "code",
      "metadata": {
        "id": "OwCTEXwyic5C",
        "colab_type": "code",
        "colab": {}
      },
      "source": [
        "X_train, X_val, y_train, y_val = train_test_split(X_train, y_train, test_size=0.2)"
      ],
      "execution_count": 0,
      "outputs": []
    },
    {
      "cell_type": "code",
      "metadata": {
        "id": "bJRJN13g5m9c",
        "colab_type": "code",
        "outputId": "8fe949f6-2fb5-46cf-9b82-f9e364a2418b",
        "colab": {
          "base_uri": "https://localhost:8080/",
          "height": 493
        }
      },
      "source": [
        "%%time\n",
        "svclassifier = LinearSVC(dual=False, C=0.5, tol=1e-3).fit(X_train, y_train)\n",
        "print(classification_report(y_train,svclassifier.predict(X_train),digits=4))\n",
        "print(classification_report(y_val,svclassifier.predict(X_val),digits=4))"
      ],
      "execution_count": 14,
      "outputs": [
        {
          "output_type": "stream",
          "text": [
            "              precision    recall  f1-score   support\n",
            "\n",
            "           0     0.9605    0.9610    0.9608      1720\n",
            "           1     0.9978    0.9967    0.9973      1834\n",
            "           2     0.9010    0.8873    0.8941      1907\n",
            "           3     0.8957    0.9081    0.9019      2014\n",
            "           4     0.9828    0.9828    0.9828      1803\n",
            "           5     0.9641    0.9651    0.9646      1949\n",
            "\n",
            "    accuracy                         0.9491     11227\n",
            "   macro avg     0.9503    0.9502    0.9502     11227\n",
            "weighted avg     0.9491    0.9491    0.9490     11227\n",
            "\n",
            "              precision    recall  f1-score   support\n",
            "\n",
            "           0     0.9087    0.9087    0.9087       471\n",
            "           1     0.9709    0.9931    0.9819       437\n",
            "           2     0.8388    0.8270    0.8328       497\n",
            "           3     0.8563    0.8494    0.8528       498\n",
            "           4     0.9293    0.9214    0.9254       471\n",
            "           5     0.8995    0.9099    0.9047       433\n",
            "\n",
            "    accuracy                         0.8992      2807\n",
            "   macro avg     0.9006    0.9016    0.9011      2807\n",
            "weighted avg     0.8988    0.8992    0.8989      2807\n",
            "\n",
            "CPU times: user 3.21 s, sys: 85.1 ms, total: 3.29 s\n",
            "Wall time: 3.24 s\n"
          ],
          "name": "stdout"
        }
      ]
    },
    {
      "cell_type": "code",
      "metadata": {
        "id": "huSW8dVxHCae",
        "colab_type": "code",
        "outputId": "320aca5c-bdd7-474c-e57d-c41d5399825f",
        "colab": {
          "base_uri": "https://localhost:8080/",
          "height": 238
        }
      },
      "source": [
        "print(classification_report(y_test,svclassifier.predict(X_test),digits=4))"
      ],
      "execution_count": 15,
      "outputs": [
        {
          "output_type": "stream",
          "text": [
            "              precision    recall  f1-score   support\n",
            "\n",
            "           0     0.9141    0.8764    0.8949       437\n",
            "           1     0.9752    0.9937    0.9843       474\n",
            "           2     0.8514    0.7975    0.8235       553\n",
            "           3     0.8139    0.8495    0.8313       525\n",
            "           4     0.9304    0.9431    0.9367       510\n",
            "           5     0.8932    0.9182    0.9055       501\n",
            "\n",
            "    accuracy                         0.8940      3000\n",
            "   macro avg     0.8963    0.8964    0.8960      3000\n",
            "weighted avg     0.8939    0.8940    0.8936      3000\n",
            "\n"
          ],
          "name": "stdout"
        }
      ]
    },
    {
      "cell_type": "code",
      "metadata": {
        "id": "71SGRmzwi_2S",
        "colab_type": "code",
        "outputId": "c842c9fb-b673-4c9d-a7ca-6ce1979066e5",
        "colab": {
          "base_uri": "https://localhost:8080/",
          "height": 493
        }
      },
      "source": [
        "%%time\n",
        "knnclassifier = KNeighborsClassifier(n_neighbors=3).fit(X_train, y_train)\n",
        "print(classification_report(y_train,knnclassifier.predict(X_train),digits=4))\n",
        "print(classification_report(y_val,knnclassifier.predict(X_val),digits=4))"
      ],
      "execution_count": 16,
      "outputs": [
        {
          "output_type": "stream",
          "text": [
            "              precision    recall  f1-score   support\n",
            "\n",
            "           0     0.9306    0.9273    0.9289      1720\n",
            "           1     0.9630    0.9940    0.9783      1834\n",
            "           2     0.8860    0.9009    0.8934      1907\n",
            "           3     0.9093    0.9012    0.9052      2014\n",
            "           4     0.9791    0.9606    0.9698      1803\n",
            "           5     0.9436    0.9277    0.9356      1949\n",
            "\n",
            "    accuracy                         0.9344     11227\n",
            "   macro avg     0.9353    0.9353    0.9352     11227\n",
            "weighted avg     0.9346    0.9344    0.9344     11227\n",
            "\n",
            "              precision    recall  f1-score   support\n",
            "\n",
            "           0     0.8865    0.8790    0.8827       471\n",
            "           1     0.9455    0.9931    0.9688       437\n",
            "           2     0.7736    0.8249    0.7984       497\n",
            "           3     0.8319    0.7851    0.8079       498\n",
            "           4     0.9532    0.9087    0.9304       471\n",
            "           5     0.8819    0.8799    0.8809       433\n",
            "\n",
            "    accuracy                         0.8757      2807\n",
            "   macro avg     0.8788    0.8785    0.8782      2807\n",
            "weighted avg     0.8765    0.8757    0.8756      2807\n",
            "\n",
            "CPU times: user 1min 57s, sys: 188 ms, total: 1min 57s\n",
            "Wall time: 1min 57s\n"
          ],
          "name": "stdout"
        }
      ]
    },
    {
      "cell_type": "code",
      "metadata": {
        "id": "MUQQWT3hF1P0",
        "colab_type": "code",
        "outputId": "c14e131d-e178-41a3-f570-be5dc25dfd6f",
        "colab": {
          "base_uri": "https://localhost:8080/",
          "height": 238
        }
      },
      "source": [
        "print(classification_report(y_test,knnclassifier.predict(X_test),digits=4))"
      ],
      "execution_count": 17,
      "outputs": [
        {
          "output_type": "stream",
          "text": [
            "              precision    recall  f1-score   support\n",
            "\n",
            "           0     0.8721    0.8581    0.8651       437\n",
            "           1     0.9497    0.9958    0.9722       474\n",
            "           2     0.8127    0.8318    0.8222       553\n",
            "           3     0.8327    0.8057    0.8190       525\n",
            "           4     0.9450    0.9431    0.9441       510\n",
            "           5     0.8918    0.8723    0.8819       501\n",
            "\n",
            "    accuracy                         0.8827      3000\n",
            "   macro avg     0.8840    0.8845    0.8841      3000\n",
            "weighted avg     0.8822    0.8827    0.8823      3000\n",
            "\n"
          ],
          "name": "stdout"
        }
      ]
    },
    {
      "cell_type": "markdown",
      "metadata": {
        "id": "fczxteq-NEyL",
        "colab_type": "text"
      },
      "source": [
        "#Second Cut"
      ]
    },
    {
      "cell_type": "code",
      "metadata": {
        "id": "XesnVs3SIlFL",
        "colab_type": "code",
        "outputId": "6f02217a-ea8b-4bda-837d-9618601752a3",
        "colab": {
          "base_uri": "https://localhost:8080/",
          "height": 697
        }
      },
      "source": [
        "x = GlobalAveragePooling2D()(model.layers[-6].output)\n",
        "model_2 = Model(model.input, x)\n",
        "model_2.compile(loss='mse',optimizer='sgd')\n",
        "model_2.summary()"
      ],
      "execution_count": 18,
      "outputs": [
        {
          "output_type": "stream",
          "text": [
            "Model: \"model\"\n",
            "_________________________________________________________________\n",
            "Layer (type)                 Output Shape              Param #   \n",
            "=================================================================\n",
            "input_1 (InputLayer)         [(None, 150, 150, 3)]     0         \n",
            "_________________________________________________________________\n",
            "block1_conv1 (Conv2D)        (None, 150, 150, 64)      1792      \n",
            "_________________________________________________________________\n",
            "block1_conv2 (Conv2D)        (None, 150, 150, 64)      36928     \n",
            "_________________________________________________________________\n",
            "block1_pool (MaxPooling2D)   (None, 75, 75, 64)        0         \n",
            "_________________________________________________________________\n",
            "block2_conv1 (Conv2D)        (None, 75, 75, 128)       73856     \n",
            "_________________________________________________________________\n",
            "block2_conv2 (Conv2D)        (None, 75, 75, 128)       147584    \n",
            "_________________________________________________________________\n",
            "block2_pool (MaxPooling2D)   (None, 37, 37, 128)       0         \n",
            "_________________________________________________________________\n",
            "block3_conv1 (Conv2D)        (None, 37, 37, 256)       295168    \n",
            "_________________________________________________________________\n",
            "block3_conv2 (Conv2D)        (None, 37, 37, 256)       590080    \n",
            "_________________________________________________________________\n",
            "block3_conv3 (Conv2D)        (None, 37, 37, 256)       590080    \n",
            "_________________________________________________________________\n",
            "block3_pool (MaxPooling2D)   (None, 18, 18, 256)       0         \n",
            "_________________________________________________________________\n",
            "block4_conv1 (Conv2D)        (None, 18, 18, 512)       1180160   \n",
            "_________________________________________________________________\n",
            "block4_conv2 (Conv2D)        (None, 18, 18, 512)       2359808   \n",
            "_________________________________________________________________\n",
            "block4_conv3 (Conv2D)        (None, 18, 18, 512)       2359808   \n",
            "_________________________________________________________________\n",
            "block4_pool (MaxPooling2D)   (None, 9, 9, 512)         0         \n",
            "_________________________________________________________________\n",
            "global_average_pooling2d_1 ( (None, 512)               0         \n",
            "=================================================================\n",
            "Total params: 7,635,264\n",
            "Trainable params: 0\n",
            "Non-trainable params: 7,635,264\n",
            "_________________________________________________________________\n"
          ],
          "name": "stdout"
        }
      ]
    },
    {
      "cell_type": "code",
      "metadata": {
        "id": "kFG9FWRGLmWJ",
        "colab_type": "code",
        "outputId": "668495d9-c148-423e-ee37-7bc1d27bbb54",
        "colab": {
          "base_uri": "https://localhost:8080/",
          "height": 408
        }
      },
      "source": [
        "%%time\n",
        "\n",
        "train_processing = kimage.ImageDataGenerator(\n",
        "    preprocessing_function=vgg16.preprocess_input)\n",
        "train_generator = train_processing.flow_from_directory('/content/data/seg_train/seg_train', \n",
        "                                                       batch_size=102,\n",
        "                                                       target_size=(150,150), shuffle=False)\n",
        "\n",
        "test_processing = kimage.ImageDataGenerator(\n",
        "    preprocessing_function=vgg16.preprocess_input)\n",
        "test_generator = test_processing.flow_from_directory('/content/data/seg_test/seg_test', \n",
        "                                                     batch_size=100,\n",
        "                                                     target_size=(150,150), shuffle=False)\n",
        "\n",
        "for i in range(138): #round(14034/102)\n",
        "  X, y = next(train_generator)\n",
        "  if i == 0:\n",
        "    X_train = model_2.predict(X)\n",
        "    y_train = np.argmax(y, axis=1)\n",
        "  else:\n",
        "    X_train = np.concatenate((X_train, model_2.predict(X)))\n",
        "    y_train = np.concatenate((y_train, np.argmax(y, axis=1)))\n",
        "  if i%10==0 or i == 137:\n",
        "    print(i, X_train.shape, y_train.shape)\n",
        "np.save('/content/drive/My Drive/pranav/X_train_2', X_train)\n",
        "np.save('/content/drive/My Drive/pranav/y_train_2', y_train)\n",
        "\n",
        "for i in range(30):\n",
        "  X, y = next(test_generator)\n",
        "  if i == 0:\n",
        "    X_test = model_2.predict(X)\n",
        "    y_test = np.argmax(y, axis=1)\n",
        "  else:\n",
        "    X_test = np.concatenate((X_test, model_2.predict(X)))\n",
        "    y_test = np.concatenate((y_test, np.argmax(y, axis=1)))\n",
        "  if i%10==0 or i == 29:\n",
        "    print(i, X_test.shape, y_test.shape)\n",
        "np.save('/content/drive/My Drive/pranav/X_test_2', X_test)\n",
        "np.save('/content/drive/My Drive/pranav/y_test_2', y_test)"
      ],
      "execution_count": 19,
      "outputs": [
        {
          "output_type": "stream",
          "text": [
            "Found 14034 images belonging to 6 classes.\n",
            "Found 3000 images belonging to 6 classes.\n",
            "0 (102, 512) (102,)\n",
            "10 (1122, 512) (1122,)\n",
            "20 (2142, 512) (2142,)\n",
            "30 (3162, 512) (3162,)\n",
            "40 (4182, 512) (4182,)\n",
            "50 (5202, 512) (5202,)\n",
            "60 (6222, 512) (6222,)\n",
            "70 (7242, 512) (7242,)\n",
            "80 (8262, 512) (8262,)\n",
            "90 (9282, 512) (9282,)\n",
            "100 (10302, 512) (10302,)\n",
            "110 (11322, 512) (11322,)\n",
            "120 (12342, 512) (12342,)\n",
            "130 (13362, 512) (13362,)\n",
            "137 (14034, 512) (14034,)\n",
            "0 (100, 512) (100,)\n",
            "10 (1100, 512) (1100,)\n",
            "20 (2100, 512) (2100,)\n",
            "29 (3000, 512) (3000,)\n",
            "CPU times: user 43.6 s, sys: 8.15 s, total: 51.7 s\n",
            "Wall time: 49.1 s\n"
          ],
          "name": "stdout"
        }
      ]
    },
    {
      "cell_type": "code",
      "metadata": {
        "id": "V_vWkwm_NJon",
        "colab_type": "code",
        "colab": {}
      },
      "source": [
        "X_train = np.load('/content/drive/My Drive/pranav/X_train_2.npy')\n",
        "y_train = np.load('/content/drive/My Drive/pranav/y_train_2.npy')\n",
        "X_test  = np.load('/content/drive/My Drive/pranav/X_test_2.npy')\n",
        "y_test  = np.load('/content/drive/My Drive/pranav/y_test_2.npy')\n",
        "\n",
        "X_train, y_train = shuffle(X_train, y_train)\n",
        "X_test, y_test = shuffle(X_test, y_test)"
      ],
      "execution_count": 0,
      "outputs": []
    },
    {
      "cell_type": "code",
      "metadata": {
        "id": "PGyZo-qHzP59",
        "colab_type": "code",
        "colab": {}
      },
      "source": [
        "X_train, X_val, y_train, y_val = train_test_split(X_train, y_train, test_size=0.2)"
      ],
      "execution_count": 0,
      "outputs": []
    },
    {
      "cell_type": "code",
      "metadata": {
        "id": "1tZWmVauODCB",
        "colab_type": "code",
        "outputId": "2937d102-1b21-4dd8-d1ae-94ec10239195",
        "colab": {
          "base_uri": "https://localhost:8080/",
          "height": 493
        }
      },
      "source": [
        "%%time\n",
        "svclassifier = LinearSVC(dual=False, C=1, tol=1e-3).fit(X_train, y_train)\n",
        "print(classification_report(y_train,svclassifier.predict(X_train),digits=4))\n",
        "print(classification_report(y_val,svclassifier.predict(X_val),digits=4))"
      ],
      "execution_count": 22,
      "outputs": [
        {
          "output_type": "stream",
          "text": [
            "              precision    recall  f1-score   support\n",
            "\n",
            "           0     0.9753    0.9731    0.9742      1748\n",
            "           1     0.9989    1.0000    0.9994      1802\n",
            "           2     0.9203    0.8957    0.9079      1947\n",
            "           3     0.9102    0.9241    0.9171      2028\n",
            "           4     0.9796    0.9856    0.9826      1807\n",
            "           5     0.9738    0.9799    0.9769      1895\n",
            "\n",
            "    accuracy                         0.9583     11227\n",
            "   macro avg     0.9597    0.9597    0.9597     11227\n",
            "weighted avg     0.9582    0.9583    0.9582     11227\n",
            "\n",
            "              precision    recall  f1-score   support\n",
            "\n",
            "           0     0.9076    0.8871    0.8973       443\n",
            "           1     0.9872    0.9851    0.9861       469\n",
            "           2     0.8653    0.8578    0.8615       457\n",
            "           3     0.8492    0.8843    0.8664       484\n",
            "           4     0.9356    0.9336    0.9346       467\n",
            "           5     0.9068    0.8994    0.9031       487\n",
            "\n",
            "    accuracy                         0.9081      2807\n",
            "   macro avg     0.9086    0.9079    0.9082      2807\n",
            "weighted avg     0.9085    0.9081    0.9082      2807\n",
            "\n",
            "CPU times: user 5.45 s, sys: 75.8 ms, total: 5.53 s\n",
            "Wall time: 5.48 s\n"
          ],
          "name": "stdout"
        }
      ]
    },
    {
      "cell_type": "code",
      "metadata": {
        "id": "M6O2Ty_KOGW6",
        "colab_type": "code",
        "outputId": "d0559c5e-b71e-4261-ebd9-4cbd766879fd",
        "colab": {
          "base_uri": "https://localhost:8080/",
          "height": 238
        }
      },
      "source": [
        "print(classification_report(y_test,svclassifier.predict(X_test),digits=4))"
      ],
      "execution_count": 23,
      "outputs": [
        {
          "output_type": "stream",
          "text": [
            "              precision    recall  f1-score   support\n",
            "\n",
            "           0     0.9183    0.8741    0.8957       437\n",
            "           1     0.9833    0.9916    0.9874       474\n",
            "           2     0.8696    0.8318    0.8503       553\n",
            "           3     0.8447    0.8705    0.8574       525\n",
            "           4     0.9070    0.9373    0.9219       510\n",
            "           5     0.9096    0.9242    0.9168       501\n",
            "\n",
            "    accuracy                         0.9033      3000\n",
            "   macro avg     0.9054    0.9049    0.9049      3000\n",
            "weighted avg     0.9033    0.9033    0.9031      3000\n",
            "\n"
          ],
          "name": "stdout"
        }
      ]
    },
    {
      "cell_type": "code",
      "metadata": {
        "id": "nuWPin7SZsjt",
        "colab_type": "code",
        "outputId": "ae782046-224e-4a23-deb4-e947e3d00edd",
        "colab": {
          "base_uri": "https://localhost:8080/",
          "height": 493
        }
      },
      "source": [
        "%%time\n",
        "knnclassifier = KNeighborsClassifier(n_neighbors=3).fit(X_train, y_train)\n",
        "print(classification_report(y_train,knnclassifier.predict(X_train),digits=4))\n",
        "print(classification_report(y_val,knnclassifier.predict(X_val),digits=4))"
      ],
      "execution_count": 24,
      "outputs": [
        {
          "output_type": "stream",
          "text": [
            "              precision    recall  f1-score   support\n",
            "\n",
            "           0     0.9674    0.8839    0.9238      1748\n",
            "           1     0.9824    0.9939    0.9881      1802\n",
            "           2     0.8628    0.9301    0.8952      1947\n",
            "           3     0.9249    0.8866    0.9053      2028\n",
            "           4     0.9749    0.9225    0.9480      1807\n",
            "           5     0.8973    0.9726    0.9334      1895\n",
            "\n",
            "    accuracy                         0.9312     11227\n",
            "   macro avg     0.9350    0.9316    0.9323     11227\n",
            "weighted avg     0.9334    0.9312    0.9313     11227\n",
            "\n",
            "              precision    recall  f1-score   support\n",
            "\n",
            "           0     0.9475    0.7743    0.8522       443\n",
            "           1     0.9767    0.9829    0.9798       469\n",
            "           2     0.7607    0.8906    0.8206       457\n",
            "           3     0.8467    0.8099    0.8279       484\n",
            "           4     0.9685    0.8565    0.9091       467\n",
            "           5     0.8238    0.9507    0.8827       487\n",
            "\n",
            "    accuracy                         0.8785      2807\n",
            "   macro avg     0.8873    0.8775    0.8787      2807\n",
            "weighted avg     0.8866    0.8785    0.8789      2807\n",
            "\n",
            "CPU times: user 2min 23s, sys: 176 ms, total: 2min 23s\n",
            "Wall time: 2min 23s\n"
          ],
          "name": "stdout"
        }
      ]
    },
    {
      "cell_type": "code",
      "metadata": {
        "id": "RqctUEP6ZuAt",
        "colab_type": "code",
        "outputId": "c9b8506a-5d46-4111-8f5c-9cb11df19cae",
        "colab": {
          "base_uri": "https://localhost:8080/",
          "height": 238
        }
      },
      "source": [
        "print(classification_report(y_test,knnclassifier.predict(X_test),digits=4))"
      ],
      "execution_count": 25,
      "outputs": [
        {
          "output_type": "stream",
          "text": [
            "              precision    recall  f1-score   support\n",
            "\n",
            "           0     0.9391    0.7757    0.8496       437\n",
            "           1     0.9793    0.9979    0.9885       474\n",
            "           2     0.7767    0.8680    0.8198       553\n",
            "           3     0.8310    0.7867    0.8082       525\n",
            "           4     0.9486    0.8686    0.9069       510\n",
            "           5     0.8293    0.9501    0.8856       501\n",
            "\n",
            "    accuracy                         0.8747      3000\n",
            "   macro avg     0.8840    0.8745    0.8764      3000\n",
            "weighted avg     0.8799    0.8747    0.8746      3000\n",
            "\n"
          ],
          "name": "stdout"
        }
      ]
    },
    {
      "cell_type": "markdown",
      "metadata": {
        "id": "_9PuOcYUUOVG",
        "colab_type": "text"
      },
      "source": [
        "#Third Cut"
      ]
    },
    {
      "cell_type": "code",
      "metadata": {
        "id": "lSslEd4MUP7d",
        "colab_type": "code",
        "colab": {
          "base_uri": "https://localhost:8080/",
          "height": 561
        },
        "outputId": "83ff28ee-79ed-42e4-fd78-a46c534b629a"
      },
      "source": [
        "x = GlobalAveragePooling2D()(model.layers[-10].output)\n",
        "model_3 = Model(model.input, x)\n",
        "model_3.compile(loss='mse',optimizer='sgd') #è indifferente\n",
        "model_3.summary()"
      ],
      "execution_count": 26,
      "outputs": [
        {
          "output_type": "stream",
          "text": [
            "Model: \"model_1\"\n",
            "_________________________________________________________________\n",
            "Layer (type)                 Output Shape              Param #   \n",
            "=================================================================\n",
            "input_1 (InputLayer)         [(None, 150, 150, 3)]     0         \n",
            "_________________________________________________________________\n",
            "block1_conv1 (Conv2D)        (None, 150, 150, 64)      1792      \n",
            "_________________________________________________________________\n",
            "block1_conv2 (Conv2D)        (None, 150, 150, 64)      36928     \n",
            "_________________________________________________________________\n",
            "block1_pool (MaxPooling2D)   (None, 75, 75, 64)        0         \n",
            "_________________________________________________________________\n",
            "block2_conv1 (Conv2D)        (None, 75, 75, 128)       73856     \n",
            "_________________________________________________________________\n",
            "block2_conv2 (Conv2D)        (None, 75, 75, 128)       147584    \n",
            "_________________________________________________________________\n",
            "block2_pool (MaxPooling2D)   (None, 37, 37, 128)       0         \n",
            "_________________________________________________________________\n",
            "block3_conv1 (Conv2D)        (None, 37, 37, 256)       295168    \n",
            "_________________________________________________________________\n",
            "block3_conv2 (Conv2D)        (None, 37, 37, 256)       590080    \n",
            "_________________________________________________________________\n",
            "block3_conv3 (Conv2D)        (None, 37, 37, 256)       590080    \n",
            "_________________________________________________________________\n",
            "block3_pool (MaxPooling2D)   (None, 18, 18, 256)       0         \n",
            "_________________________________________________________________\n",
            "global_average_pooling2d_2 ( (None, 256)               0         \n",
            "=================================================================\n",
            "Total params: 1,735,488\n",
            "Trainable params: 0\n",
            "Non-trainable params: 1,735,488\n",
            "_________________________________________________________________\n"
          ],
          "name": "stdout"
        }
      ]
    },
    {
      "cell_type": "code",
      "metadata": {
        "id": "be85b7OFUhxc",
        "colab_type": "code",
        "colab": {
          "base_uri": "https://localhost:8080/",
          "height": 408
        },
        "outputId": "ebdf0588-c64a-45f0-ca98-563e3f5a162b"
      },
      "source": [
        "%%time\n",
        "\n",
        "train_processing = kimage.ImageDataGenerator(\n",
        "    preprocessing_function=vgg16.preprocess_input)\n",
        "train_generator = train_processing.flow_from_directory('/content/data/seg_train/seg_train', \n",
        "                                                       batch_size=102,\n",
        "                                                       target_size=(150,150), shuffle=False)\n",
        "\n",
        "test_processing = kimage.ImageDataGenerator(\n",
        "    preprocessing_function=vgg16.preprocess_input)\n",
        "test_generator = test_processing.flow_from_directory('/content/data/seg_test/seg_test', \n",
        "                                                     batch_size=100,\n",
        "                                                     target_size=(150,150), shuffle=False)\n",
        "\n",
        "for i in range(138): #round(14034/102)\n",
        "  X, y = next(train_generator)\n",
        "  if i == 0:\n",
        "    X_train = model_3.predict(X)\n",
        "    y_train = np.argmax(y, axis=1)\n",
        "  else:\n",
        "    X_train = np.concatenate((X_train, model_3.predict(X)))\n",
        "    y_train = np.concatenate((y_train, np.argmax(y, axis=1)))\n",
        "  if i%10==0 or i == 137:\n",
        "    print(i, X_train.shape, y_train.shape)\n",
        "np.save('/content/drive/My Drive/pranav/X_train_3', X_train)\n",
        "np.save('/content/drive/My Drive/pranav/y_train_3', y_train)\n",
        "\n",
        "for i in range(30):\n",
        "  X, y = next(test_generator)\n",
        "  if i == 0:\n",
        "    X_test = model_3.predict(X)\n",
        "    y_test = np.argmax(y, axis=1)\n",
        "  else:\n",
        "    X_test = np.concatenate((X_test, model_3.predict(X)))\n",
        "    y_test = np.concatenate((y_test, np.argmax(y, axis=1)))\n",
        "  if i%10==0 or i == 29:\n",
        "    print(i, X_test.shape, y_test.shape)\n",
        "np.save('/content/drive/My Drive/pranav/X_test_3', X_test)\n",
        "np.save('/content/drive/My Drive/pranav/y_test_3', y_test)"
      ],
      "execution_count": 27,
      "outputs": [
        {
          "output_type": "stream",
          "text": [
            "Found 14034 images belonging to 6 classes.\n",
            "Found 3000 images belonging to 6 classes.\n",
            "0 (102, 256) (102,)\n",
            "10 (1122, 256) (1122,)\n",
            "20 (2142, 256) (2142,)\n",
            "30 (3162, 256) (3162,)\n",
            "40 (4182, 256) (4182,)\n",
            "50 (5202, 256) (5202,)\n",
            "60 (6222, 256) (6222,)\n",
            "70 (7242, 256) (7242,)\n",
            "80 (8262, 256) (8262,)\n",
            "90 (9282, 256) (9282,)\n",
            "100 (10302, 256) (10302,)\n",
            "110 (11322, 256) (11322,)\n",
            "120 (12342, 256) (12342,)\n",
            "130 (13362, 256) (13362,)\n",
            "137 (14034, 256) (14034,)\n",
            "0 (100, 256) (100,)\n",
            "10 (1100, 256) (1100,)\n",
            "20 (2100, 256) (2100,)\n",
            "29 (3000, 256) (3000,)\n",
            "CPU times: user 40.8 s, sys: 5.88 s, total: 46.7 s\n",
            "Wall time: 44.1 s\n"
          ],
          "name": "stdout"
        }
      ]
    },
    {
      "cell_type": "code",
      "metadata": {
        "id": "Kuqh6GQpU0FN",
        "colab_type": "code",
        "colab": {}
      },
      "source": [
        "X_train = np.load('/content/drive/My Drive/pranav/X_train_3.npy')\n",
        "y_train = np.load('/content/drive/My Drive/pranav/y_train_3.npy')\n",
        "X_test  = np.load('/content/drive/My Drive/pranav/X_test_3.npy')\n",
        "y_test  = np.load('/content/drive/My Drive/pranav/y_test_3.npy')\n",
        "\n",
        "X_train, y_train = shuffle(X_train, y_train)\n",
        "X_test, y_test = shuffle(X_test, y_test)\n",
        "X_train, X_val, y_train, y_val = train_test_split(X_train, y_train, test_size=0.2)"
      ],
      "execution_count": 0,
      "outputs": []
    },
    {
      "cell_type": "code",
      "metadata": {
        "id": "x-pr2g4aVPlX",
        "colab_type": "code",
        "colab": {
          "base_uri": "https://localhost:8080/",
          "height": 493
        },
        "outputId": "429ddc01-cd70-4d1a-d4e5-50cb29719e54"
      },
      "source": [
        "%%time\n",
        "svclassifier = LinearSVC(dual=False, C=0.5, tol=1e-3).fit(X_train, y_train)\n",
        "print(classification_report(y_train,svclassifier.predict(X_train),digits=4))\n",
        "print(classification_report(y_val,svclassifier.predict(X_val),digits=4))"
      ],
      "execution_count": 29,
      "outputs": [
        {
          "output_type": "stream",
          "text": [
            "              precision    recall  f1-score   support\n",
            "\n",
            "           0     0.9321    0.9215    0.9267      1757\n",
            "           1     0.9940    0.9918    0.9929      1828\n",
            "           2     0.8738    0.8566    0.8651      1932\n",
            "           3     0.8624    0.8763    0.8693      1988\n",
            "           4     0.9292    0.9333    0.9313      1800\n",
            "           5     0.9285    0.9391    0.9338      1922\n",
            "\n",
            "    accuracy                         0.9187     11227\n",
            "   macro avg     0.9200    0.9198    0.9198     11227\n",
            "weighted avg     0.9187    0.9187    0.9187     11227\n",
            "\n",
            "              precision    recall  f1-score   support\n",
            "\n",
            "           0     0.9011    0.9032    0.9022       434\n",
            "           1     0.9776    0.9865    0.9820       443\n",
            "           2     0.8302    0.8390    0.8346       472\n",
            "           3     0.8600    0.8206    0.8398       524\n",
            "           4     0.9040    0.9135    0.9087       474\n",
            "           5     0.9019    0.9196    0.9107       460\n",
            "\n",
            "    accuracy                         0.8945      2807\n",
            "   macro avg     0.8958    0.8971    0.8963      2807\n",
            "weighted avg     0.8942    0.8945    0.8943      2807\n",
            "\n",
            "CPU times: user 3.21 s, sys: 61.7 ms, total: 3.28 s\n",
            "Wall time: 3.24 s\n"
          ],
          "name": "stdout"
        }
      ]
    },
    {
      "cell_type": "code",
      "metadata": {
        "id": "k3zlPEweVdMS",
        "colab_type": "code",
        "colab": {
          "base_uri": "https://localhost:8080/",
          "height": 238
        },
        "outputId": "e0acfd17-dd56-401f-c6c7-0f5173752a74"
      },
      "source": [
        "print(classification_report(y_test,svclassifier.predict(X_test),digits=4))"
      ],
      "execution_count": 30,
      "outputs": [
        {
          "output_type": "stream",
          "text": [
            "              precision    recall  f1-score   support\n",
            "\n",
            "           0     0.9076    0.8993    0.9034       437\n",
            "           1     0.9874    0.9895    0.9884       474\n",
            "           2     0.8566    0.8318    0.8440       553\n",
            "           3     0.8356    0.8324    0.8340       525\n",
            "           4     0.8945    0.9314    0.9126       510\n",
            "           5     0.9102    0.9102    0.9102       501\n",
            "\n",
            "    accuracy                         0.8967      3000\n",
            "   macro avg     0.8986    0.8991    0.8988      3000\n",
            "weighted avg     0.8964    0.8967    0.8964      3000\n",
            "\n"
          ],
          "name": "stdout"
        }
      ]
    },
    {
      "cell_type": "markdown",
      "metadata": {
        "id": "z5AvifJ7NA6k",
        "colab_type": "text"
      },
      "source": [
        "#Forth Cut"
      ]
    },
    {
      "cell_type": "code",
      "metadata": {
        "id": "FkwTiwF3LmEB",
        "colab_type": "code",
        "outputId": "94b80e34-b441-4973-b54e-11eae41f76ca",
        "colab": {
          "base_uri": "https://localhost:8080/",
          "height": 425
        }
      },
      "source": [
        "x = GlobalAveragePooling2D()(model.layers[-14].output)\n",
        "model_4 = Model(model.input, x)\n",
        "model_4.compile(loss='mse',optimizer='sgd')\n",
        "model_4.summary()"
      ],
      "execution_count": 31,
      "outputs": [
        {
          "output_type": "stream",
          "text": [
            "Model: \"model_2\"\n",
            "_________________________________________________________________\n",
            "Layer (type)                 Output Shape              Param #   \n",
            "=================================================================\n",
            "input_1 (InputLayer)         [(None, 150, 150, 3)]     0         \n",
            "_________________________________________________________________\n",
            "block1_conv1 (Conv2D)        (None, 150, 150, 64)      1792      \n",
            "_________________________________________________________________\n",
            "block1_conv2 (Conv2D)        (None, 150, 150, 64)      36928     \n",
            "_________________________________________________________________\n",
            "block1_pool (MaxPooling2D)   (None, 75, 75, 64)        0         \n",
            "_________________________________________________________________\n",
            "block2_conv1 (Conv2D)        (None, 75, 75, 128)       73856     \n",
            "_________________________________________________________________\n",
            "block2_conv2 (Conv2D)        (None, 75, 75, 128)       147584    \n",
            "_________________________________________________________________\n",
            "block2_pool (MaxPooling2D)   (None, 37, 37, 128)       0         \n",
            "_________________________________________________________________\n",
            "global_average_pooling2d_3 ( (None, 128)               0         \n",
            "=================================================================\n",
            "Total params: 260,160\n",
            "Trainable params: 0\n",
            "Non-trainable params: 260,160\n",
            "_________________________________________________________________\n"
          ],
          "name": "stdout"
        }
      ]
    },
    {
      "cell_type": "code",
      "metadata": {
        "id": "Smj5R4OqM-VJ",
        "colab_type": "code",
        "outputId": "8fc8825a-c8bb-42af-eb79-fd47cbbeef51",
        "colab": {
          "base_uri": "https://localhost:8080/",
          "height": 408
        }
      },
      "source": [
        "%%time\n",
        "\n",
        "train_processing = kimage.ImageDataGenerator(\n",
        "    preprocessing_function=vgg16.preprocess_input)\n",
        "train_generator = train_processing.flow_from_directory('/content/data/seg_train/seg_train', \n",
        "                                                       batch_size=102,\n",
        "                                                       target_size=(150,150), shuffle=False)\n",
        "\n",
        "test_processing = kimage.ImageDataGenerator(\n",
        "    preprocessing_function=vgg16.preprocess_input)\n",
        "test_generator = test_processing.flow_from_directory('/content/data/seg_test/seg_test', \n",
        "                                                     batch_size=100,\n",
        "                                                     target_size=(150,150), shuffle=False)\n",
        "\n",
        "for i in range(138): #round(14034/102)\n",
        "  X, y = next(train_generator)\n",
        "  if i == 0:\n",
        "    X_train = model_4.predict(X)\n",
        "    y_train = np.argmax(y, axis=1)\n",
        "  else:\n",
        "    X_train = np.concatenate((X_train, model_4.predict(X)))\n",
        "    y_train = np.concatenate((y_train, np.argmax(y, axis=1)))\n",
        "  if i%10==0 or i == 137:\n",
        "    print(i, X_train.shape, y_train.shape)\n",
        "np.save('/content/drive/My Drive/pranav/X_train_4', X_train)\n",
        "np.save('/content/drive/My Drive/pranav/y_train_4', y_train)\n",
        "\n",
        "for i in range(30):\n",
        "  X, y = next(test_generator)\n",
        "  if i == 0:\n",
        "    X_test = model_4.predict(X)\n",
        "    y_test = np.argmax(y, axis=1)\n",
        "  else:\n",
        "    X_test = np.concatenate((X_test, model_4.predict(X)))\n",
        "    y_test = np.concatenate((y_test, np.argmax(y, axis=1)))\n",
        "  if i%10==0 or i == 29:\n",
        "    print(i, X_test.shape, y_test.shape)\n",
        "np.save('/content/drive/My Drive/pranav/X_test_4', X_test)\n",
        "np.save('/content/drive/My Drive/pranav/y_test_4', y_test)"
      ],
      "execution_count": 32,
      "outputs": [
        {
          "output_type": "stream",
          "text": [
            "Found 14034 images belonging to 6 classes.\n",
            "Found 3000 images belonging to 6 classes.\n",
            "0 (102, 128) (102,)\n",
            "10 (1122, 128) (1122,)\n",
            "20 (2142, 128) (2142,)\n",
            "30 (3162, 128) (3162,)\n",
            "40 (4182, 128) (4182,)\n",
            "50 (5202, 128) (5202,)\n",
            "60 (6222, 128) (6222,)\n",
            "70 (7242, 128) (7242,)\n",
            "80 (8262, 128) (8262,)\n",
            "90 (9282, 128) (9282,)\n",
            "100 (10302, 128) (10302,)\n",
            "110 (11322, 128) (11322,)\n",
            "120 (12342, 128) (12342,)\n",
            "130 (13362, 128) (13362,)\n",
            "137 (14034, 128) (14034,)\n",
            "0 (100, 128) (100,)\n",
            "10 (1100, 128) (1100,)\n",
            "20 (2100, 128) (2100,)\n",
            "29 (3000, 128) (3000,)\n",
            "CPU times: user 38.4 s, sys: 4.3 s, total: 42.7 s\n",
            "Wall time: 40 s\n"
          ],
          "name": "stdout"
        }
      ]
    },
    {
      "cell_type": "code",
      "metadata": {
        "id": "Sr_sdQavOuOs",
        "colab_type": "code",
        "colab": {}
      },
      "source": [
        "X_train = np.load('/content/drive/My Drive/pranav/X_train_4.npy')\n",
        "y_train = np.load('/content/drive/My Drive/pranav/y_train_4.npy')\n",
        "X_test  = np.load('/content/drive/My Drive/pranav/X_test_4.npy')\n",
        "y_test  = np.load('/content/drive/My Drive/pranav/y_test_4.npy')\n",
        "\n",
        "X_train, y_train = shuffle(X_train, y_train)\n",
        "X_test, y_test = shuffle(X_test, y_test)"
      ],
      "execution_count": 0,
      "outputs": []
    },
    {
      "cell_type": "code",
      "metadata": {
        "id": "AsyeGhMe0WMc",
        "colab_type": "code",
        "colab": {}
      },
      "source": [
        "X_train, X_val, y_train, y_val = train_test_split(X_train, y_train, test_size=0.2)"
      ],
      "execution_count": 0,
      "outputs": []
    },
    {
      "cell_type": "code",
      "metadata": {
        "id": "RBy8M9U2OuHW",
        "colab_type": "code",
        "outputId": "17e85f71-3745-4712-aea6-a72e04d5c34a",
        "colab": {
          "base_uri": "https://localhost:8080/",
          "height": 493
        }
      },
      "source": [
        "%%time\n",
        "svclassifier = LinearSVC(dual=False, C=0.1, tol=1e-3).fit(X_train, y_train)\n",
        "print(classification_report(y_train,svclassifier.predict(X_train),digits=4))\n",
        "print(classification_report(y_val,svclassifier.predict(X_val),digits=4))"
      ],
      "execution_count": 35,
      "outputs": [
        {
          "output_type": "stream",
          "text": [
            "              precision    recall  f1-score   support\n",
            "\n",
            "           0     0.8402    0.8074    0.8235      1745\n",
            "           1     0.9720    0.9736    0.9728      1818\n",
            "           2     0.8165    0.7937    0.8049      1929\n",
            "           3     0.7812    0.8109    0.7958      2004\n",
            "           4     0.8488    0.8431    0.8459      1817\n",
            "           5     0.8314    0.8553    0.8432      1914\n",
            "\n",
            "    accuracy                         0.8465     11227\n",
            "   macro avg     0.8484    0.8473    0.8477     11227\n",
            "weighted avg     0.8468    0.8465    0.8465     11227\n",
            "\n",
            "              precision    recall  f1-score   support\n",
            "\n",
            "           0     0.8169    0.7601    0.7875       446\n",
            "           1     0.9502    0.9691    0.9596       453\n",
            "           2     0.8176    0.8021    0.8098       475\n",
            "           3     0.7895    0.8268    0.8077       508\n",
            "           4     0.8575    0.8556    0.8565       457\n",
            "           5     0.7878    0.8013    0.7945       468\n",
            "\n",
            "    accuracy                         0.8354      2807\n",
            "   macro avg     0.8366    0.8358    0.8359      2807\n",
            "weighted avg     0.8353    0.8354    0.8351      2807\n",
            "\n",
            "CPU times: user 2.25 s, sys: 52 ms, total: 2.3 s\n",
            "Wall time: 2.26 s\n"
          ],
          "name": "stdout"
        }
      ]
    },
    {
      "cell_type": "code",
      "metadata": {
        "id": "kE29p8vsOzzS",
        "colab_type": "code",
        "outputId": "45919594-edfc-4846-a182-bc6cd4fe958d",
        "colab": {
          "base_uri": "https://localhost:8080/",
          "height": 238
        }
      },
      "source": [
        "print(classification_report(y_test,svclassifier.predict(X_test),digits=4))"
      ],
      "execution_count": 36,
      "outputs": [
        {
          "output_type": "stream",
          "text": [
            "              precision    recall  f1-score   support\n",
            "\n",
            "           0     0.8264    0.7735    0.7991       437\n",
            "           1     0.9579    0.9599    0.9589       474\n",
            "           2     0.8019    0.7758    0.7886       553\n",
            "           3     0.7541    0.7943    0.7737       525\n",
            "           4     0.8268    0.8333    0.8301       510\n",
            "           5     0.8249    0.8463    0.8355       501\n",
            "\n",
            "    accuracy                         0.8293      3000\n",
            "   macro avg     0.8320    0.8305    0.8310      3000\n",
            "weighted avg     0.8298    0.8293    0.8293      3000\n",
            "\n"
          ],
          "name": "stdout"
        }
      ]
    }
  ]
}