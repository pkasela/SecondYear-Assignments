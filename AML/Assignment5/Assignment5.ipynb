{
 "cells": [
  {
   "cell_type": "code",
   "execution_count": 1,
   "metadata": {
    "autoscroll": false,
    "ein.hycell": false,
    "ein.tags": "worksheet-0",
    "slideshow": {
     "slide_type": "-"
    }
   },
   "outputs": [],
   "source": [
    "import warnings\n",
    "warnings.filterwarnings('ignore')\n",
    "\n",
    "import pandas as pd\n",
    "import numpy as np\n",
    "import matplotlib.pyplot as plt\n",
    "\n",
    "from typing import  List, Union, Type, Callable\n",
    "\n",
    "%matplotlib inline\n",
    "\n",
    "BIG_SEED = 132 #random seed for later\n",
    "score_metric = 'balanced_accuracy'\n",
    "label_metric = 'Balanced Accuracy'"
   ]
  },
  {
   "cell_type": "code",
   "execution_count": 2,
   "metadata": {
    "autoscroll": false,
    "ein.hycell": false,
    "ein.tags": "worksheet-0",
    "slideshow": {
     "slide_type": "-"
    }
   },
   "outputs": [],
   "source": [
    "df = pd.read_csv('data.csv')"
   ]
  },
  {
   "cell_type": "code",
   "execution_count": 3,
   "metadata": {
    "autoscroll": false,
    "ein.hycell": false,
    "ein.tags": "worksheet-0",
    "slideshow": {
     "slide_type": "-"
    }
   },
   "outputs": [
    {
     "name": "stdout",
     "output_type": "stream",
     "text": [
      "100\n"
     ]
    },
    {
     "data": {
      "text/html": [
       "<div>\n",
       "<style scoped>\n",
       "    .dataframe tbody tr th:only-of-type {\n",
       "        vertical-align: middle;\n",
       "    }\n",
       "\n",
       "    .dataframe tbody tr th {\n",
       "        vertical-align: top;\n",
       "    }\n",
       "\n",
       "    .dataframe thead th {\n",
       "        text-align: right;\n",
       "    }\n",
       "</style>\n",
       "<table border=\"1\" class=\"dataframe\">\n",
       "  <thead>\n",
       "    <tr style=\"text-align: right;\">\n",
       "      <th></th>\n",
       "      <th>V1</th>\n",
       "      <th>V2</th>\n",
       "      <th>V3</th>\n",
       "      <th>V4</th>\n",
       "      <th>V5</th>\n",
       "      <th>V6</th>\n",
       "      <th>V7</th>\n",
       "      <th>V8</th>\n",
       "      <th>V9</th>\n",
       "      <th>Class</th>\n",
       "    </tr>\n",
       "  </thead>\n",
       "  <tbody>\n",
       "    <tr>\n",
       "      <th>0</th>\n",
       "      <td>-0.33</td>\n",
       "      <td>0.69</td>\n",
       "      <td>0</td>\n",
       "      <td>1</td>\n",
       "      <td>1</td>\n",
       "      <td>0</td>\n",
       "      <td>0.8</td>\n",
       "      <td>0</td>\n",
       "      <td>0.88</td>\n",
       "      <td>1</td>\n",
       "    </tr>\n",
       "    <tr>\n",
       "      <th>1</th>\n",
       "      <td>-0.33</td>\n",
       "      <td>0.94</td>\n",
       "      <td>1</td>\n",
       "      <td>0</td>\n",
       "      <td>1</td>\n",
       "      <td>0</td>\n",
       "      <td>0.8</td>\n",
       "      <td>1</td>\n",
       "      <td>0.31</td>\n",
       "      <td>2</td>\n",
       "    </tr>\n",
       "    <tr>\n",
       "      <th>2</th>\n",
       "      <td>-0.33</td>\n",
       "      <td>0.50</td>\n",
       "      <td>1</td>\n",
       "      <td>0</td>\n",
       "      <td>0</td>\n",
       "      <td>0</td>\n",
       "      <td>1.0</td>\n",
       "      <td>-1</td>\n",
       "      <td>0.50</td>\n",
       "      <td>1</td>\n",
       "    </tr>\n",
       "    <tr>\n",
       "      <th>3</th>\n",
       "      <td>-0.33</td>\n",
       "      <td>0.75</td>\n",
       "      <td>0</td>\n",
       "      <td>1</td>\n",
       "      <td>1</td>\n",
       "      <td>0</td>\n",
       "      <td>1.0</td>\n",
       "      <td>-1</td>\n",
       "      <td>0.38</td>\n",
       "      <td>1</td>\n",
       "    </tr>\n",
       "    <tr>\n",
       "      <th>4</th>\n",
       "      <td>-0.33</td>\n",
       "      <td>0.67</td>\n",
       "      <td>1</td>\n",
       "      <td>1</td>\n",
       "      <td>0</td>\n",
       "      <td>0</td>\n",
       "      <td>0.8</td>\n",
       "      <td>-1</td>\n",
       "      <td>0.50</td>\n",
       "      <td>2</td>\n",
       "    </tr>\n",
       "  </tbody>\n",
       "</table>\n",
       "</div>"
      ],
      "text/plain": [
       "     V1    V2  V3  V4  V5  V6   V7  V8    V9  Class\n",
       "0 -0.33  0.69   0   1   1   0  0.8   0  0.88      1\n",
       "1 -0.33  0.94   1   0   1   0  0.8   1  0.31      2\n",
       "2 -0.33  0.50   1   0   0   0  1.0  -1  0.50      1\n",
       "3 -0.33  0.75   0   1   1   0  1.0  -1  0.38      1\n",
       "4 -0.33  0.67   1   1   0   0  0.8  -1  0.50      2"
      ]
     },
     "execution_count": 3,
     "metadata": {},
     "output_type": "execute_result"
    }
   ],
   "source": [
    "print(len(df))\n",
    "df.head()"
   ]
  },
  {
   "cell_type": "code",
   "execution_count": 4,
   "metadata": {
    "autoscroll": false,
    "ein.hycell": false,
    "ein.tags": "worksheet-0",
    "slideshow": {
     "slide_type": "-"
    }
   },
   "outputs": [],
   "source": [
    "#This way the rare class has value 1 (for the F-score)\n",
    "df.Class = df.Class - 1"
   ]
  },
  {
   "cell_type": "markdown",
   "metadata": {},
   "source": [
    "# Exercise 1"
   ]
  },
  {
   "cell_type": "markdown",
   "metadata": {},
   "source": [
    "## Bayesian with LCB and EI"
   ]
  },
  {
   "cell_type": "code",
   "execution_count": 5,
   "metadata": {
    "autoscroll": false,
    "ein.hycell": false,
    "ein.tags": "worksheet-0",
    "slideshow": {
     "slide_type": "-"
    }
   },
   "outputs": [],
   "source": [
    "from sklearn.neural_network import MLPClassifier\n",
    "from sklearn.model_selection import StratifiedKFold, cross_val_score\n",
    "\n",
    "from smac.configspace import ConfigurationSpace\n",
    "from ConfigSpace.hyperparameters import UniformFloatHyperparameter,\\\n",
    "                                        UniformIntegerHyperparameter\n",
    "\n",
    "from smac.scenario.scenario import Scenario\n",
    "from smac.facade.smac_hpo_facade import SMAC4HPO #Random Forest\n",
    "from smac.facade.smac_bo_facade import SMAC4BO   #Bayesian\n",
    "#from smac.initial_design.random_configuration_design import RandomConfigurations\n",
    "from smac.optimizer import acquisition"
   ]
  },
  {
   "cell_type": "code",
   "execution_count": 6,
   "metadata": {},
   "outputs": [],
   "source": [
    "def optimizer(model_type :str, \n",
    "              config_space :Type[ConfigurationSpace],\n",
    "              obj_function :Type[Callable],\n",
    "              acquisition_type :str,\n",
    "              n_iter :int = 10,\n",
    "              init_points :int = 0,\n",
    "              seed :int=None) -> Union[Type[SMAC4BO], Type[SMAC4HPO]]:\n",
    "    \"\"\"\n",
    "    It is just a small wrapper to simplify and make more intuitive the SMAC optimization\n",
    "    for ML algorithms for this assignment.\n",
    "    PARAMETERS\n",
    "    ----------\n",
    "    @model_type       can be 'bo' for Bayesian optimization or 'rf' for RandomForest\n",
    "    @config_space     an object of type ConfigSpace containing information\n",
    "                      regarding the hyperparameters\n",
    "    @obj_function     the objective function that needs to be minimized \n",
    "    @acquisition_type can be 'LCB' or 'EI' and indicated the type of acquisition function\n",
    "                      to be used, if the value is different from 'LCB' or 'EI' it will\n",
    "                      use the default acquisition function of SMAC\n",
    "    @n_iter           number of iterations to do, defaults to 10 iterations\n",
    "    @init_points      number of initial points, defaults to 0 initial points\n",
    "    @seed             fix the seed for most of the randomness to have reproducible results\n",
    "    \n",
    "    RETURN\n",
    "    ------\n",
    "    either an optimized SMAC4BO object if 'bo' model_type was chosen or an\n",
    "    optimized SMAC4HPO object if 'rf' model_type was chosen\n",
    "    \"\"\"\n",
    "    #create the scenario required by SMAC optimizers\n",
    "    scenario = Scenario(scenario={\"run_obj\": \"quality\",    # we optimize quality\n",
    "                                  \"runcount-limit\": n_iter,# number iterations\n",
    "                                  \"cs\": config_space,      # configuration space\n",
    "                                  \"output_dir\": \"logs\",    # create a log folder named 'logs'\n",
    "                                  \"deterministic\": \"true\"})\n",
    "    \n",
    "    #create init_points random points, fixing the seed if necessary\n",
    "    cs.seed(seed)\n",
    "    init = cs.sample_configuration(init_points)\n",
    "    cs.seed(None) #remove the seed from configuration space\n",
    "    \n",
    "    #chose the acquisition function\n",
    "    if acquisition_type == 'LCB':\n",
    "        print('Using LCB acquisition Function')\n",
    "        _acquistion = acquisition.LCB\n",
    "    elif acquisition_type == 'EI':\n",
    "        print('Using EI acquisition Function')\n",
    "        _acquistion = acquisition.EI\n",
    "    else:\n",
    "        print('Using SMAC Default acquisition Function')\n",
    "        _acquistion = None\n",
    "        \n",
    "    #chose and optimize the SMAC model\n",
    "    if model_type == 'bo':\n",
    "        #use SMAC4BO\n",
    "        smac = SMAC4BO(scenario=scenario, tae_runner=obj_function, \n",
    "                       rng=np.random.RandomState(seed),\n",
    "                       initial_design=None, \n",
    "                       initial_design_kwargs={'max_config_fracs':init_points/n_iter},\n",
    "                       initial_configurations=init, \n",
    "                       acquisition_function=_acquistion)\n",
    "        _best = smac.optimize()\n",
    "        print('Best Configuration found:')\n",
    "        print(_best)\n",
    "        return smac\n",
    "    if model_type == 'rf':\n",
    "        #use SMAC4HPO\n",
    "        smac = SMAC4HPO(scenario=scenario, tae_runner=obj_function, \n",
    "                        rng=np.random.RandomState(seed),\n",
    "                        initial_design=None, \n",
    "                        initial_design_kwargs={'max_config_fracs':init_points/n_iter},\n",
    "                        initial_configurations=init, \n",
    "                        acquisition_function=_acquistion)\n",
    "        _best = smac.optimize()\n",
    "        print('Best Configuration found:')\n",
    "        print(_best)\n",
    "        return smac\n",
    "    #in case model_type was neither bo nor rf\n",
    "    raise ValueError(\"Model type can only 'bo' or 'rf'\")"
   ]
  },
  {
   "cell_type": "code",
   "execution_count": 7,
   "metadata": {
    "autoscroll": false,
    "ein.hycell": false,
    "ein.tags": "worksheet-0",
    "slideshow": {
     "slide_type": "-"
    }
   },
   "outputs": [
    {
     "data": {
      "text/plain": [
       "[learning_rate_init, Type: UniformFloat, Range: [0.01, 0.1], Default: 0.055,\n",
       " momentum, Type: UniformFloat, Range: [0.1, 0.9], Default: 0.5]"
      ]
     },
     "execution_count": 7,
     "metadata": {},
     "output_type": "execute_result"
    }
   ],
   "source": [
    "#SMAC needs a Configuration Space where it will search for the hyperparameters\n",
    "cs = ConfigurationSpace()\n",
    "\n",
    "#define the domain of each hyperparameter\n",
    "lr = UniformFloatHyperparameter(\"learning_rate_init\", 0.01, 0.1)\n",
    "momentum = UniformFloatHyperparameter(\"momentum\", 0.1, 0.9)\n",
    "\n",
    "#add the hyperparameters to the configuration space\n",
    "cs.add_hyperparameters([lr, momentum])"
   ]
  },
  {
   "cell_type": "code",
   "execution_count": 8,
   "metadata": {
    "autoscroll": false,
    "ein.hycell": false,
    "ein.tags": "worksheet-0",
    "slideshow": {
     "slide_type": "-"
    }
   },
   "outputs": [],
   "source": [
    "def MLP_score_1(conf: Union[Type[ConfigurationSpace], dict]) -> float:\n",
    "    \"\"\"\n",
    "    Basically takes a configuration does a 10-CV and return the average\n",
    "    score, the average score is modified so it gets minimized, for example\n",
    "    accuracy is converted into error.\n",
    "    PARAMETERS\n",
    "    ----------\n",
    "    @conf   is a ConfigurationSpace Object, but it acts as a dictionary\n",
    "            so we can call a value given the key: conf['key']\n",
    "            \n",
    "    Returns\n",
    "    -------\n",
    "    @return a float value which needs to be minimized in this case cv error\n",
    "    \n",
    "    This function takes in the configuration and computes the error score\n",
    "    using CV with 10 folds\n",
    "    \"\"\"\n",
    "    \n",
    "    #rseed = int(conf['momentum']*conf['learning_rate_init']*5000)\n",
    "    rseed = BIG_SEED\n",
    "    MLPclf = MLPClassifier(hidden_layer_sizes=(4,2,), momentum = conf['momentum'],\n",
    "                          learning_rate_init = conf['learning_rate_init'],\n",
    "                          random_state=rseed)\n",
    "    \n",
    "    skf = StratifiedKFold(n_splits=10, random_state=BIG_SEED)\n",
    "    X = df.drop('Class', axis=1).values\n",
    "    y = df.Class\n",
    "    score = cross_val_score(MLPclf, X, y, cv=skf, scoring=score_metric)\n",
    "    print(conf['learning_rate_init'], conf['momentum'], np.mean(score))\n",
    "    return 1 - np.mean(score)  # it needs to Minimize it!"
   ]
  },
  {
   "cell_type": "code",
   "execution_count": 9,
   "metadata": {
    "scrolled": true
   },
   "outputs": [
    {
     "name": "stderr",
     "output_type": "stream",
     "text": [
      "INFO:smac.utils.io.cmd_reader.CMDReader:Output to logs\n",
      "/home/pranav/anaconda3/lib/python3.7/site-packages/sklearn/externals/joblib/__init__.py:15: DeprecationWarning: sklearn.externals.joblib is deprecated in 0.21 and will be removed in 0.23. Please import this functionality directly from joblib, which can be installed with: pip install joblib. If this warning is raised when loading pickled models, you may need to re-serialize those models with scikit-learn 0.21+.\n",
      "  warnings.warn(msg, category=DeprecationWarning)\n",
      "INFO:smac.facade.smac_bo_facade.SMAC4BO:Optimizing a deterministic scenario for quality without a tuner timeout - will make SMAC deterministic and only evaluate one configuration per iteration!\n",
      "INFO:smac.initial_design.initial_design.InitialDesign:Running initial design for 5 configurations\n",
      "INFO:smac.facade.smac_bo_facade.SMAC4BO:<class 'smac.facade.smac_bo_facade.SMAC4BO'>\n"
     ]
    },
    {
     "name": "stdout",
     "output_type": "stream",
     "text": [
      "Using LCB acquisition Function\n",
      "0.08028135089132196 0.38552141981754795 0.48888888888888893\n",
      "0.04430300876374074 0.8696975470069911 0.5277777777777778\n"
     ]
    },
    {
     "name": "stderr",
     "output_type": "stream",
     "text": [
      "INFO:smac.intensification.intensification.Intensifier:Challenger (0.4722) is better than incumbent (0.5111) on 1 runs.\n",
      "INFO:smac.intensification.intensification.Intensifier:Changes in incumbent:\n",
      "INFO:smac.intensification.intensification.Intensifier:  learning_rate_init : 0.08028135089132196 -> 0.04430300876374074\n",
      "INFO:smac.intensification.intensification.Intensifier:  momentum : 0.38552141981754795 -> 0.8696975470069911\n"
     ]
    },
    {
     "name": "stdout",
     "output_type": "stream",
     "text": [
      "0.0845773877536592 0.3849918837749665 0.5326388888888889\n"
     ]
    },
    {
     "name": "stderr",
     "output_type": "stream",
     "text": [
      "INFO:smac.intensification.intensification.Intensifier:Challenger (0.4674) is better than incumbent (0.4722) on 1 runs.\n",
      "INFO:smac.intensification.intensification.Intensifier:Changes in incumbent:\n",
      "INFO:smac.intensification.intensification.Intensifier:  learning_rate_init : 0.04430300876374074 -> 0.0845773877536592\n",
      "INFO:smac.intensification.intensification.Intensifier:  momentum : 0.8696975470069911 -> 0.3849918837749665\n"
     ]
    },
    {
     "name": "stdout",
     "output_type": "stream",
     "text": [
      "0.0803514512536536 0.7548643234302469 0.5083333333333333\n",
      "0.08214374064161822 0.8241504085662323 0.513888888888889\n"
     ]
    },
    {
     "name": "stderr",
     "output_type": "stream",
     "text": [
      "INFO:smac.intensification.intensification.Intensifier:Updated estimated cost of incumbent on 1 runs: 0.4674\n"
     ]
    },
    {
     "name": "stdout",
     "output_type": "stream",
     "text": [
      "0.08537278055185642 0.383670124069997 0.5722222222222222\n"
     ]
    },
    {
     "name": "stderr",
     "output_type": "stream",
     "text": [
      "INFO:smac.intensification.intensification.Intensifier:Challenger (0.4278) is better than incumbent (0.4674) on 1 runs.\n",
      "INFO:smac.intensification.intensification.Intensifier:Changes in incumbent:\n",
      "INFO:smac.intensification.intensification.Intensifier:  learning_rate_init : 0.0845773877536592 -> 0.08537278055185642\n",
      "INFO:smac.intensification.intensification.Intensifier:  momentum : 0.3849918837749665 -> 0.383670124069997\n",
      "INFO:smac.intensification.intensification.Intensifier:Updated estimated cost of incumbent on 1 runs: 0.4278\n"
     ]
    },
    {
     "name": "stdout",
     "output_type": "stream",
     "text": [
      "0.08556412925835163 0.38146578432314693 0.538888888888889\n"
     ]
    },
    {
     "name": "stderr",
     "output_type": "stream",
     "text": [
      "INFO:smac.intensification.intensification.Intensifier:Updated estimated cost of incumbent on 1 runs: 0.4278\n"
     ]
    },
    {
     "name": "stdout",
     "output_type": "stream",
     "text": [
      "0.0851192360063917 0.38288827380241186 0.5333333333333334\n"
     ]
    },
    {
     "name": "stderr",
     "output_type": "stream",
     "text": [
      "INFO:smac.intensification.intensification.Intensifier:Updated estimated cost of incumbent on 1 runs: 0.4278\n"
     ]
    },
    {
     "name": "stdout",
     "output_type": "stream",
     "text": [
      "0.08533436358122401 0.6666193761980365 0.5666666666666667\n"
     ]
    },
    {
     "name": "stderr",
     "output_type": "stream",
     "text": [
      "INFO:smac.intensification.intensification.Intensifier:Updated estimated cost of incumbent on 1 runs: 0.4278\n"
     ]
    },
    {
     "name": "stdout",
     "output_type": "stream",
     "text": [
      "0.08647480623940984 0.38424702670331934 0.4756944444444445\n"
     ]
    },
    {
     "name": "stderr",
     "output_type": "stream",
     "text": [
      "INFO:smac.intensification.intensification.Intensifier:Updated estimated cost of incumbent on 1 runs: 0.4278\n"
     ]
    },
    {
     "name": "stdout",
     "output_type": "stream",
     "text": [
      "0.08528163032059938 0.10020275068667829 0.5444444444444445\n"
     ]
    },
    {
     "name": "stderr",
     "output_type": "stream",
     "text": [
      "INFO:smac.intensification.intensification.Intensifier:Updated estimated cost of incumbent on 1 runs: 0.4278\n"
     ]
    },
    {
     "name": "stdout",
     "output_type": "stream",
     "text": [
      "0.08548246399662239 0.8998120557146922 0.538888888888889\n"
     ]
    },
    {
     "name": "stderr",
     "output_type": "stream",
     "text": [
      "INFO:smac.intensification.intensification.Intensifier:Updated estimated cost of incumbent on 1 runs: 0.4278\n"
     ]
    },
    {
     "name": "stdout",
     "output_type": "stream",
     "text": [
      "0.08401280464949859 0.6668294068214912 0.5\n"
     ]
    },
    {
     "name": "stderr",
     "output_type": "stream",
     "text": [
      "INFO:smac.intensification.intensification.Intensifier:Updated estimated cost of incumbent on 1 runs: 0.4278\n"
     ]
    },
    {
     "name": "stdout",
     "output_type": "stream",
     "text": [
      "0.04365491454672169 0.876121021348672 0.5416666666666667\n"
     ]
    },
    {
     "name": "stderr",
     "output_type": "stream",
     "text": [
      "INFO:smac.intensification.intensification.Intensifier:Updated estimated cost of incumbent on 1 runs: 0.4278\n"
     ]
    },
    {
     "name": "stdout",
     "output_type": "stream",
     "text": [
      "0.04346750985086531 0.16150236794648784 0.49722222222222223\n"
     ]
    },
    {
     "name": "stderr",
     "output_type": "stream",
     "text": [
      "INFO:smac.intensification.intensification.Intensifier:Updated estimated cost of incumbent on 1 runs: 0.4278\n"
     ]
    },
    {
     "name": "stdout",
     "output_type": "stream",
     "text": [
      "0.04533835340786297 0.19325942166432689 0.48611111111111105\n"
     ]
    },
    {
     "name": "stderr",
     "output_type": "stream",
     "text": [
      "INFO:smac.intensification.intensification.Intensifier:Updated estimated cost of incumbent on 1 runs: 0.4278\n"
     ]
    },
    {
     "name": "stdout",
     "output_type": "stream",
     "text": [
      "0.04391663487008095 0.8797761040095468 0.47777777777777775\n"
     ]
    },
    {
     "name": "stderr",
     "output_type": "stream",
     "text": [
      "INFO:smac.intensification.intensification.Intensifier:Updated estimated cost of incumbent on 1 runs: 0.4278\n"
     ]
    },
    {
     "name": "stdout",
     "output_type": "stream",
     "text": [
      "0.044647097119718406 0.8708042935468828 0.5027777777777778\n"
     ]
    },
    {
     "name": "stderr",
     "output_type": "stream",
     "text": [
      "INFO:smac.intensification.intensification.Intensifier:Updated estimated cost of incumbent on 1 runs: 0.4278\n"
     ]
    },
    {
     "name": "stdout",
     "output_type": "stream",
     "text": [
      "0.08491749880554773 0.6665003817021796 0.5583333333333333\n"
     ]
    },
    {
     "name": "stderr",
     "output_type": "stream",
     "text": [
      "INFO:smac.intensification.intensification.Intensifier:Updated estimated cost of incumbent on 1 runs: 0.4278\n"
     ]
    },
    {
     "name": "stdout",
     "output_type": "stream",
     "text": [
      "0.08477162752932312 0.6646838045930014 0.5472222222222223\n"
     ]
    },
    {
     "name": "stderr",
     "output_type": "stream",
     "text": [
      "INFO:smac.intensification.intensification.Intensifier:Updated estimated cost of incumbent on 1 runs: 0.4278\n"
     ]
    },
    {
     "name": "stdout",
     "output_type": "stream",
     "text": [
      "0.09843041831878517 0.5618081674123424 0.49444444444444446\n"
     ]
    },
    {
     "name": "stderr",
     "output_type": "stream",
     "text": [
      "INFO:smac.intensification.intensification.Intensifier:Updated estimated cost of incumbent on 1 runs: 0.4278\n"
     ]
    },
    {
     "name": "stdout",
     "output_type": "stream",
     "text": [
      "0.08481774216880683 0.11003661161143051 0.5472222222222223\n"
     ]
    },
    {
     "name": "stderr",
     "output_type": "stream",
     "text": [
      "INFO:smac.intensification.intensification.Intensifier:Updated estimated cost of incumbent on 1 runs: 0.4278\n"
     ]
    },
    {
     "name": "stdout",
     "output_type": "stream",
     "text": [
      "0.04272795028195442 0.8745630037319052 0.5472222222222223\n"
     ]
    },
    {
     "name": "stderr",
     "output_type": "stream",
     "text": [
      "INFO:smac.intensification.intensification.Intensifier:Updated estimated cost of incumbent on 1 runs: 0.4278\n"
     ]
    },
    {
     "name": "stdout",
     "output_type": "stream",
     "text": [
      "0.0424525199526545 0.8765394093186404 0.5222222222222223\n"
     ]
    },
    {
     "name": "stderr",
     "output_type": "stream",
     "text": [
      "INFO:smac.intensification.intensification.Intensifier:Updated estimated cost of incumbent on 1 runs: 0.4278\n"
     ]
    },
    {
     "name": "stdout",
     "output_type": "stream",
     "text": [
      "0.0429658171667068 0.8718507574376942 0.5194444444444445\n"
     ]
    },
    {
     "name": "stderr",
     "output_type": "stream",
     "text": [
      "INFO:smac.intensification.intensification.Intensifier:Updated estimated cost of incumbent on 1 runs: 0.4278\n",
      "INFO:smac.stats.stats.Stats:##########################################################\n",
      "INFO:smac.stats.stats.Stats:Statistics:\n",
      "INFO:smac.stats.stats.Stats:#Incumbent changed: 3\n",
      "INFO:smac.stats.stats.Stats:#Target algorithm runs: 25 / 25.0\n",
      "INFO:smac.stats.stats.Stats:#Configurations: 25\n",
      "INFO:smac.stats.stats.Stats:Used wallclock time: 82.11 / inf sec \n",
      "INFO:smac.stats.stats.Stats:Used target algorithm runtime: 18.10 / inf sec\n",
      "INFO:smac.stats.stats.Stats:##########################################################\n",
      "INFO:smac.facade.smac_bo_facade.SMAC4BO:Final Incumbent: Configuration:\n",
      "  learning_rate_init, Value: 0.08537278055185642\n",
      "  momentum, Value: 0.383670124069997\n",
      "\n",
      "INFO:smac.facade.smac_bo_facade.SMAC4BO:Estimated cost of incumbent: 0.427778\n"
     ]
    },
    {
     "name": "stdout",
     "output_type": "stream",
     "text": [
      "Best Configuration found:\n",
      "Configuration:\n",
      "  learning_rate_init, Value: 0.08537278055185642\n",
      "  momentum, Value: 0.383670124069997\n",
      "\n"
     ]
    },
    {
     "data": {
      "image/png": "[encoded data removed]",
      "text/plain": [
       "<Figure size 432x288 with 1 Axes>"
      ]
     },
     "metadata": {
      "needs_background": "light"
     },
     "output_type": "display_data"
    }
   ],
   "source": [
    "#Use bo and LCB\n",
    "smac_LCB = optimizer('bo', cs, obj_function=MLP_score_1, \n",
    "                     acquisition_type='LCB', n_iter=25, \n",
    "                     init_points=5, seed=BIG_SEED)\n",
    "#plot the value for each iteration done\n",
    "plt.plot(smac_LCB.get_X_y()[1])\n",
    "plt.ylabel(label_metric)\n",
    "plt.xlabel('Iterations')\n",
    "plt.show()"
   ]
  },
  {
   "cell_type": "code",
   "execution_count": 10,
   "metadata": {
    "autoscroll": false,
    "ein.hycell": false,
    "ein.tags": "worksheet-0",
    "scrolled": true,
    "slideshow": {
     "slide_type": "-"
    }
   },
   "outputs": [
    {
     "name": "stderr",
     "output_type": "stream",
     "text": [
      "INFO:smac.utils.io.cmd_reader.CMDReader:Output to logs\n",
      "INFO:smac.facade.smac_bo_facade.SMAC4BO:Optimizing a deterministic scenario for quality without a tuner timeout - will make SMAC deterministic and only evaluate one configuration per iteration!\n",
      "INFO:smac.initial_design.initial_design.InitialDesign:Running initial design for 5 configurations\n",
      "INFO:smac.facade.smac_bo_facade.SMAC4BO:<class 'smac.facade.smac_bo_facade.SMAC4BO'>\n"
     ]
    },
    {
     "name": "stdout",
     "output_type": "stream",
     "text": [
      "Using EI acquisition Function\n",
      "0.08028135089132196 0.38552141981754795 0.48888888888888893\n",
      "0.04430300876374074 0.8696975470069911 0.5277777777777778\n"
     ]
    },
    {
     "name": "stderr",
     "output_type": "stream",
     "text": [
      "INFO:smac.intensification.intensification.Intensifier:Challenger (0.4722) is better than incumbent (0.5111) on 1 runs.\n",
      "INFO:smac.intensification.intensification.Intensifier:Changes in incumbent:\n",
      "INFO:smac.intensification.intensification.Intensifier:  learning_rate_init : 0.08028135089132196 -> 0.04430300876374074\n",
      "INFO:smac.intensification.intensification.Intensifier:  momentum : 0.38552141981754795 -> 0.8696975470069911\n"
     ]
    },
    {
     "name": "stdout",
     "output_type": "stream",
     "text": [
      "0.0845773877536592 0.3849918837749665 0.5326388888888889\n"
     ]
    },
    {
     "name": "stderr",
     "output_type": "stream",
     "text": [
      "INFO:smac.intensification.intensification.Intensifier:Challenger (0.4674) is better than incumbent (0.4722) on 1 runs.\n",
      "INFO:smac.intensification.intensification.Intensifier:Changes in incumbent:\n",
      "INFO:smac.intensification.intensification.Intensifier:  learning_rate_init : 0.04430300876374074 -> 0.0845773877536592\n",
      "INFO:smac.intensification.intensification.Intensifier:  momentum : 0.8696975470069911 -> 0.3849918837749665\n"
     ]
    },
    {
     "name": "stdout",
     "output_type": "stream",
     "text": [
      "0.0803514512536536 0.7548643234302469 0.5083333333333333\n",
      "0.08214374064161822 0.8241504085662323 0.513888888888889\n"
     ]
    },
    {
     "name": "stderr",
     "output_type": "stream",
     "text": [
      "INFO:smac.intensification.intensification.Intensifier:Updated estimated cost of incumbent on 1 runs: 0.4674\n"
     ]
    },
    {
     "name": "stdout",
     "output_type": "stream",
     "text": [
      "0.08479554635368784 0.384393594394976 0.586111111111111\n"
     ]
    },
    {
     "name": "stderr",
     "output_type": "stream",
     "text": [
      "INFO:smac.intensification.intensification.Intensifier:Challenger (0.4139) is better than incumbent (0.4674) on 1 runs.\n",
      "INFO:smac.intensification.intensification.Intensifier:Changes in incumbent:\n",
      "INFO:smac.intensification.intensification.Intensifier:  learning_rate_init : 0.0845773877536592 -> 0.08479554635368784\n",
      "INFO:smac.intensification.intensification.Intensifier:  momentum : 0.3849918837749665 -> 0.384393594394976\n",
      "INFO:smac.intensification.intensification.Intensifier:Updated estimated cost of incumbent on 1 runs: 0.4139\n"
     ]
    },
    {
     "name": "stdout",
     "output_type": "stream",
     "text": [
      "0.08487159895236068 0.3837015220196148 0.525\n"
     ]
    },
    {
     "name": "stderr",
     "output_type": "stream",
     "text": [
      "INFO:smac.intensification.intensification.Intensifier:Updated estimated cost of incumbent on 1 runs: 0.4139\n"
     ]
    },
    {
     "name": "stdout",
     "output_type": "stream",
     "text": [
      "0.08473251989637351 0.3840170473834118 0.5534722222222223\n"
     ]
    },
    {
     "name": "stderr",
     "output_type": "stream",
     "text": [
      "INFO:smac.intensification.intensification.Intensifier:Updated estimated cost of incumbent on 1 runs: 0.4139\n"
     ]
    },
    {
     "name": "stdout",
     "output_type": "stream",
     "text": [
      "0.08481350284865756 0.3846608414594822 0.5972222222222222\n"
     ]
    },
    {
     "name": "stderr",
     "output_type": "stream",
     "text": [
      "INFO:smac.intensification.intensification.Intensifier:Challenger (0.4028) is better than incumbent (0.4139) on 1 runs.\n",
      "INFO:smac.intensification.intensification.Intensifier:Changes in incumbent:\n",
      "INFO:smac.intensification.intensification.Intensifier:  learning_rate_init : 0.08479554635368784 -> 0.08481350284865756\n",
      "INFO:smac.intensification.intensification.Intensifier:  momentum : 0.384393594394976 -> 0.3846608414594822\n",
      "INFO:smac.intensification.intensification.Intensifier:Updated estimated cost of incumbent on 1 runs: 0.4028\n"
     ]
    },
    {
     "name": "stdout",
     "output_type": "stream",
     "text": [
      "0.08481350284865756 0.3851278326647629 0.5972222222222222\n"
     ]
    },
    {
     "name": "stderr",
     "output_type": "stream",
     "text": [
      "INFO:smac.intensification.intensification.Intensifier:Updated estimated cost of incumbent on 1 runs: 0.4028\n"
     ]
    },
    {
     "name": "stdout",
     "output_type": "stream",
     "text": [
      "0.08480109287460842 0.384919452141708 0.5472222222222223\n"
     ]
    },
    {
     "name": "stderr",
     "output_type": "stream",
     "text": [
      "INFO:smac.intensification.intensification.Intensifier:Updated estimated cost of incumbent on 1 runs: 0.4028\n"
     ]
    },
    {
     "name": "stdout",
     "output_type": "stream",
     "text": [
      "0.0848832408386251 0.3851278326647629 0.5916666666666666\n"
     ]
    },
    {
     "name": "stderr",
     "output_type": "stream",
     "text": [
      "INFO:smac.intensification.intensification.Intensifier:Updated estimated cost of incumbent on 1 runs: 0.4028\n"
     ]
    },
    {
     "name": "stdout",
     "output_type": "stream",
     "text": [
      "0.08484129823509415 0.3854967114138347 0.5361111111111111\n"
     ]
    },
    {
     "name": "stderr",
     "output_type": "stream",
     "text": [
      "INFO:smac.intensification.intensification.Intensifier:Updated estimated cost of incumbent on 1 runs: 0.4028\n"
     ]
    },
    {
     "name": "stdout",
     "output_type": "stream",
     "text": [
      "0.08487159895236068 0.38457696456571255 0.525\n"
     ]
    },
    {
     "name": "stderr",
     "output_type": "stream",
     "text": [
      "INFO:smac.intensification.intensification.Intensifier:Updated estimated cost of incumbent on 1 runs: 0.4028\n"
     ]
    },
    {
     "name": "stdout",
     "output_type": "stream",
     "text": [
      "0.08749565532079734 0.3787135706180045 0.5\n"
     ]
    },
    {
     "name": "stderr",
     "output_type": "stream",
     "text": [
      "INFO:smac.intensification.intensification.Intensifier:Updated estimated cost of incumbent on 1 runs: 0.4028\n"
     ]
    },
    {
     "name": "stdout",
     "output_type": "stream",
     "text": [
      "0.08476658812629093 0.38291665853512236 0.5472222222222223\n"
     ]
    },
    {
     "name": "stderr",
     "output_type": "stream",
     "text": [
      "INFO:smac.intensification.intensification.Intensifier:Updated estimated cost of incumbent on 1 runs: 0.4028\n"
     ]
    },
    {
     "name": "stdout",
     "output_type": "stream",
     "text": [
      "0.08481633600948528 0.3851278326647629 0.5472222222222223\n"
     ]
    },
    {
     "name": "stderr",
     "output_type": "stream",
     "text": [
      "INFO:smac.intensification.intensification.Intensifier:Updated estimated cost of incumbent on 1 runs: 0.4028\n"
     ]
    },
    {
     "name": "stdout",
     "output_type": "stream",
     "text": [
      "0.08474133534671412 0.38555598858922024 0.5423611111111111\n"
     ]
    },
    {
     "name": "stderr",
     "output_type": "stream",
     "text": [
      "INFO:smac.intensification.intensification.Intensifier:Updated estimated cost of incumbent on 1 runs: 0.4028\n"
     ]
    },
    {
     "name": "stdout",
     "output_type": "stream",
     "text": [
      "0.08497490851834846 0.3853216708959988 0.5444444444444445\n"
     ]
    },
    {
     "name": "stderr",
     "output_type": "stream",
     "text": [
      "INFO:smac.intensification.intensification.Intensifier:Updated estimated cost of incumbent on 1 runs: 0.4028\n"
     ]
    },
    {
     "name": "stdout",
     "output_type": "stream",
     "text": [
      "0.08479503489293352 0.3856053129856384 0.5916666666666666\n"
     ]
    },
    {
     "name": "stderr",
     "output_type": "stream",
     "text": [
      "INFO:smac.intensification.intensification.Intensifier:Updated estimated cost of incumbent on 1 runs: 0.4028\n"
     ]
    },
    {
     "name": "stdout",
     "output_type": "stream",
     "text": [
      "0.08479195069449401 0.3851738837905111 0.5472222222222223\n"
     ]
    },
    {
     "name": "stderr",
     "output_type": "stream",
     "text": [
      "INFO:smac.intensification.intensification.Intensifier:Updated estimated cost of incumbent on 1 runs: 0.4028\n"
     ]
    },
    {
     "name": "stdout",
     "output_type": "stream",
     "text": [
      "0.08473820098362862 0.38632488654560027 0.5534722222222223\n"
     ]
    },
    {
     "name": "stderr",
     "output_type": "stream",
     "text": [
      "INFO:smac.intensification.intensification.Intensifier:Updated estimated cost of incumbent on 1 runs: 0.4028\n"
     ]
    },
    {
     "name": "stdout",
     "output_type": "stream",
     "text": [
      "0.08491318698154049 0.3851278326647629 0.5527777777777778\n"
     ]
    },
    {
     "name": "stderr",
     "output_type": "stream",
     "text": [
      "INFO:smac.intensification.intensification.Intensifier:Updated estimated cost of incumbent on 1 runs: 0.4028\n"
     ]
    },
    {
     "name": "stdout",
     "output_type": "stream",
     "text": [
      "0.08489890751763966 0.3859475827127694 0.5972222222222222\n"
     ]
    },
    {
     "name": "stderr",
     "output_type": "stream",
     "text": [
      "INFO:smac.intensification.intensification.Intensifier:Updated estimated cost of incumbent on 1 runs: 0.4028\n"
     ]
    },
    {
     "name": "stdout",
     "output_type": "stream",
     "text": [
      "0.047464145802444804 0.30284441471828605 0.49722222222222223\n"
     ]
    },
    {
     "name": "stderr",
     "output_type": "stream",
     "text": [
      "INFO:smac.intensification.intensification.Intensifier:Updated estimated cost of incumbent on 1 runs: 0.4028\n",
      "INFO:smac.stats.stats.Stats:##########################################################\n",
      "INFO:smac.stats.stats.Stats:Statistics:\n",
      "INFO:smac.stats.stats.Stats:#Incumbent changed: 4\n",
      "INFO:smac.stats.stats.Stats:#Target algorithm runs: 25 / 25.0\n",
      "INFO:smac.stats.stats.Stats:#Configurations: 25\n",
      "INFO:smac.stats.stats.Stats:Used wallclock time: 90.09 / inf sec \n",
      "INFO:smac.stats.stats.Stats:Used target algorithm runtime: 17.47 / inf sec\n",
      "INFO:smac.stats.stats.Stats:##########################################################\n",
      "INFO:smac.facade.smac_bo_facade.SMAC4BO:Final Incumbent: Configuration:\n",
      "  learning_rate_init, Value: 0.08481350284865756\n",
      "  momentum, Value: 0.3846608414594822\n",
      "\n",
      "INFO:smac.facade.smac_bo_facade.SMAC4BO:Estimated cost of incumbent: 0.402778\n"
     ]
    },
    {
     "name": "stdout",
     "output_type": "stream",
     "text": [
      "Best Configuration found:\n",
      "Configuration:\n",
      "  learning_rate_init, Value: 0.08481350284865756\n",
      "  momentum, Value: 0.3846608414594822\n",
      "\n"
     ]
    },
    {
     "data": {
      "image/png": "[encoded data removed]",
      "text/plain": [
       "<Figure size 432x288 with 1 Axes>"
      ]
     },
     "metadata": {
      "needs_background": "light"
     },
     "output_type": "display_data"
    }
   ],
   "source": [
    "#Use bo and EI\n",
    "smac_EI = optimizer('bo', cs, obj_function=MLP_score_1, \n",
    "                    acquisition_type='EI', n_iter=25, \n",
    "                    init_points=5, seed=BIG_SEED)\n",
    "#plot the value for each iteration done\n",
    "plt.plot(smac_EI.get_X_y()[1])\n",
    "plt.ylabel(label_metric)\n",
    "plt.xlabel('Iterations')\n",
    "plt.show()"
   ]
  },
  {
   "cell_type": "code",
   "execution_count": 11,
   "metadata": {
    "autoscroll": false,
    "ein.hycell": false,
    "ein.tags": "worksheet-0",
    "slideshow": {
     "slide_type": "-"
    }
   },
   "outputs": [
    {
     "data": {
      "image/png": "[encoded data removed]",
      "text/plain": [
       "<Figure size 1080x360 with 1 Axes>"
      ]
     },
     "metadata": {
      "needs_background": "light"
     },
     "output_type": "display_data"
    }
   ],
   "source": [
    "#Compare the two models removing the initial 5 points keeping only the best of them.\n",
    "plt.figure(figsize=(15,5))\n",
    "plt.plot(1-np.minimum.accumulate(smac_LCB.get_X_y()[1])[4:], 'o-') #0,1,2,3,4 sono i punti iniziali\n",
    "plt.plot(1-np.minimum.accumulate(smac_EI.get_X_y()[1])[4:], 'o-')\n",
    "plt.legend(['LCB','EI'])\n",
    "plt.ylabel('Best Seen '+label_metric)\n",
    "plt.xlabel('Iterations')\n",
    "plt.show()"
   ]
  },
  {
   "cell_type": "markdown",
   "metadata": {},
   "source": [
    "## Grid and Randomized Search"
   ]
  },
  {
   "cell_type": "code",
   "execution_count": 12,
   "metadata": {
    "autoscroll": false,
    "ein.hycell": false,
    "ein.tags": "worksheet-0",
    "slideshow": {
     "slide_type": "-"
    }
   },
   "outputs": [],
   "source": [
    "from sklearn.model_selection import GridSearchCV, RandomizedSearchCV\n",
    "from time import time"
   ]
  },
  {
   "cell_type": "code",
   "execution_count": 13,
   "metadata": {
    "autoscroll": false,
    "ein.hycell": false,
    "ein.tags": "worksheet-0",
    "slideshow": {
     "slide_type": "-"
    }
   },
   "outputs": [
    {
     "name": "stdout",
     "output_type": "stream",
     "text": [
      "{'learning_rate_init': 0.0325, 'momentum': 0.1}\n",
      "Training Completed in 6.959s\n"
     ]
    },
    {
     "name": "stderr",
     "output_type": "stream",
     "text": [
      "/home/pranav/anaconda3/lib/python3.7/site-packages/sklearn/model_selection/_search.py:814: DeprecationWarning: The default of the `iid` parameter will change from True to False in version 0.22 and will be removed in 0.24. This will change numeric results when test-set sizes are unequal.\n",
      "  DeprecationWarning)\n"
     ]
    }
   ],
   "source": [
    "#create the configuration grid with 5 element for each hyperparameter\n",
    "conf_grid = {'learning_rate_init':np.linspace(0.01, 0.1, num=5),\n",
    "             'momentum':np.linspace(0.1, 0.9, num=5)}\n",
    "\n",
    "MLP_GS = GridSearchCV(MLPClassifier(hidden_layer_sizes=(4,2,),random_state=BIG_SEED),\n",
    "                      conf_grid, scoring=score_metric, cv=10, n_jobs=-1) #n_jobs=-1 parallelize the computation\n",
    "\n",
    "t_0 = time()\n",
    "skf = StratifiedKFold(n_splits=10, random_state=BIG_SEED)\n",
    "X = df.drop('Class', axis=1).values\n",
    "y = df.Class\n",
    "MLP_GS = MLP_GS.fit(X, y)\n",
    "print(MLP_GS.best_params_)\n",
    "print(\"Training Completed in %0.3fs\" % (time() - t_0))"
   ]
  },
  {
   "cell_type": "code",
   "execution_count": 14,
   "metadata": {
    "autoscroll": false,
    "ein.hycell": false,
    "ein.tags": "worksheet-0",
    "slideshow": {
     "slide_type": "-"
    }
   },
   "outputs": [
    {
     "name": "stdout",
     "output_type": "stream",
     "text": [
      "Best Score 0.5533333333333332\n"
     ]
    },
    {
     "data": {
      "image/png": "[encoded data removed]",
      "text/plain": [
       "<Figure size 432x288 with 1 Axes>"
      ]
     },
     "metadata": {
      "needs_background": "light"
     },
     "output_type": "display_data"
    }
   ],
   "source": [
    "print(\"Best Score\", np.max(MLP_GS.cv_results_['mean_test_score']))\n",
    "plt.plot(MLP_GS.cv_results_['mean_test_score'])\n",
    "plt.show()"
   ]
  },
  {
   "cell_type": "code",
   "execution_count": 15,
   "metadata": {
    "autoscroll": false,
    "ein.hycell": false,
    "ein.tags": "worksheet-0",
    "slideshow": {
     "slide_type": "-"
    }
   },
   "outputs": [
    {
     "name": "stdout",
     "output_type": "stream",
     "text": [
      "{'momentum': 0.1163265306122449, 'learning_rate_init': 0.06326530612244897}\n",
      "Training Completed in 8.310s\n"
     ]
    },
    {
     "name": "stderr",
     "output_type": "stream",
     "text": [
      "/home/pranav/anaconda3/lib/python3.7/site-packages/sklearn/model_selection/_search.py:814: DeprecationWarning: The default of the `iid` parameter will change from True to False in version 0.22 and will be removed in 0.24. This will change numeric results when test-set sizes are unequal.\n",
      "  DeprecationWarning)\n"
     ]
    }
   ],
   "source": [
    "param_grid = {'learning_rate_init':np.linspace(0.01, 0.1),\n",
    "              'momentum':np.linspace(0.1, 0.9)}\n",
    "\n",
    "MLP_RS = RandomizedSearchCV(MLPClassifier(hidden_layer_sizes=(4,2,), \n",
    "                                          random_state=BIG_SEED),\n",
    "                            param_grid, n_iter=25, scoring=score_metric, \n",
    "                            cv=10, random_state=BIG_SEED, n_jobs=-1)\n",
    "\n",
    "t_0 = time()\n",
    "skf = StratifiedKFold(n_splits=10, random_state=BIG_SEED)\n",
    "X = df.drop('Class', axis=1).values\n",
    "y = df.Class\n",
    "MLP_RS = MLP_RS.fit(X, y)\n",
    "print(MLP_RS.best_params_)\n",
    "print(\"Training Completed in %0.3fs\" % (time() - t_0))"
   ]
  },
  {
   "cell_type": "code",
   "execution_count": 16,
   "metadata": {
    "autoscroll": false,
    "ein.hycell": false,
    "ein.tags": "worksheet-0",
    "slideshow": {
     "slide_type": "-"
    }
   },
   "outputs": [
    {
     "name": "stdout",
     "output_type": "stream",
     "text": [
      "Best Score 0.565\n"
     ]
    },
    {
     "data": {
      "image/png": "[encoded data removed]",
      "text/plain": [
       "<Figure size 432x288 with 1 Axes>"
      ]
     },
     "metadata": {
      "needs_background": "light"
     },
     "output_type": "display_data"
    }
   ],
   "source": [
    "print(\"Best Score\", np.max(MLP_RS.cv_results_['mean_test_score']))\n",
    "plt.plot(MLP_RS.cv_results_['mean_test_score'])\n",
    "plt.show()"
   ]
  },
  {
   "cell_type": "code",
   "execution_count": 17,
   "metadata": {
    "autoscroll": false,
    "ein.hycell": false,
    "ein.tags": "worksheet-0",
    "slideshow": {
     "slide_type": "-"
    }
   },
   "outputs": [
    {
     "data": {
      "image/png": "[encoded data removed]",
      "text/plain": [
       "<Figure size 432x288 with 1 Axes>"
      ]
     },
     "metadata": {
      "needs_background": "light"
     },
     "output_type": "display_data"
    }
   ],
   "source": [
    "plt.plot(np.maximum.accumulate(MLP_RS.cv_results_['mean_test_score']), 'o-')\n",
    "plt.plot(np.maximum.accumulate(MLP_GS.cv_results_['mean_test_score']), 'o-')\n",
    "plt.legend(['Random','Grid'])\n",
    "plt.ylabel('Best Seen '+label_metric)\n",
    "plt.xlabel('Iterations')\n",
    "plt.show()"
   ]
  },
  {
   "cell_type": "code",
   "execution_count": 19,
   "metadata": {
    "scrolled": true
   },
   "outputs": [
    {
     "data": {
      "image/png": "[encoded data removed]",
      "text/plain": [
       "<Figure size 1080x360 with 1 Axes>"
      ]
     },
     "metadata": {
      "needs_background": "light"
     },
     "output_type": "display_data"
    }
   ],
   "source": [
    "plt.figure(figsize=(15,5))\n",
    "lcb, = plt.plot(1-np.minimum.accumulate(smac_LCB.get_X_y()[1]), 'o-')\n",
    "ei,  = plt.plot(1-np.minimum.accumulate(smac_EI.get_X_y()[1]), 'o-')\n",
    "rs,  = plt.plot(np.maximum.accumulate(MLP_RS.cv_results_['mean_test_score']), 'o-')\n",
    "gs,  = plt.plot(np.maximum.accumulate(MLP_GS.cv_results_['mean_test_score']), 'o-')\n",
    "plt.legend([ei,lcb,rs,gs],['EI','LCB','Random','Grid']) #need to change order based on the score\n",
    "plt.ylabel('Best Seen '+label_metric)\n",
    "plt.xlabel('Iterations')\n",
    "plt.show()"
   ]
  },
  {
   "cell_type": "markdown",
   "metadata": {},
   "source": [
    "# Exercise 2"
   ]
  },
  {
   "cell_type": "markdown",
   "metadata": {},
   "source": [
    "## Random Forest with LBC and EI"
   ]
  },
  {
   "cell_type": "code",
   "execution_count": 20,
   "metadata": {},
   "outputs": [
    {
     "data": {
      "text/plain": [
       "[h1, Type: UniformInteger, Range: [1, 5], Default: 3,\n",
       " h2, Type: UniformInteger, Range: [1, 5], Default: 3]"
      ]
     },
     "execution_count": 20,
     "metadata": {},
     "output_type": "execute_result"
    }
   ],
   "source": [
    "hidden1 = UniformIntegerHyperparameter('h1',1,5)\n",
    "hidden2 = UniformIntegerHyperparameter('h2',1,5)\n",
    "\n",
    "cs.add_hyperparameters([hidden1, hidden2])"
   ]
  },
  {
   "cell_type": "code",
   "execution_count": 21,
   "metadata": {},
   "outputs": [],
   "source": [
    "def MLP_score_2(conf: Union[Type[ConfigurationSpace], dict]) -> float:\n",
    "    \"\"\"\n",
    "    Basically takes a configuration does a 10-CV and return the average\n",
    "    score, the average score is modified so it gets minimized, for example\n",
    "    accuracy is converted into error.\n",
    "    PARAMETERS\n",
    "    ----------\n",
    "    @conf   is a ConfigurationSpace Object, but it acts as a dictionary\n",
    "            so we can call a value given the key: conf['key']\n",
    "            \n",
    "    Returns\n",
    "    -------\n",
    "    @return a float value which needs to be minimized in this case cv error\n",
    "    \n",
    "    This function takes in the configuration and computes the error score\n",
    "    using CV with 10 folds\n",
    "    \"\"\"\n",
    "    \n",
    "    #rseed = int(conf['momentum']*conf['learning_rate_init']*5000)\n",
    "    rseed = BIG_SEED\n",
    "    MLPclf = MLPClassifier(hidden_layer_sizes=(conf['h1'],conf['h2'],), \n",
    "                           momentum = conf['momentum'],\n",
    "                           learning_rate_init = conf['learning_rate_init'],\n",
    "                           random_state=rseed)\n",
    "    \n",
    "    skf = StratifiedKFold(n_splits=10, random_state=BIG_SEED)\n",
    "    X = df.drop('Class', axis=1).values\n",
    "    y = df.Class\n",
    "    score = cross_val_score(MLPclf, X, y, cv=skf, scoring=score_metric)\n",
    "    #print(conf['learning_rate_init'], conf['momentum'], np.mean(score))\n",
    "    return 1 - np.mean(score)  # it needs to Minimize it!"
   ]
  },
  {
   "cell_type": "code",
   "execution_count": 22,
   "metadata": {
    "scrolled": true
   },
   "outputs": [
    {
     "name": "stderr",
     "output_type": "stream",
     "text": [
      "INFO:smac.utils.io.cmd_reader.CMDReader:Output to logs\n",
      "INFO:smac.facade.smac_hpo_facade.SMAC4HPO:Optimizing a deterministic scenario for quality without a tuner timeout - will make SMAC deterministic and only evaluate one configuration per iteration!\n",
      "INFO:smac.initial_design.initial_design.InitialDesign:Running initial design for 10 configurations\n",
      "INFO:smac.facade.smac_hpo_facade.SMAC4HPO:<class 'smac.facade.smac_hpo_facade.SMAC4HPO'>\n"
     ]
    },
    {
     "name": "stdout",
     "output_type": "stream",
     "text": [
      "Using EI acquisition Function\n"
     ]
    },
    {
     "name": "stderr",
     "output_type": "stream",
     "text": [
      "INFO:smac.intensification.intensification.Intensifier:Challenger (0.4160) is better than incumbent (0.5000) on 1 runs.\n",
      "INFO:smac.intensification.intensification.Intensifier:Changes in incumbent:\n",
      "INFO:smac.intensification.intensification.Intensifier:  h1 : 4 -> 5\n",
      "INFO:smac.intensification.intensification.Intensifier:  h2 : 1 -> 3\n",
      "INFO:smac.intensification.intensification.Intensifier:  learning_rate_init : 0.029413959922052688 -> 0.03169391571725954\n",
      "INFO:smac.intensification.intensification.Intensifier:  momentum : 0.8637144060672871 -> 0.6495777204192075\n",
      "INFO:smac.intensification.intensification.Intensifier:Challenger (0.3819) is better than incumbent (0.4160) on 1 runs.\n",
      "INFO:smac.intensification.intensification.Intensifier:Changes in incumbent:\n",
      "INFO:smac.intensification.intensification.Intensifier:  h2 : 3 -> 5\n",
      "INFO:smac.intensification.intensification.Intensifier:  learning_rate_init : 0.03169391571725954 -> 0.03260778141029023\n",
      "INFO:smac.intensification.intensification.Intensifier:  momentum : 0.6495777204192075 -> 0.8015435539087935\n",
      "INFO:smac.intensification.intensification.Intensifier:Updated estimated cost of incumbent on 1 runs: 0.3819\n",
      "INFO:smac.intensification.intensification.Intensifier:Updated estimated cost of incumbent on 1 runs: 0.3819\n",
      "INFO:smac.intensification.intensification.Intensifier:Updated estimated cost of incumbent on 1 runs: 0.3819\n",
      "INFO:smac.intensification.intensification.Intensifier:Updated estimated cost of incumbent on 1 runs: 0.3819\n",
      "INFO:smac.intensification.intensification.Intensifier:Challenger (0.3222) is better than incumbent (0.3819) on 1 runs.\n",
      "INFO:smac.intensification.intensification.Intensifier:Changes in incumbent:\n",
      "INFO:smac.intensification.intensification.Intensifier:  h1 : 5 -> 3\n",
      "INFO:smac.intensification.intensification.Intensifier:  h2 : 5 -> 4\n",
      "INFO:smac.intensification.intensification.Intensifier:  learning_rate_init : 0.03260778141029023 -> 0.03549969012125356\n",
      "INFO:smac.intensification.intensification.Intensifier:  momentum : 0.8015435539087935 -> 0.24065423487539261\n",
      "INFO:smac.intensification.intensification.Intensifier:Updated estimated cost of incumbent on 1 runs: 0.3222\n",
      "INFO:smac.intensification.intensification.Intensifier:Updated estimated cost of incumbent on 1 runs: 0.3222\n",
      "INFO:smac.intensification.intensification.Intensifier:Updated estimated cost of incumbent on 1 runs: 0.3222\n",
      "INFO:smac.intensification.intensification.Intensifier:Updated estimated cost of incumbent on 1 runs: 0.3222\n",
      "INFO:smac.intensification.intensification.Intensifier:Updated estimated cost of incumbent on 1 runs: 0.3222\n",
      "INFO:smac.intensification.intensification.Intensifier:Updated estimated cost of incumbent on 1 runs: 0.3222\n",
      "INFO:smac.intensification.intensification.Intensifier:Updated estimated cost of incumbent on 1 runs: 0.3222\n",
      "INFO:smac.intensification.intensification.Intensifier:Updated estimated cost of incumbent on 1 runs: 0.3222\n",
      "INFO:smac.intensification.intensification.Intensifier:Updated estimated cost of incumbent on 1 runs: 0.3222\n",
      "INFO:smac.intensification.intensification.Intensifier:Updated estimated cost of incumbent on 1 runs: 0.3222\n",
      "INFO:smac.intensification.intensification.Intensifier:Updated estimated cost of incumbent on 1 runs: 0.3222\n",
      "INFO:smac.intensification.intensification.Intensifier:Updated estimated cost of incumbent on 1 runs: 0.3222\n",
      "INFO:smac.intensification.intensification.Intensifier:Updated estimated cost of incumbent on 1 runs: 0.3222\n",
      "INFO:smac.intensification.intensification.Intensifier:Updated estimated cost of incumbent on 1 runs: 0.3222\n",
      "INFO:smac.intensification.intensification.Intensifier:Updated estimated cost of incumbent on 1 runs: 0.3222\n",
      "INFO:smac.intensification.intensification.Intensifier:Updated estimated cost of incumbent on 1 runs: 0.3222\n",
      "INFO:smac.intensification.intensification.Intensifier:Updated estimated cost of incumbent on 1 runs: 0.3222\n",
      "INFO:smac.intensification.intensification.Intensifier:Updated estimated cost of incumbent on 1 runs: 0.3222\n",
      "INFO:smac.intensification.intensification.Intensifier:Updated estimated cost of incumbent on 1 runs: 0.3222\n",
      "INFO:smac.intensification.intensification.Intensifier:Updated estimated cost of incumbent on 1 runs: 0.3222\n",
      "INFO:smac.intensification.intensification.Intensifier:Updated estimated cost of incumbent on 1 runs: 0.3222\n",
      "INFO:smac.intensification.intensification.Intensifier:Updated estimated cost of incumbent on 1 runs: 0.3222\n",
      "INFO:smac.intensification.intensification.Intensifier:Updated estimated cost of incumbent on 1 runs: 0.3222\n",
      "INFO:smac.intensification.intensification.Intensifier:Updated estimated cost of incumbent on 1 runs: 0.3222\n",
      "INFO:smac.intensification.intensification.Intensifier:Updated estimated cost of incumbent on 1 runs: 0.3222\n",
      "INFO:smac.intensification.intensification.Intensifier:Updated estimated cost of incumbent on 1 runs: 0.3222\n",
      "INFO:smac.intensification.intensification.Intensifier:Updated estimated cost of incumbent on 1 runs: 0.3222\n",
      "INFO:smac.intensification.intensification.Intensifier:Updated estimated cost of incumbent on 1 runs: 0.3222\n",
      "INFO:smac.intensification.intensification.Intensifier:Updated estimated cost of incumbent on 1 runs: 0.3222\n",
      "INFO:smac.intensification.intensification.Intensifier:Updated estimated cost of incumbent on 1 runs: 0.3222\n",
      "INFO:smac.intensification.intensification.Intensifier:Challenger (0.3167) is better than incumbent (0.3222) on 1 runs.\n",
      "INFO:smac.intensification.intensification.Intensifier:Changes in incumbent:\n",
      "INFO:smac.intensification.intensification.Intensifier:  learning_rate_init : 0.03549969012125356 -> 0.035647986408925844\n",
      "INFO:smac.intensification.intensification.Intensifier:  momentum : 0.24065423487539261 -> 0.24081415908596818\n",
      "INFO:smac.intensification.intensification.Intensifier:Updated estimated cost of incumbent on 1 runs: 0.3167\n",
      "INFO:smac.intensification.intensification.Intensifier:Updated estimated cost of incumbent on 1 runs: 0.3167\n",
      "INFO:smac.intensification.intensification.Intensifier:Updated estimated cost of incumbent on 1 runs: 0.3167\n",
      "INFO:smac.intensification.intensification.Intensifier:Updated estimated cost of incumbent on 1 runs: 0.3167\n",
      "INFO:smac.intensification.intensification.Intensifier:Updated estimated cost of incumbent on 1 runs: 0.3167\n",
      "INFO:smac.intensification.intensification.Intensifier:Updated estimated cost of incumbent on 1 runs: 0.3167\n",
      "INFO:smac.intensification.intensification.Intensifier:Updated estimated cost of incumbent on 1 runs: 0.3167\n",
      "INFO:smac.intensification.intensification.Intensifier:Updated estimated cost of incumbent on 1 runs: 0.3167\n",
      "INFO:smac.intensification.intensification.Intensifier:Updated estimated cost of incumbent on 1 runs: 0.3167\n",
      "INFO:smac.intensification.intensification.Intensifier:Updated estimated cost of incumbent on 1 runs: 0.3167\n",
      "INFO:smac.intensification.intensification.Intensifier:Updated estimated cost of incumbent on 1 runs: 0.3167\n",
      "INFO:smac.intensification.intensification.Intensifier:Updated estimated cost of incumbent on 1 runs: 0.3167\n",
      "INFO:smac.intensification.intensification.Intensifier:Updated estimated cost of incumbent on 1 runs: 0.3167\n",
      "INFO:smac.intensification.intensification.Intensifier:Updated estimated cost of incumbent on 1 runs: 0.3167\n",
      "INFO:smac.intensification.intensification.Intensifier:Updated estimated cost of incumbent on 1 runs: 0.3167\n",
      "INFO:smac.intensification.intensification.Intensifier:Updated estimated cost of incumbent on 1 runs: 0.3167\n",
      "INFO:smac.intensification.intensification.Intensifier:Updated estimated cost of incumbent on 1 runs: 0.3167\n",
      "INFO:smac.intensification.intensification.Intensifier:Updated estimated cost of incumbent on 1 runs: 0.3167\n",
      "INFO:smac.intensification.intensification.Intensifier:Updated estimated cost of incumbent on 1 runs: 0.3167\n",
      "INFO:smac.intensification.intensification.Intensifier:Updated estimated cost of incumbent on 1 runs: 0.3167\n",
      "INFO:smac.intensification.intensification.Intensifier:Updated estimated cost of incumbent on 1 runs: 0.3167\n",
      "INFO:smac.intensification.intensification.Intensifier:Updated estimated cost of incumbent on 1 runs: 0.3167\n",
      "INFO:smac.intensification.intensification.Intensifier:Updated estimated cost of incumbent on 1 runs: 0.3167\n"
     ]
    },
    {
     "name": "stderr",
     "output_type": "stream",
     "text": [
      "INFO:smac.intensification.intensification.Intensifier:Updated estimated cost of incumbent on 1 runs: 0.3167\n",
      "INFO:smac.intensification.intensification.Intensifier:Updated estimated cost of incumbent on 1 runs: 0.3167\n",
      "INFO:smac.intensification.intensification.Intensifier:Updated estimated cost of incumbent on 1 runs: 0.3167\n",
      "INFO:smac.intensification.intensification.Intensifier:Updated estimated cost of incumbent on 1 runs: 0.3167\n",
      "INFO:smac.intensification.intensification.Intensifier:Updated estimated cost of incumbent on 1 runs: 0.3167\n",
      "INFO:smac.intensification.intensification.Intensifier:Updated estimated cost of incumbent on 1 runs: 0.3167\n",
      "INFO:smac.intensification.intensification.Intensifier:Updated estimated cost of incumbent on 1 runs: 0.3167\n",
      "INFO:smac.intensification.intensification.Intensifier:Updated estimated cost of incumbent on 1 runs: 0.3167\n",
      "INFO:smac.intensification.intensification.Intensifier:Updated estimated cost of incumbent on 1 runs: 0.3167\n",
      "INFO:smac.intensification.intensification.Intensifier:Updated estimated cost of incumbent on 1 runs: 0.3167\n",
      "INFO:smac.intensification.intensification.Intensifier:Updated estimated cost of incumbent on 1 runs: 0.3167\n",
      "INFO:smac.intensification.intensification.Intensifier:Updated estimated cost of incumbent on 1 runs: 0.3167\n",
      "INFO:smac.intensification.intensification.Intensifier:Updated estimated cost of incumbent on 1 runs: 0.3167\n",
      "INFO:smac.intensification.intensification.Intensifier:Updated estimated cost of incumbent on 1 runs: 0.3167\n",
      "INFO:smac.intensification.intensification.Intensifier:Updated estimated cost of incumbent on 1 runs: 0.3167\n",
      "INFO:smac.intensification.intensification.Intensifier:Updated estimated cost of incumbent on 1 runs: 0.3167\n",
      "INFO:smac.intensification.intensification.Intensifier:Updated estimated cost of incumbent on 1 runs: 0.3167\n",
      "INFO:smac.intensification.intensification.Intensifier:Updated estimated cost of incumbent on 1 runs: 0.3167\n",
      "INFO:smac.intensification.intensification.Intensifier:Updated estimated cost of incumbent on 1 runs: 0.3167\n",
      "INFO:smac.intensification.intensification.Intensifier:Updated estimated cost of incumbent on 1 runs: 0.3167\n",
      "INFO:smac.intensification.intensification.Intensifier:Updated estimated cost of incumbent on 1 runs: 0.3167\n",
      "INFO:smac.intensification.intensification.Intensifier:Updated estimated cost of incumbent on 1 runs: 0.3167\n",
      "INFO:smac.intensification.intensification.Intensifier:Updated estimated cost of incumbent on 1 runs: 0.3167\n",
      "INFO:smac.intensification.intensification.Intensifier:Updated estimated cost of incumbent on 1 runs: 0.3167\n",
      "INFO:smac.intensification.intensification.Intensifier:Updated estimated cost of incumbent on 1 runs: 0.3167\n",
      "INFO:smac.intensification.intensification.Intensifier:Updated estimated cost of incumbent on 1 runs: 0.3167\n",
      "INFO:smac.intensification.intensification.Intensifier:Updated estimated cost of incumbent on 1 runs: 0.3167\n",
      "INFO:smac.intensification.intensification.Intensifier:Updated estimated cost of incumbent on 1 runs: 0.3167\n",
      "INFO:smac.intensification.intensification.Intensifier:Updated estimated cost of incumbent on 1 runs: 0.3167\n",
      "INFO:smac.intensification.intensification.Intensifier:Updated estimated cost of incumbent on 1 runs: 0.3167\n",
      "INFO:smac.intensification.intensification.Intensifier:Updated estimated cost of incumbent on 1 runs: 0.3167\n",
      "INFO:smac.intensification.intensification.Intensifier:Updated estimated cost of incumbent on 1 runs: 0.3167\n",
      "INFO:smac.intensification.intensification.Intensifier:Updated estimated cost of incumbent on 1 runs: 0.3167\n",
      "INFO:smac.intensification.intensification.Intensifier:Updated estimated cost of incumbent on 1 runs: 0.3167\n",
      "INFO:smac.intensification.intensification.Intensifier:Updated estimated cost of incumbent on 1 runs: 0.3167\n",
      "INFO:smac.intensification.intensification.Intensifier:Updated estimated cost of incumbent on 1 runs: 0.3167\n",
      "INFO:smac.intensification.intensification.Intensifier:Updated estimated cost of incumbent on 1 runs: 0.3167\n",
      "INFO:smac.intensification.intensification.Intensifier:Updated estimated cost of incumbent on 1 runs: 0.3167\n",
      "INFO:smac.intensification.intensification.Intensifier:Updated estimated cost of incumbent on 1 runs: 0.3167\n",
      "INFO:smac.intensification.intensification.Intensifier:Updated estimated cost of incumbent on 1 runs: 0.3167\n",
      "INFO:smac.intensification.intensification.Intensifier:Updated estimated cost of incumbent on 1 runs: 0.3167\n",
      "INFO:smac.intensification.intensification.Intensifier:Updated estimated cost of incumbent on 1 runs: 0.3167\n",
      "INFO:smac.intensification.intensification.Intensifier:Updated estimated cost of incumbent on 1 runs: 0.3167\n",
      "INFO:smac.intensification.intensification.Intensifier:Updated estimated cost of incumbent on 1 runs: 0.3167\n",
      "INFO:smac.stats.stats.Stats:##########################################################\n",
      "INFO:smac.stats.stats.Stats:Statistics:\n",
      "INFO:smac.stats.stats.Stats:#Incumbent changed: 4\n",
      "INFO:smac.stats.stats.Stats:#Target algorithm runs: 110 / 110.0\n",
      "INFO:smac.stats.stats.Stats:#Configurations: 110\n",
      "INFO:smac.stats.stats.Stats:Used wallclock time: 209.73 / inf sec \n",
      "INFO:smac.stats.stats.Stats:Used target algorithm runtime: 112.94 / inf sec\n",
      "INFO:smac.stats.stats.Stats:##########################################################\n",
      "INFO:smac.facade.smac_hpo_facade.SMAC4HPO:Final Incumbent: Configuration:\n",
      "  h1, Value: 3\n",
      "  h2, Value: 4\n",
      "  learning_rate_init, Value: 0.035647986408925844\n",
      "  momentum, Value: 0.24081415908596818\n",
      "\n",
      "INFO:smac.facade.smac_hpo_facade.SMAC4HPO:Estimated cost of incumbent: 0.316667\n"
     ]
    },
    {
     "name": "stdout",
     "output_type": "stream",
     "text": [
      "Best Configuration found:\n",
      "Configuration:\n",
      "  h1, Value: 3\n",
      "  h2, Value: 4\n",
      "  learning_rate_init, Value: 0.035647986408925844\n",
      "  momentum, Value: 0.24081415908596818\n",
      "\n"
     ]
    },
    {
     "data": {
      "image/png": "[encoded data removed]",
      "text/plain": [
       "<Figure size 432x288 with 1 Axes>"
      ]
     },
     "metadata": {
      "needs_background": "light"
     },
     "output_type": "display_data"
    }
   ],
   "source": [
    "#Use rf and EI\n",
    "smac_rf_EI = optimizer('rf', cs, obj_function=MLP_score_2, \n",
    "                    acquisition_type='EI', n_iter=110, \n",
    "                    init_points=10, seed=BIG_SEED)\n",
    "#plot the value for each iteration done\n",
    "plt.plot(smac_rf_EI.get_X_y()[1])\n",
    "plt.ylabel(label_metric)\n",
    "plt.xlabel('Iterations')\n",
    "plt.show()"
   ]
  },
  {
   "cell_type": "code",
   "execution_count": 23,
   "metadata": {
    "scrolled": true
   },
   "outputs": [
    {
     "name": "stderr",
     "output_type": "stream",
     "text": [
      "INFO:smac.utils.io.cmd_reader.CMDReader:Output to logs\n",
      "INFO:smac.facade.smac_hpo_facade.SMAC4HPO:Optimizing a deterministic scenario for quality without a tuner timeout - will make SMAC deterministic and only evaluate one configuration per iteration!\n",
      "INFO:smac.initial_design.initial_design.InitialDesign:Running initial design for 10 configurations\n",
      "INFO:smac.facade.smac_hpo_facade.SMAC4HPO:<class 'smac.facade.smac_hpo_facade.SMAC4HPO'>\n"
     ]
    },
    {
     "name": "stdout",
     "output_type": "stream",
     "text": [
      "Using LCB acquisition Function\n"
     ]
    },
    {
     "name": "stderr",
     "output_type": "stream",
     "text": [
      "INFO:smac.intensification.intensification.Intensifier:Challenger (0.4160) is better than incumbent (0.5000) on 1 runs.\n",
      "INFO:smac.intensification.intensification.Intensifier:Changes in incumbent:\n",
      "INFO:smac.intensification.intensification.Intensifier:  h1 : 4 -> 5\n",
      "INFO:smac.intensification.intensification.Intensifier:  h2 : 1 -> 3\n",
      "INFO:smac.intensification.intensification.Intensifier:  learning_rate_init : 0.029413959922052688 -> 0.03169391571725954\n",
      "INFO:smac.intensification.intensification.Intensifier:  momentum : 0.8637144060672871 -> 0.6495777204192075\n",
      "INFO:smac.intensification.intensification.Intensifier:Challenger (0.3819) is better than incumbent (0.4160) on 1 runs.\n",
      "INFO:smac.intensification.intensification.Intensifier:Changes in incumbent:\n",
      "INFO:smac.intensification.intensification.Intensifier:  h2 : 3 -> 5\n",
      "INFO:smac.intensification.intensification.Intensifier:  learning_rate_init : 0.03169391571725954 -> 0.03260778141029023\n",
      "INFO:smac.intensification.intensification.Intensifier:  momentum : 0.6495777204192075 -> 0.8015435539087935\n",
      "INFO:smac.intensification.intensification.Intensifier:Updated estimated cost of incumbent on 1 runs: 0.3819\n",
      "INFO:smac.intensification.intensification.Intensifier:Updated estimated cost of incumbent on 1 runs: 0.3819\n",
      "INFO:smac.intensification.intensification.Intensifier:Updated estimated cost of incumbent on 1 runs: 0.3819\n",
      "INFO:smac.intensification.intensification.Intensifier:Updated estimated cost of incumbent on 1 runs: 0.3819\n",
      "INFO:smac.intensification.intensification.Intensifier:Updated estimated cost of incumbent on 1 runs: 0.3819\n",
      "INFO:smac.intensification.intensification.Intensifier:Updated estimated cost of incumbent on 1 runs: 0.3819\n",
      "INFO:smac.intensification.intensification.Intensifier:Updated estimated cost of incumbent on 1 runs: 0.3819\n",
      "INFO:smac.intensification.intensification.Intensifier:Updated estimated cost of incumbent on 1 runs: 0.3819\n",
      "INFO:smac.intensification.intensification.Intensifier:Updated estimated cost of incumbent on 1 runs: 0.3819\n",
      "INFO:smac.intensification.intensification.Intensifier:Updated estimated cost of incumbent on 1 runs: 0.3819\n",
      "INFO:smac.intensification.intensification.Intensifier:Updated estimated cost of incumbent on 1 runs: 0.3819\n",
      "INFO:smac.intensification.intensification.Intensifier:Updated estimated cost of incumbent on 1 runs: 0.3819\n",
      "INFO:smac.intensification.intensification.Intensifier:Challenger (0.3382) is better than incumbent (0.3819) on 1 runs.\n",
      "INFO:smac.intensification.intensification.Intensifier:Changes in incumbent:\n",
      "INFO:smac.intensification.intensification.Intensifier:  learning_rate_init : 0.03260778141029023 -> 0.033368570058319544\n",
      "INFO:smac.intensification.intensification.Intensifier:  momentum : 0.8015435539087935 -> 0.5460401942142028\n",
      "INFO:smac.intensification.intensification.Intensifier:Updated estimated cost of incumbent on 1 runs: 0.3382\n",
      "INFO:smac.intensification.intensification.Intensifier:Updated estimated cost of incumbent on 1 runs: 0.3382\n",
      "INFO:smac.intensification.intensification.Intensifier:Updated estimated cost of incumbent on 1 runs: 0.3382\n",
      "INFO:smac.intensification.intensification.Intensifier:Updated estimated cost of incumbent on 1 runs: 0.3382\n",
      "INFO:smac.intensification.intensification.Intensifier:Updated estimated cost of incumbent on 1 runs: 0.3382\n",
      "INFO:smac.intensification.intensification.Intensifier:Updated estimated cost of incumbent on 1 runs: 0.3382\n",
      "INFO:smac.intensification.intensification.Intensifier:Updated estimated cost of incumbent on 1 runs: 0.3382\n",
      "INFO:smac.intensification.intensification.Intensifier:Updated estimated cost of incumbent on 1 runs: 0.3382\n",
      "INFO:smac.intensification.intensification.Intensifier:Updated estimated cost of incumbent on 1 runs: 0.3382\n",
      "INFO:smac.intensification.intensification.Intensifier:Updated estimated cost of incumbent on 1 runs: 0.3382\n",
      "INFO:smac.intensification.intensification.Intensifier:Updated estimated cost of incumbent on 1 runs: 0.3382\n",
      "INFO:smac.intensification.intensification.Intensifier:Challenger (0.3326) is better than incumbent (0.3382) on 1 runs.\n",
      "INFO:smac.intensification.intensification.Intensifier:Changes in incumbent:\n",
      "INFO:smac.intensification.intensification.Intensifier:  learning_rate_init : 0.033368570058319544 -> 0.0333489290883768\n",
      "INFO:smac.intensification.intensification.Intensifier:  momentum : 0.5460401942142028 -> 0.5453810107917331\n",
      "INFO:smac.intensification.intensification.Intensifier:Updated estimated cost of incumbent on 1 runs: 0.3326\n",
      "INFO:smac.intensification.intensification.Intensifier:Updated estimated cost of incumbent on 1 runs: 0.3326\n",
      "INFO:smac.intensification.intensification.Intensifier:Updated estimated cost of incumbent on 1 runs: 0.3326\n",
      "INFO:smac.intensification.intensification.Intensifier:Updated estimated cost of incumbent on 1 runs: 0.3326\n",
      "INFO:smac.intensification.intensification.Intensifier:Updated estimated cost of incumbent on 1 runs: 0.3326\n",
      "INFO:smac.intensification.intensification.Intensifier:Updated estimated cost of incumbent on 1 runs: 0.3326\n",
      "INFO:smac.intensification.intensification.Intensifier:Updated estimated cost of incumbent on 1 runs: 0.3326\n",
      "INFO:smac.intensification.intensification.Intensifier:Updated estimated cost of incumbent on 1 runs: 0.3326\n",
      "INFO:smac.intensification.intensification.Intensifier:Updated estimated cost of incumbent on 1 runs: 0.3326\n",
      "INFO:smac.intensification.intensification.Intensifier:Updated estimated cost of incumbent on 1 runs: 0.3326\n",
      "INFO:smac.intensification.intensification.Intensifier:Updated estimated cost of incumbent on 1 runs: 0.3326\n",
      "INFO:smac.intensification.intensification.Intensifier:Updated estimated cost of incumbent on 1 runs: 0.3326\n",
      "INFO:smac.intensification.intensification.Intensifier:Updated estimated cost of incumbent on 1 runs: 0.3326\n",
      "INFO:smac.intensification.intensification.Intensifier:Updated estimated cost of incumbent on 1 runs: 0.3326\n",
      "INFO:smac.intensification.intensification.Intensifier:Updated estimated cost of incumbent on 1 runs: 0.3326\n",
      "INFO:smac.intensification.intensification.Intensifier:Updated estimated cost of incumbent on 1 runs: 0.3326\n",
      "INFO:smac.intensification.intensification.Intensifier:Updated estimated cost of incumbent on 1 runs: 0.3326\n",
      "INFO:smac.intensification.intensification.Intensifier:Updated estimated cost of incumbent on 1 runs: 0.3326\n",
      "INFO:smac.intensification.intensification.Intensifier:Updated estimated cost of incumbent on 1 runs: 0.3326\n",
      "INFO:smac.intensification.intensification.Intensifier:Updated estimated cost of incumbent on 1 runs: 0.3326\n",
      "INFO:smac.intensification.intensification.Intensifier:Updated estimated cost of incumbent on 1 runs: 0.3326\n",
      "INFO:smac.intensification.intensification.Intensifier:Challenger (0.3271) is better than incumbent (0.3326) on 1 runs.\n",
      "INFO:smac.intensification.intensification.Intensifier:Changes in incumbent:\n",
      "INFO:smac.intensification.intensification.Intensifier:  learning_rate_init : 0.0333489290883768 -> 0.033352577294051736\n",
      "INFO:smac.intensification.intensification.Intensifier:  momentum : 0.5453810107917331 -> 0.4033617137398141\n",
      "INFO:smac.intensification.intensification.Intensifier:Updated estimated cost of incumbent on 1 runs: 0.3271\n",
      "INFO:smac.intensification.intensification.Intensifier:Updated estimated cost of incumbent on 1 runs: 0.3271\n",
      "INFO:smac.intensification.intensification.Intensifier:Updated estimated cost of incumbent on 1 runs: 0.3271\n",
      "INFO:smac.intensification.intensification.Intensifier:Updated estimated cost of incumbent on 1 runs: 0.3271\n",
      "INFO:smac.intensification.intensification.Intensifier:Updated estimated cost of incumbent on 1 runs: 0.3271\n",
      "INFO:smac.intensification.intensification.Intensifier:Updated estimated cost of incumbent on 1 runs: 0.3271\n",
      "INFO:smac.intensification.intensification.Intensifier:Updated estimated cost of incumbent on 1 runs: 0.3271\n",
      "INFO:smac.intensification.intensification.Intensifier:Updated estimated cost of incumbent on 1 runs: 0.3271\n",
      "INFO:smac.intensification.intensification.Intensifier:Updated estimated cost of incumbent on 1 runs: 0.3271\n",
      "INFO:smac.intensification.intensification.Intensifier:Updated estimated cost of incumbent on 1 runs: 0.3271\n",
      "INFO:smac.intensification.intensification.Intensifier:Updated estimated cost of incumbent on 1 runs: 0.3271\n"
     ]
    },
    {
     "name": "stderr",
     "output_type": "stream",
     "text": [
      "INFO:smac.intensification.intensification.Intensifier:Updated estimated cost of incumbent on 1 runs: 0.3271\n",
      "INFO:smac.intensification.intensification.Intensifier:Updated estimated cost of incumbent on 1 runs: 0.3271\n",
      "INFO:smac.intensification.intensification.Intensifier:Updated estimated cost of incumbent on 1 runs: 0.3271\n",
      "INFO:smac.intensification.intensification.Intensifier:Updated estimated cost of incumbent on 1 runs: 0.3271\n",
      "INFO:smac.intensification.intensification.Intensifier:Updated estimated cost of incumbent on 1 runs: 0.3271\n",
      "INFO:smac.intensification.intensification.Intensifier:Updated estimated cost of incumbent on 1 runs: 0.3271\n",
      "INFO:smac.intensification.intensification.Intensifier:Updated estimated cost of incumbent on 1 runs: 0.3271\n",
      "INFO:smac.intensification.intensification.Intensifier:Updated estimated cost of incumbent on 1 runs: 0.3271\n",
      "INFO:smac.intensification.intensification.Intensifier:Updated estimated cost of incumbent on 1 runs: 0.3271\n",
      "INFO:smac.intensification.intensification.Intensifier:Updated estimated cost of incumbent on 1 runs: 0.3271\n",
      "INFO:smac.intensification.intensification.Intensifier:Updated estimated cost of incumbent on 1 runs: 0.3271\n",
      "INFO:smac.intensification.intensification.Intensifier:Updated estimated cost of incumbent on 1 runs: 0.3271\n",
      "INFO:smac.intensification.intensification.Intensifier:Updated estimated cost of incumbent on 1 runs: 0.3271\n",
      "INFO:smac.intensification.intensification.Intensifier:Updated estimated cost of incumbent on 1 runs: 0.3271\n",
      "INFO:smac.intensification.intensification.Intensifier:Updated estimated cost of incumbent on 1 runs: 0.3271\n",
      "INFO:smac.intensification.intensification.Intensifier:Updated estimated cost of incumbent on 1 runs: 0.3271\n",
      "INFO:smac.intensification.intensification.Intensifier:Updated estimated cost of incumbent on 1 runs: 0.3271\n",
      "INFO:smac.intensification.intensification.Intensifier:Updated estimated cost of incumbent on 1 runs: 0.3271\n",
      "INFO:smac.intensification.intensification.Intensifier:Updated estimated cost of incumbent on 1 runs: 0.3271\n",
      "INFO:smac.intensification.intensification.Intensifier:Updated estimated cost of incumbent on 1 runs: 0.3271\n",
      "INFO:smac.intensification.intensification.Intensifier:Updated estimated cost of incumbent on 1 runs: 0.3271\n",
      "INFO:smac.intensification.intensification.Intensifier:Updated estimated cost of incumbent on 1 runs: 0.3271\n",
      "INFO:smac.intensification.intensification.Intensifier:Updated estimated cost of incumbent on 1 runs: 0.3271\n",
      "INFO:smac.intensification.intensification.Intensifier:Updated estimated cost of incumbent on 1 runs: 0.3271\n",
      "INFO:smac.intensification.intensification.Intensifier:Updated estimated cost of incumbent on 1 runs: 0.3271\n",
      "INFO:smac.intensification.intensification.Intensifier:Updated estimated cost of incumbent on 1 runs: 0.3271\n",
      "INFO:smac.intensification.intensification.Intensifier:Updated estimated cost of incumbent on 1 runs: 0.3271\n",
      "INFO:smac.intensification.intensification.Intensifier:Updated estimated cost of incumbent on 1 runs: 0.3271\n",
      "INFO:smac.intensification.intensification.Intensifier:Updated estimated cost of incumbent on 1 runs: 0.3271\n",
      "INFO:smac.intensification.intensification.Intensifier:Updated estimated cost of incumbent on 1 runs: 0.3271\n",
      "INFO:smac.intensification.intensification.Intensifier:Updated estimated cost of incumbent on 1 runs: 0.3271\n",
      "INFO:smac.intensification.intensification.Intensifier:Updated estimated cost of incumbent on 1 runs: 0.3271\n",
      "INFO:smac.intensification.intensification.Intensifier:Updated estimated cost of incumbent on 1 runs: 0.3271\n",
      "INFO:smac.intensification.intensification.Intensifier:Updated estimated cost of incumbent on 1 runs: 0.3271\n",
      "INFO:smac.intensification.intensification.Intensifier:Updated estimated cost of incumbent on 1 runs: 0.3271\n",
      "INFO:smac.intensification.intensification.Intensifier:Updated estimated cost of incumbent on 1 runs: 0.3271\n",
      "INFO:smac.intensification.intensification.Intensifier:Updated estimated cost of incumbent on 1 runs: 0.3271\n",
      "INFO:smac.intensification.intensification.Intensifier:Updated estimated cost of incumbent on 1 runs: 0.3271\n",
      "INFO:smac.intensification.intensification.Intensifier:Updated estimated cost of incumbent on 1 runs: 0.3271\n",
      "INFO:smac.intensification.intensification.Intensifier:Updated estimated cost of incumbent on 1 runs: 0.3271\n",
      "INFO:smac.intensification.intensification.Intensifier:Updated estimated cost of incumbent on 1 runs: 0.3271\n",
      "INFO:smac.intensification.intensification.Intensifier:Updated estimated cost of incumbent on 1 runs: 0.3271\n",
      "INFO:smac.intensification.intensification.Intensifier:Updated estimated cost of incumbent on 1 runs: 0.3271\n",
      "INFO:smac.intensification.intensification.Intensifier:Updated estimated cost of incumbent on 1 runs: 0.3271\n",
      "INFO:smac.intensification.intensification.Intensifier:Updated estimated cost of incumbent on 1 runs: 0.3271\n",
      "INFO:smac.intensification.intensification.Intensifier:Updated estimated cost of incumbent on 1 runs: 0.3271\n",
      "INFO:smac.stats.stats.Stats:##########################################################\n",
      "INFO:smac.stats.stats.Stats:Statistics:\n",
      "INFO:smac.stats.stats.Stats:#Incumbent changed: 5\n",
      "INFO:smac.stats.stats.Stats:#Target algorithm runs: 110 / 110.0\n",
      "INFO:smac.stats.stats.Stats:#Configurations: 110\n",
      "INFO:smac.stats.stats.Stats:Used wallclock time: 200.84 / inf sec \n",
      "INFO:smac.stats.stats.Stats:Used target algorithm runtime: 105.61 / inf sec\n",
      "INFO:smac.stats.stats.Stats:##########################################################\n",
      "INFO:smac.facade.smac_hpo_facade.SMAC4HPO:Final Incumbent: Configuration:\n",
      "  h1, Value: 5\n",
      "  h2, Value: 5\n",
      "  learning_rate_init, Value: 0.033352577294051736\n",
      "  momentum, Value: 0.4033617137398141\n",
      "\n",
      "INFO:smac.facade.smac_hpo_facade.SMAC4HPO:Estimated cost of incumbent: 0.327083\n"
     ]
    },
    {
     "name": "stdout",
     "output_type": "stream",
     "text": [
      "Best Configuration found:\n",
      "Configuration:\n",
      "  h1, Value: 5\n",
      "  h2, Value: 5\n",
      "  learning_rate_init, Value: 0.033352577294051736\n",
      "  momentum, Value: 0.4033617137398141\n",
      "\n"
     ]
    },
    {
     "data": {
      "image/png": "[encoded data removed]",
      "text/plain": [
       "<Figure size 432x288 with 1 Axes>"
      ]
     },
     "metadata": {
      "needs_background": "light"
     },
     "output_type": "display_data"
    }
   ],
   "source": [
    "#Use rf and LCB\n",
    "smac_rf_LCB = optimizer('rf', cs, obj_function=MLP_score_2, \n",
    "                    acquisition_type='LCB', n_iter=110, \n",
    "                    init_points=10, seed=BIG_SEED)\n",
    "#plot the value for each iteration done\n",
    "plt.plot(smac_rf_LCB.get_X_y()[1])\n",
    "plt.ylabel(label_metric)\n",
    "plt.xlabel('Iterations')\n",
    "plt.show()"
   ]
  },
  {
   "cell_type": "code",
   "execution_count": 24,
   "metadata": {},
   "outputs": [
    {
     "data": {
      "image/png": "[encoded data removed]",
      "text/plain": [
       "<Figure size 1080x360 with 1 Axes>"
      ]
     },
     "metadata": {
      "needs_background": "light"
     },
     "output_type": "display_data"
    }
   ],
   "source": [
    "#Compare the two models removing the initial 5 points keeping only the best of them.\n",
    "plt.figure(figsize=(15,5))\n",
    "plt.plot(1-np.minimum.accumulate(smac_rf_LCB.get_X_y()[1])[9:], 'o-') #0,1,2,3,4 sono i punti iniziali\n",
    "plt.plot(1-np.minimum.accumulate(smac_rf_EI.get_X_y()[1])[9:], 'o-')\n",
    "plt.legend(['LCB','EI'])\n",
    "plt.ylabel('Best Seen '+label_metric)\n",
    "plt.xlabel('Iterations')\n",
    "plt.show()"
   ]
  },
  {
   "cell_type": "markdown",
   "metadata": {},
   "source": [
    "## Random and Grid Search"
   ]
  },
  {
   "cell_type": "code",
   "execution_count": 25,
   "metadata": {},
   "outputs": [
    {
     "name": "stdout",
     "output_type": "stream",
     "text": [
      "{'hidden_layer_sizes': (5, 5), 'learning_rate_init': 0.1, 'momentum': 0.1} -> score 0.66625\n",
      "Training Completed in 26.719s\n"
     ]
    },
    {
     "name": "stderr",
     "output_type": "stream",
     "text": [
      "/home/pranav/anaconda3/lib/python3.7/site-packages/sklearn/model_selection/_search.py:814: DeprecationWarning: The default of the `iid` parameter will change from True to False in version 0.22 and will be removed in 0.24. This will change numeric results when test-set sizes are unequal.\n",
      "  DeprecationWarning)\n"
     ]
    }
   ],
   "source": [
    "#create the configuration grid with 5 element for each hyperparameter\n",
    "conf_grid = {'learning_rate_init':np.linspace(0.01, 0.1, num=5),\n",
    "             'momentum':np.linspace(0.1, 0.9, num=5),\n",
    "             'hidden_layer_sizes':[(1,1), (1,5), (3,3), (5,1), (5,5)]}\n",
    "\n",
    "MLP_GS = GridSearchCV(MLPClassifier(hidden_layer_sizes=(4,2,),random_state=BIG_SEED),\n",
    "                      conf_grid, scoring=score_metric, cv=10, n_jobs=-1)\n",
    "\n",
    "t_0 = time()\n",
    "skf = StratifiedKFold(n_splits=10, random_state=BIG_SEED)\n",
    "X = df.drop('Class', axis=1).values\n",
    "y = df.Class\n",
    "MLP_GS = MLP_GS.fit(X, y)\n",
    "print(MLP_GS.best_params_, \"-> score\", MLP_GS.best_score_)\n",
    "print(\"Training Completed in %0.3fs\" % (time() - t_0))"
   ]
  },
  {
   "cell_type": "code",
   "execution_count": 26,
   "metadata": {},
   "outputs": [
    {
     "name": "stdout",
     "output_type": "stream",
     "text": [
      "{'momentum': 0.7040816326530612, 'learning_rate_init': 0.032040816326530615, 'hidden_layer_sizes': (3, 4)} -> score 0.6815972222222223\n",
      "Training Completed in 23.335s\n"
     ]
    },
    {
     "name": "stderr",
     "output_type": "stream",
     "text": [
      "/home/pranav/anaconda3/lib/python3.7/site-packages/sklearn/model_selection/_search.py:814: DeprecationWarning: The default of the `iid` parameter will change from True to False in version 0.22 and will be removed in 0.24. This will change numeric results when test-set sizes are unequal.\n",
      "  DeprecationWarning)\n"
     ]
    }
   ],
   "source": [
    "hidden =[(i, j) for i in range(1,6) for j in range(1,6)]        \n",
    "        \n",
    "param_grid = {'learning_rate_init':np.linspace(0.01, 0.1),\n",
    "              'momentum':np.linspace(0.1, 0.9),\n",
    "              'hidden_layer_sizes':hidden}\n",
    "\n",
    "MLP_RS = RandomizedSearchCV(MLPClassifier(hidden_layer_sizes=(4,2,), \n",
    "                                          random_state=BIG_SEED),\n",
    "                            param_grid, n_iter=110, scoring=score_metric, \n",
    "                            cv=10, random_state=BIG_SEED, n_jobs=-1)\n",
    "\n",
    "t_0 = time()\n",
    "skf = StratifiedKFold(n_splits=10, random_state=BIG_SEED)\n",
    "X = df.drop('Class', axis=1).values\n",
    "y = df.Class\n",
    "MLP_RS = MLP_RS.fit(X, y)\n",
    "print(MLP_RS.best_params_, \"-> score\", MLP_RS.best_score_)\n",
    "print(\"Training Completed in %0.3fs\" % (time() - t_0))"
   ]
  },
  {
   "cell_type": "code",
   "execution_count": 27,
   "metadata": {},
   "outputs": [
    {
     "data": {
      "image/png": "[encoded data removed]",
      "text/plain": [
       "<Figure size 1080x360 with 1 Axes>"
      ]
     },
     "metadata": {
      "needs_background": "light"
     },
     "output_type": "display_data"
    }
   ],
   "source": [
    "plt.figure(figsize=(15,5))\n",
    "plt.plot(np.maximum.accumulate(MLP_RS.cv_results_['mean_test_score']), 'o-')\n",
    "plt.plot(np.maximum.accumulate(MLP_GS.cv_results_['mean_test_score']), 'o-')\n",
    "plt.legend(['Random','Grid'])\n",
    "plt.ylabel('Best Seen '+label_metric)\n",
    "plt.xlabel('Iterations')\n",
    "plt.show()"
   ]
  },
  {
   "cell_type": "code",
   "execution_count": 35,
   "metadata": {},
   "outputs": [
    {
     "data": {
      "image/png": "[encoded data removed]",
      "text/plain": [
       "<Figure size 1080x360 with 1 Axes>"
      ]
     },
     "metadata": {
      "needs_background": "light"
     },
     "output_type": "display_data"
    }
   ],
   "source": [
    "plt.figure(figsize=(15,5))\n",
    "lcb, = plt.plot(1-np.minimum.accumulate(smac_rf_LCB.get_X_y()[1]), 'o-', label='LCB')\n",
    "ei, = plt.plot(1-np.minimum.accumulate(smac_rf_EI.get_X_y()[1]), 'o-', label='EI')\n",
    "rs, = plt.plot(np.maximum.accumulate(MLP_RS.cv_results_['mean_test_score']), 'o-', label='Random')\n",
    "gs, = plt.plot(np.maximum.accumulate(MLP_GS.cv_results_['mean_test_score'])[15:], 'o-', label='Grid')\n",
    "\n",
    "plt.legend([ei,rs,lcb,gs], ['EI','Random','LCB','Grid'],loc=4)\n",
    "plt.ylabel('Best Seen '+label_metric)\n",
    "plt.xlabel('Iterations')\n",
    "plt.show()"
   ]
  }
 ],
 "metadata": {
  "kernelspec": {
   "display_name": "Python 3",
   "language": "python",
   "name": "python3"
  },
  "language_info": {
   "codemirror_mode": {
    "name": "ipython",
    "version": 3
   },
   "file_extension": ".py",
   "mimetype": "text/x-python",
   "name": "python",
   "nbconvert_exporter": "python",
   "pygments_lexer": "ipython3",
   "version": "3.7.5"
  },
  "name": "Assignment5.ipynb"
 },
 "nbformat": 4,
 "nbformat_minor": 2
}
