{
 "cells": [
  {
   "cell_type": "code",
   "execution_count": 1,
   "metadata": {},
   "outputs": [],
   "source": [
    "import warnings\n",
    "warnings.filterwarnings('ignore')\n",
    "\n",
    "import pandas as pd\n",
    "import numpy as np\n",
    "import matplotlib.pyplot as plt\n",
    "\n",
    "from typing import  List, Union, Type, Callable\n",
    "\n",
    "%matplotlib inline\n",
    "\n",
    "BIG_SEED = 132 #random seed for later"
   ]
  },
  {
   "cell_type": "code",
   "execution_count": 2,
   "metadata": {},
   "outputs": [],
   "source": [
    "df = pd.read_csv('data.csv')"
   ]
  },
  {
   "cell_type": "code",
   "execution_count": 3,
   "metadata": {},
   "outputs": [
    {
     "name": "stdout",
     "output_type": "stream",
     "text": [
      "100\n"
     ]
    },
    {
     "data": {
      "text/html": [
       "<div>\n",
       "<style scoped>\n",
       "    .dataframe tbody tr th:only-of-type {\n",
       "        vertical-align: middle;\n",
       "    }\n",
       "\n",
       "    .dataframe tbody tr th {\n",
       "        vertical-align: top;\n",
       "    }\n",
       "\n",
       "    .dataframe thead th {\n",
       "        text-align: right;\n",
       "    }\n",
       "</style>\n",
       "<table border=\"1\" class=\"dataframe\">\n",
       "  <thead>\n",
       "    <tr style=\"text-align: right;\">\n",
       "      <th></th>\n",
       "      <th>V1</th>\n",
       "      <th>V2</th>\n",
       "      <th>V3</th>\n",
       "      <th>V4</th>\n",
       "      <th>V5</th>\n",
       "      <th>V6</th>\n",
       "      <th>V7</th>\n",
       "      <th>V8</th>\n",
       "      <th>V9</th>\n",
       "      <th>Class</th>\n",
       "    </tr>\n",
       "  </thead>\n",
       "  <tbody>\n",
       "    <tr>\n",
       "      <th>0</th>\n",
       "      <td>-0.33</td>\n",
       "      <td>0.69</td>\n",
       "      <td>0</td>\n",
       "      <td>1</td>\n",
       "      <td>1</td>\n",
       "      <td>0</td>\n",
       "      <td>0.8</td>\n",
       "      <td>0</td>\n",
       "      <td>0.88</td>\n",
       "      <td>1</td>\n",
       "    </tr>\n",
       "    <tr>\n",
       "      <th>1</th>\n",
       "      <td>-0.33</td>\n",
       "      <td>0.94</td>\n",
       "      <td>1</td>\n",
       "      <td>0</td>\n",
       "      <td>1</td>\n",
       "      <td>0</td>\n",
       "      <td>0.8</td>\n",
       "      <td>1</td>\n",
       "      <td>0.31</td>\n",
       "      <td>2</td>\n",
       "    </tr>\n",
       "    <tr>\n",
       "      <th>2</th>\n",
       "      <td>-0.33</td>\n",
       "      <td>0.50</td>\n",
       "      <td>1</td>\n",
       "      <td>0</td>\n",
       "      <td>0</td>\n",
       "      <td>0</td>\n",
       "      <td>1.0</td>\n",
       "      <td>-1</td>\n",
       "      <td>0.50</td>\n",
       "      <td>1</td>\n",
       "    </tr>\n",
       "    <tr>\n",
       "      <th>3</th>\n",
       "      <td>-0.33</td>\n",
       "      <td>0.75</td>\n",
       "      <td>0</td>\n",
       "      <td>1</td>\n",
       "      <td>1</td>\n",
       "      <td>0</td>\n",
       "      <td>1.0</td>\n",
       "      <td>-1</td>\n",
       "      <td>0.38</td>\n",
       "      <td>1</td>\n",
       "    </tr>\n",
       "    <tr>\n",
       "      <th>4</th>\n",
       "      <td>-0.33</td>\n",
       "      <td>0.67</td>\n",
       "      <td>1</td>\n",
       "      <td>1</td>\n",
       "      <td>0</td>\n",
       "      <td>0</td>\n",
       "      <td>0.8</td>\n",
       "      <td>-1</td>\n",
       "      <td>0.50</td>\n",
       "      <td>2</td>\n",
       "    </tr>\n",
       "  </tbody>\n",
       "</table>\n",
       "</div>"
      ],
      "text/plain": [
       "     V1    V2  V3  V4  V5  V6   V7  V8    V9  Class\n",
       "0 -0.33  0.69   0   1   1   0  0.8   0  0.88      1\n",
       "1 -0.33  0.94   1   0   1   0  0.8   1  0.31      2\n",
       "2 -0.33  0.50   1   0   0   0  1.0  -1  0.50      1\n",
       "3 -0.33  0.75   0   1   1   0  1.0  -1  0.38      1\n",
       "4 -0.33  0.67   1   1   0   0  0.8  -1  0.50      2"
      ]
     },
     "execution_count": 3,
     "metadata": {},
     "output_type": "execute_result"
    }
   ],
   "source": [
    "print(len(df))\n",
    "df.head()"
   ]
  },
  {
   "cell_type": "code",
   "execution_count": 4,
   "metadata": {},
   "outputs": [],
   "source": [
    "#This way the rare class has value 1 (for the F-score)\n",
    "df.Class = df.Class - 1"
   ]
  },
  {
   "cell_type": "code",
   "execution_count": 5,
   "metadata": {},
   "outputs": [],
   "source": [
    "from sklearn.neural_network import MLPClassifier\n",
    "from sklearn.model_selection import StratifiedKFold, cross_val_score\n",
    "\n",
    "from smac.configspace import ConfigurationSpace\n",
    "from ConfigSpace.hyperparameters import UniformFloatHyperparameter,\\\n",
    "                                        UniformIntegerHyperparameter\n",
    "\n",
    "from smac.scenario.scenario import Scenario\n",
    "from smac.facade.smac_hpo_facade import SMAC4HPO #Random Forest\n",
    "from smac.facade.smac_bo_facade import SMAC4BO   #Bayesian\n",
    "#from smac.initial_design.random_configuration_design import RandomConfigurations\n",
    "from smac.optimizer import acquisition"
   ]
  },
  {
   "cell_type": "code",
   "execution_count": 6,
   "metadata": {},
   "outputs": [
    {
     "data": {
      "text/plain": [
       "[learning_rate_init, Type: UniformFloat, Range: [0.01, 0.1], Default: 0.055,\n",
       " momentum, Type: UniformFloat, Range: [0.1, 0.9], Default: 0.5]"
      ]
     },
     "execution_count": 6,
     "metadata": {},
     "output_type": "execute_result"
    }
   ],
   "source": [
    "#SMAC needs a Configuration Space where it will search for the hyperparameters\n",
    "cs = ConfigurationSpace()\n",
    "\n",
    "#define the domain of each hyperparameter\n",
    "lr = UniformFloatHyperparameter(\"learning_rate_init\", 0.01, 0.1)\n",
    "momentum = UniformFloatHyperparameter(\"momentum\", 0.1, 0.9)\n",
    "\n",
    "#add the hyperparameters to the configuration space\n",
    "cs.add_hyperparameters([lr, momentum])"
   ]
  },
  {
   "cell_type": "code",
   "execution_count": 7,
   "metadata": {},
   "outputs": [],
   "source": [
    "def MLP_score_1(conf: Union[Type[ConfigurationSpace], dict]) -> float:\n",
    "    \"\"\"\n",
    "    PARAMETERS\n",
    "    ----------\n",
    "    @conf   is a ConfigurationSpace Object, but it acts as a dictionary\n",
    "            so we can call a value given the key: conf['key']\n",
    "            \n",
    "    Returns\n",
    "    -------\n",
    "    @return a float value which needs to be minimized in this case cv error\n",
    "    \n",
    "    This function takes in the configuration and computes the error score\n",
    "    using CV with 10 folds\n",
    "    \"\"\"\n",
    "    \n",
    "    rseed = int(conf['momentum']*conf['learning_rate_init']*5000)\n",
    "    MLPclf = MLPClassifier(hidden_layer_sizes=(4,2,), momentum = conf['momentum'],\n",
    "                          learning_rate_init = conf['learning_rate_init'],\n",
    "                          random_state=rseed)\n",
    "    \n",
    "    skf = StratifiedKFold(n_splits=10, random_state=BIG_SEED)\n",
    "    X = df.drop('Class', axis=1).values\n",
    "    y = df.Class\n",
    "    score = cross_val_score(MLPclf, X, y, cv=skf, scoring='f1')\n",
    "    #print(conf['learning_rate_init'], conf['momentum'], np.mean(score))\n",
    "    #scores = cross_validate(MLPclf, X, y, cv=10, scoring=['accuracy','f1', 'recall', 'precision'])\n",
    "    #print(conf['learning_rate_init'], conf['momentum'], np.mean(scores['test_f1']), \n",
    "    #      np.mean(scores['test_recall']), np.mean(scores['test_precision']), np.mean(scores['test_accuracy']))\n",
    "    return 1 - np.mean(score)  # it needs to Minimize it!"
   ]
  },
  {
   "cell_type": "code",
   "execution_count": 8,
   "metadata": {},
   "outputs": [
    {
     "name": "stderr",
     "output_type": "stream",
     "text": [
      "INFO:smac.utils.io.cmd_reader.CMDReader:Output to logs\n"
     ]
    }
   ],
   "source": [
    "scenario = Scenario(scenario={\"run_obj\": \"quality\",   # we optimize quality\n",
    "                              \"runcount-limit\": 25,   # number iterations\n",
    "                              \"cs\": cs,               # configuration space\n",
    "                              \"output_dir\": \"logs\",    # create a log folder named 'logs'\n",
    "                              \"deterministic\": \"true\"})"
   ]
  },
  {
   "cell_type": "code",
   "execution_count": 9,
   "metadata": {},
   "outputs": [],
   "source": [
    "#create 5 random configuration, will be used in the optimizer\n",
    "cs.seed(BIG_SEED)\n",
    "init = cs.sample_configuration(5)\n",
    "cs.seed(None)"
   ]
  },
  {
   "cell_type": "code",
   "execution_count": 10,
   "metadata": {},
   "outputs": [
    {
     "name": "stderr",
     "output_type": "stream",
     "text": [
      "/home/pranav/anaconda3/lib/python3.7/site-packages/sklearn/externals/joblib/__init__.py:15: DeprecationWarning: sklearn.externals.joblib is deprecated in 0.21 and will be removed in 0.23. Please import this functionality directly from joblib, which can be installed with: pip install joblib. If this warning is raised when loading pickled models, you may need to re-serialize those models with scikit-learn 0.21+.\n",
      "  warnings.warn(msg, category=DeprecationWarning)\n",
      "INFO:smac.facade.smac_bo_facade.SMAC4BO:Optimizing a deterministic scenario for quality without a tuner timeout - will make SMAC deterministic and only evaluate one configuration per iteration!\n",
      "INFO:smac.initial_design.initial_design.InitialDesign:Running initial design for 5 configurations\n",
      "INFO:smac.facade.smac_bo_facade.SMAC4BO:<class 'smac.facade.smac_bo_facade.SMAC4BO'>\n"
     ]
    }
   ],
   "source": [
    "smac_LCB = SMAC4BO(scenario=scenario, tae_runner=MLP_score_1, \n",
    "                   rng=np.random.RandomState(BIG_SEED),\n",
    "                   initial_design=None, \n",
    "                   initial_design_kwargs={'max_config_fracs':5/25},\n",
    "                   initial_configurations=init, \n",
    "                   acquisition_function=acquisition.LCB)"
   ]
  },
  {
   "cell_type": "code",
   "execution_count": 11,
   "metadata": {
    "scrolled": true
   },
   "outputs": [
    {
     "name": "stderr",
     "output_type": "stream",
     "text": [
      "INFO:smac.intensification.intensification.Intensifier:Challenger (0.9333) is better than incumbent (0.9500) on 1 runs.\n",
      "INFO:smac.intensification.intensification.Intensifier:Changes in incumbent:\n",
      "INFO:smac.intensification.intensification.Intensifier:  learning_rate_init : 0.08028135089132196 -> 0.04430300876374074\n",
      "INFO:smac.intensification.intensification.Intensifier:  momentum : 0.38552141981754795 -> 0.8696975470069911\n",
      "INFO:smac.intensification.intensification.Intensifier:Challenger (0.8933) is better than incumbent (0.9333) on 1 runs.\n",
      "INFO:smac.intensification.intensification.Intensifier:Changes in incumbent:\n",
      "INFO:smac.intensification.intensification.Intensifier:  learning_rate_init : 0.04430300876374074 -> 0.0845773877536592\n",
      "INFO:smac.intensification.intensification.Intensifier:  momentum : 0.8696975470069911 -> 0.3849918837749665\n",
      "INFO:smac.intensification.intensification.Intensifier:Challenger (0.7833) is better than incumbent (0.8933) on 1 runs.\n",
      "INFO:smac.intensification.intensification.Intensifier:Changes in incumbent:\n",
      "INFO:smac.intensification.intensification.Intensifier:  learning_rate_init : 0.0845773877536592 -> 0.0803514512536536\n",
      "INFO:smac.intensification.intensification.Intensifier:  momentum : 0.3849918837749665 -> 0.7548643234302469\n",
      "INFO:smac.intensification.intensification.Intensifier:Updated estimated cost of incumbent on 1 runs: 0.7833\n",
      "INFO:smac.intensification.intensification.Intensifier:Updated estimated cost of incumbent on 1 runs: 0.7833\n",
      "INFO:smac.intensification.intensification.Intensifier:Updated estimated cost of incumbent on 1 runs: 0.7833\n",
      "INFO:smac.intensification.intensification.Intensifier:Updated estimated cost of incumbent on 1 runs: 0.7833\n",
      "INFO:smac.intensification.intensification.Intensifier:Updated estimated cost of incumbent on 1 runs: 0.7833\n",
      "INFO:smac.intensification.intensification.Intensifier:Challenger (0.7333) is better than incumbent (0.7833) on 1 runs.\n",
      "INFO:smac.intensification.intensification.Intensifier:Changes in incumbent:\n",
      "INFO:smac.intensification.intensification.Intensifier:  learning_rate_init : 0.0803514512536536 -> 0.0804836009015359\n",
      "INFO:smac.intensification.intensification.Intensifier:  momentum : 0.7548643234302469 -> 0.7548224669931656\n",
      "INFO:smac.intensification.intensification.Intensifier:Updated estimated cost of incumbent on 1 runs: 0.7333\n",
      "INFO:smac.intensification.intensification.Intensifier:Updated estimated cost of incumbent on 1 runs: 0.7333\n",
      "INFO:smac.intensification.intensification.Intensifier:Updated estimated cost of incumbent on 1 runs: 0.7333\n",
      "INFO:smac.intensification.intensification.Intensifier:Updated estimated cost of incumbent on 1 runs: 0.7333\n",
      "INFO:smac.intensification.intensification.Intensifier:Updated estimated cost of incumbent on 1 runs: 0.7333\n",
      "INFO:smac.intensification.intensification.Intensifier:Updated estimated cost of incumbent on 1 runs: 0.7333\n",
      "INFO:smac.intensification.intensification.Intensifier:Updated estimated cost of incumbent on 1 runs: 0.7333\n",
      "INFO:smac.intensification.intensification.Intensifier:Updated estimated cost of incumbent on 1 runs: 0.7333\n",
      "INFO:smac.intensification.intensification.Intensifier:Updated estimated cost of incumbent on 1 runs: 0.7333\n",
      "INFO:smac.intensification.intensification.Intensifier:Updated estimated cost of incumbent on 1 runs: 0.7333\n",
      "INFO:smac.intensification.intensification.Intensifier:Challenger (0.7267) is better than incumbent (0.7333) on 1 runs.\n",
      "INFO:smac.intensification.intensification.Intensifier:Changes in incumbent:\n",
      "INFO:smac.intensification.intensification.Intensifier:  learning_rate_init : 0.0804836009015359 -> 0.08043584076753907\n",
      "INFO:smac.intensification.intensification.Intensifier:  momentum : 0.7548224669931656 -> 0.753838934141814\n",
      "INFO:smac.intensification.intensification.Intensifier:Updated estimated cost of incumbent on 1 runs: 0.7267\n",
      "INFO:smac.intensification.intensification.Intensifier:Updated estimated cost of incumbent on 1 runs: 0.7267\n",
      "INFO:smac.intensification.intensification.Intensifier:Updated estimated cost of incumbent on 1 runs: 0.7267\n",
      "INFO:smac.intensification.intensification.Intensifier:Updated estimated cost of incumbent on 1 runs: 0.7267\n",
      "INFO:smac.intensification.intensification.Intensifier:Updated estimated cost of incumbent on 1 runs: 0.7267\n",
      "INFO:smac.intensification.intensification.Intensifier:Updated estimated cost of incumbent on 1 runs: 0.7267\n",
      "INFO:smac.stats.stats.Stats:##########################################################\n",
      "INFO:smac.stats.stats.Stats:Statistics:\n",
      "INFO:smac.stats.stats.Stats:#Incumbent changed: 5\n",
      "INFO:smac.stats.stats.Stats:#Target algorithm runs: 25 / 25.0\n",
      "INFO:smac.stats.stats.Stats:#Configurations: 25\n",
      "INFO:smac.stats.stats.Stats:Used wallclock time: 94.09 / inf sec \n",
      "INFO:smac.stats.stats.Stats:Used target algorithm runtime: 22.69 / inf sec\n",
      "INFO:smac.stats.stats.Stats:##########################################################\n",
      "INFO:smac.facade.smac_bo_facade.SMAC4BO:Final Incumbent: Configuration:\n",
      "  learning_rate_init, Value: 0.08043584076753907\n",
      "  momentum, Value: 0.753838934141814\n",
      "\n",
      "INFO:smac.facade.smac_bo_facade.SMAC4BO:Estimated cost of incumbent: 0.726667\n"
     ]
    }
   ],
   "source": [
    "result_LCB = smac_LCB.optimize()"
   ]
  },
  {
   "cell_type": "code",
   "execution_count": 12,
   "metadata": {},
   "outputs": [
    {
     "data": {
      "text/plain": [
       "[<matplotlib.lines.Line2D at 0x7f52b6b1d2d0>]"
      ]
     },
     "execution_count": 12,
     "metadata": {},
     "output_type": "execute_result"
    },
    {
     "data": {
      "image/png": "[encoded data removed]",
      "text/plain": [
       "<Figure size 432x288 with 1 Axes>"
      ]
     },
     "metadata": {
      "needs_background": "light"
     },
     "output_type": "display_data"
    }
   ],
   "source": [
    "plt.plot(smac_LCB.get_X_y()[1])"
   ]
  },
  {
   "cell_type": "code",
   "execution_count": 13,
   "metadata": {},
   "outputs": [
    {
     "name": "stderr",
     "output_type": "stream",
     "text": [
      "INFO:smac.facade.smac_bo_facade.SMAC4BO:Optimizing a deterministic scenario for quality without a tuner timeout - will make SMAC deterministic and only evaluate one configuration per iteration!\n",
      "INFO:smac.initial_design.initial_design.InitialDesign:Running initial design for 5 configurations\n",
      "INFO:smac.facade.smac_bo_facade.SMAC4BO:<class 'smac.facade.smac_bo_facade.SMAC4BO'>\n"
     ]
    }
   ],
   "source": [
    "smac_EI = SMAC4BO(scenario=scenario, tae_runner=MLP_score_1, \n",
    "                  rng=np.random.RandomState(BIG_SEED),\n",
    "                  #initial_design=RandomConfigurations, \n",
    "                  #initial_design_kwargs={'rng':np.random.RandomState(2) ,'max_config_fracs':5/25},\n",
    "                  initial_design=None,\n",
    "                  initial_design_kwargs={'max_config_fracs':5/25},\n",
    "                  initial_configurations=init, \n",
    "                  acquisition_function=acquisition.EI)"
   ]
  },
  {
   "cell_type": "code",
   "execution_count": 14,
   "metadata": {},
   "outputs": [
    {
     "name": "stdout",
     "output_type": "stream",
     "text": [
      "lr momentum f1 recall precision\n"
     ]
    },
    {
     "name": "stderr",
     "output_type": "stream",
     "text": [
      "INFO:smac.intensification.intensification.Intensifier:Challenger (0.9333) is better than incumbent (0.9500) on 1 runs.\n",
      "INFO:smac.intensification.intensification.Intensifier:Changes in incumbent:\n",
      "INFO:smac.intensification.intensification.Intensifier:  learning_rate_init : 0.08028135089132196 -> 0.04430300876374074\n",
      "INFO:smac.intensification.intensification.Intensifier:  momentum : 0.38552141981754795 -> 0.8696975470069911\n",
      "INFO:smac.intensification.intensification.Intensifier:Challenger (0.8933) is better than incumbent (0.9333) on 1 runs.\n",
      "INFO:smac.intensification.intensification.Intensifier:Changes in incumbent:\n",
      "INFO:smac.intensification.intensification.Intensifier:  learning_rate_init : 0.04430300876374074 -> 0.0845773877536592\n",
      "INFO:smac.intensification.intensification.Intensifier:  momentum : 0.8696975470069911 -> 0.3849918837749665\n",
      "INFO:smac.intensification.intensification.Intensifier:Challenger (0.7833) is better than incumbent (0.8933) on 1 runs.\n",
      "INFO:smac.intensification.intensification.Intensifier:Changes in incumbent:\n",
      "INFO:smac.intensification.intensification.Intensifier:  learning_rate_init : 0.0845773877536592 -> 0.0803514512536536\n",
      "INFO:smac.intensification.intensification.Intensifier:  momentum : 0.3849918837749665 -> 0.7548643234302469\n",
      "INFO:smac.intensification.intensification.Intensifier:Updated estimated cost of incumbent on 1 runs: 0.7833\n",
      "INFO:smac.intensification.intensification.Intensifier:Challenger (0.7333) is better than incumbent (0.7833) on 1 runs.\n",
      "INFO:smac.intensification.intensification.Intensifier:Changes in incumbent:\n",
      "INFO:smac.intensification.intensification.Intensifier:  learning_rate_init : 0.0803514512536536 -> 0.08048652736413923\n",
      "INFO:smac.intensification.intensification.Intensifier:  momentum : 0.7548643234302469 -> 0.7541216100085569\n",
      "INFO:smac.intensification.intensification.Intensifier:Updated estimated cost of incumbent on 1 runs: 0.7333\n",
      "INFO:smac.intensification.intensification.Intensifier:Updated estimated cost of incumbent on 1 runs: 0.7333\n",
      "INFO:smac.intensification.intensification.Intensifier:Updated estimated cost of incumbent on 1 runs: 0.7333\n",
      "INFO:smac.intensification.intensification.Intensifier:Challenger (0.6933) is better than incumbent (0.7333) on 1 runs.\n",
      "INFO:smac.intensification.intensification.Intensifier:Changes in incumbent:\n",
      "INFO:smac.intensification.intensification.Intensifier:  learning_rate_init : 0.08048652736413923 -> 0.08053664158567593\n",
      "INFO:smac.intensification.intensification.Intensifier:  momentum : 0.7541216100085569 -> 0.7539525132168661\n",
      "INFO:smac.intensification.intensification.Intensifier:Updated estimated cost of incumbent on 1 runs: 0.6933\n",
      "INFO:smac.intensification.intensification.Intensifier:Updated estimated cost of incumbent on 1 runs: 0.6933\n",
      "INFO:smac.intensification.intensification.Intensifier:Updated estimated cost of incumbent on 1 runs: 0.6933\n",
      "INFO:smac.intensification.intensification.Intensifier:Updated estimated cost of incumbent on 1 runs: 0.6933\n",
      "INFO:smac.intensification.intensification.Intensifier:Updated estimated cost of incumbent on 1 runs: 0.6933\n",
      "INFO:smac.intensification.intensification.Intensifier:Updated estimated cost of incumbent on 1 runs: 0.6933\n",
      "INFO:smac.intensification.intensification.Intensifier:Updated estimated cost of incumbent on 1 runs: 0.6933\n",
      "INFO:smac.intensification.intensification.Intensifier:Updated estimated cost of incumbent on 1 runs: 0.6933\n",
      "INFO:smac.intensification.intensification.Intensifier:Updated estimated cost of incumbent on 1 runs: 0.6933\n",
      "INFO:smac.intensification.intensification.Intensifier:Updated estimated cost of incumbent on 1 runs: 0.6933\n",
      "INFO:smac.intensification.intensification.Intensifier:Updated estimated cost of incumbent on 1 runs: 0.6933\n",
      "INFO:smac.intensification.intensification.Intensifier:Updated estimated cost of incumbent on 1 runs: 0.6933\n",
      "INFO:smac.intensification.intensification.Intensifier:Updated estimated cost of incumbent on 1 runs: 0.6933\n",
      "INFO:smac.intensification.intensification.Intensifier:Updated estimated cost of incumbent on 1 runs: 0.6933\n",
      "INFO:smac.intensification.intensification.Intensifier:Updated estimated cost of incumbent on 1 runs: 0.6933\n",
      "INFO:smac.intensification.intensification.Intensifier:Updated estimated cost of incumbent on 1 runs: 0.6933\n",
      "INFO:smac.intensification.intensification.Intensifier:Updated estimated cost of incumbent on 1 runs: 0.6933\n",
      "INFO:smac.stats.stats.Stats:##########################################################\n",
      "INFO:smac.stats.stats.Stats:Statistics:\n",
      "INFO:smac.stats.stats.Stats:#Incumbent changed: 5\n",
      "INFO:smac.stats.stats.Stats:#Target algorithm runs: 25 / 25.0\n",
      "INFO:smac.stats.stats.Stats:#Configurations: 25\n",
      "INFO:smac.stats.stats.Stats:Used wallclock time: 99.91 / inf sec \n",
      "INFO:smac.stats.stats.Stats:Used target algorithm runtime: 25.23 / inf sec\n",
      "INFO:smac.stats.stats.Stats:##########################################################\n",
      "INFO:smac.facade.smac_bo_facade.SMAC4BO:Final Incumbent: Configuration:\n",
      "  learning_rate_init, Value: 0.08053664158567593\n",
      "  momentum, Value: 0.7539525132168661\n",
      "\n",
      "INFO:smac.facade.smac_bo_facade.SMAC4BO:Estimated cost of incumbent: 0.693333\n"
     ]
    }
   ],
   "source": [
    "print('lr', 'momentum', 'f1', 'recall', 'precision')\n",
    "result_EI = smac_EI.optimize()"
   ]
  },
  {
   "cell_type": "code",
   "execution_count": 15,
   "metadata": {},
   "outputs": [
    {
     "data": {
      "text/plain": [
       "[<matplotlib.lines.Line2D at 0x7f52b44dd8d0>]"
      ]
     },
     "execution_count": 15,
     "metadata": {},
     "output_type": "execute_result"
    },
    {
     "data": {
      "image/png": "[encoded data removed]",
      "text/plain": [
       "<Figure size 432x288 with 1 Axes>"
      ]
     },
     "metadata": {
      "needs_background": "light"
     },
     "output_type": "display_data"
    }
   ],
   "source": [
    "plt.plot(smac_EI.get_X_y()[1])"
   ]
  },
  {
   "cell_type": "code",
   "execution_count": 16,
   "metadata": {},
   "outputs": [
    {
     "data": {
      "image/png": "[encoded data removed]",
      "text/plain": [
       "<Figure size 1080x360 with 1 Axes>"
      ]
     },
     "metadata": {
      "needs_background": "light"
     },
     "output_type": "display_data"
    }
   ],
   "source": [
    "plt.figure(figsize=(15,5))\n",
    "plt.plot(1-np.minimum.accumulate(smac_LCB.get_X_y()[1])[4:], 'o-') #0,1,2,3,4 sono i punti iniziali\n",
    "plt.plot(1-np.minimum.accumulate(smac_EI.get_X_y()[1])[4:], 'o-')\n",
    "plt.legend(['LCB','EI'])\n",
    "plt.ylabel('F1-Score')\n",
    "plt.xlabel('Iterations')\n",
    "plt.show()"
   ]
  }
 ],
 "metadata": {
  "kernelspec": {
   "display_name": "Python 3",
   "language": "python",
   "name": "python3"
  },
  "language_info": {
   "codemirror_mode": {
    "name": "ipython",
    "version": 3
   },
   "file_extension": ".py",
   "mimetype": "text/x-python",
   "name": "python",
   "nbconvert_exporter": "python",
   "pygments_lexer": "ipython3",
   "version": "3.7.5"
  }
 },
 "nbformat": 4,
 "nbformat_minor": 2
}
