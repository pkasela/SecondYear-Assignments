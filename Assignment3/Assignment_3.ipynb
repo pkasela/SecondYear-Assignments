{
 "cells": [
  {
   "cell_type": "markdown",
   "metadata": {
    "colab_type": "text",
    "id": "OIyhcXlpAhcq"
   },
   "source": [
    "# MNIST Dataset"
   ]
  },
  {
   "cell_type": "code",
   "execution_count": 1,
   "metadata": {
    "colab": {
     "base_uri": "https://localhost:8080/",
     "height": 64
    },
    "colab_type": "code",
    "id": "plkebQ1yAhcy",
    "outputId": "4055f546-7dec-4844-e644-e5720686b30b"
   },
   "outputs": [
    {
     "data": {
      "text/html": [
       "<p style=\"color: red;\">\n",
       "The default version of TensorFlow in Colab will soon switch to TensorFlow 2.x.<br>\n",
       "We recommend you <a href=\"https://www.tensorflow.org/guide/migrate\" target=\"_blank\">upgrade</a> now \n",
       "or ensure your notebook will continue to use TensorFlow 1.x via the <code>%tensorflow_version 1.x</code> magic:\n",
       "<a href=\"https://colab.research.google.com/notebooks/tensorflow_version.ipynb\" target=\"_blank\">more info</a>.</p>\n"
      ],
      "text/plain": [
       "<IPython.core.display.HTML object>"
      ]
     },
     "metadata": {
      "tags": []
     },
     "output_type": "display_data"
    }
   ],
   "source": [
    "import pickle\n",
    "import matplotlib.pyplot as plt\n",
    "import numpy as np\n",
    "import pandas as pd\n",
    "import seaborn as sns\n",
    "\n",
    "from sklearn.metrics import classification_report, confusion_matrix\n",
    "from sklearn.model_selection import train_test_split\n",
    "\n",
    "from tensorflow.keras.datasets import mnist\n",
    "from tensorflow.keras.models import Model\n",
    "from tensorflow.keras.layers import Dense, Dropout, Input, Conv2D, Flatten,\\\n",
    "                                    MaxPooling2D, BatchNormalization\n",
    "from tensorflow.keras.utils import to_categorical\n",
    "from tensorflow.keras.callbacks import EarlyStopping, ReduceLROnPlateau\n",
    "from tensorflow.keras.optimizers import Adam, SGD, Adadelta\n",
    "\n",
    "early = EarlyStopping(monitor='val_loss', patience=10, verbose=1)\n",
    "lr_decay = ReduceLROnPlateau(monitor='val_loss', \n",
    "                             patience=3, verbose=1, \n",
    "                             factor=0.8, min_lr=3e-4)\n",
    "%matplotlib inline"
   ]
  },
  {
   "cell_type": "code",
   "execution_count": 2,
   "metadata": {
    "code_folding": [],
    "colab": {
     "base_uri": "https://localhost:8080/",
     "height": 52
    },
    "colab_type": "code",
    "id": "9ef9N5EZAhc9",
    "outputId": "faa8fe2c-4eb3-465c-9a91-af38740b1bda"
   },
   "outputs": [
    {
     "name": "stdout",
     "output_type": "stream",
     "text": [
      "Downloading data from https://storage.googleapis.com/tensorflow/tf-keras-datasets/mnist.npz\n",
      "11493376/11490434 [==============================] - 0s 0us/step\n"
     ]
    }
   ],
   "source": [
    "# Load the datasets\n",
    "(X_train, y_train), (X_test, y_test) = mnist.load_data()\n",
    "#categorize t\n",
    "n_classes = len(np.unique(y_train)) #10\n",
    "X_train, X_val, y_train, y_val = train_test_split(X_train, y_train, test_size=0.2)\n",
    "y_train_cat = to_categorical(y_train, num_classes=n_classes)\n",
    "y_val_cat = to_categorical(y_val, num_classes=n_classes)\n",
    "y_test_cat = to_categorical(y_test, num_classes=n_classes)\n",
    "#reshape X\n",
    "X_train = X_train.reshape(len(X_train),28,28,1)\n",
    "X_val = X_val.reshape(len(X_val),28,28,1)\n",
    "X_test = X_test.reshape(len(X_test),28,28,1)"
   ]
  },
  {
   "cell_type": "code",
   "execution_count": 3,
   "metadata": {
    "colab": {
     "base_uri": "https://localhost:8080/",
     "height": 265
    },
    "colab_type": "code",
    "id": "Agn48yew1uCB",
    "outputId": "0bd1e7be-6286-4589-8361-44348a1e9729"
   },
   "outputs": [
    {
     "data": {
      "image/png": "[encoded data removed]",
      "text/plain": [
       "<Figure size 432x288 with 1 Axes>"
      ]
     },
     "metadata": {
      "tags": []
     },
     "output_type": "display_data"
    }
   ],
   "source": [
    "#classi bilanciate\n",
    "sns.countplot(y_train)\n",
    "plt.show()"
   ]
  },
  {
   "cell_type": "code",
   "execution_count": 0,
   "metadata": {
    "colab": {},
    "colab_type": "code",
    "id": "J1Vyw3LS71M5"
   },
   "outputs": [],
   "source": [
    "def plot_history(network_history, metric='acc'):\n",
    "    plt.figure(figsize=(15,7))\n",
    "    ax1 = plt.subplot(121)\n",
    "    plt.xlabel('Epochs')\n",
    "    plt.ylabel('Loss')\n",
    "    ax1.plot(network_history.history['loss'])\n",
    "    ax1.plot(network_history.history['val_loss'])\n",
    "    ax1.legend(['Training', 'Validation'])\n",
    "\n",
    "    ax2 = plt.subplot(122)\n",
    "    plt.xlabel('Epochs')\n",
    "    plt.ylabel('Accuracy')\n",
    "    ax2.plot(network_history.history[metric])\n",
    "    ax2.plot(network_history.history['val_'+metric])\n",
    "    ax2.legend(['Training', 'Validation'], loc='lower right')\n",
    "    plt.show()"
   ]
  },
  {
   "cell_type": "markdown",
   "metadata": {
    "colab_type": "text",
    "id": "9nPJX-8FYTGx"
   },
   "source": [
    "# ANN Model"
   ]
  },
  {
   "cell_type": "code",
   "execution_count": 5,
   "metadata": {
    "colab": {
     "base_uri": "https://localhost:8080/",
     "height": 332
    },
    "colab_type": "code",
    "id": "liUcrB1IYRYK",
    "outputId": "91e4e6a1-4105-43a3-cf76-7158e69ef4ef"
   },
   "outputs": [
    {
     "name": "stdout",
     "output_type": "stream",
     "text": [
      "WARNING:tensorflow:From /usr/local/lib/python3.6/dist-packages/tensorflow_core/python/ops/resource_variable_ops.py:1630: calling BaseResourceVariable.__init__ (from tensorflow.python.ops.resource_variable_ops) with constraint is deprecated and will be removed in a future version.\n",
      "Instructions for updating:\n",
      "If using Keras pass *_constraint arguments to layers.\n",
      "Model: \"model\"\n",
      "_________________________________________________________________\n",
      "Layer (type)                 Output Shape              Param #   \n",
      "=================================================================\n",
      "input_1 (InputLayer)         [(None, 28, 28, 1)]       0         \n",
      "_________________________________________________________________\n",
      "flatten (Flatten)            (None, 784)               0         \n",
      "_________________________________________________________________\n",
      "dense (Dense)                (None, 10)                7850      \n",
      "=================================================================\n",
      "Total params: 7,850\n",
      "Trainable params: 7,850\n",
      "Non-trainable params: 0\n",
      "_________________________________________________________________\n"
     ]
    }
   ],
   "source": [
    "input_layer = Input(shape=(28,28,1))\n",
    "l = Flatten()(input_layer)\n",
    "output = Dense(n_classes, activation='softmax')(l)\n",
    "model = Model(input_layer, output)\n",
    "model.compile(loss='categorical_crossentropy',optimizer=Adam(), metrics=['accuracy'])\n",
    "model.summary()"
   ]
  },
  {
   "cell_type": "code",
   "execution_count": 6,
   "metadata": {
    "colab": {
     "base_uri": "https://localhost:8080/",
     "height": 1000
    },
    "colab_type": "code",
    "id": "kdj38fpMYf22",
    "outputId": "d21b0ffc-512c-4303-8316-689e01a394bb"
   },
   "outputs": [
    {
     "name": "stdout",
     "output_type": "stream",
     "text": [
      "Train on 48000 samples, validate on 12000 samples\n",
      "Epoch 1/50\n",
      "48000/48000 [==============================] - 1s 25us/sample - loss: 17.3685 - acc: 0.7545 - val_loss: 6.9439 - val_acc: 0.8574\n",
      "Epoch 2/50\n",
      "48000/48000 [==============================] - 1s 11us/sample - loss: 5.9635 - acc: 0.8651 - val_loss: 5.2735 - val_acc: 0.8707\n",
      "Epoch 3/50\n",
      "48000/48000 [==============================] - 0s 10us/sample - loss: 4.6511 - acc: 0.8769 - val_loss: 4.4823 - val_acc: 0.8773\n",
      "Epoch 4/50\n",
      "48000/48000 [==============================] - 0s 10us/sample - loss: 3.9177 - acc: 0.8828 - val_loss: 3.8763 - val_acc: 0.8844\n",
      "Epoch 5/50\n",
      "48000/48000 [==============================] - 0s 10us/sample - loss: 3.4800 - acc: 0.8845 - val_loss: 3.5721 - val_acc: 0.8836\n",
      "Epoch 6/50\n",
      "48000/48000 [==============================] - 1s 11us/sample - loss: 3.1174 - acc: 0.8867 - val_loss: 3.2073 - val_acc: 0.8901\n",
      "Epoch 7/50\n",
      "48000/48000 [==============================] - 0s 10us/sample - loss: 2.8217 - acc: 0.8909 - val_loss: 3.1900 - val_acc: 0.8802\n",
      "Epoch 8/50\n",
      "48000/48000 [==============================] - 1s 11us/sample - loss: 2.5247 - acc: 0.8915 - val_loss: 2.9395 - val_acc: 0.8834\n",
      "Epoch 9/50\n",
      "48000/48000 [==============================] - 1s 11us/sample - loss: 2.3654 - acc: 0.8920 - val_loss: 3.0930 - val_acc: 0.8738\n",
      "Epoch 10/50\n",
      "48000/48000 [==============================] - 1s 11us/sample - loss: 2.3378 - acc: 0.8907 - val_loss: 2.7256 - val_acc: 0.8887\n",
      "Epoch 11/50\n",
      "48000/48000 [==============================] - 1s 10us/sample - loss: 2.2081 - acc: 0.8935 - val_loss: 2.6594 - val_acc: 0.8870\n",
      "Epoch 12/50\n",
      "48000/48000 [==============================] - 1s 11us/sample - loss: 2.0162 - acc: 0.8970 - val_loss: 2.5155 - val_acc: 0.8854\n",
      "Epoch 13/50\n",
      "48000/48000 [==============================] - 0s 10us/sample - loss: 2.0285 - acc: 0.8951 - val_loss: 2.9691 - val_acc: 0.8683\n",
      "Epoch 14/50\n",
      "48000/48000 [==============================] - 0s 10us/sample - loss: 2.0121 - acc: 0.8945 - val_loss: 2.4320 - val_acc: 0.8903\n",
      "Epoch 15/50\n",
      "48000/48000 [==============================] - 0s 10us/sample - loss: 1.8662 - acc: 0.8969 - val_loss: 2.8370 - val_acc: 0.8655\n",
      "Epoch 16/50\n",
      "48000/48000 [==============================] - 0s 10us/sample - loss: 1.8476 - acc: 0.8968 - val_loss: 2.4737 - val_acc: 0.8838\n",
      "Epoch 17/50\n",
      "48000/48000 [==============================] - 0s 10us/sample - loss: 1.8320 - acc: 0.8967 - val_loss: 2.3249 - val_acc: 0.8888\n",
      "Epoch 18/50\n",
      "48000/48000 [==============================] - 0s 10us/sample - loss: 1.7655 - acc: 0.8980 - val_loss: 2.5120 - val_acc: 0.8810\n",
      "Epoch 19/50\n",
      "48000/48000 [==============================] - 0s 10us/sample - loss: 1.7030 - acc: 0.8983 - val_loss: 2.3058 - val_acc: 0.8867\n",
      "Epoch 20/50\n",
      "48000/48000 [==============================] - 0s 10us/sample - loss: 1.8350 - acc: 0.8943 - val_loss: 2.2140 - val_acc: 0.8932\n",
      "Epoch 21/50\n",
      "48000/48000 [==============================] - 0s 10us/sample - loss: 1.6289 - acc: 0.8993 - val_loss: 2.1919 - val_acc: 0.8943\n",
      "Epoch 22/50\n",
      "48000/48000 [==============================] - 0s 10us/sample - loss: 1.6416 - acc: 0.8975 - val_loss: 2.4217 - val_acc: 0.8766\n",
      "Epoch 23/50\n",
      "48000/48000 [==============================] - 0s 10us/sample - loss: 1.6689 - acc: 0.8959 - val_loss: 2.3106 - val_acc: 0.8952\n",
      "Epoch 24/50\n",
      "46848/48000 [============================>.] - ETA: 0s - loss: 1.6191 - acc: 0.9005\n",
      "Epoch 00024: ReduceLROnPlateau reducing learning rate to 0.000800000037997961.\n",
      "48000/48000 [==============================] - 1s 11us/sample - loss: 1.6319 - acc: 0.9004 - val_loss: 2.2655 - val_acc: 0.8910\n",
      "Epoch 25/50\n",
      "48000/48000 [==============================] - 0s 10us/sample - loss: 1.4298 - acc: 0.9032 - val_loss: 1.9742 - val_acc: 0.8960\n",
      "Epoch 26/50\n",
      "48000/48000 [==============================] - 1s 10us/sample - loss: 1.3294 - acc: 0.9030 - val_loss: 2.0817 - val_acc: 0.8851\n",
      "Epoch 27/50\n",
      "48000/48000 [==============================] - 1s 11us/sample - loss: 1.3574 - acc: 0.9020 - val_loss: 2.0063 - val_acc: 0.8900\n",
      "Epoch 28/50\n",
      "47360/48000 [============================>.] - ETA: 0s - loss: 1.3226 - acc: 0.9022\n",
      "Epoch 00028: ReduceLROnPlateau reducing learning rate to 0.0006400000303983689.\n",
      "48000/48000 [==============================] - 1s 11us/sample - loss: 1.3260 - acc: 0.9024 - val_loss: 2.0749 - val_acc: 0.8857\n",
      "Epoch 29/50\n",
      "48000/48000 [==============================] - 0s 10us/sample - loss: 1.1371 - acc: 0.9069 - val_loss: 1.7422 - val_acc: 0.8985\n",
      "Epoch 30/50\n",
      "48000/48000 [==============================] - 0s 10us/sample - loss: 1.0850 - acc: 0.9079 - val_loss: 1.9399 - val_acc: 0.8763\n",
      "Epoch 31/50\n",
      "48000/48000 [==============================] - 1s 11us/sample - loss: 1.1247 - acc: 0.9038 - val_loss: 1.9336 - val_acc: 0.8848\n",
      "Epoch 32/50\n",
      "42496/48000 [=========================>....] - ETA: 0s - loss: 1.1022 - acc: 0.9056\n",
      "Epoch 00032: ReduceLROnPlateau reducing learning rate to 0.0005120000336319208.\n",
      "48000/48000 [==============================] - 0s 10us/sample - loss: 1.1278 - acc: 0.9038 - val_loss: 1.8202 - val_acc: 0.8932\n",
      "Epoch 33/50\n",
      "48000/48000 [==============================] - 0s 10us/sample - loss: 1.0052 - acc: 0.9100 - val_loss: 1.6695 - val_acc: 0.8931\n",
      "Epoch 34/50\n",
      "48000/48000 [==============================] - 1s 10us/sample - loss: 0.9588 - acc: 0.9068 - val_loss: 1.8430 - val_acc: 0.8828\n",
      "Epoch 35/50\n",
      "48000/48000 [==============================] - 0s 10us/sample - loss: 0.9347 - acc: 0.9090 - val_loss: 1.6614 - val_acc: 0.8894\n",
      "Epoch 36/50\n",
      "48000/48000 [==============================] - 1s 10us/sample - loss: 0.9469 - acc: 0.9062 - val_loss: 1.6856 - val_acc: 0.8847\n",
      "Epoch 37/50\n",
      "48000/48000 [==============================] - 0s 10us/sample - loss: 0.9243 - acc: 0.9065 - val_loss: 1.6620 - val_acc: 0.8754\n",
      "Epoch 38/50\n",
      "48000/48000 [==============================] - 0s 10us/sample - loss: 0.8690 - acc: 0.9094 - val_loss: 1.5752 - val_acc: 0.8849\n",
      "Epoch 39/50\n",
      "48000/48000 [==============================] - 0s 10us/sample - loss: 0.8843 - acc: 0.9070 - val_loss: 1.5493 - val_acc: 0.8867\n",
      "Epoch 40/50\n",
      "48000/48000 [==============================] - 0s 10us/sample - loss: 0.8784 - acc: 0.9055 - val_loss: 1.5436 - val_acc: 0.8981\n",
      "Epoch 41/50\n",
      "48000/48000 [==============================] - 0s 10us/sample - loss: 0.8501 - acc: 0.9095 - val_loss: 1.5821 - val_acc: 0.8879\n",
      "Epoch 42/50\n",
      "48000/48000 [==============================] - 0s 10us/sample - loss: 0.9361 - acc: 0.9014 - val_loss: 1.5971 - val_acc: 0.8885\n",
      "Epoch 43/50\n",
      "48000/48000 [==============================] - 0s 10us/sample - loss: 0.8583 - acc: 0.9096 - val_loss: 1.4823 - val_acc: 0.8947\n",
      "Epoch 44/50\n",
      "48000/48000 [==============================] - 0s 10us/sample - loss: 0.8696 - acc: 0.9054 - val_loss: 1.5243 - val_acc: 0.8897\n",
      "Epoch 45/50\n",
      "48000/48000 [==============================] - 0s 10us/sample - loss: 0.8873 - acc: 0.9058 - val_loss: 1.5357 - val_acc: 0.8949\n",
      "Epoch 46/50\n",
      "42496/48000 [=========================>....] - ETA: 0s - loss: 0.8275 - acc: 0.9086\n",
      "Epoch 00046: ReduceLROnPlateau reducing learning rate to 0.00040960004553198815.\n",
      "48000/48000 [==============================] - 1s 11us/sample - loss: 0.8462 - acc: 0.9073 - val_loss: 1.7656 - val_acc: 0.8702\n",
      "Epoch 47/50\n",
      "48000/48000 [==============================] - 1s 11us/sample - loss: 0.7391 - acc: 0.9143 - val_loss: 1.3932 - val_acc: 0.8885\n",
      "Epoch 48/50\n",
      "48000/48000 [==============================] - 1s 11us/sample - loss: 0.7352 - acc: 0.9104 - val_loss: 1.4019 - val_acc: 0.8890\n",
      "Epoch 49/50\n",
      "48000/48000 [==============================] - 0s 10us/sample - loss: 0.7372 - acc: 0.9077 - val_loss: 1.3182 - val_acc: 0.8953\n",
      "Epoch 50/50\n",
      "48000/48000 [==============================] - 0s 10us/sample - loss: 0.7104 - acc: 0.9109 - val_loss: 1.4031 - val_acc: 0.8842\n"
     ]
    },
    {
     "data": {
      "image/png": "[encoded data removed]",
      "text/plain": [
       "<Figure size 1080x504 with 2 Axes>"
      ]
     },
     "metadata": {
      "tags": []
     },
     "output_type": "display_data"
    }
   ],
   "source": [
    "history = model.fit(X_train, y_train_cat, validation_data=(X_val, y_val_cat), \n",
    "                    epochs = 50, batch_size=256, verbose=1,\n",
    "                    callbacks=[lr_decay, early])\n",
    "plot_history(history)"
   ]
  },
  {
   "cell_type": "code",
   "execution_count": 7,
   "metadata": {
    "colab": {
     "base_uri": "https://localhost:8080/",
     "height": 330
    },
    "colab_type": "code",
    "id": "aIzsf_M2Ylu3",
    "outputId": "8e6e8886-3e73-4277-a3bc-d952499fe48f"
   },
   "outputs": [
    {
     "name": "stdout",
     "output_type": "stream",
     "text": [
      "In Testing\n",
      "              precision    recall  f1-score   support\n",
      "\n",
      "           0     0.9601    0.9582    0.9591       980\n",
      "           1     0.9829    0.9128    0.9466      1135\n",
      "           2     0.8835    0.8963    0.8899      1032\n",
      "           3     0.7506    0.9238    0.8282      1010\n",
      "           4     0.8932    0.9196    0.9062       982\n",
      "           5     0.8664    0.8576    0.8620       892\n",
      "           6     0.9440    0.9154    0.9295       958\n",
      "           7     0.8685    0.9125    0.8899      1028\n",
      "           8     0.8354    0.7710    0.8019       974\n",
      "           9     0.9212    0.7998    0.8562      1009\n",
      "\n",
      "    accuracy                         0.8874     10000\n",
      "   macro avg     0.8906    0.8867    0.8870     10000\n",
      "weighted avg     0.8917    0.8874    0.8878     10000\n",
      "\n"
     ]
    }
   ],
   "source": [
    "print(\"In Testing\")\n",
    "print(classification_report(y_test, model.predict(X_test).argmax(axis=1),digits=4))"
   ]
  },
  {
   "cell_type": "markdown",
   "metadata": {
    "colab_type": "text",
    "id": "m2w0ktCD2ghK"
   },
   "source": [
    "# Model (7,492 parameters)"
   ]
  },
  {
   "cell_type": "code",
   "execution_count": 8,
   "metadata": {
    "colab": {
     "base_uri": "https://localhost:8080/",
     "height": 607
    },
    "colab_type": "code",
    "id": "5Q1lTw5viZgL",
    "outputId": "59b3075f-cc7d-4429-fe3b-6b7d67f88eee"
   },
   "outputs": [
    {
     "name": "stdout",
     "output_type": "stream",
     "text": [
      "Model: \"model_1\"\n",
      "_________________________________________________________________\n",
      "Layer (type)                 Output Shape              Param #   \n",
      "=================================================================\n",
      "input_2 (InputLayer)         [(None, 28, 28, 1)]       0         \n",
      "_________________________________________________________________\n",
      "conv2d (Conv2D)              (None, 26, 26, 16)        160       \n",
      "_________________________________________________________________\n",
      "batch_normalization (BatchNo (None, 26, 26, 16)        64        \n",
      "_________________________________________________________________\n",
      "max_pooling2d (MaxPooling2D) (None, 13, 13, 16)        0         \n",
      "_________________________________________________________________\n",
      "conv2d_1 (Conv2D)            (None, 11, 11, 16)        2320      \n",
      "_________________________________________________________________\n",
      "batch_normalization_1 (Batch (None, 11, 11, 16)        64        \n",
      "_________________________________________________________________\n",
      "conv2d_2 (Conv2D)            (None, 9, 9, 4)           580       \n",
      "_________________________________________________________________\n",
      "batch_normalization_2 (Batch (None, 9, 9, 4)           16        \n",
      "_________________________________________________________________\n",
      "max_pooling2d_1 (MaxPooling2 (None, 4, 4, 4)           0         \n",
      "_________________________________________________________________\n",
      "flatten_1 (Flatten)          (None, 64)                0         \n",
      "_________________________________________________________________\n",
      "dense_1 (Dense)              (None, 58)                3770      \n",
      "_________________________________________________________________\n",
      "dropout (Dropout)            (None, 58)                0         \n",
      "_________________________________________________________________\n",
      "dense_2 (Dense)              (None, 10)                590       \n",
      "=================================================================\n",
      "Total params: 7,564\n",
      "Trainable params: 7,492\n",
      "Non-trainable params: 72\n",
      "_________________________________________________________________\n"
     ]
    }
   ],
   "source": [
    "input_layer = Input(shape=(28,28,1))\n",
    "l = Conv2D(16, 3, activation='relu')(input_layer)\n",
    "l = BatchNormalization()(l)\n",
    "l = MaxPooling2D((2,2))(l)\n",
    "l = Conv2D(16, 3, activation='relu')(l)\n",
    "l = BatchNormalization()(l)\n",
    "l = Conv2D(4, 3, activation='relu')(l)\n",
    "l = BatchNormalization()(l)\n",
    "l = MaxPooling2D((2,2))(l)\n",
    "l = Flatten()(l)\n",
    "l = Dense(58, activation='relu')(l)\n",
    "l = Dropout(0.20)(l)\n",
    "output = Dense(n_classes, activation='softmax')(l)\n",
    "model = Model(input_layer, output)\n",
    "model.compile(loss='categorical_crossentropy',optimizer=Adam(), metrics=['accuracy'])\n",
    "model.summary()"
   ]
  },
  {
   "cell_type": "code",
   "execution_count": 9,
   "metadata": {
    "colab": {
     "base_uri": "https://localhost:8080/",
     "height": 1000
    },
    "colab_type": "code",
    "id": "_4fcXsGdi741",
    "outputId": "1ac8952f-1007-4338-fb18-325a0e4a9def"
   },
   "outputs": [
    {
     "name": "stdout",
     "output_type": "stream",
     "text": [
      "Train on 48000 samples, validate on 12000 samples\n",
      "Epoch 1/25\n",
      "48000/48000 [==============================] - 4s 90us/sample - loss: 0.8642 - acc: 0.7356 - val_loss: 0.2374 - val_acc: 0.9294\n",
      "Epoch 2/25\n",
      "48000/48000 [==============================] - 1s 25us/sample - loss: 0.2294 - acc: 0.9303 - val_loss: 0.1332 - val_acc: 0.9604\n",
      "Epoch 3/25\n",
      "48000/48000 [==============================] - 1s 25us/sample - loss: 0.1468 - acc: 0.9561 - val_loss: 0.0963 - val_acc: 0.9706\n",
      "Epoch 4/25\n",
      "48000/48000 [==============================] - 1s 25us/sample - loss: 0.1121 - acc: 0.9663 - val_loss: 0.0802 - val_acc: 0.9757\n",
      "Epoch 5/25\n",
      "48000/48000 [==============================] - 1s 25us/sample - loss: 0.0915 - acc: 0.9720 - val_loss: 0.0660 - val_acc: 0.9778\n",
      "Epoch 6/25\n",
      "48000/48000 [==============================] - 1s 25us/sample - loss: 0.0795 - acc: 0.9759 - val_loss: 0.0591 - val_acc: 0.9801\n",
      "Epoch 7/25\n",
      "48000/48000 [==============================] - 1s 24us/sample - loss: 0.0707 - acc: 0.9778 - val_loss: 0.0587 - val_acc: 0.9819\n",
      "Epoch 8/25\n",
      "48000/48000 [==============================] - 1s 25us/sample - loss: 0.0635 - acc: 0.9804 - val_loss: 0.0561 - val_acc: 0.9812\n",
      "Epoch 9/25\n",
      "48000/48000 [==============================] - 1s 25us/sample - loss: 0.0602 - acc: 0.9819 - val_loss: 0.0612 - val_acc: 0.9808\n",
      "Epoch 10/25\n",
      "48000/48000 [==============================] - 1s 25us/sample - loss: 0.0530 - acc: 0.9840 - val_loss: 0.0507 - val_acc: 0.9838\n",
      "Epoch 11/25\n",
      "48000/48000 [==============================] - 1s 24us/sample - loss: 0.0507 - acc: 0.9844 - val_loss: 0.0470 - val_acc: 0.9851\n",
      "Epoch 12/25\n",
      "48000/48000 [==============================] - 1s 24us/sample - loss: 0.0461 - acc: 0.9855 - val_loss: 0.0440 - val_acc: 0.9863\n",
      "Epoch 13/25\n",
      "48000/48000 [==============================] - 1s 25us/sample - loss: 0.0435 - acc: 0.9870 - val_loss: 0.0413 - val_acc: 0.9870\n",
      "Epoch 14/25\n",
      "48000/48000 [==============================] - 1s 25us/sample - loss: 0.0395 - acc: 0.9875 - val_loss: 0.0439 - val_acc: 0.9862\n",
      "Epoch 15/25\n",
      "48000/48000 [==============================] - 1s 24us/sample - loss: 0.0374 - acc: 0.9881 - val_loss: 0.0423 - val_acc: 0.9868\n",
      "Epoch 16/25\n",
      "48000/48000 [==============================] - 1s 25us/sample - loss: 0.0369 - acc: 0.9886 - val_loss: 0.0397 - val_acc: 0.9878\n",
      "Epoch 17/25\n",
      "48000/48000 [==============================] - 1s 25us/sample - loss: 0.0357 - acc: 0.9879 - val_loss: 0.0511 - val_acc: 0.9843\n",
      "Epoch 18/25\n",
      "48000/48000 [==============================] - 1s 25us/sample - loss: 0.0335 - acc: 0.9890 - val_loss: 0.0420 - val_acc: 0.9883\n",
      "Epoch 19/25\n",
      "45824/48000 [===========================>..] - ETA: 0s - loss: 0.0300 - acc: 0.9904\n",
      "Epoch 00019: ReduceLROnPlateau reducing learning rate to 0.000800000037997961.\n",
      "48000/48000 [==============================] - 1s 26us/sample - loss: 0.0305 - acc: 0.9902 - val_loss: 0.0408 - val_acc: 0.9878\n",
      "Epoch 20/25\n",
      "48000/48000 [==============================] - 1s 25us/sample - loss: 0.0293 - acc: 0.9902 - val_loss: 0.0396 - val_acc: 0.9884\n",
      "Epoch 21/25\n",
      "48000/48000 [==============================] - 1s 25us/sample - loss: 0.0284 - acc: 0.9905 - val_loss: 0.0398 - val_acc: 0.9883\n",
      "Epoch 22/25\n",
      "48000/48000 [==============================] - 1s 24us/sample - loss: 0.0270 - acc: 0.9913 - val_loss: 0.0391 - val_acc: 0.9889\n",
      "Epoch 23/25\n",
      "48000/48000 [==============================] - 1s 25us/sample - loss: 0.0248 - acc: 0.9918 - val_loss: 0.0454 - val_acc: 0.9870\n",
      "Epoch 24/25\n",
      "48000/48000 [==============================] - 1s 25us/sample - loss: 0.0250 - acc: 0.9921 - val_loss: 0.0375 - val_acc: 0.9901\n",
      "Epoch 25/25\n",
      "48000/48000 [==============================] - 1s 24us/sample - loss: 0.0241 - acc: 0.9922 - val_loss: 0.0397 - val_acc: 0.9886\n"
     ]
    },
    {
     "data": {
      "image/png": "[encoded data removed]",
      "text/plain": [
       "<Figure size 1080x504 with 2 Axes>"
      ]
     },
     "metadata": {
      "tags": []
     },
     "output_type": "display_data"
    }
   ],
   "source": [
    "history = model.fit(X_train, y_train_cat, validation_data=(X_val, y_val_cat), \n",
    "                    epochs = 25, batch_size=256, verbose=1,\n",
    "                    callbacks=[lr_decay, early])\n",
    "plot_history(history)"
   ]
  },
  {
   "cell_type": "code",
   "execution_count": 10,
   "metadata": {
    "colab": {
     "base_uri": "https://localhost:8080/",
     "height": 52
    },
    "colab_type": "code",
    "id": "yLLrk9qNi8fX",
    "outputId": "0b57170b-8a58-4f3d-8888-0c0203981f1d"
   },
   "outputs": [
    {
     "name": "stdout",
     "output_type": "stream",
     "text": [
      "48000/48000 [==============================] - 3s 59us/sample - loss: 0.0132 - acc: 0.9960\n"
     ]
    },
    {
     "data": {
      "text/plain": [
       "0.99604166"
      ]
     },
     "execution_count": 10,
     "metadata": {
      "tags": []
     },
     "output_type": "execute_result"
    }
   ],
   "source": [
    "model.evaluate(X_train, y_train_cat)[1]"
   ]
  },
  {
   "cell_type": "code",
   "execution_count": 11,
   "metadata": {
    "colab": {
     "base_uri": "https://localhost:8080/",
     "height": 52
    },
    "colab_type": "code",
    "id": "Yp-uM_bJi8fr",
    "outputId": "32ef99ee-db0f-44d1-bf91-f51dd5be55ec"
   },
   "outputs": [
    {
     "name": "stdout",
     "output_type": "stream",
     "text": [
      "12000/12000 [==============================] - 1s 61us/sample - loss: 0.0397 - acc: 0.9886\n"
     ]
    },
    {
     "data": {
      "text/plain": [
       "0.9885833"
      ]
     },
     "execution_count": 11,
     "metadata": {
      "tags": []
     },
     "output_type": "execute_result"
    }
   ],
   "source": [
    "model.evaluate(X_val, y_val_cat)[1]"
   ]
  },
  {
   "cell_type": "code",
   "execution_count": 12,
   "metadata": {
    "colab": {
     "base_uri": "https://localhost:8080/",
     "height": 1000
    },
    "colab_type": "code",
    "id": "54L97SYPi8f_",
    "outputId": "3dc4b3e1-3e5e-4614-f647-dd16ef1e4a57"
   },
   "outputs": [
    {
     "name": "stdout",
     "output_type": "stream",
     "text": [
      "Model: \"model_2\"\n",
      "_________________________________________________________________\n",
      "Layer (type)                 Output Shape              Param #   \n",
      "=================================================================\n",
      "input_3 (InputLayer)         [(None, 28, 28, 1)]       0         \n",
      "_________________________________________________________________\n",
      "conv2d_3 (Conv2D)            (None, 26, 26, 16)        160       \n",
      "_________________________________________________________________\n",
      "batch_normalization_3 (Batch (None, 26, 26, 16)        64        \n",
      "_________________________________________________________________\n",
      "max_pooling2d_2 (MaxPooling2 (None, 13, 13, 16)        0         \n",
      "_________________________________________________________________\n",
      "conv2d_4 (Conv2D)            (None, 11, 11, 16)        2320      \n",
      "_________________________________________________________________\n",
      "batch_normalization_4 (Batch (None, 11, 11, 16)        64        \n",
      "_________________________________________________________________\n",
      "conv2d_5 (Conv2D)            (None, 9, 9, 4)           580       \n",
      "_________________________________________________________________\n",
      "batch_normalization_5 (Batch (None, 9, 9, 4)           16        \n",
      "_________________________________________________________________\n",
      "max_pooling2d_3 (MaxPooling2 (None, 4, 4, 4)           0         \n",
      "_________________________________________________________________\n",
      "flatten_2 (Flatten)          (None, 64)                0         \n",
      "_________________________________________________________________\n",
      "dense_3 (Dense)              (None, 58)                3770      \n",
      "_________________________________________________________________\n",
      "dropout_1 (Dropout)          (None, 58)                0         \n",
      "_________________________________________________________________\n",
      "dense_4 (Dense)              (None, 10)                590       \n",
      "=================================================================\n",
      "Total params: 7,564\n",
      "Trainable params: 7,492\n",
      "Non-trainable params: 72\n",
      "_________________________________________________________________\n",
      "Train on 48000 samples\n",
      "Epoch 1/30\n",
      "48000/48000 [==============================] - 1s 26us/sample - loss: 0.7275 - acc: 0.7692\n",
      "Epoch 2/30\n",
      "48000/48000 [==============================] - 1s 22us/sample - loss: 0.2005 - acc: 0.9395\n",
      "Epoch 3/30\n",
      "48000/48000 [==============================] - 1s 22us/sample - loss: 0.1359 - acc: 0.9589\n",
      "Epoch 4/30\n",
      "48000/48000 [==============================] - 1s 22us/sample - loss: 0.1079 - acc: 0.9669\n",
      "Epoch 5/30\n",
      "48000/48000 [==============================] - 1s 22us/sample - loss: 0.0892 - acc: 0.9725\n",
      "Epoch 6/30\n",
      "48000/48000 [==============================] - 1s 22us/sample - loss: 0.0768 - acc: 0.9765\n",
      "Epoch 7/30\n",
      "48000/48000 [==============================] - 1s 22us/sample - loss: 0.0695 - acc: 0.9789\n",
      "Epoch 8/30\n",
      "48000/48000 [==============================] - 1s 22us/sample - loss: 0.0636 - acc: 0.9799\n",
      "Epoch 9/30\n",
      "48000/48000 [==============================] - 1s 22us/sample - loss: 0.0586 - acc: 0.9814\n",
      "Epoch 10/30\n",
      "48000/48000 [==============================] - 1s 22us/sample - loss: 0.0530 - acc: 0.9836\n",
      "Epoch 11/30\n",
      "48000/48000 [==============================] - 1s 22us/sample - loss: 0.0489 - acc: 0.9847\n",
      "Epoch 12/30\n",
      "48000/48000 [==============================] - 1s 22us/sample - loss: 0.0450 - acc: 0.9859\n",
      "Epoch 13/30\n",
      "48000/48000 [==============================] - 1s 23us/sample - loss: 0.0440 - acc: 0.9863\n",
      "Epoch 14/30\n",
      "48000/48000 [==============================] - 1s 22us/sample - loss: 0.0411 - acc: 0.9871\n",
      "Epoch 15/30\n",
      "48000/48000 [==============================] - 1s 22us/sample - loss: 0.0386 - acc: 0.9879\n",
      "Epoch 16/30\n",
      "48000/48000 [==============================] - 1s 22us/sample - loss: 0.0365 - acc: 0.9883\n",
      "Epoch 17/30\n",
      "48000/48000 [==============================] - 1s 22us/sample - loss: 0.0343 - acc: 0.9889\n",
      "Epoch 18/30\n",
      "48000/48000 [==============================] - 1s 22us/sample - loss: 0.0319 - acc: 0.9899\n",
      "Epoch 19/30\n",
      "48000/48000 [==============================] - 1s 22us/sample - loss: 0.0333 - acc: 0.9890\n",
      "Epoch 20/30\n",
      "48000/48000 [==============================] - 1s 22us/sample - loss: 0.0281 - acc: 0.9909\n",
      "Epoch 21/30\n",
      "48000/48000 [==============================] - 1s 23us/sample - loss: 0.0295 - acc: 0.9901\n",
      "Epoch 22/30\n",
      "48000/48000 [==============================] - 1s 23us/sample - loss: 0.0269 - acc: 0.9910\n",
      "Epoch 23/30\n",
      "48000/48000 [==============================] - 1s 23us/sample - loss: 0.0271 - acc: 0.9911\n",
      "Epoch 24/30\n",
      "48000/48000 [==============================] - 1s 22us/sample - loss: 0.0264 - acc: 0.9914\n",
      "Epoch 25/30\n",
      "48000/48000 [==============================] - 1s 22us/sample - loss: 0.0252 - acc: 0.9918\n",
      "Epoch 26/30\n",
      "48000/48000 [==============================] - 1s 22us/sample - loss: 0.0230 - acc: 0.9920\n",
      "Epoch 27/30\n",
      "48000/48000 [==============================] - 1s 22us/sample - loss: 0.0222 - acc: 0.9924\n",
      "Epoch 28/30\n",
      "48000/48000 [==============================] - 1s 22us/sample - loss: 0.0214 - acc: 0.9927\n",
      "Epoch 29/30\n",
      "48000/48000 [==============================] - 1s 22us/sample - loss: 0.0193 - acc: 0.9941\n",
      "Epoch 30/30\n",
      "48000/48000 [==============================] - 1s 22us/sample - loss: 0.0201 - acc: 0.9928\n"
     ]
    },
    {
     "data": {
      "text/plain": [
       "<tensorflow.python.keras.callbacks.History at 0x7f4ca6353c50>"
      ]
     },
     "execution_count": 12,
     "metadata": {
      "tags": []
     },
     "output_type": "execute_result"
    }
   ],
   "source": [
    "input_layer = Input(shape=(28,28,1))\n",
    "l = Conv2D(16, 3, activation='relu')(input_layer)\n",
    "l = BatchNormalization()(l)\n",
    "l = MaxPooling2D((2,2))(l)\n",
    "l = Conv2D(16, 3, activation='relu')(l)\n",
    "l = BatchNormalization()(l)\n",
    "l = Conv2D(4, 3, activation='relu')(l)\n",
    "l = BatchNormalization()(l)\n",
    "l = MaxPooling2D((2,2))(l)\n",
    "l = Flatten()(l)\n",
    "l = Dense(58, activation='relu')(l)\n",
    "l = Dropout(0.20)(l)\n",
    "output = Dense(n_classes, activation='softmax')(l)\n",
    "model = Model(input_layer, output)\n",
    "model.compile(loss='categorical_crossentropy',optimizer=Adam(), metrics=['accuracy'])\n",
    "model.summary()\n",
    "model.fit(X_train, y_train_cat, epochs = 30, batch_size=256, verbose=1)"
   ]
  },
  {
   "cell_type": "code",
   "execution_count": 13,
   "metadata": {
    "colab": {
     "base_uri": "https://localhost:8080/",
     "height": 330
    },
    "colab_type": "code",
    "id": "y7RHrvKS2P_Y",
    "outputId": "3ec984ee-2a02-4b9e-8410-36fcbcbcf12e"
   },
   "outputs": [
    {
     "name": "stdout",
     "output_type": "stream",
     "text": [
      "In Testing\n",
      "              precision    recall  f1-score   support\n",
      "\n",
      "           0     0.9949    0.9939    0.9944       980\n",
      "           1     0.9860    0.9956    0.9908      1135\n",
      "           2     0.9941    0.9855    0.9898      1032\n",
      "           3     0.9921    0.9891    0.9906      1010\n",
      "           4     0.9878    0.9908    0.9893       982\n",
      "           5     0.9855    0.9922    0.9888       892\n",
      "           6     0.9937    0.9885    0.9911       958\n",
      "           7     0.9874    0.9874    0.9874      1028\n",
      "           8     0.9897    0.9887    0.9892       974\n",
      "           9     0.9821    0.9812    0.9817      1009\n",
      "\n",
      "    accuracy                         0.9893     10000\n",
      "   macro avg     0.9893    0.9893    0.9893     10000\n",
      "weighted avg     0.9893    0.9893    0.9893     10000\n",
      "\n"
     ]
    }
   ],
   "source": [
    "print(\"In Testing\")\n",
    "print(classification_report(y_test, model.predict(X_test).argmax(axis=1),digits=4))"
   ]
  },
  {
   "cell_type": "code",
   "execution_count": 0,
   "metadata": {
    "colab": {},
    "colab_type": "code",
    "id": "5WzcGE1pi8gl"
   },
   "outputs": [],
   "source": []
  }
 ],
 "metadata": {
  "accelerator": "GPU",
  "colab": {
   "collapsed_sections": [],
   "name": "Assignment_3.ipynb",
   "provenance": []
  },
  "kernelspec": {
   "display_name": "Python 3",
   "language": "python",
   "name": "python3"
  },
  "language_info": {
   "codemirror_mode": {
    "name": "ipython",
    "version": 3
   },
   "file_extension": ".py",
   "mimetype": "text/x-python",
   "name": "python",
   "nbconvert_exporter": "python",
   "pygments_lexer": "ipython3",
   "version": "3.7.5rc1"
  },
  "toc": {
   "base_numbering": 1,
   "nav_menu": {},
   "number_sections": true,
   "sideBar": true,
   "skip_h1_title": false,
   "title_cell": "Table of Contents",
   "title_sidebar": "Contents",
   "toc_cell": false,
   "toc_position": {},
   "toc_section_display": true,
   "toc_window_display": false
  },
  "varInspector": {
   "cols": {
    "lenName": 16,
    "lenType": 16,
    "lenVar": 40
   },
   "kernels_config": {
    "python": {
     "delete_cmd_postfix": "",
     "delete_cmd_prefix": "del ",
     "library": "var_list.py",
     "varRefreshCmd": "print(var_dic_list())"
    },
    "r": {
     "delete_cmd_postfix": ") ",
     "delete_cmd_prefix": "rm(",
     "library": "var_list.r",
     "varRefreshCmd": "cat(var_dic_list()) "
    }
   },
   "types_to_exclude": [
    "module",
    "function",
    "builtin_function_or_method",
    "instance",
    "_Feature"
   ],
   "window_display": false
  }
 },
 "nbformat": 4,
 "nbformat_minor": 1
}
