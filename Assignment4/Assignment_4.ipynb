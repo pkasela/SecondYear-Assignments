{
 "cells": [
  {
   "cell_type": "code",
   "execution_count": 1,
   "metadata": {
    "colab": {
     "base_uri": "https://localhost:8080/",
     "height": 34
    },
    "colab_type": "code",
    "id": "R2c159d7sNfs",
    "outputId": "1d25a6c3-7cb9-4d03-9620-8974a17687a8"
   },
   "outputs": [
    {
     "name": "stdout",
     "output_type": "stream",
     "text": [
      "TensorFlow 2.x selected.\n"
     ]
    }
   ],
   "source": [
    "%tensorflow_version 2.x\n",
    "import tensorflow as tf\n",
    "from tensorflow import keras"
   ]
  },
  {
   "cell_type": "code",
   "execution_count": 2,
   "metadata": {
    "colab": {
     "base_uri": "https://localhost:8080/",
     "height": 34
    },
    "colab_type": "code",
    "id": "vdeRX4TWCQRR",
    "outputId": "f2422dfb-05bf-4b29-d202-be4198c4a4e0"
   },
   "outputs": [
    {
     "name": "stdout",
     "output_type": "stream",
     "text": [
      "Mounted at /content/drive\n"
     ]
    }
   ],
   "source": [
    "from google.colab import drive\n",
    "drive.mount('/content/drive', force_remount=True)"
   ]
  },
  {
   "cell_type": "code",
   "execution_count": 0,
   "metadata": {
    "colab": {},
    "colab_type": "code",
    "id": "cKysgeXtD8KU"
   },
   "outputs": [],
   "source": [
    "import zipfile\n",
    "with zipfile.ZipFile('/content/drive/My Drive/pranav/intel-image-classification.zip', 'r') as zip_ref:\n",
    "    zip_ref.extractall('/content/data')"
   ]
  },
  {
   "cell_type": "code",
   "execution_count": 0,
   "metadata": {
    "colab": {},
    "colab_type": "code",
    "id": "WSwgEh74Eiig"
   },
   "outputs": [],
   "source": [
    "from tensorflow.keras.applications import vgg16"
   ]
  },
  {
   "cell_type": "code",
   "execution_count": 0,
   "metadata": {
    "colab": {},
    "colab_type": "code",
    "id": "3udFBBA5wYD8"
   },
   "outputs": [],
   "source": [
    "model = vgg16.VGG16(include_top=False, pooling='avg', input_shape = (150, 150, 3))"
   ]
  },
  {
   "cell_type": "code",
   "execution_count": 0,
   "metadata": {
    "colab": {},
    "colab_type": "code",
    "id": "RMCa_9AG80FR"
   },
   "outputs": [],
   "source": [
    "import numpy as np\n",
    "\n",
    "from sklearn.utils import shuffle\n",
    "from sklearn.model_selection import train_test_split\n",
    "from sklearn.svm import LinearSVC\n",
    "from sklearn.metrics import classification_report, confusion_matrix\n",
    "from sklearn.neighbors import KNeighborsClassifier\n",
    "\n",
    "\n",
    "from tensorflow.keras.layers import GlobalAveragePooling2D\n",
    "from tensorflow.keras.layers import Dense\n",
    "from tensorflow.keras.models import Model\n",
    "from tensorflow.keras.preprocessing import image as kimage"
   ]
  },
  {
   "cell_type": "markdown",
   "metadata": {
    "colab_type": "text",
    "id": "AQ6b7HigO52r"
   },
   "source": [
    "#First Cut"
   ]
  },
  {
   "cell_type": "code",
   "execution_count": 7,
   "metadata": {
    "colab": {
     "base_uri": "https://localhost:8080/",
     "height": 833
    },
    "colab_type": "code",
    "id": "juBNyYCzyARz",
    "outputId": "80448f13-bef2-486c-9c5c-b0cf37db0f78"
   },
   "outputs": [
    {
     "name": "stdout",
     "output_type": "stream",
     "text": [
      "Model: \"vgg16\"\n",
      "_________________________________________________________________\n",
      "Layer (type)                 Output Shape              Param #   \n",
      "=================================================================\n",
      "input_1 (InputLayer)         [(None, 150, 150, 3)]     0         \n",
      "_________________________________________________________________\n",
      "block1_conv1 (Conv2D)        (None, 150, 150, 64)      1792      \n",
      "_________________________________________________________________\n",
      "block1_conv2 (Conv2D)        (None, 150, 150, 64)      36928     \n",
      "_________________________________________________________________\n",
      "block1_pool (MaxPooling2D)   (None, 75, 75, 64)        0         \n",
      "_________________________________________________________________\n",
      "block2_conv1 (Conv2D)        (None, 75, 75, 128)       73856     \n",
      "_________________________________________________________________\n",
      "block2_conv2 (Conv2D)        (None, 75, 75, 128)       147584    \n",
      "_________________________________________________________________\n",
      "block2_pool (MaxPooling2D)   (None, 37, 37, 128)       0         \n",
      "_________________________________________________________________\n",
      "block3_conv1 (Conv2D)        (None, 37, 37, 256)       295168    \n",
      "_________________________________________________________________\n",
      "block3_conv2 (Conv2D)        (None, 37, 37, 256)       590080    \n",
      "_________________________________________________________________\n",
      "block3_conv3 (Conv2D)        (None, 37, 37, 256)       590080    \n",
      "_________________________________________________________________\n",
      "block3_pool (MaxPooling2D)   (None, 18, 18, 256)       0         \n",
      "_________________________________________________________________\n",
      "block4_conv1 (Conv2D)        (None, 18, 18, 512)       1180160   \n",
      "_________________________________________________________________\n",
      "block4_conv2 (Conv2D)        (None, 18, 18, 512)       2359808   \n",
      "_________________________________________________________________\n",
      "block4_conv3 (Conv2D)        (None, 18, 18, 512)       2359808   \n",
      "_________________________________________________________________\n",
      "block4_pool (MaxPooling2D)   (None, 9, 9, 512)         0         \n",
      "_________________________________________________________________\n",
      "block5_conv1 (Conv2D)        (None, 9, 9, 512)         2359808   \n",
      "_________________________________________________________________\n",
      "block5_conv2 (Conv2D)        (None, 9, 9, 512)         2359808   \n",
      "_________________________________________________________________\n",
      "block5_conv3 (Conv2D)        (None, 9, 9, 512)         2359808   \n",
      "_________________________________________________________________\n",
      "block5_pool (MaxPooling2D)   (None, 4, 4, 512)         0         \n",
      "_________________________________________________________________\n",
      "global_average_pooling2d (Gl (None, 512)               0         \n",
      "=================================================================\n",
      "Total params: 14,714,688\n",
      "Trainable params: 14,714,688\n",
      "Non-trainable params: 0\n",
      "_________________________________________________________________\n"
     ]
    }
   ],
   "source": [
    "model.summary()"
   ]
  },
  {
   "cell_type": "code",
   "execution_count": 0,
   "metadata": {
    "colab": {},
    "colab_type": "code",
    "id": "QZ8gFPrHzbNf"
   },
   "outputs": [],
   "source": [
    "for layer in model.layers:\n",
    "  layer.trainable = False"
   ]
  },
  {
   "cell_type": "code",
   "execution_count": 9,
   "metadata": {
    "colab": {
     "base_uri": "https://localhost:8080/",
     "height": 51
    },
    "colab_type": "code",
    "id": "gCKYrrPAO_fn",
    "outputId": "d411c1c1-9c88-4090-9da8-37eaa02e2e12"
   },
   "outputs": [
    {
     "name": "stdout",
     "output_type": "stream",
     "text": [
      "Found 14034 images belonging to 6 classes.\n",
      "Found 3000 images belonging to 6 classes.\n"
     ]
    }
   ],
   "source": [
    "train_processing = kimage.ImageDataGenerator(\n",
    "    preprocessing_function=vgg16.preprocess_input)\n",
    "train_generator = train_processing.flow_from_directory('/content/data/seg_train/seg_train', \n",
    "                                                       batch_size=102,\n",
    "                                                       target_size=(150,150), shuffle=False)\n",
    "\n",
    "test_processing = kimage.ImageDataGenerator(\n",
    "    preprocessing_function=vgg16.preprocess_input)\n",
    "test_generator = test_processing.flow_from_directory('/content/data/seg_test/seg_test', \n",
    "                                                     batch_size=100,\n",
    "                                                     target_size=(150,150), shuffle=False)"
   ]
  },
  {
   "cell_type": "code",
   "execution_count": 10,
   "metadata": {
    "colab": {
     "base_uri": "https://localhost:8080/",
     "height": 306
    },
    "colab_type": "code",
    "id": "8BnUhyKNyaOY",
    "outputId": "d35282a6-eb10-4e0c-9817-012cc8c705e2"
   },
   "outputs": [
    {
     "name": "stdout",
     "output_type": "stream",
     "text": [
      "0 (102, 512) (102,)\n",
      "10 (1122, 512) (1122,)\n",
      "20 (2142, 512) (2142,)\n",
      "30 (3162, 512) (3162,)\n",
      "40 (4182, 512) (4182,)\n",
      "50 (5202, 512) (5202,)\n",
      "60 (6222, 512) (6222,)\n",
      "70 (7242, 512) (7242,)\n",
      "80 (8262, 512) (8262,)\n",
      "90 (9282, 512) (9282,)\n",
      "100 (10302, 512) (10302,)\n",
      "110 (11322, 512) (11322,)\n",
      "120 (12342, 512) (12342,)\n",
      "130 (13362, 512) (13362,)\n",
      "137 (14034, 512) (14034,)\n",
      "CPU times: user 1h 12min 18s, sys: 3min 21s, total: 1h 15min 40s\n",
      "Wall time: 38min 42s\n"
     ]
    }
   ],
   "source": [
    "%%time\n",
    "for i in range(138): #round(14034/102)\n",
    "  X, y = next(train_generator)\n",
    "  if i == 0:\n",
    "    X_train = model.predict(X)\n",
    "    y_train = np.argmax(y, axis=1)\n",
    "  else:\n",
    "    X_train = np.concatenate((X_train, model.predict(X)))\n",
    "    y_train = np.concatenate((y_train, np.argmax(y, axis=1)))\n",
    "  if i%10==0 or i == 137:\n",
    "    print(i, X_train.shape, y_train.shape)\n",
    "np.save('/content/drive/My Drive/pranav/X_train_1', X_train)\n",
    "np.save('/content/drive/My Drive/pranav/y_train_1', y_train)"
   ]
  },
  {
   "cell_type": "code",
   "execution_count": 11,
   "metadata": {
    "colab": {
     "base_uri": "https://localhost:8080/",
     "height": 119
    },
    "colab_type": "code",
    "id": "bH7VXRjA5UMb",
    "outputId": "4ae16fef-893d-4ac4-8494-2def5dd96206"
   },
   "outputs": [
    {
     "name": "stdout",
     "output_type": "stream",
     "text": [
      "0 (100, 512) (100,)\n",
      "10 (1100, 512) (1100,)\n",
      "20 (2100, 512) (2100,)\n",
      "29 (3000, 512) (3000,)\n",
      "CPU times: user 14min 31s, sys: 42.2 s, total: 15min 13s\n",
      "Wall time: 7min 47s\n"
     ]
    }
   ],
   "source": [
    "%%time\n",
    "for i in range(30):\n",
    "  X, y = next(test_generator)\n",
    "  if i == 0:\n",
    "    X_test = model.predict(X)\n",
    "    y_test = np.argmax(y, axis=1)\n",
    "  else:\n",
    "    X_test = np.concatenate((X_test, model.predict(X)))\n",
    "    y_test = np.concatenate((y_test, np.argmax(y, axis=1)))\n",
    "  if i%10==0 or i == 29:\n",
    "    print(i, X_test.shape, y_test.shape)\n",
    "np.save('/content/drive/My Drive/pranav/X_test_1', X_test)\n",
    "np.save('/content/drive/My Drive/pranav/y_test_1', y_test)"
   ]
  },
  {
   "cell_type": "code",
   "execution_count": 0,
   "metadata": {
    "colab": {},
    "colab_type": "code",
    "id": "XGB52Zd3iEHO"
   },
   "outputs": [],
   "source": [
    "X_train = np.load('/content/drive/My Drive/pranav/X_train_1.npy')\n",
    "y_train = np.load('/content/drive/My Drive/pranav/y_train_1.npy')\n",
    "X_test  = np.load('/content/drive/My Drive/pranav/X_test_1.npy')\n",
    "y_test  = np.load('/content/drive/My Drive/pranav/y_test_1.npy')\n",
    "\n",
    "X_train, y_train = shuffle(X_train, y_train)\n",
    "X_test, y_test = shuffle(X_test, y_test)"
   ]
  },
  {
   "cell_type": "code",
   "execution_count": 0,
   "metadata": {
    "colab": {},
    "colab_type": "code",
    "id": "OwCTEXwyic5C"
   },
   "outputs": [],
   "source": [
    "X_train, X_val, y_train, y_val = train_test_split(X_train, y_train, test_size=0.2)"
   ]
  },
  {
   "cell_type": "code",
   "execution_count": 10,
   "metadata": {
    "colab": {
     "base_uri": "https://localhost:8080/",
     "height": 493
    },
    "colab_type": "code",
    "id": "bJRJN13g5m9c",
    "outputId": "a3a8a132-72b2-44c5-b8ff-04fb671de612"
   },
   "outputs": [
    {
     "name": "stdout",
     "output_type": "stream",
     "text": [
      "              precision    recall  f1-score   support\n",
      "\n",
      "           0       0.96      0.96      0.96      1755\n",
      "           1       1.00      1.00      1.00      1806\n",
      "           2       0.90      0.89      0.89      1901\n",
      "           3       0.90      0.91      0.90      2020\n",
      "           4       0.98      0.98      0.98      1849\n",
      "           5       0.96      0.96      0.96      1896\n",
      "\n",
      "    accuracy                           0.95     11227\n",
      "   macro avg       0.95      0.95      0.95     11227\n",
      "weighted avg       0.95      0.95      0.95     11227\n",
      "\n",
      "              precision    recall  f1-score   support\n",
      "\n",
      "           0       0.90      0.91      0.90       436\n",
      "           1       0.98      0.97      0.98       465\n",
      "           2       0.84      0.82      0.83       503\n",
      "           3       0.82      0.85      0.84       492\n",
      "           4       0.92      0.92      0.92       425\n",
      "           5       0.91      0.90      0.90       486\n",
      "\n",
      "    accuracy                           0.89      2807\n",
      "   macro avg       0.89      0.89      0.89      2807\n",
      "weighted avg       0.89      0.89      0.89      2807\n",
      "\n",
      "CPU times: user 3.78 s, sys: 64.2 ms, total: 3.85 s\n",
      "Wall time: 3.8 s\n"
     ]
    }
   ],
   "source": [
    "%%time\n",
    "svclassifier = LinearSVC(dual=False, C=0.5, tol=1e-3).fit(X_train, y_train)\n",
    "print(classification_report(y_train,svclassifier.predict(X_train)))\n",
    "print(classification_report(y_val,svclassifier.predict(X_val)))"
   ]
  },
  {
   "cell_type": "code",
   "execution_count": 11,
   "metadata": {
    "colab": {
     "base_uri": "https://localhost:8080/",
     "height": 238
    },
    "colab_type": "code",
    "id": "huSW8dVxHCae",
    "outputId": "c85383c8-1303-428c-94d0-d65f798441e0"
   },
   "outputs": [
    {
     "name": "stdout",
     "output_type": "stream",
     "text": [
      "              precision    recall  f1-score   support\n",
      "\n",
      "           0       0.89      0.88      0.89       437\n",
      "           1       0.98      0.99      0.98       474\n",
      "           2       0.84      0.80      0.82       553\n",
      "           3       0.82      0.85      0.83       525\n",
      "           4       0.93      0.95      0.94       510\n",
      "           5       0.90      0.90      0.90       501\n",
      "\n",
      "    accuracy                           0.89      3000\n",
      "   macro avg       0.89      0.89      0.89      3000\n",
      "weighted avg       0.89      0.89      0.89      3000\n",
      "\n"
     ]
    }
   ],
   "source": [
    "print(classification_report(y_test,svclassifier.predict(X_test)))"
   ]
  },
  {
   "cell_type": "code",
   "execution_count": 12,
   "metadata": {
    "colab": {
     "base_uri": "https://localhost:8080/",
     "height": 493
    },
    "colab_type": "code",
    "id": "71SGRmzwi_2S",
    "outputId": "39b4538e-16b7-48d7-e40f-63e284da65b4"
   },
   "outputs": [
    {
     "name": "stdout",
     "output_type": "stream",
     "text": [
      "              precision    recall  f1-score   support\n",
      "\n",
      "           0       0.93      0.93      0.93      1755\n",
      "           1       0.96      1.00      0.98      1806\n",
      "           2       0.87      0.90      0.89      1901\n",
      "           3       0.91      0.89      0.90      2020\n",
      "           4       0.98      0.96      0.97      1849\n",
      "           5       0.95      0.93      0.94      1896\n",
      "\n",
      "    accuracy                           0.93     11227\n",
      "   macro avg       0.93      0.93      0.93     11227\n",
      "weighted avg       0.93      0.93      0.93     11227\n",
      "\n",
      "              precision    recall  f1-score   support\n",
      "\n",
      "           0       0.86      0.88      0.87       436\n",
      "           1       0.94      0.98      0.96       465\n",
      "           2       0.80      0.82      0.81       503\n",
      "           3       0.81      0.77      0.79       492\n",
      "           4       0.91      0.94      0.93       425\n",
      "           5       0.89      0.85      0.87       486\n",
      "\n",
      "    accuracy                           0.87      2807\n",
      "   macro avg       0.87      0.87      0.87      2807\n",
      "weighted avg       0.87      0.87      0.87      2807\n",
      "\n",
      "CPU times: user 1min 58s, sys: 73.5 ms, total: 1min 58s\n",
      "Wall time: 1min 58s\n"
     ]
    }
   ],
   "source": [
    "%%time\n",
    "knnclassifier = KNeighborsClassifier(n_neighbors=3).fit(X_train, y_train)\n",
    "print(classification_report(y_train,knnclassifier.predict(X_train)))\n",
    "print(classification_report(y_val,knnclassifier.predict(X_val)))"
   ]
  },
  {
   "cell_type": "code",
   "execution_count": 13,
   "metadata": {
    "colab": {
     "base_uri": "https://localhost:8080/",
     "height": 238
    },
    "colab_type": "code",
    "id": "MUQQWT3hF1P0",
    "outputId": "badc1440-ee61-4cd1-c88b-f9751e17ec64"
   },
   "outputs": [
    {
     "name": "stdout",
     "output_type": "stream",
     "text": [
      "              precision    recall  f1-score   support\n",
      "\n",
      "           0       0.86      0.87      0.86       437\n",
      "           1       0.95      0.99      0.97       474\n",
      "           2       0.80      0.82      0.81       553\n",
      "           3       0.82      0.79      0.80       525\n",
      "           4       0.94      0.94      0.94       510\n",
      "           5       0.90      0.85      0.88       501\n",
      "\n",
      "    accuracy                           0.88      3000\n",
      "   macro avg       0.88      0.88      0.88      3000\n",
      "weighted avg       0.88      0.88      0.88      3000\n",
      "\n"
     ]
    }
   ],
   "source": [
    "print(classification_report(y_test,knnclassifier.predict(X_test)))"
   ]
  },
  {
   "cell_type": "markdown",
   "metadata": {
    "colab_type": "text",
    "id": "fczxteq-NEyL"
   },
   "source": [
    "#Second Cut"
   ]
  },
  {
   "cell_type": "code",
   "execution_count": 14,
   "metadata": {
    "colab": {
     "base_uri": "https://localhost:8080/",
     "height": 697
    },
    "colab_type": "code",
    "id": "XesnVs3SIlFL",
    "outputId": "729085e5-1524-43a7-bc36-804d2be64ce7"
   },
   "outputs": [
    {
     "name": "stdout",
     "output_type": "stream",
     "text": [
      "Model: \"model\"\n",
      "_________________________________________________________________\n",
      "Layer (type)                 Output Shape              Param #   \n",
      "=================================================================\n",
      "input_1 (InputLayer)         [(None, 150, 150, 3)]     0         \n",
      "_________________________________________________________________\n",
      "block1_conv1 (Conv2D)        (None, 150, 150, 64)      1792      \n",
      "_________________________________________________________________\n",
      "block1_conv2 (Conv2D)        (None, 150, 150, 64)      36928     \n",
      "_________________________________________________________________\n",
      "block1_pool (MaxPooling2D)   (None, 75, 75, 64)        0         \n",
      "_________________________________________________________________\n",
      "block2_conv1 (Conv2D)        (None, 75, 75, 128)       73856     \n",
      "_________________________________________________________________\n",
      "block2_conv2 (Conv2D)        (None, 75, 75, 128)       147584    \n",
      "_________________________________________________________________\n",
      "block2_pool (MaxPooling2D)   (None, 37, 37, 128)       0         \n",
      "_________________________________________________________________\n",
      "block3_conv1 (Conv2D)        (None, 37, 37, 256)       295168    \n",
      "_________________________________________________________________\n",
      "block3_conv2 (Conv2D)        (None, 37, 37, 256)       590080    \n",
      "_________________________________________________________________\n",
      "block3_conv3 (Conv2D)        (None, 37, 37, 256)       590080    \n",
      "_________________________________________________________________\n",
      "block3_pool (MaxPooling2D)   (None, 18, 18, 256)       0         \n",
      "_________________________________________________________________\n",
      "block4_conv1 (Conv2D)        (None, 18, 18, 512)       1180160   \n",
      "_________________________________________________________________\n",
      "block4_conv2 (Conv2D)        (None, 18, 18, 512)       2359808   \n",
      "_________________________________________________________________\n",
      "block4_conv3 (Conv2D)        (None, 18, 18, 512)       2359808   \n",
      "_________________________________________________________________\n",
      "block4_pool (MaxPooling2D)   (None, 9, 9, 512)         0         \n",
      "_________________________________________________________________\n",
      "global_average_pooling2d_1 ( (None, 512)               0         \n",
      "=================================================================\n",
      "Total params: 7,635,264\n",
      "Trainable params: 7,635,264\n",
      "Non-trainable params: 0\n",
      "_________________________________________________________________\n"
     ]
    }
   ],
   "source": [
    "x = GlobalAveragePooling2D()(model.layers[-6].output)\n",
    "model_2 = Model(model.input, x)\n",
    "model_2.compile(loss='mse',optimizer='sgd')\n",
    "model_2.summary()"
   ]
  },
  {
   "cell_type": "code",
   "execution_count": 15,
   "metadata": {
    "colab": {
     "base_uri": "https://localhost:8080/",
     "height": 408
    },
    "colab_type": "code",
    "id": "kFG9FWRGLmWJ",
    "outputId": "f24027cc-10e7-493c-ac75-87316851f2b1"
   },
   "outputs": [
    {
     "name": "stdout",
     "output_type": "stream",
     "text": [
      "Found 14034 images belonging to 6 classes.\n",
      "Found 3000 images belonging to 6 classes.\n",
      "0 (102, 512) (102,)\n",
      "10 (1122, 512) (1122,)\n",
      "20 (2142, 512) (2142,)\n",
      "30 (3162, 512) (3162,)\n",
      "40 (4182, 512) (4182,)\n",
      "50 (5202, 512) (5202,)\n",
      "60 (6222, 512) (6222,)\n",
      "70 (7242, 512) (7242,)\n",
      "80 (8262, 512) (8262,)\n",
      "90 (9282, 512) (9282,)\n",
      "100 (10302, 512) (10302,)\n",
      "110 (11322, 512) (11322,)\n",
      "120 (12342, 512) (12342,)\n",
      "130 (13362, 512) (13362,)\n",
      "137 (14034, 512) (14034,)\n",
      "0 (100, 512) (100,)\n",
      "10 (1100, 512) (1100,)\n",
      "20 (2100, 512) (2100,)\n",
      "29 (3000, 512) (3000,)\n",
      "CPU times: user 1h 13min 31s, sys: 3min 35s, total: 1h 17min 7s\n",
      "Wall time: 39min 29s\n"
     ]
    }
   ],
   "source": [
    "%%time\n",
    "\n",
    "train_processing = kimage.ImageDataGenerator(\n",
    "    preprocessing_function=vgg16.preprocess_input)\n",
    "train_generator = train_processing.flow_from_directory('/content/data/seg_train/seg_train', \n",
    "                                                       batch_size=102,\n",
    "                                                       target_size=(150,150), shuffle=False)\n",
    "\n",
    "test_processing = kimage.ImageDataGenerator(\n",
    "    preprocessing_function=vgg16.preprocess_input)\n",
    "test_generator = test_processing.flow_from_directory('/content/data/seg_test/seg_test', \n",
    "                                                     batch_size=100,\n",
    "                                                     target_size=(150,150), shuffle=False)\n",
    "\n",
    "for i in range(138): #round(14034/102)\n",
    "  X, y = next(train_generator)\n",
    "  if i == 0:\n",
    "    X_train = model_2.predict(X)\n",
    "    y_train = np.argmax(y, axis=1)\n",
    "  else:\n",
    "    X_train = np.concatenate((X_train, model_2.predict(X)))\n",
    "    y_train = np.concatenate((y_train, np.argmax(y, axis=1)))\n",
    "  if i%10==0 or i == 137:\n",
    "    print(i, X_train.shape, y_train.shape)\n",
    "np.save('/content/drive/My Drive/pranav/X_train_2', X_train)\n",
    "np.save('/content/drive/My Drive/pranav/y_train_2', y_train)\n",
    "\n",
    "for i in range(30):\n",
    "  X, y = next(test_generator)\n",
    "  if i == 0:\n",
    "    X_test = model_2.predict(X)\n",
    "    y_test = np.argmax(y, axis=1)\n",
    "  else:\n",
    "    X_test = np.concatenate((X_test, model_2.predict(X)))\n",
    "    y_test = np.concatenate((y_test, np.argmax(y, axis=1)))\n",
    "  if i%10==0 or i == 29:\n",
    "    print(i, X_test.shape, y_test.shape)\n",
    "np.save('/content/drive/My Drive/pranav/X_test_2', X_test)\n",
    "np.save('/content/drive/My Drive/pranav/y_test_2', y_test)"
   ]
  },
  {
   "cell_type": "code",
   "execution_count": 0,
   "metadata": {
    "colab": {},
    "colab_type": "code",
    "id": "V_vWkwm_NJon"
   },
   "outputs": [],
   "source": [
    "X_train = np.load('/content/drive/My Drive/pranav/X_train_2.npy')\n",
    "y_train = np.load('/content/drive/My Drive/pranav/y_train_2.npy')\n",
    "X_test  = np.load('/content/drive/My Drive/pranav/X_test_2.npy')\n",
    "y_test  = np.load('/content/drive/My Drive/pranav/y_test_2.npy')\n",
    "\n",
    "X_train, y_train = shuffle(X_train, y_train)\n",
    "X_test, y_test = shuffle(X_test, y_test)"
   ]
  },
  {
   "cell_type": "code",
   "execution_count": 0,
   "metadata": {
    "colab": {},
    "colab_type": "code",
    "id": "PGyZo-qHzP59"
   },
   "outputs": [],
   "source": [
    "X_train, X_val, y_train, y_val = train_test_split(X_train, y_train, test_size=0.2)"
   ]
  },
  {
   "cell_type": "code",
   "execution_count": 30,
   "metadata": {
    "colab": {
     "base_uri": "https://localhost:8080/",
     "height": 493
    },
    "colab_type": "code",
    "id": "1tZWmVauODCB",
    "outputId": "24fcc17e-4968-433f-8873-aa8925ff8185"
   },
   "outputs": [
    {
     "name": "stdout",
     "output_type": "stream",
     "text": [
      "              precision    recall  f1-score   support\n",
      "\n",
      "           0       0.98      0.97      0.97      1759\n",
      "           1       1.00      1.00      1.00      1795\n",
      "           2       0.92      0.90      0.91      1947\n",
      "           3       0.91      0.92      0.92      2017\n",
      "           4       0.98      0.99      0.98      1802\n",
      "           5       0.97      0.98      0.98      1907\n",
      "\n",
      "    accuracy                           0.96     11227\n",
      "   macro avg       0.96      0.96      0.96     11227\n",
      "weighted avg       0.96      0.96      0.96     11227\n",
      "\n",
      "              precision    recall  f1-score   support\n",
      "\n",
      "           0       0.90      0.92      0.91       432\n",
      "           1       0.98      0.98      0.98       476\n",
      "           2       0.84      0.83      0.83       457\n",
      "           3       0.85      0.87      0.86       495\n",
      "           4       0.95      0.93      0.94       472\n",
      "           5       0.92      0.90      0.91       475\n",
      "\n",
      "    accuracy                           0.91      2807\n",
      "   macro avg       0.91      0.91      0.91      2807\n",
      "weighted avg       0.91      0.91      0.91      2807\n",
      "\n",
      "CPU times: user 5.18 s, sys: 46.2 ms, total: 5.23 s\n",
      "Wall time: 5.18 s\n"
     ]
    }
   ],
   "source": [
    "%%time\n",
    "svclassifier = LinearSVC(dual=False, C=1, tol=1e-3).fit(X_train, y_train)\n",
    "print(classification_report(y_train,svclassifier.predict(X_train)))\n",
    "print(classification_report(y_val,svclassifier.predict(X_val)))"
   ]
  },
  {
   "cell_type": "code",
   "execution_count": 31,
   "metadata": {
    "colab": {
     "base_uri": "https://localhost:8080/",
     "height": 238
    },
    "colab_type": "code",
    "id": "M6O2Ty_KOGW6",
    "outputId": "3bb3afa4-8302-46c1-c8a5-e4e76f6cd90c"
   },
   "outputs": [
    {
     "name": "stdout",
     "output_type": "stream",
     "text": [
      "              precision    recall  f1-score   support\n",
      "\n",
      "           0       0.90      0.90      0.90       437\n",
      "           1       0.99      1.00      0.99       474\n",
      "           2       0.87      0.82      0.85       553\n",
      "           3       0.83      0.88      0.86       525\n",
      "           4       0.92      0.94      0.93       510\n",
      "           5       0.92      0.91      0.91       501\n",
      "\n",
      "    accuracy                           0.90      3000\n",
      "   macro avg       0.91      0.91      0.91      3000\n",
      "weighted avg       0.90      0.90      0.90      3000\n",
      "\n"
     ]
    }
   ],
   "source": [
    "print(classification_report(y_test,svclassifier.predict(X_test)))"
   ]
  },
  {
   "cell_type": "code",
   "execution_count": 21,
   "metadata": {
    "colab": {
     "base_uri": "https://localhost:8080/",
     "height": 493
    },
    "colab_type": "code",
    "id": "nuWPin7SZsjt",
    "outputId": "e51816e4-ca80-42fe-a059-9f7a180e4cc1"
   },
   "outputs": [
    {
     "name": "stdout",
     "output_type": "stream",
     "text": [
      "              precision    recall  f1-score   support\n",
      "\n",
      "           0       0.97      0.89      0.93      1759\n",
      "           1       0.98      0.99      0.99      1795\n",
      "           2       0.86      0.94      0.90      1947\n",
      "           3       0.92      0.89      0.91      2017\n",
      "           4       0.99      0.92      0.95      1802\n",
      "           5       0.90      0.97      0.94      1907\n",
      "\n",
      "    accuracy                           0.93     11227\n",
      "   macro avg       0.94      0.93      0.93     11227\n",
      "weighted avg       0.94      0.93      0.93     11227\n",
      "\n",
      "              precision    recall  f1-score   support\n",
      "\n",
      "           0       0.94      0.77      0.85       432\n",
      "           1       0.97      0.98      0.98       476\n",
      "           2       0.76      0.87      0.81       457\n",
      "           3       0.85      0.81      0.83       495\n",
      "           4       0.95      0.87      0.91       472\n",
      "           5       0.82      0.94      0.88       475\n",
      "\n",
      "    accuracy                           0.88      2807\n",
      "   macro avg       0.88      0.87      0.88      2807\n",
      "weighted avg       0.88      0.88      0.88      2807\n",
      "\n",
      "CPU times: user 2min 32s, sys: 98.7 ms, total: 2min 32s\n",
      "Wall time: 2min 32s\n"
     ]
    }
   ],
   "source": [
    "%%time\n",
    "knnclassifier = KNeighborsClassifier(n_neighbors=3).fit(X_train, y_train)\n",
    "print(classification_report(y_train,knnclassifier.predict(X_train)))\n",
    "print(classification_report(y_val,knnclassifier.predict(X_val)))"
   ]
  },
  {
   "cell_type": "code",
   "execution_count": 22,
   "metadata": {
    "colab": {
     "base_uri": "https://localhost:8080/",
     "height": 238
    },
    "colab_type": "code",
    "id": "RqctUEP6ZuAt",
    "outputId": "98311db5-78e9-4f04-8258-1601dcb94f3b"
   },
   "outputs": [
    {
     "name": "stdout",
     "output_type": "stream",
     "text": [
      "              precision    recall  f1-score   support\n",
      "\n",
      "           0       0.96      0.77      0.85       437\n",
      "           1       0.98      1.00      0.99       474\n",
      "           2       0.78      0.88      0.82       553\n",
      "           3       0.85      0.78      0.81       525\n",
      "           4       0.95      0.88      0.91       510\n",
      "           5       0.82      0.96      0.88       501\n",
      "\n",
      "    accuracy                           0.88      3000\n",
      "   macro avg       0.89      0.88      0.88      3000\n",
      "weighted avg       0.88      0.88      0.88      3000\n",
      "\n"
     ]
    }
   ],
   "source": [
    "print(classification_report(y_test,knnclassifier.predict(X_test)))"
   ]
  },
  {
   "cell_type": "markdown",
   "metadata": {
    "colab_type": "text",
    "id": "z5AvifJ7NA6k"
   },
   "source": [
    "#Third Cut"
   ]
  },
  {
   "cell_type": "code",
   "execution_count": 32,
   "metadata": {
    "colab": {
     "base_uri": "https://localhost:8080/",
     "height": 425
    },
    "colab_type": "code",
    "id": "FkwTiwF3LmEB",
    "outputId": "4fd55490-c39b-4370-d4d4-1aad0b54fbad"
   },
   "outputs": [
    {
     "name": "stdout",
     "output_type": "stream",
     "text": [
      "Model: \"model_1\"\n",
      "_________________________________________________________________\n",
      "Layer (type)                 Output Shape              Param #   \n",
      "=================================================================\n",
      "input_1 (InputLayer)         [(None, 150, 150, 3)]     0         \n",
      "_________________________________________________________________\n",
      "block1_conv1 (Conv2D)        (None, 150, 150, 64)      1792      \n",
      "_________________________________________________________________\n",
      "block1_conv2 (Conv2D)        (None, 150, 150, 64)      36928     \n",
      "_________________________________________________________________\n",
      "block1_pool (MaxPooling2D)   (None, 75, 75, 64)        0         \n",
      "_________________________________________________________________\n",
      "block2_conv1 (Conv2D)        (None, 75, 75, 128)       73856     \n",
      "_________________________________________________________________\n",
      "block2_conv2 (Conv2D)        (None, 75, 75, 128)       147584    \n",
      "_________________________________________________________________\n",
      "block2_pool (MaxPooling2D)   (None, 37, 37, 128)       0         \n",
      "_________________________________________________________________\n",
      "global_average_pooling2d_2 ( (None, 128)               0         \n",
      "=================================================================\n",
      "Total params: 260,160\n",
      "Trainable params: 260,160\n",
      "Non-trainable params: 0\n",
      "_________________________________________________________________\n"
     ]
    }
   ],
   "source": [
    "x = GlobalAveragePooling2D()(model.layers[-14].output)\n",
    "model_3 = Model(model.input, x)\n",
    "model_3.compile(loss='mse',optimizer='sgd')\n",
    "model_3.summary()"
   ]
  },
  {
   "cell_type": "code",
   "execution_count": 33,
   "metadata": {
    "colab": {
     "base_uri": "https://localhost:8080/",
     "height": 408
    },
    "colab_type": "code",
    "id": "Smj5R4OqM-VJ",
    "outputId": "5874d95b-9a1a-4562-a164-41247b8c10d3"
   },
   "outputs": [
    {
     "name": "stdout",
     "output_type": "stream",
     "text": [
      "Found 14034 images belonging to 6 classes.\n",
      "Found 3000 images belonging to 6 classes.\n",
      "0 (102, 128) (102,)\n",
      "10 (1122, 128) (1122,)\n",
      "20 (2142, 128) (2142,)\n",
      "30 (3162, 128) (3162,)\n",
      "40 (4182, 128) (4182,)\n",
      "50 (5202, 128) (5202,)\n",
      "60 (6222, 128) (6222,)\n",
      "70 (7242, 128) (7242,)\n",
      "80 (8262, 128) (8262,)\n",
      "90 (9282, 128) (9282,)\n",
      "100 (10302, 128) (10302,)\n",
      "110 (11322, 128) (11322,)\n",
      "120 (12342, 128) (12342,)\n",
      "130 (13362, 128) (13362,)\n",
      "137 (14034, 128) (14034,)\n",
      "0 (100, 128) (100,)\n",
      "10 (1100, 128) (1100,)\n",
      "20 (2100, 128) (2100,)\n",
      "29 (3000, 128) (3000,)\n",
      "CPU times: user 33min 46s, sys: 1min 56s, total: 35min 42s\n",
      "Wall time: 18min 24s\n"
     ]
    }
   ],
   "source": [
    "%%time\n",
    "\n",
    "train_processing = kimage.ImageDataGenerator(\n",
    "    preprocessing_function=vgg16.preprocess_input)\n",
    "train_generator = train_processing.flow_from_directory('/content/data/seg_train/seg_train', \n",
    "                                                       batch_size=102,\n",
    "                                                       target_size=(150,150), shuffle=False)\n",
    "\n",
    "test_processing = kimage.ImageDataGenerator(\n",
    "    preprocessing_function=vgg16.preprocess_input)\n",
    "test_generator = test_processing.flow_from_directory('/content/data/seg_test/seg_test', \n",
    "                                                     batch_size=100,\n",
    "                                                     target_size=(150,150), shuffle=False)\n",
    "\n",
    "for i in range(138): #round(14034/102)\n",
    "  X, y = next(train_generator)\n",
    "  if i == 0:\n",
    "    X_train = model_3.predict(X)\n",
    "    y_train = np.argmax(y, axis=1)\n",
    "  else:\n",
    "    X_train = np.concatenate((X_train, model_3.predict(X)))\n",
    "    y_train = np.concatenate((y_train, np.argmax(y, axis=1)))\n",
    "  if i%10==0 or i == 137:\n",
    "    print(i, X_train.shape, y_train.shape)\n",
    "np.save('/content/drive/My Drive/pranav/X_train_3', X_train)\n",
    "np.save('/content/drive/My Drive/pranav/y_train_3', y_train)\n",
    "\n",
    "for i in range(30):\n",
    "  X, y = next(test_generator)\n",
    "  if i == 0:\n",
    "    X_test = model_3.predict(X)\n",
    "    y_test = np.argmax(y, axis=1)\n",
    "  else:\n",
    "    X_test = np.concatenate((X_test, model_3.predict(X)))\n",
    "    y_test = np.concatenate((y_test, np.argmax(y, axis=1)))\n",
    "  if i%10==0 or i == 29:\n",
    "    print(i, X_test.shape, y_test.shape)\n",
    "np.save('/content/drive/My Drive/pranav/X_test_3', X_test)\n",
    "np.save('/content/drive/My Drive/pranav/y_test_3', y_test)"
   ]
  },
  {
   "cell_type": "code",
   "execution_count": 0,
   "metadata": {
    "colab": {},
    "colab_type": "code",
    "id": "Sr_sdQavOuOs"
   },
   "outputs": [],
   "source": [
    "X_train = np.load('/content/drive/My Drive/pranav/X_train_3.npy')\n",
    "y_train = np.load('/content/drive/My Drive/pranav/y_train_3.npy')\n",
    "X_test  = np.load('/content/drive/My Drive/pranav/X_test_3.npy')\n",
    "y_test  = np.load('/content/drive/My Drive/pranav/y_test_3.npy')\n",
    "\n",
    "X_train, y_train = shuffle(X_train, y_train)\n",
    "X_test, y_test = shuffle(X_test, y_test)"
   ]
  },
  {
   "cell_type": "code",
   "execution_count": 0,
   "metadata": {
    "colab": {},
    "colab_type": "code",
    "id": "AsyeGhMe0WMc"
   },
   "outputs": [],
   "source": [
    "X_train, X_val, y_train, y_val = train_test_split(X_train, y_train, test_size=0.2)"
   ]
  },
  {
   "cell_type": "code",
   "execution_count": 40,
   "metadata": {
    "colab": {
     "base_uri": "https://localhost:8080/",
     "height": 493
    },
    "colab_type": "code",
    "id": "RBy8M9U2OuHW",
    "outputId": "f12e71ed-aba7-4267-f74f-e81acff2d148"
   },
   "outputs": [
    {
     "name": "stdout",
     "output_type": "stream",
     "text": [
      "              precision    recall  f1-score   support\n",
      "\n",
      "           0       0.84      0.80      0.82      1742\n",
      "           1       0.96      0.97      0.97      1811\n",
      "           2       0.82      0.79      0.80      1904\n",
      "           3       0.78      0.81      0.80      2021\n",
      "           4       0.85      0.85      0.85      1822\n",
      "           5       0.82      0.85      0.83      1927\n",
      "\n",
      "    accuracy                           0.85     11227\n",
      "   macro avg       0.85      0.85      0.85     11227\n",
      "weighted avg       0.85      0.85      0.85     11227\n",
      "\n",
      "              precision    recall  f1-score   support\n",
      "\n",
      "           0       0.83      0.79      0.81       449\n",
      "           1       0.96      0.97      0.96       460\n",
      "           2       0.79      0.80      0.80       500\n",
      "           3       0.78      0.79      0.79       491\n",
      "           4       0.83      0.82      0.82       452\n",
      "           5       0.81      0.83      0.82       455\n",
      "\n",
      "    accuracy                           0.83      2807\n",
      "   macro avg       0.83      0.83      0.83      2807\n",
      "weighted avg       0.83      0.83      0.83      2807\n",
      "\n",
      "CPU times: user 2.29 s, sys: 33 ms, total: 2.32 s\n",
      "Wall time: 2.29 s\n"
     ]
    }
   ],
   "source": [
    "%%time\n",
    "svclassifier = LinearSVC(dual=False, C=0.1, tol=1e-3).fit(X_train, y_train)\n",
    "print(classification_report(y_train,svclassifier.predict(X_train)))\n",
    "print(classification_report(y_val,svclassifier.predict(X_val)))"
   ]
  },
  {
   "cell_type": "code",
   "execution_count": 41,
   "metadata": {
    "colab": {
     "base_uri": "https://localhost:8080/",
     "height": 238
    },
    "colab_type": "code",
    "id": "kE29p8vsOzzS",
    "outputId": "7590bfa5-1c64-4b65-e8c1-d97ca220c608"
   },
   "outputs": [
    {
     "name": "stdout",
     "output_type": "stream",
     "text": [
      "              precision    recall  f1-score   support\n",
      "\n",
      "           0       0.83      0.78      0.81       437\n",
      "           1       0.95      0.97      0.96       474\n",
      "           2       0.81      0.77      0.79       553\n",
      "           3       0.76      0.81      0.79       525\n",
      "           4       0.84      0.84      0.84       510\n",
      "           5       0.83      0.85      0.84       501\n",
      "\n",
      "    accuracy                           0.83      3000\n",
      "   macro avg       0.84      0.84      0.84      3000\n",
      "weighted avg       0.84      0.83      0.83      3000\n",
      "\n"
     ]
    }
   ],
   "source": [
    "print(classification_report(y_test,svclassifier.predict(X_test)))"
   ]
  },
  {
   "cell_type": "code",
   "execution_count": 0,
   "metadata": {
    "colab": {},
    "colab_type": "code",
    "id": "Fs-zW2enPPOk"
   },
   "outputs": [],
   "source": []
  }
 ],
 "metadata": {
  "accelerator": "GPU",
  "colab": {
   "collapsed_sections": [],
   "name": "Assignment 4.ipynb",
   "provenance": []
  },
  "kernelspec": {
   "display_name": "Python 3",
   "language": "python",
   "name": "python3"
  },
  "language_info": {
   "codemirror_mode": {
    "name": "ipython",
    "version": 3
   },
   "file_extension": ".py",
   "mimetype": "text/x-python",
   "name": "python",
   "nbconvert_exporter": "python",
   "pygments_lexer": "ipython3",
   "version": "3.7.5"
  }
 },
 "nbformat": 4,
 "nbformat_minor": 1
}
