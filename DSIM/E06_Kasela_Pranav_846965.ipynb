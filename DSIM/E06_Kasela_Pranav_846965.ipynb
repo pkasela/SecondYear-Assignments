{
  "nbformat": 4,
  "nbformat_minor": 0,
  "metadata": {
    "colab": {
      "name": "E06_Kasela_Pranav_846965.ipynb",
      "provenance": [],
      "collapsed_sections": []
    },
    "kernelspec": {
      "name": "python3",
      "display_name": "Python 3"
    },
    "accelerator": "GPU"
  },
  "cells": [
    {
      "cell_type": "code",
      "metadata": {
        "id": "937Oe3GYK6Au",
        "colab_type": "code",
        "colab": {
          "base_uri": "https://localhost:8080/",
          "height": 68
        },
        "outputId": "0896d658-20d3-41ca-af1f-f365bd9be841"
      },
      "source": [
        "%tensorflow_version 2.x\n",
        "import numpy as np\n",
        "\n",
        "import matplotlib.pyplot as plt\n",
        "import seaborn as sns\n",
        "\n",
        "from sklearn.metrics import classification_report, confusion_matrix\n",
        "\n",
        "import tensorflow as tf\n",
        "import tensorflow.keras as keras\n",
        "from tensorflow.keras.datasets import mnist\n",
        "from tensorflow.keras.models import Model\n",
        "from tensorflow.keras.layers import Dense, GlobalAveragePooling2D\n",
        "from tensorflow.keras.callbacks import EarlyStopping, ReduceLROnPlateau\n",
        "\n",
        "early = EarlyStopping(monitor='val_loss', patience=6, verbose=1)\n",
        "lr_decay = ReduceLROnPlateau(monitor='val_loss', \n",
        "                             patience=3, verbose=1, \n",
        "                             factor=0.5, min_lr=1e-4)\n",
        "%matplotlib inline\n",
        "\n",
        "\n",
        "print(\"Tesorflow Version:\", tf.__version__)\n",
        "print(\"Keras Version:\",keras.__version__)"
      ],
      "execution_count": 1,
      "outputs": [
        {
          "output_type": "stream",
          "text": [
            "TensorFlow 2.x selected.\n",
            "Tesorflow Version: 2.1.0-rc1\n",
            "Keras Version: 2.2.4-tf\n"
          ],
          "name": "stdout"
        }
      ]
    },
    {
      "cell_type": "code",
      "metadata": {
        "id": "6Loa0ZyMLcHL",
        "colab_type": "code",
        "colab": {}
      },
      "source": [
        "#!wget https://www.dropbox.com/s/drwy7fq5svwv78p/101_ObjectCategories_split.tar\n",
        "!tar xf 101_ObjectCategories_split.tar"
      ],
      "execution_count": 0,
      "outputs": []
    },
    {
      "cell_type": "code",
      "metadata": {
        "id": "kj1iCNCeLweV",
        "colab_type": "code",
        "colab": {}
      },
      "source": [
        "from tensorflow.keras.preprocessing import image as kimage\n",
        "from tensorflow.keras.applications import vgg19"
      ],
      "execution_count": 0,
      "outputs": []
    },
    {
      "cell_type": "code",
      "metadata": {
        "id": "6BxamLIOL4lx",
        "colab_type": "code",
        "colab": {
          "base_uri": "https://localhost:8080/",
          "height": 51
        },
        "outputId": "e9192b4c-5e04-4d1c-d2c1-7fdb8158ce0f"
      },
      "source": [
        "train_processing = kimage.ImageDataGenerator(rotation_range=30, brightness_range=[0.2,1.0],\n",
        "    preprocessing_function=vgg19.preprocess_input)\n",
        "train_generator = train_processing.flow_from_directory('101_ObjectCategories_split/train', \n",
        "                                                       target_size=(224,224), \n",
        "                                                       batch_size=300,\n",
        "                                                       seed=1, \n",
        "                                                       shuffle=True)\n",
        "\n",
        "\n",
        "test_processing = kimage.ImageDataGenerator(\n",
        "    preprocessing_function=vgg19.preprocess_input)\n",
        "test_generator = test_processing.flow_from_directory('101_ObjectCategories_split/test', \n",
        "                                                     target_size=(224,224), \n",
        "                                                     batch_size=100,\n",
        "                                                     seed=1, \n",
        "                                                     shuffle=True)"
      ],
      "execution_count": 11,
      "outputs": [
        {
          "output_type": "stream",
          "text": [
            "Found 4600 images belonging to 102 classes.\n",
            "Found 4544 images belonging to 102 classes.\n"
          ],
          "name": "stdout"
        }
      ]
    },
    {
      "cell_type": "code",
      "metadata": {
        "id": "GX33PkeNL_YQ",
        "colab_type": "code",
        "colab": {}
      },
      "source": [
        "model = vgg19.VGG19(include_top=False, weights='imagenet', \n",
        "                    pooling='avg', input_shape = (224, 224, 3))"
      ],
      "execution_count": 0,
      "outputs": []
    },
    {
      "cell_type": "code",
      "metadata": {
        "id": "h8DLg6izNqQv",
        "colab_type": "code",
        "colab": {}
      },
      "source": [
        "for layer in model.layers:\n",
        "  layer.trainable = False\n",
        "\n",
        "x = Dense(1024, activation='relu')(model.output)\n",
        "x = Dense(512, activation='relu')(x)\n",
        "pred = Dense(102, activation='softmax')(x)\n",
        "\n",
        "net = Model(model.input, pred)\n",
        "net.compile(loss='categorical_crossentropy', \n",
        "            optimizer=tf.keras.optimizers.Adam(), \n",
        "            metrics=['accuracy']) "
      ],
      "execution_count": 0,
      "outputs": []
    },
    {
      "cell_type": "code",
      "metadata": {
        "id": "V5a0gvGrmDBR",
        "colab_type": "code",
        "colab": {
          "base_uri": "https://localhost:8080/",
          "height": 34
        },
        "outputId": "c7ffcdf0-1c52-479b-97cc-cc1ba5aec056"
      },
      "source": [
        "len(model.layers)"
      ],
      "execution_count": 17,
      "outputs": [
        {
          "output_type": "execute_result",
          "data": {
            "text/plain": [
              "23"
            ]
          },
          "metadata": {
            "tags": []
          },
          "execution_count": 17
        }
      ]
    },
    {
      "cell_type": "code",
      "metadata": {
        "id": "j5VtJwSQQ00p",
        "colab_type": "code",
        "colab": {
          "base_uri": "https://localhost:8080/",
          "height": 1000
        },
        "outputId": "00c1bba8-6c85-46ea-d4a5-458336f56a54"
      },
      "source": [
        "net.summary()"
      ],
      "execution_count": 14,
      "outputs": [
        {
          "output_type": "stream",
          "text": [
            "Model: \"model_2\"\n",
            "_________________________________________________________________\n",
            "Layer (type)                 Output Shape              Param #   \n",
            "=================================================================\n",
            "input_2 (InputLayer)         [(None, 224, 224, 3)]     0         \n",
            "_________________________________________________________________\n",
            "block1_conv1 (Conv2D)        (None, 224, 224, 64)      1792      \n",
            "_________________________________________________________________\n",
            "block1_conv2 (Conv2D)        (None, 224, 224, 64)      36928     \n",
            "_________________________________________________________________\n",
            "block1_pool (MaxPooling2D)   (None, 112, 112, 64)      0         \n",
            "_________________________________________________________________\n",
            "block2_conv1 (Conv2D)        (None, 112, 112, 128)     73856     \n",
            "_________________________________________________________________\n",
            "block2_conv2 (Conv2D)        (None, 112, 112, 128)     147584    \n",
            "_________________________________________________________________\n",
            "block2_pool (MaxPooling2D)   (None, 56, 56, 128)       0         \n",
            "_________________________________________________________________\n",
            "block3_conv1 (Conv2D)        (None, 56, 56, 256)       295168    \n",
            "_________________________________________________________________\n",
            "block3_conv2 (Conv2D)        (None, 56, 56, 256)       590080    \n",
            "_________________________________________________________________\n",
            "block3_conv3 (Conv2D)        (None, 56, 56, 256)       590080    \n",
            "_________________________________________________________________\n",
            "block3_conv4 (Conv2D)        (None, 56, 56, 256)       590080    \n",
            "_________________________________________________________________\n",
            "block3_pool (MaxPooling2D)   (None, 28, 28, 256)       0         \n",
            "_________________________________________________________________\n",
            "block4_conv1 (Conv2D)        (None, 28, 28, 512)       1180160   \n",
            "_________________________________________________________________\n",
            "block4_conv2 (Conv2D)        (None, 28, 28, 512)       2359808   \n",
            "_________________________________________________________________\n",
            "block4_conv3 (Conv2D)        (None, 28, 28, 512)       2359808   \n",
            "_________________________________________________________________\n",
            "block4_conv4 (Conv2D)        (None, 28, 28, 512)       2359808   \n",
            "_________________________________________________________________\n",
            "block4_pool (MaxPooling2D)   (None, 14, 14, 512)       0         \n",
            "_________________________________________________________________\n",
            "block5_conv1 (Conv2D)        (None, 14, 14, 512)       2359808   \n",
            "_________________________________________________________________\n",
            "block5_conv2 (Conv2D)        (None, 14, 14, 512)       2359808   \n",
            "_________________________________________________________________\n",
            "block5_conv3 (Conv2D)        (None, 14, 14, 512)       2359808   \n",
            "_________________________________________________________________\n",
            "block5_conv4 (Conv2D)        (None, 14, 14, 512)       2359808   \n",
            "_________________________________________________________________\n",
            "block5_pool (MaxPooling2D)   (None, 7, 7, 512)         0         \n",
            "_________________________________________________________________\n",
            "global_average_pooling2d_1 ( (None, 512)               0         \n",
            "_________________________________________________________________\n",
            "dense_6 (Dense)              (None, 1024)              525312    \n",
            "_________________________________________________________________\n",
            "dense_7 (Dense)              (None, 512)               524800    \n",
            "_________________________________________________________________\n",
            "dense_8 (Dense)              (None, 102)               52326     \n",
            "=================================================================\n",
            "Total params: 21,126,822\n",
            "Trainable params: 1,102,438\n",
            "Non-trainable params: 20,024,384\n",
            "_________________________________________________________________\n"
          ],
          "name": "stdout"
        }
      ]
    },
    {
      "cell_type": "code",
      "metadata": {
        "id": "z-QaXYQzOHWS",
        "colab_type": "code",
        "colab": {
          "base_uri": "https://localhost:8080/",
          "height": 935
        },
        "outputId": "27929f78-fbfa-4e06-928c-88a76a6d9d73"
      },
      "source": [
        "history = net.fit_generator(train_generator, \n",
        "                            epochs=20, \n",
        "                            validation_data=test_generator,\n",
        "                            validation_steps=10,\n",
        "                            callbacks=[lr_decay, early])"
      ],
      "execution_count": 15,
      "outputs": [
        {
          "output_type": "stream",
          "text": [
            "WARNING:tensorflow:sample_weight modes were coerced from\n",
            "  ...\n",
            "    to  \n",
            "  ['...']\n",
            "WARNING:tensorflow:sample_weight modes were coerced from\n",
            "  ...\n",
            "    to  \n",
            "  ['...']\n",
            "Train for 16 steps, validate for 10 steps\n",
            "Epoch 1/20\n",
            "16/16 [==============================] - 67s 4s/step - loss: 2.7217 - accuracy: 0.4707 - val_loss: 1.2289 - val_accuracy: 0.7060\n",
            "Epoch 2/20\n",
            "16/16 [==============================] - 67s 4s/step - loss: 0.7954 - accuracy: 0.7943 - val_loss: 0.8027 - val_accuracy: 0.8180\n",
            "Epoch 3/20\n",
            "16/16 [==============================] - 67s 4s/step - loss: 0.4412 - accuracy: 0.8713 - val_loss: 1.0424 - val_accuracy: 0.8010\n",
            "Epoch 4/20\n",
            "16/16 [==============================] - 66s 4s/step - loss: 0.2939 - accuracy: 0.9174 - val_loss: 0.7090 - val_accuracy: 0.8560\n",
            "Epoch 5/20\n",
            "16/16 [==============================] - 66s 4s/step - loss: 0.2020 - accuracy: 0.9411 - val_loss: 0.7408 - val_accuracy: 0.8580\n",
            "Epoch 6/20\n",
            "16/16 [==============================] - 69s 4s/step - loss: 0.1384 - accuracy: 0.9630 - val_loss: 0.6837 - val_accuracy: 0.8610\n",
            "Epoch 7/20\n",
            "16/16 [==============================] - 67s 4s/step - loss: 0.1256 - accuracy: 0.9689 - val_loss: 0.7819 - val_accuracy: 0.8520\n",
            "Epoch 8/20\n",
            "16/16 [==============================] - 67s 4s/step - loss: 0.0950 - accuracy: 0.9759 - val_loss: 0.6827 - val_accuracy: 0.8680\n",
            "Epoch 9/20\n",
            "16/16 [==============================] - 66s 4s/step - loss: 0.0839 - accuracy: 0.9791 - val_loss: 0.7696 - val_accuracy: 0.8600\n",
            "Epoch 10/20\n",
            "16/16 [==============================] - 67s 4s/step - loss: 0.0768 - accuracy: 0.9800 - val_loss: 0.7298 - val_accuracy: 0.8670\n",
            "Epoch 11/20\n",
            "15/16 [===========================>..] - ETA: 3s - loss: 0.0714 - accuracy: 0.9793\n",
            "Epoch 00011: ReduceLROnPlateau reducing learning rate to 0.0005000000237487257.\n",
            "16/16 [==============================] - 66s 4s/step - loss: 0.0741 - accuracy: 0.9785 - val_loss: 0.7612 - val_accuracy: 0.8590\n",
            "Epoch 12/20\n",
            "16/16 [==============================] - 67s 4s/step - loss: 0.0496 - accuracy: 0.9874 - val_loss: 0.7387 - val_accuracy: 0.8650\n",
            "Epoch 13/20\n",
            "16/16 [==============================] - 66s 4s/step - loss: 0.0396 - accuracy: 0.9922 - val_loss: 0.6777 - val_accuracy: 0.8730\n",
            "Epoch 14/20\n",
            "16/16 [==============================] - 66s 4s/step - loss: 0.0290 - accuracy: 0.9935 - val_loss: 0.7122 - val_accuracy: 0.8750\n",
            "Epoch 15/20\n",
            "16/16 [==============================] - 66s 4s/step - loss: 0.0250 - accuracy: 0.9946 - val_loss: 0.7307 - val_accuracy: 0.8700\n",
            "Epoch 16/20\n",
            "15/16 [===========================>..] - ETA: 4s - loss: 0.0220 - accuracy: 0.9960\n",
            "Epoch 00016: ReduceLROnPlateau reducing learning rate to 0.0002500000118743628.\n",
            "16/16 [==============================] - 67s 4s/step - loss: 0.0218 - accuracy: 0.9959 - val_loss: 0.7057 - val_accuracy: 0.8730\n",
            "Epoch 17/20\n",
            "16/16 [==============================] - 67s 4s/step - loss: 0.0203 - accuracy: 0.9965 - val_loss: 0.7039 - val_accuracy: 0.8710\n",
            "Epoch 18/20\n",
            "16/16 [==============================] - 67s 4s/step - loss: 0.0177 - accuracy: 0.9967 - val_loss: 0.7007 - val_accuracy: 0.8790\n",
            "Epoch 19/20\n",
            "15/16 [===========================>..] - ETA: 3s - loss: 0.0160 - accuracy: 0.9970\n",
            "Epoch 00019: ReduceLROnPlateau reducing learning rate to 0.0001250000059371814.\n",
            "16/16 [==============================] - 67s 4s/step - loss: 0.0158 - accuracy: 0.9972 - val_loss: 0.7002 - val_accuracy: 0.8740\n",
            "Epoch 00019: early stopping\n"
          ],
          "name": "stdout"
        }
      ]
    },
    {
      "cell_type": "code",
      "metadata": {
        "id": "SzYITONBQ4fB",
        "colab_type": "code",
        "colab": {
          "base_uri": "https://localhost:8080/",
          "height": 442
        },
        "outputId": "2a27c80a-8557-42a8-8c0a-250f1375dd4e"
      },
      "source": [
        "plt.figure(figsize=(15,7))\n",
        "ax1 = plt.subplot(121)\n",
        "plt.xlabel('Epochs')\n",
        "plt.ylabel('Loss')\n",
        "ax1.plot(history.history['loss'])\n",
        "ax1.plot(history.history['val_loss'])\n",
        "ax1.legend(['Training', 'Validation'])\n",
        "\n",
        "ax2 = plt.subplot(122)\n",
        "plt.xlabel('Epochs')\n",
        "plt.ylabel('Accuracy')\n",
        "ax2.plot(history.history['accuracy'])\n",
        "ax2.plot(history.history['val_accuracy'])\n",
        "ax2.legend(['Training', 'Validation'], loc='lower right')\n",
        "plt.show()"
      ],
      "execution_count": 16,
      "outputs": [
        {
          "output_type": "display_data",
          "data": {
            "image/png": "[encoded data removed]",
            "text/plain": [
              "<Figure size 1080x504 with 2 Axes>"
            ]
          },
          "metadata": {
            "tags": []
          }
        }
      ]
    },
    {
      "cell_type": "code",
      "metadata": {
        "id": "7hFAqULWmPQY",
        "colab_type": "code",
        "colab": {
          "base_uri": "https://localhost:8080/",
          "height": 119
        },
        "outputId": "aebca3a1-66a3-4907-eb46-e00a04567de3"
      },
      "source": [
        "net.evaluate(test_generator)"
      ],
      "execution_count": 18,
      "outputs": [
        {
          "output_type": "stream",
          "text": [
            "WARNING:tensorflow:sample_weight modes were coerced from\n",
            "  ...\n",
            "    to  \n",
            "  ['...']\n",
            "46/46 [==============================] - 13s 292ms/step - loss: 0.5795 - accuracy: 0.8926\n"
          ],
          "name": "stdout"
        },
        {
          "output_type": "execute_result",
          "data": {
            "text/plain": [
              "[0.5794544524472692, 0.89260566]"
            ]
          },
          "metadata": {
            "tags": []
          },
          "execution_count": 18
        }
      ]
    },
    {
      "cell_type": "markdown",
      "metadata": {
        "id": "9IClckbMNsES",
        "colab_type": "text"
      },
      "source": [
        "# 2."
      ]
    },
    {
      "cell_type": "code",
      "metadata": {
        "id": "HG8vG6YvaqOk",
        "colab_type": "code",
        "colab": {
          "base_uri": "https://localhost:8080/",
          "height": 935
        },
        "outputId": "9a8ef22b-f1ce-4226-8561-2745664aa258"
      },
      "source": [
        "x = GlobalAveragePooling2D()(model.layers[-4].output)\n",
        "\n",
        "x = Dense(512, activation='relu')(x)\n",
        "pred = Dense(102, activation='softmax')(x)\n",
        "\n",
        "net_2 = Model(model.input, pred)\n",
        "net_2.compile(loss='categorical_crossentropy', \n",
        "            optimizer=tf.keras.optimizers.Adam(), \n",
        "            metrics=['accuracy'])\n",
        "net_2.summary()"
      ],
      "execution_count": 21,
      "outputs": [
        {
          "output_type": "stream",
          "text": [
            "Model: \"model_5\"\n",
            "_________________________________________________________________\n",
            "Layer (type)                 Output Shape              Param #   \n",
            "=================================================================\n",
            "input_2 (InputLayer)         [(None, 224, 224, 3)]     0         \n",
            "_________________________________________________________________\n",
            "block1_conv1 (Conv2D)        (None, 224, 224, 64)      1792      \n",
            "_________________________________________________________________\n",
            "block1_conv2 (Conv2D)        (None, 224, 224, 64)      36928     \n",
            "_________________________________________________________________\n",
            "block1_pool (MaxPooling2D)   (None, 112, 112, 64)      0         \n",
            "_________________________________________________________________\n",
            "block2_conv1 (Conv2D)        (None, 112, 112, 128)     73856     \n",
            "_________________________________________________________________\n",
            "block2_conv2 (Conv2D)        (None, 112, 112, 128)     147584    \n",
            "_________________________________________________________________\n",
            "block2_pool (MaxPooling2D)   (None, 56, 56, 128)       0         \n",
            "_________________________________________________________________\n",
            "block3_conv1 (Conv2D)        (None, 56, 56, 256)       295168    \n",
            "_________________________________________________________________\n",
            "block3_conv2 (Conv2D)        (None, 56, 56, 256)       590080    \n",
            "_________________________________________________________________\n",
            "block3_conv3 (Conv2D)        (None, 56, 56, 256)       590080    \n",
            "_________________________________________________________________\n",
            "block3_conv4 (Conv2D)        (None, 56, 56, 256)       590080    \n",
            "_________________________________________________________________\n",
            "block3_pool (MaxPooling2D)   (None, 28, 28, 256)       0         \n",
            "_________________________________________________________________\n",
            "block4_conv1 (Conv2D)        (None, 28, 28, 512)       1180160   \n",
            "_________________________________________________________________\n",
            "block4_conv2 (Conv2D)        (None, 28, 28, 512)       2359808   \n",
            "_________________________________________________________________\n",
            "block4_conv3 (Conv2D)        (None, 28, 28, 512)       2359808   \n",
            "_________________________________________________________________\n",
            "block4_conv4 (Conv2D)        (None, 28, 28, 512)       2359808   \n",
            "_________________________________________________________________\n",
            "block4_pool (MaxPooling2D)   (None, 14, 14, 512)       0         \n",
            "_________________________________________________________________\n",
            "block5_conv1 (Conv2D)        (None, 14, 14, 512)       2359808   \n",
            "_________________________________________________________________\n",
            "block5_conv2 (Conv2D)        (None, 14, 14, 512)       2359808   \n",
            "_________________________________________________________________\n",
            "block5_conv3 (Conv2D)        (None, 14, 14, 512)       2359808   \n",
            "_________________________________________________________________\n",
            "global_average_pooling2d_4 ( (None, 512)               0         \n",
            "_________________________________________________________________\n",
            "dense_13 (Dense)             (None, 512)               262656    \n",
            "_________________________________________________________________\n",
            "dense_14 (Dense)             (None, 102)               52326     \n",
            "=================================================================\n",
            "Total params: 17,979,558\n",
            "Trainable params: 314,982\n",
            "Non-trainable params: 17,664,576\n",
            "_________________________________________________________________\n"
          ],
          "name": "stdout"
        }
      ]
    },
    {
      "cell_type": "code",
      "metadata": {
        "id": "XqMeQ9yYa5cx",
        "colab_type": "code",
        "colab": {
          "base_uri": "https://localhost:8080/",
          "height": 1000
        },
        "outputId": "d9ded624-4f24-48b1-cd72-f13e00744b7b"
      },
      "source": [
        "history = net_2.fit_generator(train_generator, \n",
        "                            epochs=50, \n",
        "                            validation_data=test_generator,\n",
        "                            validation_steps=10,\n",
        "                            callbacks=[lr_decay, early])"
      ],
      "execution_count": 22,
      "outputs": [
        {
          "output_type": "stream",
          "text": [
            "WARNING:tensorflow:sample_weight modes were coerced from\n",
            "  ...\n",
            "    to  \n",
            "  ['...']\n",
            "WARNING:tensorflow:sample_weight modes were coerced from\n",
            "  ...\n",
            "    to  \n",
            "  ['...']\n",
            "Train for 16 steps, validate for 10 steps\n",
            "Epoch 1/50\n",
            "16/16 [==============================] - 67s 4s/step - loss: 9.2423 - accuracy: 0.2189 - val_loss: 6.3667 - val_accuracy: 0.3810\n",
            "Epoch 2/50\n",
            "16/16 [==============================] - 67s 4s/step - loss: 3.3549 - accuracy: 0.4787 - val_loss: 3.4768 - val_accuracy: 0.5290\n",
            "Epoch 3/50\n",
            "16/16 [==============================] - 65s 4s/step - loss: 1.9780 - accuracy: 0.6087 - val_loss: 2.3099 - val_accuracy: 0.6270\n",
            "Epoch 4/50\n",
            "16/16 [==============================] - 67s 4s/step - loss: 1.2979 - accuracy: 0.7024 - val_loss: 1.6103 - val_accuracy: 0.6720\n",
            "Epoch 5/50\n",
            "16/16 [==============================] - 67s 4s/step - loss: 0.9227 - accuracy: 0.7591 - val_loss: 1.4312 - val_accuracy: 0.7260\n",
            "Epoch 6/50\n",
            "16/16 [==============================] - 66s 4s/step - loss: 0.7400 - accuracy: 0.8033 - val_loss: 1.3529 - val_accuracy: 0.7480\n",
            "Epoch 7/50\n",
            "16/16 [==============================] - 66s 4s/step - loss: 0.5957 - accuracy: 0.8367 - val_loss: 1.1289 - val_accuracy: 0.7680\n",
            "Epoch 8/50\n",
            "16/16 [==============================] - 67s 4s/step - loss: 0.5034 - accuracy: 0.8565 - val_loss: 1.1509 - val_accuracy: 0.7670\n",
            "Epoch 9/50\n",
            "16/16 [==============================] - 67s 4s/step - loss: 0.3864 - accuracy: 0.8883 - val_loss: 1.1311 - val_accuracy: 0.7960\n",
            "Epoch 10/50\n",
            "16/16 [==============================] - 66s 4s/step - loss: 0.3463 - accuracy: 0.8996 - val_loss: 1.1147 - val_accuracy: 0.7940\n",
            "Epoch 11/50\n",
            "16/16 [==============================] - 66s 4s/step - loss: 0.2914 - accuracy: 0.9161 - val_loss: 1.0858 - val_accuracy: 0.8040\n",
            "Epoch 12/50\n",
            "16/16 [==============================] - 67s 4s/step - loss: 0.2606 - accuracy: 0.9233 - val_loss: 1.0918 - val_accuracy: 0.8050\n",
            "Epoch 13/50\n",
            "16/16 [==============================] - 67s 4s/step - loss: 0.2168 - accuracy: 0.9363 - val_loss: 1.0148 - val_accuracy: 0.8120\n",
            "Epoch 14/50\n",
            "16/16 [==============================] - 66s 4s/step - loss: 0.1897 - accuracy: 0.9428 - val_loss: 1.1612 - val_accuracy: 0.8130\n",
            "Epoch 15/50\n",
            "16/16 [==============================] - 67s 4s/step - loss: 0.1586 - accuracy: 0.9548 - val_loss: 0.9713 - val_accuracy: 0.8280\n",
            "Epoch 16/50\n",
            "16/16 [==============================] - 66s 4s/step - loss: 0.1615 - accuracy: 0.9522 - val_loss: 1.0295 - val_accuracy: 0.8280\n",
            "Epoch 17/50\n",
            "16/16 [==============================] - 67s 4s/step - loss: 0.1349 - accuracy: 0.9600 - val_loss: 1.0038 - val_accuracy: 0.8280\n",
            "Epoch 18/50\n",
            "15/16 [===========================>..] - ETA: 3s - loss: 0.1163 - accuracy: 0.9674\n",
            "Epoch 00018: ReduceLROnPlateau reducing learning rate to 0.0005000000237487257.\n",
            "16/16 [==============================] - 66s 4s/step - loss: 0.1152 - accuracy: 0.9685 - val_loss: 1.0663 - val_accuracy: 0.8280\n",
            "Epoch 19/50\n",
            "16/16 [==============================] - 67s 4s/step - loss: 0.1049 - accuracy: 0.9720 - val_loss: 1.0113 - val_accuracy: 0.8340\n",
            "Epoch 20/50\n",
            "16/16 [==============================] - 66s 4s/step - loss: 0.0834 - accuracy: 0.9787 - val_loss: 0.9491 - val_accuracy: 0.8350\n",
            "Epoch 21/50\n",
            "16/16 [==============================] - 66s 4s/step - loss: 0.0781 - accuracy: 0.9804 - val_loss: 0.9903 - val_accuracy: 0.8400\n",
            "Epoch 22/50\n",
            "16/16 [==============================] - 66s 4s/step - loss: 0.0699 - accuracy: 0.9820 - val_loss: 0.9714 - val_accuracy: 0.8370\n",
            "Epoch 23/50\n",
            "15/16 [===========================>..] - ETA: 3s - loss: 0.0703 - accuracy: 0.9833\n",
            "Epoch 00023: ReduceLROnPlateau reducing learning rate to 0.0002500000118743628.\n",
            "16/16 [==============================] - 66s 4s/step - loss: 0.0711 - accuracy: 0.9828 - val_loss: 0.9930 - val_accuracy: 0.8370\n",
            "Epoch 24/50\n",
            "16/16 [==============================] - 66s 4s/step - loss: 0.0588 - accuracy: 0.9891 - val_loss: 0.9694 - val_accuracy: 0.8370\n",
            "Epoch 25/50\n",
            "16/16 [==============================] - 67s 4s/step - loss: 0.0588 - accuracy: 0.9865 - val_loss: 1.0003 - val_accuracy: 0.8360\n",
            "Epoch 26/50\n",
            "15/16 [===========================>..] - ETA: 3s - loss: 0.0540 - accuracy: 0.9888\n",
            "Epoch 00026: ReduceLROnPlateau reducing learning rate to 0.0001250000059371814.\n",
            "16/16 [==============================] - 67s 4s/step - loss: 0.0549 - accuracy: 0.9887 - val_loss: 0.9779 - val_accuracy: 0.8430\n",
            "Epoch 00026: early stopping\n"
          ],
          "name": "stdout"
        }
      ]
    },
    {
      "cell_type": "code",
      "metadata": {
        "id": "MuCdxRTybMHu",
        "colab_type": "code",
        "colab": {
          "base_uri": "https://localhost:8080/",
          "height": 442
        },
        "outputId": "af4e0875-7433-4e91-fe2f-674512e38e29"
      },
      "source": [
        "plt.figure(figsize=(15,7))\n",
        "ax1 = plt.subplot(121)\n",
        "plt.xlabel('Epochs')\n",
        "plt.ylabel('Loss')\n",
        "ax1.plot(history.history['loss'])\n",
        "ax1.plot(history.history['val_loss'])\n",
        "ax1.legend(['Training', 'Validation'])\n",
        "\n",
        "ax2 = plt.subplot(122)\n",
        "plt.xlabel('Epochs')\n",
        "plt.ylabel('Accuracy')\n",
        "ax2.plot(history.history['accuracy'])\n",
        "ax2.plot(history.history['val_accuracy'])\n",
        "ax2.legend(['Training', 'Validation'], loc='lower right')\n",
        "plt.show()"
      ],
      "execution_count": 23,
      "outputs": [
        {
          "output_type": "display_data",
          "data": {
            "image/png": "[encoded data removed]",
            "text/plain": [
              "<Figure size 1080x504 with 2 Axes>"
            ]
          },
          "metadata": {
            "tags": []
          }
        }
      ]
    },
    {
      "cell_type": "code",
      "metadata": {
        "id": "EkEamtJGt5eW",
        "colab_type": "code",
        "colab": {
          "base_uri": "https://localhost:8080/",
          "height": 119
        },
        "outputId": "fbb54ed6-92a2-43b9-b28b-da0ae34dc8bc"
      },
      "source": [
        "net_2.evaluate(test_generator)"
      ],
      "execution_count": 27,
      "outputs": [
        {
          "output_type": "stream",
          "text": [
            "WARNING:tensorflow:sample_weight modes were coerced from\n",
            "  ...\n",
            "    to  \n",
            "  ['...']\n",
            "46/46 [==============================] - 19s 417ms/step - loss: 0.9413 - accuracy: 0.8411\n"
          ],
          "name": "stdout"
        },
        {
          "output_type": "execute_result",
          "data": {
            "text/plain": [
              "[0.9412651321162349, 0.84110916]"
            ]
          },
          "metadata": {
            "tags": []
          },
          "execution_count": 27
        }
      ]
    },
    {
      "cell_type": "markdown",
      "metadata": {
        "id": "SmChagB1t4Ea",
        "colab_type": "text"
      },
      "source": [
        "# 3."
      ]
    },
    {
      "cell_type": "code",
      "metadata": {
        "id": "IGOs228fbPy5",
        "colab_type": "code",
        "colab": {
          "base_uri": "https://localhost:8080/",
          "height": 799
        },
        "outputId": "03e46419-29c8-42df-faf9-4db48e28bb95"
      },
      "source": [
        "x = GlobalAveragePooling2D()(model.layers[-8].output)\n",
        "\n",
        "x = Dense(512, activation='relu')(x)\n",
        "pred = Dense(102, activation='softmax')(x)\n",
        "\n",
        "net_3 = Model(model.input, pred)\n",
        "net_3.compile(loss='categorical_crossentropy', \n",
        "            optimizer=tf.keras.optimizers.Adam(0.005), \n",
        "            metrics=['accuracy'])\n",
        "net_3.summary()"
      ],
      "execution_count": 34,
      "outputs": [
        {
          "output_type": "stream",
          "text": [
            "Model: \"model_9\"\n",
            "_________________________________________________________________\n",
            "Layer (type)                 Output Shape              Param #   \n",
            "=================================================================\n",
            "input_2 (InputLayer)         [(None, 224, 224, 3)]     0         \n",
            "_________________________________________________________________\n",
            "block1_conv1 (Conv2D)        (None, 224, 224, 64)      1792      \n",
            "_________________________________________________________________\n",
            "block1_conv2 (Conv2D)        (None, 224, 224, 64)      36928     \n",
            "_________________________________________________________________\n",
            "block1_pool (MaxPooling2D)   (None, 112, 112, 64)      0         \n",
            "_________________________________________________________________\n",
            "block2_conv1 (Conv2D)        (None, 112, 112, 128)     73856     \n",
            "_________________________________________________________________\n",
            "block2_conv2 (Conv2D)        (None, 112, 112, 128)     147584    \n",
            "_________________________________________________________________\n",
            "block2_pool (MaxPooling2D)   (None, 56, 56, 128)       0         \n",
            "_________________________________________________________________\n",
            "block3_conv1 (Conv2D)        (None, 56, 56, 256)       295168    \n",
            "_________________________________________________________________\n",
            "block3_conv2 (Conv2D)        (None, 56, 56, 256)       590080    \n",
            "_________________________________________________________________\n",
            "block3_conv3 (Conv2D)        (None, 56, 56, 256)       590080    \n",
            "_________________________________________________________________\n",
            "block3_conv4 (Conv2D)        (None, 56, 56, 256)       590080    \n",
            "_________________________________________________________________\n",
            "block3_pool (MaxPooling2D)   (None, 28, 28, 256)       0         \n",
            "_________________________________________________________________\n",
            "block4_conv1 (Conv2D)        (None, 28, 28, 512)       1180160   \n",
            "_________________________________________________________________\n",
            "block4_conv2 (Conv2D)        (None, 28, 28, 512)       2359808   \n",
            "_________________________________________________________________\n",
            "block4_conv3 (Conv2D)        (None, 28, 28, 512)       2359808   \n",
            "_________________________________________________________________\n",
            "block4_conv4 (Conv2D)        (None, 28, 28, 512)       2359808   \n",
            "_________________________________________________________________\n",
            "global_average_pooling2d_8 ( (None, 512)               0         \n",
            "_________________________________________________________________\n",
            "dense_21 (Dense)             (None, 512)               262656    \n",
            "_________________________________________________________________\n",
            "dense_22 (Dense)             (None, 102)               52326     \n",
            "=================================================================\n",
            "Total params: 10,900,134\n",
            "Trainable params: 314,982\n",
            "Non-trainable params: 10,585,152\n",
            "_________________________________________________________________\n"
          ],
          "name": "stdout"
        }
      ]
    },
    {
      "cell_type": "code",
      "metadata": {
        "id": "2YiYF_cGtvMx",
        "colab_type": "code",
        "colab": {
          "base_uri": "https://localhost:8080/",
          "height": 1000
        },
        "outputId": "65617b4d-2085-437a-fb2f-a11cea315e25"
      },
      "source": [
        "history = net_3.fit_generator(train_generator, \n",
        "                            epochs=50, \n",
        "                            validation_data=test_generator,\n",
        "                            validation_steps=10,\n",
        "                            callbacks=[lr_decay, early])"
      ],
      "execution_count": 35,
      "outputs": [
        {
          "output_type": "stream",
          "text": [
            "WARNING:tensorflow:sample_weight modes were coerced from\n",
            "  ...\n",
            "    to  \n",
            "  ['...']\n",
            "WARNING:tensorflow:sample_weight modes were coerced from\n",
            "  ...\n",
            "    to  \n",
            "  ['...']\n",
            "Train for 16 steps, validate for 10 steps\n",
            "Epoch 1/50\n",
            "16/16 [==============================] - 64s 4s/step - loss: 211.3776 - accuracy: 0.0530 - val_loss: 88.4676 - val_accuracy: 0.1110\n",
            "Epoch 2/50\n",
            "16/16 [==============================] - 65s 4s/step - loss: 17.8942 - accuracy: 0.0880 - val_loss: 4.6090 - val_accuracy: 0.0250\n",
            "Epoch 3/50\n",
            "16/16 [==============================] - 64s 4s/step - loss: 4.5805 - accuracy: 0.0724 - val_loss: 4.6418 - val_accuracy: 0.0840\n",
            "Epoch 4/50\n",
            "16/16 [==============================] - 64s 4s/step - loss: 4.5053 - accuracy: 0.0880 - val_loss: 4.3689 - val_accuracy: 0.0850\n",
            "Epoch 5/50\n",
            "16/16 [==============================] - 64s 4s/step - loss: 4.2541 - accuracy: 0.1528 - val_loss: 4.0612 - val_accuracy: 0.1780\n",
            "Epoch 6/50\n",
            "16/16 [==============================] - 64s 4s/step - loss: 3.9409 - accuracy: 0.1800 - val_loss: 3.8911 - val_accuracy: 0.1800\n",
            "Epoch 7/50\n",
            "16/16 [==============================] - 64s 4s/step - loss: 3.8197 - accuracy: 0.2196 - val_loss: 3.7810 - val_accuracy: 0.2300\n",
            "Epoch 8/50\n",
            "16/16 [==============================] - 64s 4s/step - loss: 3.7339 - accuracy: 0.2330 - val_loss: 3.7631 - val_accuracy: 0.2330\n",
            "Epoch 9/50\n",
            "16/16 [==============================] - 65s 4s/step - loss: 3.6713 - accuracy: 0.2376 - val_loss: 3.7679 - val_accuracy: 0.2320\n",
            "Epoch 10/50\n",
            "16/16 [==============================] - 64s 4s/step - loss: 3.6847 - accuracy: 0.2343 - val_loss: 3.7045 - val_accuracy: 0.2430\n",
            "Epoch 11/50\n",
            "16/16 [==============================] - 65s 4s/step - loss: 3.5827 - accuracy: 0.2441 - val_loss: 3.5947 - val_accuracy: 0.2490\n",
            "Epoch 12/50\n",
            "16/16 [==============================] - 64s 4s/step - loss: 3.5005 - accuracy: 0.2448 - val_loss: 3.5296 - val_accuracy: 0.2620\n",
            "Epoch 13/50\n",
            "16/16 [==============================] - 64s 4s/step - loss: 3.4307 - accuracy: 0.2561 - val_loss: 3.4528 - val_accuracy: 0.2820\n",
            "Epoch 14/50\n",
            "16/16 [==============================] - 64s 4s/step - loss: 3.4106 - accuracy: 0.2659 - val_loss: 3.6129 - val_accuracy: 0.2790\n",
            "Epoch 15/50\n",
            "16/16 [==============================] - 64s 4s/step - loss: 3.3296 - accuracy: 0.2633 - val_loss: 3.3941 - val_accuracy: 0.2890\n",
            "Epoch 16/50\n",
            "16/16 [==============================] - 64s 4s/step - loss: 3.2487 - accuracy: 0.2713 - val_loss: 3.2673 - val_accuracy: 0.2790\n",
            "Epoch 17/50\n",
            "16/16 [==============================] - 65s 4s/step - loss: 3.1755 - accuracy: 0.2783 - val_loss: 3.3290 - val_accuracy: 0.2830\n",
            "Epoch 18/50\n",
            "16/16 [==============================] - 64s 4s/step - loss: 3.0905 - accuracy: 0.2848 - val_loss: 3.1009 - val_accuracy: 0.2950\n",
            "Epoch 19/50\n",
            "16/16 [==============================] - 64s 4s/step - loss: 3.0007 - accuracy: 0.2924 - val_loss: 3.1553 - val_accuracy: 0.3100\n",
            "Epoch 20/50\n",
            "16/16 [==============================] - 64s 4s/step - loss: 2.9686 - accuracy: 0.3004 - val_loss: 3.0747 - val_accuracy: 0.3170\n",
            "Epoch 21/50\n",
            "16/16 [==============================] - 64s 4s/step - loss: 2.8780 - accuracy: 0.3143 - val_loss: 3.1236 - val_accuracy: 0.3280\n",
            "Epoch 22/50\n",
            "16/16 [==============================] - 64s 4s/step - loss: 2.8489 - accuracy: 0.3233 - val_loss: 3.2474 - val_accuracy: 0.3290\n",
            "Epoch 23/50\n",
            "15/16 [===========================>..] - ETA: 3s - loss: 2.8083 - accuracy: 0.3319\n",
            "Epoch 00023: ReduceLROnPlateau reducing learning rate to 0.0024999999441206455.\n",
            "16/16 [==============================] - 64s 4s/step - loss: 2.8036 - accuracy: 0.3313 - val_loss: 3.0943 - val_accuracy: 0.3130\n",
            "Epoch 24/50\n",
            "16/16 [==============================] - 64s 4s/step - loss: 2.6624 - accuracy: 0.3543 - val_loss: 2.9835 - val_accuracy: 0.3350\n",
            "Epoch 25/50\n",
            "16/16 [==============================] - 64s 4s/step - loss: 2.5926 - accuracy: 0.3639 - val_loss: 2.9139 - val_accuracy: 0.3530\n",
            "Epoch 26/50\n",
            "16/16 [==============================] - 64s 4s/step - loss: 2.5505 - accuracy: 0.3774 - val_loss: 2.9391 - val_accuracy: 0.3590\n",
            "Epoch 27/50\n",
            "16/16 [==============================] - 64s 4s/step - loss: 2.5128 - accuracy: 0.3800 - val_loss: 3.0614 - val_accuracy: 0.3540\n",
            "Epoch 28/50\n",
            "16/16 [==============================] - 64s 4s/step - loss: 2.5111 - accuracy: 0.3837 - val_loss: 2.7734 - val_accuracy: 0.3700\n",
            "Epoch 29/50\n",
            "16/16 [==============================] - 64s 4s/step - loss: 2.4644 - accuracy: 0.3915 - val_loss: 3.1452 - val_accuracy: 0.3660\n",
            "Epoch 30/50\n",
            "16/16 [==============================] - 64s 4s/step - loss: 2.4187 - accuracy: 0.3950 - val_loss: 2.8014 - val_accuracy: 0.3870\n",
            "Epoch 31/50\n",
            "16/16 [==============================] - 64s 4s/step - loss: 2.3823 - accuracy: 0.4017 - val_loss: 2.7640 - val_accuracy: 0.3920\n",
            "Epoch 32/50\n",
            "16/16 [==============================] - 64s 4s/step - loss: 2.3361 - accuracy: 0.4020 - val_loss: 2.8172 - val_accuracy: 0.3900\n",
            "Epoch 33/50\n",
            "16/16 [==============================] - 64s 4s/step - loss: 2.3124 - accuracy: 0.4137 - val_loss: 2.7983 - val_accuracy: 0.4060\n",
            "Epoch 34/50\n",
            "15/16 [===========================>..] - ETA: 3s - loss: 2.2810 - accuracy: 0.4205\n",
            "Epoch 00034: ReduceLROnPlateau reducing learning rate to 0.0012499999720603228.\n",
            "16/16 [==============================] - 64s 4s/step - loss: 2.2800 - accuracy: 0.4224 - val_loss: 2.8673 - val_accuracy: 0.4150\n",
            "Epoch 35/50\n",
            "16/16 [==============================] - 64s 4s/step - loss: 2.2257 - accuracy: 0.4337 - val_loss: 2.6372 - val_accuracy: 0.4180\n",
            "Epoch 36/50\n",
            "16/16 [==============================] - 64s 4s/step - loss: 2.1927 - accuracy: 0.4320 - val_loss: 2.7262 - val_accuracy: 0.4210\n",
            "Epoch 37/50\n",
            "16/16 [==============================] - 64s 4s/step - loss: 2.1834 - accuracy: 0.4439 - val_loss: 2.6823 - val_accuracy: 0.4150\n",
            "Epoch 38/50\n",
            "15/16 [===========================>..] - ETA: 3s - loss: 2.1676 - accuracy: 0.4384\n",
            "Epoch 00038: ReduceLROnPlateau reducing learning rate to 0.0006249999860301614.\n",
            "16/16 [==============================] - 64s 4s/step - loss: 2.1655 - accuracy: 0.4372 - val_loss: 2.6985 - val_accuracy: 0.4190\n",
            "Epoch 39/50\n",
            "16/16 [==============================] - 63s 4s/step - loss: 2.1435 - accuracy: 0.4463 - val_loss: 2.7532 - val_accuracy: 0.4180\n",
            "Epoch 40/50\n",
            "16/16 [==============================] - 64s 4s/step - loss: 2.1134 - accuracy: 0.4530 - val_loss: 2.6335 - val_accuracy: 0.4170\n",
            "Epoch 41/50\n",
            "16/16 [==============================] - 64s 4s/step - loss: 2.1134 - accuracy: 0.4537 - val_loss: 2.6521 - val_accuracy: 0.4320\n",
            "Epoch 42/50\n",
            "16/16 [==============================] - 64s 4s/step - loss: 2.0819 - accuracy: 0.4550 - val_loss: 2.6830 - val_accuracy: 0.4310\n",
            "Epoch 43/50\n",
            "15/16 [===========================>..] - ETA: 3s - loss: 2.1073 - accuracy: 0.4519\n",
            "Epoch 00043: ReduceLROnPlateau reducing learning rate to 0.0003124999930150807.\n",
            "16/16 [==============================] - 64s 4s/step - loss: 2.1027 - accuracy: 0.4524 - val_loss: 2.6387 - val_accuracy: 0.4250\n",
            "Epoch 44/50\n",
            "16/16 [==============================] - 64s 4s/step - loss: 2.0692 - accuracy: 0.4563 - val_loss: 2.6526 - val_accuracy: 0.4290\n",
            "Epoch 45/50\n",
            "16/16 [==============================] - 64s 4s/step - loss: 2.0751 - accuracy: 0.4593 - val_loss: 2.6803 - val_accuracy: 0.4230\n",
            "Epoch 46/50\n",
            "16/16 [==============================] - 64s 4s/step - loss: 2.0776 - accuracy: 0.4628 - val_loss: 2.6313 - val_accuracy: 0.4280\n",
            "Epoch 47/50\n",
            "16/16 [==============================] - 64s 4s/step - loss: 2.0610 - accuracy: 0.4626 - val_loss: 2.6669 - val_accuracy: 0.4210\n",
            "Epoch 48/50\n",
            "16/16 [==============================] - 64s 4s/step - loss: 2.0459 - accuracy: 0.4620 - val_loss: 2.6548 - val_accuracy: 0.4300\n",
            "Epoch 49/50\n",
            "15/16 [===========================>..] - ETA: 4s - loss: 2.0852 - accuracy: 0.4596\n",
            "Epoch 00049: ReduceLROnPlateau reducing learning rate to 0.00015624999650754035.\n",
            "16/16 [==============================] - 64s 4s/step - loss: 2.0583 - accuracy: 0.4617 - val_loss: 2.6632 - val_accuracy: 0.4270\n",
            "Epoch 50/50\n",
            "16/16 [==============================] - 64s 4s/step - loss: 2.0601 - accuracy: 0.4624 - val_loss: 2.6443 - val_accuracy: 0.4300\n"
          ],
          "name": "stdout"
        }
      ]
    },
    {
      "cell_type": "code",
      "metadata": {
        "id": "kOaZchYNtxVW",
        "colab_type": "code",
        "colab": {
          "base_uri": "https://localhost:8080/",
          "height": 442
        },
        "outputId": "4de01d15-d796-4b69-a619-c3739a105af7"
      },
      "source": [
        "plt.figure(figsize=(15,7))\n",
        "ax1 = plt.subplot(121)\n",
        "plt.xlabel('Epochs')\n",
        "plt.ylabel('Loss')\n",
        "ax1.plot(history.history['loss'])\n",
        "ax1.plot(history.history['val_loss'])\n",
        "ax1.legend(['Training', 'Validation'])\n",
        "\n",
        "ax2 = plt.subplot(122)\n",
        "plt.xlabel('Epochs')\n",
        "plt.ylabel('Accuracy')\n",
        "ax2.plot(history.history['accuracy'])\n",
        "ax2.plot(history.history['val_accuracy'])\n",
        "ax2.legend(['Training', 'Validation'], loc='lower right')\n",
        "plt.show()"
      ],
      "execution_count": 36,
      "outputs": [
        {
          "output_type": "display_data",
          "data": {
            "image/png": "[encoded data removed]",
            "text/plain": [
              "<Figure size 1080x504 with 2 Axes>"
            ]
          },
          "metadata": {
            "tags": []
          }
        }
      ]
    },
    {
      "cell_type": "code",
      "metadata": {
        "id": "pFVTE60iuKRL",
        "colab_type": "code",
        "colab": {}
      },
      "source": [
        "net_3.evaluate(test_generator)"
      ],
      "execution_count": 0,
      "outputs": []
    },
    {
      "cell_type": "code",
      "metadata": {
        "id": "fqWd4uiouMlw",
        "colab_type": "code",
        "colab": {}
      },
      "source": [
        ""
      ],
      "execution_count": 0,
      "outputs": []
    }
  ]
}