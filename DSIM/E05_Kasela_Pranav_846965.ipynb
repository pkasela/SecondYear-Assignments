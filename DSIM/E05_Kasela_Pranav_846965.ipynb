{
  "nbformat": 4,
  "nbformat_minor": 0,
  "metadata": {
    "kernelspec": {
      "name": "python3",
      "display_name": "Python 3"
    },
    "language_info": {
      "codemirror_mode": {
        "name": "ipython",
        "version": 3
      },
      "file_extension": ".py",
      "mimetype": "text/x-python",
      "name": "python",
      "nbconvert_exporter": "python",
      "pygments_lexer": "ipython3",
      "version": "3.7.5"
    },
    "colab": {
      "name": "E05_Kasela_Pranav_846965.ipynb",
      "provenance": [],
      "collapsed_sections": []
    },
    "accelerator": "GPU"
  },
  "cells": [
    {
      "cell_type": "code",
      "metadata": {
        "id": "qmUaS0hQEgx5",
        "colab_type": "code",
        "colab": {
          "base_uri": "https://localhost:8080/",
          "height": 51
        },
        "outputId": "a4c46e32-2551-4bd5-9081-4cc552f19097"
      },
      "source": [
        "%tensorflow_version 2.x\n",
        "import numpy as np\n",
        "\n",
        "import matplotlib.pyplot as plt\n",
        "import seaborn as sns\n",
        "\n",
        "from sklearn.metrics import classification_report, confusion_matrix\n",
        "\n",
        "import tensorflow as tf\n",
        "import tensorflow.keras as keras\n",
        "from tensorflow.keras.datasets import mnist\n",
        "from tensorflow.keras.models import Sequential\n",
        "from tensorflow.keras.layers import Dense, Flatten, Conv2D, MaxPool2D\n",
        "from tensorflow.keras.callbacks import EarlyStopping, ReduceLROnPlateau\n",
        "\n",
        "early = EarlyStopping(monitor='val_loss', patience=10, verbose=1)\n",
        "lr_decay = ReduceLROnPlateau(monitor='val_loss', \n",
        "                             patience=3, verbose=1, \n",
        "                             factor=0.8, min_lr=1e-4)\n",
        "%matplotlib inline\n",
        "\n",
        "\n",
        "print(\"Tesorflow Version:\", tf.__version__)\n",
        "print(\"Keras Version:\",keras.__version__)"
      ],
      "execution_count": 45,
      "outputs": [
        {
          "output_type": "stream",
          "text": [
            "Tesorflow Version: 2.1.0-rc1\n",
            "Keras Version: 2.2.4-tf\n"
          ],
          "name": "stdout"
        }
      ]
    },
    {
      "cell_type": "code",
      "metadata": {
        "id": "HmpgA76qEgx_",
        "colab_type": "code",
        "colab": {
          "base_uri": "https://localhost:8080/",
          "height": 85
        },
        "outputId": "c74b71de-181c-4e82-8eb2-6cca13841428"
      },
      "source": [
        "# Dataset predefinito offerto da keras\n",
        "(x_train, y_train), (x_test, y_test) = mnist.load_data()\n",
        "print(x_train.shape[0], 'esempi di training')\n",
        "print(x_test.shape[0], 'esempi di test')"
      ],
      "execution_count": 2,
      "outputs": [
        {
          "output_type": "stream",
          "text": [
            "Downloading data from https://storage.googleapis.com/tensorflow/tf-keras-datasets/mnist.npz\n",
            "11493376/11490434 [==============================] - 0s 0us/step\n",
            "60000 esempi di training\n",
            "10000 esempi di test\n"
          ],
          "name": "stdout"
        }
      ]
    },
    {
      "cell_type": "code",
      "metadata": {
        "id": "jRkduQhQEgyD",
        "colab_type": "code",
        "colab": {
          "base_uri": "https://localhost:8080/",
          "height": 34
        },
        "outputId": "e1f89edc-3f30-4a86-a35c-7d3903e365d2"
      },
      "source": [
        "# Aggiunta dimensione canali\n",
        "x_train = np.expand_dims(x_train, axis=-1)\n",
        "x_test = np.expand_dims(x_test, axis=-1)\n",
        "print(\"(length, height, width, channel):\",x_train.shape)"
      ],
      "execution_count": 3,
      "outputs": [
        {
          "output_type": "stream",
          "text": [
            "(length, height, width, channel): (60000, 28, 28, 1)\n"
          ],
          "name": "stdout"
        }
      ]
    },
    {
      "cell_type": "code",
      "metadata": {
        "id": "QY4LW42nEgyG",
        "colab_type": "code",
        "colab": {
          "base_uri": "https://localhost:8080/",
          "height": 267
        },
        "outputId": "7e6c1ec7-1242-4b23-8524-d9cb43cbe361"
      },
      "source": [
        "#classi bilanciate\n",
        "sns.countplot(y_train)\n",
        "plt.show()"
      ],
      "execution_count": 4,
      "outputs": [
        {
          "output_type": "display_data",
          "data": {
            "image/png": "[encoded data removed]",
            "text/plain": [
              "<Figure size 432x288 with 1 Axes>"
            ]
          },
          "metadata": {
            "tags": []
          }
        }
      ]
    },
    {
      "cell_type": "code",
      "metadata": {
        "id": "YvRLtNTbEgyJ",
        "colab_type": "code",
        "colab": {}
      },
      "source": [
        "# Conversione di tipo\n",
        "x_train = x_train.astype('float32')/255.0\n",
        "x_test = x_test.astype('float32')/255.0\n",
        "\n",
        "# Conversione in forma categorica\n",
        "num_classes = 10\n",
        "y_train = keras.utils.to_categorical(y_train, num_classes)\n",
        "y_test = keras.utils.to_categorical(y_test, num_classes)"
      ],
      "execution_count": 0,
      "outputs": []
    },
    {
      "cell_type": "code",
      "metadata": {
        "id": "nXOh7FIPEgyM",
        "colab_type": "code",
        "colab": {
          "base_uri": "https://localhost:8080/",
          "height": 34
        },
        "outputId": "88cd98b6-3e47-4eda-8968-071735b933bb"
      },
      "source": [
        "x_train.shape"
      ],
      "execution_count": 6,
      "outputs": [
        {
          "output_type": "execute_result",
          "data": {
            "text/plain": [
              "(60000, 28, 28, 1)"
            ]
          },
          "metadata": {
            "tags": []
          },
          "execution_count": 6
        }
      ]
    },
    {
      "cell_type": "markdown",
      "metadata": {
        "id": "pddcVHkgEgyR",
        "colab_type": "text"
      },
      "source": [
        "## Main assignment Problem\n",
        "\n",
        "* Convoluzione bidimensionale con 32 filtri 3$\\times$3\n",
        "* ReLU\n",
        "* Max pooling bidimensionale con filtro 2$\\times$2\n",
        "* Flattening\n",
        "* Fully-connected che mappi a 128 dimensioni\n",
        "* ReLU\n",
        "* Fully-connected che mappi alla dimensione finale del problema"
      ]
    },
    {
      "cell_type": "code",
      "metadata": {
        "id": "XNhElAhMEgyS",
        "colab_type": "code",
        "colab": {}
      },
      "source": [
        "model = Sequential()\n",
        "model.add(Conv2D(filters=32, kernel_size=(3,3),\n",
        "                activation='relu', input_shape=(28, 28, 1)))\n",
        "model.add(MaxPool2D(pool_size=(2,2)))\n",
        "\n",
        "model.add(Flatten())\n",
        "\n",
        "model.add(Dense(128, activation='relu'))\n",
        "model.add(Dense(num_classes, activation='softmax'))\n",
        "\n",
        "model.compile(loss=tf.keras.losses.categorical_crossentropy,\n",
        "              optimizer=tf.keras.optimizers.Adadelta(learning_rate=0.05),\n",
        "              metrics=['accuracy'])"
      ],
      "execution_count": 0,
      "outputs": []
    },
    {
      "cell_type": "code",
      "metadata": {
        "id": "L2lkSX8XEgyV",
        "colab_type": "code",
        "colab": {
          "base_uri": "https://localhost:8080/",
          "height": 323
        },
        "outputId": "9f3c4dc7-bc72-4852-ccc1-417694973d34"
      },
      "source": [
        "model.summary()"
      ],
      "execution_count": 54,
      "outputs": [
        {
          "output_type": "stream",
          "text": [
            "Model: \"sequential_8\"\n",
            "_________________________________________________________________\n",
            "Layer (type)                 Output Shape              Param #   \n",
            "=================================================================\n",
            "conv2d_8 (Conv2D)            (None, 26, 26, 32)        320       \n",
            "_________________________________________________________________\n",
            "max_pooling2d_8 (MaxPooling2 (None, 13, 13, 32)        0         \n",
            "_________________________________________________________________\n",
            "flatten_8 (Flatten)          (None, 5408)              0         \n",
            "_________________________________________________________________\n",
            "dense_16 (Dense)             (None, 128)               692352    \n",
            "_________________________________________________________________\n",
            "dense_17 (Dense)             (None, 10)                1290      \n",
            "=================================================================\n",
            "Total params: 693,962\n",
            "Trainable params: 693,962\n",
            "Non-trainable params: 0\n",
            "_________________________________________________________________\n"
          ],
          "name": "stdout"
        }
      ]
    },
    {
      "cell_type": "code",
      "metadata": {
        "id": "ZvYdpefQEgyY",
        "colab_type": "code",
        "colab": {
          "base_uri": "https://localhost:8080/",
          "height": 1000
        },
        "outputId": "c2b9b275-86f2-44f2-9243-6f0043ac31dc"
      },
      "source": [
        "history = model.fit(x_train, y_train,\n",
        "                    batch_size=256,\n",
        "                    epochs=50,\n",
        "                    verbose=1,\n",
        "                    validation_data=(x_test, y_test),\n",
        "                    callbacks=[lr_decay, early])"
      ],
      "execution_count": 55,
      "outputs": [
        {
          "output_type": "stream",
          "text": [
            "Train on 60000 samples, validate on 10000 samples\n",
            "Epoch 1/50\n",
            "60000/60000 [==============================] - 2s 26us/sample - loss: 1.1291 - accuracy: 0.7413 - val_loss: 0.4427 - val_accuracy: 0.8802\n",
            "Epoch 2/50\n",
            "60000/60000 [==============================] - 1s 20us/sample - loss: 0.3849 - accuracy: 0.8931 - val_loss: 0.3207 - val_accuracy: 0.9138\n",
            "Epoch 3/50\n",
            "60000/60000 [==============================] - 1s 20us/sample - loss: 0.3149 - accuracy: 0.9093 - val_loss: 0.2774 - val_accuracy: 0.9212\n",
            "Epoch 4/50\n",
            "60000/60000 [==============================] - 1s 20us/sample - loss: 0.2814 - accuracy: 0.9197 - val_loss: 0.2550 - val_accuracy: 0.9286\n",
            "Epoch 5/50\n",
            "60000/60000 [==============================] - 1s 19us/sample - loss: 0.2585 - accuracy: 0.9254 - val_loss: 0.2357 - val_accuracy: 0.9322\n",
            "Epoch 6/50\n",
            "60000/60000 [==============================] - 1s 19us/sample - loss: 0.2396 - accuracy: 0.9313 - val_loss: 0.2183 - val_accuracy: 0.9390\n",
            "Epoch 7/50\n",
            "60000/60000 [==============================] - 1s 19us/sample - loss: 0.2232 - accuracy: 0.9359 - val_loss: 0.2085 - val_accuracy: 0.9404\n",
            "Epoch 8/50\n",
            "60000/60000 [==============================] - 1s 19us/sample - loss: 0.2081 - accuracy: 0.9409 - val_loss: 0.1935 - val_accuracy: 0.9443\n",
            "Epoch 9/50\n",
            "60000/60000 [==============================] - 1s 19us/sample - loss: 0.1949 - accuracy: 0.9443 - val_loss: 0.1833 - val_accuracy: 0.9465\n",
            "Epoch 10/50\n",
            "60000/60000 [==============================] - 1s 19us/sample - loss: 0.1830 - accuracy: 0.9473 - val_loss: 0.1722 - val_accuracy: 0.9502\n",
            "Epoch 11/50\n",
            "60000/60000 [==============================] - 1s 20us/sample - loss: 0.1725 - accuracy: 0.9502 - val_loss: 0.1618 - val_accuracy: 0.9517\n",
            "Epoch 12/50\n",
            "60000/60000 [==============================] - 1s 19us/sample - loss: 0.1628 - accuracy: 0.9531 - val_loss: 0.1574 - val_accuracy: 0.9560\n",
            "Epoch 13/50\n",
            "60000/60000 [==============================] - 1s 19us/sample - loss: 0.1537 - accuracy: 0.9559 - val_loss: 0.1472 - val_accuracy: 0.9590\n",
            "Epoch 14/50\n",
            "60000/60000 [==============================] - 1s 19us/sample - loss: 0.1458 - accuracy: 0.9584 - val_loss: 0.1413 - val_accuracy: 0.9601\n",
            "Epoch 15/50\n",
            "60000/60000 [==============================] - 1s 19us/sample - loss: 0.1384 - accuracy: 0.9604 - val_loss: 0.1318 - val_accuracy: 0.9623\n",
            "Epoch 16/50\n",
            "60000/60000 [==============================] - 1s 19us/sample - loss: 0.1314 - accuracy: 0.9623 - val_loss: 0.1284 - val_accuracy: 0.9633\n",
            "Epoch 17/50\n",
            "60000/60000 [==============================] - 1s 19us/sample - loss: 0.1253 - accuracy: 0.9644 - val_loss: 0.1227 - val_accuracy: 0.9640\n",
            "Epoch 18/50\n",
            "60000/60000 [==============================] - 1s 19us/sample - loss: 0.1195 - accuracy: 0.9658 - val_loss: 0.1158 - val_accuracy: 0.9666\n",
            "Epoch 19/50\n",
            "60000/60000 [==============================] - 1s 19us/sample - loss: 0.1143 - accuracy: 0.9675 - val_loss: 0.1158 - val_accuracy: 0.9673\n",
            "Epoch 20/50\n",
            "60000/60000 [==============================] - 1s 20us/sample - loss: 0.1092 - accuracy: 0.9692 - val_loss: 0.1095 - val_accuracy: 0.9672\n",
            "Epoch 21/50\n",
            "60000/60000 [==============================] - 1s 19us/sample - loss: 0.1046 - accuracy: 0.9708 - val_loss: 0.1065 - val_accuracy: 0.9698\n",
            "Epoch 22/50\n",
            "60000/60000 [==============================] - 1s 19us/sample - loss: 0.1007 - accuracy: 0.9714 - val_loss: 0.1036 - val_accuracy: 0.9699\n",
            "Epoch 23/50\n",
            "60000/60000 [==============================] - 1s 19us/sample - loss: 0.0966 - accuracy: 0.9727 - val_loss: 0.1009 - val_accuracy: 0.9702\n",
            "Epoch 24/50\n",
            "60000/60000 [==============================] - 1s 19us/sample - loss: 0.0928 - accuracy: 0.9744 - val_loss: 0.0965 - val_accuracy: 0.9724\n",
            "Epoch 25/50\n",
            "60000/60000 [==============================] - 1s 19us/sample - loss: 0.0895 - accuracy: 0.9753 - val_loss: 0.0918 - val_accuracy: 0.9725\n",
            "Epoch 26/50\n",
            "60000/60000 [==============================] - 1s 19us/sample - loss: 0.0861 - accuracy: 0.9760 - val_loss: 0.0902 - val_accuracy: 0.9736\n",
            "Epoch 27/50\n",
            "60000/60000 [==============================] - 1s 19us/sample - loss: 0.0831 - accuracy: 0.9766 - val_loss: 0.0898 - val_accuracy: 0.9726\n",
            "Epoch 28/50\n",
            "60000/60000 [==============================] - 1s 20us/sample - loss: 0.0805 - accuracy: 0.9778 - val_loss: 0.0886 - val_accuracy: 0.9734\n",
            "Epoch 29/50\n",
            "60000/60000 [==============================] - 1s 19us/sample - loss: 0.0779 - accuracy: 0.9781 - val_loss: 0.0831 - val_accuracy: 0.9743\n",
            "Epoch 30/50\n",
            "60000/60000 [==============================] - 1s 19us/sample - loss: 0.0751 - accuracy: 0.9794 - val_loss: 0.0817 - val_accuracy: 0.9754\n",
            "Epoch 31/50\n",
            "60000/60000 [==============================] - 1s 19us/sample - loss: 0.0729 - accuracy: 0.9800 - val_loss: 0.0834 - val_accuracy: 0.9748\n",
            "Epoch 32/50\n",
            "60000/60000 [==============================] - 1s 19us/sample - loss: 0.0708 - accuracy: 0.9807 - val_loss: 0.0774 - val_accuracy: 0.9754\n",
            "Epoch 33/50\n",
            "60000/60000 [==============================] - 1s 19us/sample - loss: 0.0685 - accuracy: 0.9815 - val_loss: 0.0771 - val_accuracy: 0.9761\n",
            "Epoch 34/50\n",
            "60000/60000 [==============================] - 1s 20us/sample - loss: 0.0664 - accuracy: 0.9825 - val_loss: 0.0758 - val_accuracy: 0.9773\n",
            "Epoch 35/50\n",
            "60000/60000 [==============================] - 1s 19us/sample - loss: 0.0644 - accuracy: 0.9827 - val_loss: 0.0722 - val_accuracy: 0.9773\n",
            "Epoch 36/50\n",
            "60000/60000 [==============================] - 1s 19us/sample - loss: 0.0631 - accuracy: 0.9830 - val_loss: 0.0716 - val_accuracy: 0.9785\n",
            "Epoch 37/50\n",
            "60000/60000 [==============================] - 1s 20us/sample - loss: 0.0612 - accuracy: 0.9834 - val_loss: 0.0693 - val_accuracy: 0.9790\n",
            "Epoch 38/50\n",
            "60000/60000 [==============================] - 1s 20us/sample - loss: 0.0594 - accuracy: 0.9842 - val_loss: 0.0688 - val_accuracy: 0.9783\n",
            "Epoch 39/50\n",
            "60000/60000 [==============================] - 1s 19us/sample - loss: 0.0580 - accuracy: 0.9844 - val_loss: 0.0672 - val_accuracy: 0.9798\n",
            "Epoch 40/50\n",
            "60000/60000 [==============================] - 1s 20us/sample - loss: 0.0565 - accuracy: 0.9850 - val_loss: 0.0670 - val_accuracy: 0.9795\n",
            "Epoch 41/50\n",
            "60000/60000 [==============================] - 1s 20us/sample - loss: 0.0553 - accuracy: 0.9852 - val_loss: 0.0658 - val_accuracy: 0.9799\n",
            "Epoch 42/50\n",
            "60000/60000 [==============================] - 1s 19us/sample - loss: 0.0539 - accuracy: 0.9859 - val_loss: 0.0642 - val_accuracy: 0.9800\n",
            "Epoch 43/50\n",
            "60000/60000 [==============================] - 1s 20us/sample - loss: 0.0526 - accuracy: 0.9863 - val_loss: 0.0644 - val_accuracy: 0.9792\n",
            "Epoch 44/50\n",
            "60000/60000 [==============================] - 1s 20us/sample - loss: 0.0513 - accuracy: 0.9866 - val_loss: 0.0635 - val_accuracy: 0.9809\n",
            "Epoch 45/50\n",
            "60000/60000 [==============================] - 1s 20us/sample - loss: 0.0501 - accuracy: 0.9867 - val_loss: 0.0623 - val_accuracy: 0.9811\n",
            "Epoch 46/50\n",
            "60000/60000 [==============================] - 1s 20us/sample - loss: 0.0490 - accuracy: 0.9870 - val_loss: 0.0607 - val_accuracy: 0.9810\n",
            "Epoch 47/50\n",
            "60000/60000 [==============================] - 1s 20us/sample - loss: 0.0478 - accuracy: 0.9876 - val_loss: 0.0618 - val_accuracy: 0.9798\n",
            "Epoch 48/50\n",
            "60000/60000 [==============================] - 1s 20us/sample - loss: 0.0469 - accuracy: 0.9876 - val_loss: 0.0590 - val_accuracy: 0.9817\n",
            "Epoch 49/50\n",
            "60000/60000 [==============================] - 1s 20us/sample - loss: 0.0459 - accuracy: 0.9879 - val_loss: 0.0591 - val_accuracy: 0.9817\n",
            "Epoch 50/50\n",
            "60000/60000 [==============================] - 1s 20us/sample - loss: 0.0449 - accuracy: 0.9882 - val_loss: 0.0600 - val_accuracy: 0.9813\n"
          ],
          "name": "stdout"
        }
      ]
    },
    {
      "cell_type": "code",
      "metadata": {
        "id": "TpfQfqwNEgyb",
        "colab_type": "code",
        "colab": {
          "base_uri": "https://localhost:8080/",
          "height": 323
        },
        "outputId": "98e21ef8-67c4-45c4-fa0b-b39837e1ae75"
      },
      "source": [
        "score = model.evaluate(x_test, y_test, verbose=0)\n",
        "print('Test loss:', score[0])\n",
        "print(classification_report(y_test.argmax(axis=1), \n",
        "                            model.predict(x_test).argmax(axis=1),\n",
        "                            digits=4))"
      ],
      "execution_count": 56,
      "outputs": [
        {
          "output_type": "stream",
          "text": [
            "Test loss: 0.05996907957950607\n",
            "              precision    recall  f1-score   support\n",
            "\n",
            "           0     0.9778    0.9888    0.9833       980\n",
            "           1     0.9912    0.9921    0.9916      1135\n",
            "           2     0.9815    0.9767    0.9791      1032\n",
            "           3     0.9852    0.9861    0.9857      1010\n",
            "           4     0.9817    0.9827    0.9822       982\n",
            "           5     0.9810    0.9854    0.9832       892\n",
            "           6     0.9864    0.9823    0.9843       958\n",
            "           7     0.9639    0.9864    0.9750      1028\n",
            "           8     0.9823    0.9671    0.9747       974\n",
            "           9     0.9818    0.9643    0.9730      1009\n",
            "\n",
            "    accuracy                         0.9813     10000\n",
            "   macro avg     0.9813    0.9812    0.9812     10000\n",
            "weighted avg     0.9813    0.9813    0.9813     10000\n",
            "\n"
          ],
          "name": "stdout"
        }
      ]
    },
    {
      "cell_type": "code",
      "metadata": {
        "id": "Ttz18SmpEgye",
        "colab_type": "code",
        "colab": {
          "base_uri": "https://localhost:8080/",
          "height": 446
        },
        "outputId": "4dc420f8-8167-4206-8309-336db470c44b"
      },
      "source": [
        "plt.figure(figsize=(15,7))\n",
        "ax1 = plt.subplot(121)\n",
        "plt.xlabel('Epochs')\n",
        "plt.ylabel('Loss')\n",
        "ax1.plot(history.history['loss'])\n",
        "ax1.plot(history.history['val_loss'])\n",
        "ax1.legend(['Training', 'Validation'])\n",
        "\n",
        "ax2 = plt.subplot(122)\n",
        "plt.xlabel('Epochs')\n",
        "plt.ylabel('Accuracy')\n",
        "ax2.plot(history.history['accuracy'])\n",
        "ax2.plot(history.history['val_accuracy'])\n",
        "ax2.legend(['Training', 'Validation'], loc='lower right')\n",
        "plt.show()"
      ],
      "execution_count": 57,
      "outputs": [
        {
          "output_type": "display_data",
          "data": {
            "image/png": "[encoded data removed]",
            "text/plain": [
              "<Figure size 1080x504 with 2 Axes>"
            ]
          },
          "metadata": {
            "tags": []
          }
        }
      ]
    },
    {
      "cell_type": "code",
      "metadata": {
        "id": "eLCA6rQRFmFT",
        "colab_type": "code",
        "colab": {
          "base_uri": "https://localhost:8080/",
          "height": 350
        },
        "outputId": "607c0489-a825-4e82-8dab-35fa799edce5"
      },
      "source": [
        "plt.figure(figsize = (13,5))\n",
        "cf_matrix = confusion_matrix(y_test.argmax(axis=1), model.predict(x_test).argmax(axis=1))\n",
        "ax = sns.heatmap(cf_matrix, cmap='Greens',\n",
        "                 cbar=False, annot=True, fmt='d', linewidths=2, linecolor='gray')\n",
        "ax.tick_params(left=False, bottom=False)\n",
        "plt.ylabel('True Label')\n",
        "plt.xlabel('Predicted Label')\n",
        "plt.title('Confusion Matrix')\n",
        "plt.yticks(rotation=0)\n",
        "plt.show()"
      ],
      "execution_count": 58,
      "outputs": [
        {
          "output_type": "display_data",
          "data": {
            "image/png": "[encoded data removed]",
            "text/plain": [
              "<Figure size 936x360 with 1 Axes>"
            ]
          },
          "metadata": {
            "tags": []
          }
        }
      ]
    },
    {
      "cell_type": "code",
      "metadata": {
        "id": "r_XHpk97Gn4i",
        "colab_type": "code",
        "colab": {}
      },
      "source": [
        ""
      ],
      "execution_count": 0,
      "outputs": []
    }
  ]
}