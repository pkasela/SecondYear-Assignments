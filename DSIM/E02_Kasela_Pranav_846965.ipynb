{
 "cells": [
  {
   "cell_type": "code",
   "execution_count": 1,
   "metadata": {
    "autoscroll": false,
    "collapsed": false,
    "ein.hycell": false,
    "ein.tags": "worksheet-0",
    "slideshow": {
     "slide_type": "-"
    }
   },
   "outputs": [],
   "source": [
    "import os\n",
    "import numpy as np\n",
    "from time import time\n",
    "from scipy.io import wavfile as wav\n",
    "\n",
    "import matplotlib.pyplot as plt\n",
    "import IPython.display as ipd\n",
    "\n",
    "# Strumenti di classificazione\n",
    "from sklearn.svm import SVC\n",
    "from sklearn.model_selection import train_test_split, GridSearchCV\n",
    "from sklearn.metrics import classification_report, confusion_matrix\n",
    "\n",
    "# Feature audio avanzate\n",
    "import librosa\n",
    "import librosa.display as lid\n",
    "from sklearn.preprocessing import scale"
   ]
  },
  {
   "cell_type": "code",
   "execution_count": 2,
   "metadata": {
    "autoscroll": false,
    "collapsed": false,
    "ein.hycell": false,
    "ein.tags": "worksheet-0",
    "slideshow": {
     "slide_type": "-"
    }
   },
   "outputs": [],
   "source": [
    "# Segnaposto per feature extractor\n",
    "def identity(input):\n",
    "    return input\n",
    "\n",
    "# Data loader\n",
    "def load_data(feature_extractor=identity, normalize=True):\n",
    "\n",
    "    labels = []\n",
    "    features = []\n",
    "\n",
    "    for f in sorted(os.listdir('./recordings')):\n",
    "        if f.endswith('.wav'):\n",
    "            # Carica file ed estraine le features\n",
    "            _, signal = wav.read('./recordings/' + f)\n",
    "            cur_features = feature_extractor(signal)\n",
    "            features.append(cur_features)\n",
    "\n",
    "            # Categorie\n",
    "            label = f.split('_')[0]\n",
    "            labels.append(label)\n",
    "\n",
    "    # X: features, y: labels\n",
    "    X_train, X_test, y_train, y_test = train_test_split(features, labels, test_size=0.1, random_state=1)\n",
    "\n",
    "    if normalize:\n",
    "        eps = 0.001\n",
    "        X_train = np.array(X_train)\n",
    "        X_train_mean = X_train.mean(axis=0)\n",
    "        X_train_std = X_train.std(axis=0)\n",
    "        X_train = (X_train - X_train_mean + eps)/(X_train_std + eps)\n",
    "        X_train = [row for row in X_train]\n",
    "\n",
    "        X_test = [row for row in (np.array(X_test) - X_train_mean + eps)/(X_train_std + eps)]\n",
    "\n",
    "    return X_train, X_test, y_train, y_test"
   ]
  },
  {
   "cell_type": "markdown",
   "metadata": {
    "ein.tags": "worksheet-0",
    "slideshow": {
     "slide_type": "-"
    }
   },
   "source": [
    "Features presenti già nel notebook:"
   ]
  },
  {
   "cell_type": "code",
   "execution_count": 3,
   "metadata": {
    "autoscroll": false,
    "collapsed": false,
    "ein.hycell": false,
    "ein.tags": "worksheet-0",
    "slideshow": {
     "slide_type": "-"
    }
   },
   "outputs": [],
   "source": [
    "def energy(input):\n",
    "    return np.sum((input*1.0)**2, keepdims=True)\n",
    "\n",
    "def sdev(input):\n",
    "    return np.std(input, keepdims=True)\n",
    "\n",
    "def aavg(input):\n",
    "    return np.mean(np.abs(input), keepdims=True)\n",
    "\n",
    "def duration(input):\n",
    "    return input.shape"
   ]
  },
  {
   "cell_type": "markdown",
   "metadata": {
    "ein.tags": "worksheet-0",
    "slideshow": {
     "slide_type": "-"
    }
   },
   "source": [
    "# Zero-Crossing Rate (ZCR)\n",
    "Il Feature ZCR in un segnale discreto e finito $s_0,...,s_n$ è definito come:\n",
    "    $$Z = \\dfrac{1}{2}\\sum_{i=1}^n |\\text{sign}(s_i) - \\text{sign}(s_{i-1})|$$\n",
    "espandendo un forma vettoriale:\n",
    "    $$Z = \\dfrac{1}{2}\\text{sum}(\\text{abs}([s_1, s_2, ..., s_n] - [s_0, s_1, ..., s_{n-1}]))$$"
   ]
  },
  {
   "cell_type": "code",
   "execution_count": 4,
   "metadata": {
    "autoscroll": false,
    "collapsed": false,
    "ein.hycell": false,
    "ein.tags": "worksheet-0",
    "slideshow": {
     "slide_type": "-"
    }
   },
   "outputs": [],
   "source": [
    "#usiamo diff di numpy che fa già la differenza come serve a noi\n",
    "def zcr(input):\n",
    "    return np.sum(np.abs(np.diff(input, n=1)), keepdims=True)/2"
   ]
  },
  {
   "cell_type": "code",
   "execution_count": 5,
   "metadata": {
    "autoscroll": false,
    "collapsed": false,
    "ein.hycell": false,
    "ein.tags": "worksheet-0",
    "slideshow": {
     "slide_type": "-"
    }
   },
   "outputs": [],
   "source": [
    "def combo(input):\n",
    "    return np.concatenate((aavg(input),sdev(input),duration(input),energy(input)))\n",
    "\n",
    "def combo_with_zcr(input):\n",
    "    return np.concatenate((aavg(input),sdev(input),duration(input),energy(input),zcr(input)))"
   ]
  },
  {
   "cell_type": "markdown",
   "metadata": {
    "ein.tags": "worksheet-0",
    "slideshow": {
     "slide_type": "-"
    }
   },
   "source": [
    "# SVM Training (with ZCR vs without ZCR)"
   ]
  },
  {
   "cell_type": "code",
   "execution_count": 6,
   "metadata": {
    "autoscroll": false,
    "collapsed": false,
    "ein.hycell": false,
    "ein.tags": "worksheet-0",
    "slideshow": {
     "slide_type": "-"
    }
   },
   "outputs": [],
   "source": [
    "X_train_zcr, X_test_zcr, y_train_zcr, y_test_zcr =\\\n",
    "                                   load_data(feature_extractor=combo_with_zcr)\n",
    "X_train, X_test, y_train, y_test = load_data(feature_extractor=combo)"
   ]
  },
  {
   "cell_type": "code",
   "execution_count": 7,
   "metadata": {
    "autoscroll": false,
    "collapsed": false,
    "ein.hycell": false,
    "ein.tags": "worksheet-0",
    "slideshow": {
     "slide_type": "-"
    }
   },
   "outputs": [
    {
     "name": "stdout",
     "output_type": "stream",
     "text": [
      "Without ZCR we have 4 elements\n",
      "With ZCR we have 5 elements\n"
     ]
    }
   ],
   "source": [
    "print(\"Without ZCR we have\", X_train[0].shape[0], \"elements\")\n",
    "print(\"With ZCR we have\", X_train_zcr[0].shape[0], \"elements\")"
   ]
  },
  {
   "cell_type": "code",
   "execution_count": 8,
   "metadata": {
    "autoscroll": false,
    "collapsed": false,
    "ein.hycell": false,
    "ein.tags": "worksheet-0",
    "slideshow": {
     "slide_type": "-"
    }
   },
   "outputs": [
    {
     "data": {
      "image/png": "[encoded data removed]",
      "text/plain": [
       "<Figure size 432x288 with 1 Axes>"
      ]
     },
     "metadata": {
      "needs_background": "light"
     },
     "output_type": "display_data"
    }
   ],
   "source": [
    "#controllo se le feature sono bilanciate\n",
    "import seaborn as sns\n",
    "sns.countplot(y_train)\n",
    "plt.show()"
   ]
  },
  {
   "cell_type": "code",
   "execution_count": 9,
   "metadata": {
    "autoscroll": false,
    "collapsed": false,
    "ein.hycell": false,
    "ein.tags": "worksheet-0",
    "slideshow": {
     "slide_type": "-"
    }
   },
   "outputs": [
    {
     "name": "stdout",
     "output_type": "stream",
     "text": [
      "best parameters {'C': 1000, 'gamma': 0.1}\n",
      "Addestramento completato in 3.644s\n"
     ]
    }
   ],
   "source": [
    "# Parametri da provare in cross validation\n",
    "param_grid = {'C': [0.1, 1, 10, 100, 500, 1000],\n",
    "          'gamma': [0.005, 0.01, 0.1, 0.5, 1.0], }\n",
    "\n",
    "# Inizializzazione Support Vector Machine\n",
    "clf_zcr = GridSearchCV(SVC(kernel='rbf', class_weight='balanced'), param_grid, cv=2)\n",
    "\n",
    "# Addestramento\n",
    "t0 = time()\n",
    "clf_zcr = clf_zcr.fit(X_train_zcr, y_train_zcr)\n",
    "print('best parameters', clf_zcr.best_params_)\n",
    "print(\"Addestramento completato in %0.3fs\" % (time() - t0))"
   ]
  },
  {
   "cell_type": "code",
   "execution_count": 10,
   "metadata": {
    "autoscroll": false,
    "collapsed": false,
    "ein.hycell": false,
    "ein.tags": "worksheet-0",
    "slideshow": {
     "slide_type": "-"
    }
   },
   "outputs": [
    {
     "name": "stdout",
     "output_type": "stream",
     "text": [
      "best parameters {'C': 1000, 'gamma': 0.5}\n",
      "Addestramento completato in 4.144s\n"
     ]
    }
   ],
   "source": [
    "# Parametri da provare in cross validation\n",
    "param_grid = {'C': [0.1, 1, 10, 100, 500, 1000],\n",
    "          'gamma': [0.005, 0.01, 0.1, 0.5, 1.0], }\n",
    "\n",
    "# Inizializzazione Support Vector Machine\n",
    "clf_no_zcr = GridSearchCV(SVC(kernel='rbf', class_weight='balanced'), param_grid, cv=2)\n",
    "\n",
    "# Addestramento\n",
    "t0 = time()\n",
    "clf = clf_no_zcr.fit(X_train, y_train)\n",
    "print('best parameters', clf.best_params_)\n",
    "print(\"Addestramento completato in %0.3fs\" % (time() - t0))"
   ]
  },
  {
   "cell_type": "markdown",
   "metadata": {
    "ein.tags": "worksheet-0",
    "slideshow": {
     "slide_type": "-"
    }
   },
   "source": [
    "# Testing"
   ]
  },
  {
   "cell_type": "code",
   "execution_count": 11,
   "metadata": {
    "autoscroll": false,
    "collapsed": false,
    "ein.hycell": false,
    "ein.tags": "worksheet-0",
    "slideshow": {
     "slide_type": "-"
    }
   },
   "outputs": [
    {
     "name": "stdout",
     "output_type": "stream",
     "text": [
      "Report di classificazione:\n",
      "              precision    recall  f1-score   support\n",
      "\n",
      "           0       0.58      0.65      0.61        17\n",
      "           1       0.33      0.40      0.36        10\n",
      "           2       0.28      0.33      0.30        15\n",
      "           3       0.53      0.42      0.47        19\n",
      "           4       0.36      0.45      0.40        11\n",
      "           5       0.44      0.29      0.35        14\n",
      "           6       0.79      0.79      0.79        14\n",
      "           7       0.80      0.42      0.55        19\n",
      "           8       0.35      0.41      0.38        17\n",
      "           9       0.32      0.43      0.36        14\n",
      "\n",
      "    accuracy                           0.46       150\n",
      "   macro avg       0.48      0.46      0.46       150\n",
      "weighted avg       0.49      0.46      0.47       150\n",
      "\n"
     ]
    }
   ],
   "source": [
    "y_pred = clf_no_zcr.predict(X_test)\n",
    "\n",
    "# Report di classificazione\n",
    "print(\"Report di classificazione:\")\n",
    "print(classification_report(y_test, y_pred))\n",
    "#testing the model without ZCR"
   ]
  },
  {
   "cell_type": "code",
   "execution_count": 12,
   "metadata": {
    "autoscroll": false,
    "collapsed": false,
    "ein.hycell": false,
    "ein.tags": "worksheet-0",
    "slideshow": {
     "slide_type": "-"
    }
   },
   "outputs": [
    {
     "name": "stdout",
     "output_type": "stream",
     "text": [
      "Report di classificazione:\n",
      "              precision    recall  f1-score   support\n",
      "\n",
      "           0       0.73      0.65      0.69        17\n",
      "           1       0.29      0.50      0.37        10\n",
      "           2       0.78      0.47      0.58        15\n",
      "           3       0.75      0.63      0.69        19\n",
      "           4       0.35      0.55      0.43        11\n",
      "           5       0.54      0.50      0.52        14\n",
      "           6       0.83      0.71      0.77        14\n",
      "           7       0.58      0.58      0.58        19\n",
      "           8       0.43      0.35      0.39        17\n",
      "           9       0.50      0.64      0.56        14\n",
      "\n",
      "    accuracy                           0.56       150\n",
      "   macro avg       0.58      0.56      0.56       150\n",
      "weighted avg       0.60      0.56      0.57       150\n",
      "\n",
      "Matrice di confusione:\n"
     ]
    },
    {
     "data": {
      "image/png": "[encoded data removed]",
      "text/plain": [
       "<Figure size 1080x720 with 2 Axes>"
      ]
     },
     "metadata": {
      "needs_background": "light"
     },
     "output_type": "display_data"
    }
   ],
   "source": [
    "y_pred = clf_zcr.predict(X_test_zcr)\n",
    "\n",
    "#Testing the model With ZCR\n",
    "# Report di classificazione\n",
    "print(\"Report di classificazione:\")\n",
    "print(classification_report(y_test, y_pred))\n",
    "\n",
    "# Matrice di confusione\n",
    "print(\"Matrice di confusione:\")\n",
    "cm = confusion_matrix(y_test, y_pred)\n",
    "#print(cm)\n",
    "plt.figure(figsize=(15,10))\n",
    "sns.heatmap(cm, annot=True, cmap=plt.cm.Blues)\n",
    "plt.yticks(rotation=0) \n",
    "plt.show()"
   ]
  },
  {
   "cell_type": "markdown",
   "metadata": {
    "ein.tags": "worksheet-0",
    "slideshow": {
     "slide_type": "-"
    }
   },
   "source": [
    "Aggiungendo ZCR alla combo si ottiene un aumento di $10\\%$ sull'accuratezza del modello sul test set."
   ]
  },
  {
   "cell_type": "markdown",
   "metadata": {
    "ein.tags": "worksheet-0",
    "slideshow": {
     "slide_type": "-"
    }
   },
   "source": [
    "# MFCC Prova"
   ]
  },
  {
   "cell_type": "code",
   "execution_count": 13,
   "metadata": {
    "autoscroll": false,
    "collapsed": false,
    "ein.hycell": false,
    "ein.tags": "worksheet-0",
    "slideshow": {
     "slide_type": "-"
    }
   },
   "outputs": [],
   "source": [
    "def mfcc(input, rate=8000, min_len=40, sampling=1):\n",
    "    # Campiona i valori\n",
    "    signal = input[::sampling]\n",
    "    # Calcola coefficienti MFCC\n",
    "    mfcc = librosa.feature.mfcc(signal*1.0, sr=int(rate/sampling))\n",
    "    # Applica eventuali zeri aggiuntivi per raggiungere una lunghezza fissa\n",
    "    pad_width = min_len - mfcc.shape[1]\n",
    "    mfcc = np.pad(mfcc, pad_width=((0, 0), (0, pad_width)), mode='constant')\n",
    "    # Appiattisci rappresentazione per uso con SVM\n",
    "    mfcc = mfcc.flatten()\n",
    "    return mfcc"
   ]
  },
  {
   "cell_type": "code",
   "execution_count": 14,
   "metadata": {
    "autoscroll": false,
    "collapsed": false,
    "ein.hycell": false,
    "ein.tags": "worksheet-0",
    "slideshow": {
     "slide_type": "-"
    }
   },
   "outputs": [],
   "source": [
    "def combo_with_mfcc(input):\n",
    "    return np.concatenate((aavg(input),sdev(input),duration(input),energy(input), mfcc(input)))"
   ]
  },
  {
   "cell_type": "code",
   "execution_count": 15,
   "metadata": {
    "autoscroll": false,
    "collapsed": false,
    "ein.hycell": false,
    "ein.tags": "worksheet-0",
    "slideshow": {
     "slide_type": "-"
    }
   },
   "outputs": [],
   "source": [
    "X_train, X_test, y_train, y_test = load_data(feature_extractor=combo_with_mfcc)"
   ]
  },
  {
   "cell_type": "code",
   "execution_count": 16,
   "metadata": {
    "autoscroll": false,
    "collapsed": false,
    "ein.hycell": false,
    "ein.tags": "worksheet-0",
    "slideshow": {
     "slide_type": "-"
    }
   },
   "outputs": [
    {
     "name": "stderr",
     "output_type": "stream",
     "text": [
      "/home/pranav/anaconda3/lib/python3.7/site-packages/sklearn/model_selection/_search.py:814: DeprecationWarning: The default of the `iid` parameter will change from True to False in version 0.22 and will be removed in 0.24. This will change numeric results when test-set sizes are unequal.\n",
      "  DeprecationWarning)\n"
     ]
    },
    {
     "name": "stdout",
     "output_type": "stream",
     "text": [
      "best parameters {'C': 10, 'gamma': 0.005}\n",
      "Addestramento completato in 141.360s\n"
     ]
    }
   ],
   "source": [
    "# Parametri da provare in cross validation\n",
    "param_grid = {'C': [0.1, 1, 10, 100, 500, 1000],\n",
    "          'gamma': [0.005, 0.01, 0.1, 0.5, 1.0], }\n",
    "\n",
    "# Inizializzazione Support Vector Machine\n",
    "clf = GridSearchCV(SVC(kernel='rbf', class_weight='balanced'), param_grid, cv=3)\n",
    "\n",
    "# Addestramento\n",
    "t0 = time()\n",
    "clf = clf.fit(X_train, y_train)\n",
    "print('best parameters', clf.best_params_)\n",
    "print(\"Addestramento completato in %0.3fs\" % (time() - t0))"
   ]
  },
  {
   "cell_type": "code",
   "execution_count": 17,
   "metadata": {
    "autoscroll": false,
    "collapsed": false,
    "ein.hycell": false,
    "ein.tags": "worksheet-0",
    "slideshow": {
     "slide_type": "-"
    }
   },
   "outputs": [
    {
     "name": "stdout",
     "output_type": "stream",
     "text": [
      "Report di classificazione:\n",
      "              precision    recall  f1-score   support\n",
      "\n",
      "           0      1.000     1.000     1.000        17\n",
      "           1      1.000     1.000     1.000        10\n",
      "           2      1.000     1.000     1.000        15\n",
      "           3      1.000     1.000     1.000        19\n",
      "           4      1.000     1.000     1.000        11\n",
      "           5      1.000     0.929     0.963        14\n",
      "           6      0.824     1.000     0.903        14\n",
      "           7      1.000     0.947     0.973        19\n",
      "           8      1.000     1.000     1.000        17\n",
      "           9      1.000     0.929     0.963        14\n",
      "\n",
      "    accuracy                          0.980       150\n",
      "   macro avg      0.982     0.980     0.980       150\n",
      "weighted avg      0.984     0.980     0.981       150\n",
      "\n",
      "Matrice di confusione:\n"
     ]
    },
    {
     "data": {
      "image/png": "[encoded data removed]",
      "text/plain": [
       "<Figure size 1080x720 with 2 Axes>"
      ]
     },
     "metadata": {
      "needs_background": "light"
     },
     "output_type": "display_data"
    }
   ],
   "source": [
    "y_pred = clf.predict(X_test)\n",
    "\n",
    "# Report di classificazione\n",
    "print(\"Report di classificazione:\")\n",
    "print(classification_report(y_test, y_pred, digits=3))\n",
    "\n",
    "# Matrice di confusione\n",
    "print(\"Matrice di confusione:\")\n",
    "cm = confusion_matrix(y_test, y_pred)\n",
    "#print(cm)\n",
    "plt.figure(figsize=(15,10))\n",
    "sns.heatmap(cm, annot=True, cmap=plt.cm.Blues)\n",
    "plt.yticks(rotation=0) \n",
    "plt.show()"
   ]
  },
  {
   "cell_type": "markdown",
   "metadata": {
    "ein.tags": "worksheet-0",
    "slideshow": {
     "slide_type": "-"
    }
   },
   "source": [
    "Con MFCC accuratezza arriva al $98\\%$ "
   ]
  }
 ],
 "metadata": {
  "kernelspec": {
   "argv": [
    "/home/pranav/anaconda3/bin/python",
    "-m",
    "ipykernel_launcher",
    "-f",
    "{connection_file}"
   ],
   "display_name": "Python 3",
   "env": null,
   "interrupt_mode": "signal",
   "language": "python",
   "metadata": null,
   "name": "python3"
  },
  "language_info": {
   "codemirror_mode": {
    "name": "ipython",
    "version": 3
   },
   "file_extension": ".py",
   "mimetype": "text/x-python",
   "name": "python",
   "nbconvert_exporter": "python",
   "pygments_lexer": "ipython3",
   "version": "3.7.5"
  },
  "name": "E02_Kasela_Pranav_846965.ipynb"
 },
 "nbformat": 4,
 "nbformat_minor": 2
}
