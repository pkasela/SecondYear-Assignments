{
 "cells": [
  {
   "cell_type": "code",
   "execution_count": 52,
   "metadata": {
    "colab": {},
    "colab_type": "code",
    "id": "0VWiUH7smSyF"
   },
   "outputs": [],
   "source": [
    "import pickle\n",
    "import matplotlib.pyplot as plt\n",
    "import numpy as np\n",
    "\n",
    "from sklearn.metrics import classification_report, confusion_matrix\n",
    "from sklearn.model_selection import train_test_split\n",
    "from sklearn.preprocessing import binarize\n",
    "\n",
    "import seaborn as sns\n",
    "\n",
    "from tensorflow.keras.models import Model\n",
    "from tensorflow.keras.layers import Dense, Dropout, Input\n",
    "from tensorflow.keras.utils import to_categorical\n",
    "from tensorflow.keras.callbacks import EarlyStopping, ReduceLROnPlateau\n",
    "from tensorflow.keras.optimizers import Adam, SGD, Adadelta\n",
    "from tensorflow.keras.regularizers import l1, l2\n",
    "\n",
    "early = EarlyStopping(monitor='val_loss', patience=10, verbose=1)\n",
    "lr_decay = ReduceLROnPlateau(monitor='val_loss', \n",
    "                             patience=3, verbose=1, \n",
    "                             factor=0.8, min_lr=3e-4)\n",
    "%matplotlib inline"
   ]
  },
  {
   "cell_type": "code",
   "execution_count": 2,
   "metadata": {
    "colab": {},
    "colab_type": "code",
    "id": "l_B9Mvn4mSyI"
   },
   "outputs": [],
   "source": [
    "def plot_history(network_history, metric='acc'):\n",
    "    plt.figure()\n",
    "    plt.xlabel('Epochs')\n",
    "    plt.ylabel('Loss')\n",
    "    plt.plot(network_history.history['loss'])\n",
    "    plt.plot(network_history.history['val_loss'])\n",
    "    plt.legend(['Training', 'Validation'])\n",
    "\n",
    "    plt.figure()\n",
    "    plt.xlabel('Epochs')\n",
    "    plt.ylabel('Accuracy')\n",
    "    plt.plot(network_history.history[metric])\n",
    "    plt.plot(network_history.history['val_'+metric])\n",
    "    plt.legend(['Training', 'Validation'], loc='lower right')\n",
    "    plt.show()"
   ]
  },
  {
   "cell_type": "code",
   "execution_count": 3,
   "metadata": {
    "colab": {},
    "colab_type": "code",
    "id": "9NwBhGsemSyK"
   },
   "outputs": [],
   "source": [
    "x_train = pickle.load(open(\"x_train.obj\",\"rb\"))\n",
    "\n",
    "x_test = pickle.load(open(\"x_test.obj\",\"rb\"))\n",
    "\n",
    "y_train = pickle.load(open(\"y_train.obj\",\"rb\"))"
   ]
  },
  {
   "cell_type": "code",
   "execution_count": 4,
   "metadata": {
    "colab": {},
    "colab_type": "code",
    "id": "_ZG73-3VmSyM"
   },
   "outputs": [],
   "source": [
    "x_train = (x_train.astype('float32') / 255.).reshape(len(x_train), x_train.shape[1]*x_train.shape[2])\n",
    "x_test = (x_test.astype('float32') / 255.).reshape(len(x_test), x_test.shape[1]*x_test.shape[2])"
   ]
  },
  {
   "cell_type": "code",
   "execution_count": 5,
   "metadata": {
    "colab": {
     "base_uri": "https://localhost:8080/",
     "height": 282
    },
    "colab_type": "code",
    "id": "OWNe5sk4G1k5",
    "outputId": "c4c34fbb-9f24-4395-e01f-64192df83f1b"
   },
   "outputs": [
    {
     "data": {
      "text/plain": [
       "<matplotlib.image.AxesImage at 0x7fbfa90d8320>"
      ]
     },
     "execution_count": 5,
     "metadata": {},
     "output_type": "execute_result"
    },
    {
     "data": {
      "image/png": "[encoded data removed]",
      "text/plain": [
       "<Figure size 432x288 with 1 Axes>"
      ]
     },
     "metadata": {
      "needs_background": "light"
     },
     "output_type": "display_data"
    }
   ],
   "source": [
    "plt.imshow(x_train[0].reshape(28,28))"
   ]
  },
  {
   "cell_type": "code",
   "execution_count": 6,
   "metadata": {
    "colab": {
     "base_uri": "https://localhost:8080/",
     "height": 34
    },
    "colab_type": "code",
    "id": "jXUcIvULmSyO",
    "outputId": "3861611f-cda1-4da9-a2f6-ee2cc80d102a"
   },
   "outputs": [
    {
     "data": {
      "text/plain": [
       "(14000, 784)"
      ]
     },
     "execution_count": 6,
     "metadata": {},
     "output_type": "execute_result"
    }
   ],
   "source": [
    "x_train.shape"
   ]
  },
  {
   "cell_type": "code",
   "execution_count": 7,
   "metadata": {
    "colab": {},
    "colab_type": "code",
    "id": "PgArWIWYAU_B"
   },
   "outputs": [],
   "source": [
    "x_train, x_val, y_train, y_val = train_test_split(x_train, y_train, test_size=0.1)"
   ]
  },
  {
   "cell_type": "code",
   "execution_count": 8,
   "metadata": {
    "colab": {},
    "colab_type": "code",
    "id": "b8O8EUGymSyR"
   },
   "outputs": [],
   "source": [
    "np.unique(y_train)\n",
    "first_letter = min(y_train)\n",
    "y_train = y_train - first_letter\n",
    "y_val = y_val - first_letter"
   ]
  },
  {
   "cell_type": "code",
   "execution_count": 9,
   "metadata": {
    "colab": {},
    "colab_type": "code",
    "id": "p-FbpetwmSyT"
   },
   "outputs": [],
   "source": [
    "n_classes = len(np.unique(y_train))"
   ]
  },
  {
   "cell_type": "code",
   "execution_count": 74,
   "metadata": {
    "colab": {
     "base_uri": "https://localhost:8080/",
     "height": 265
    },
    "colab_type": "code",
    "id": "GvjmyUonmSyV",
    "outputId": "a9875aa9-5c1d-4f7f-982d-e7678b53345f"
   },
   "outputs": [
    {
     "data": {
      "image/png": "[encoded data removed]",
      "text/plain": [
       "<Figure size 432x288 with 1 Axes>"
      ]
     },
     "metadata": {
      "needs_background": "light"
     },
     "output_type": "display_data"
    }
   ],
   "source": [
    "sns.countplot(y_train, palette='dark')\n",
    "plt.show()"
   ]
  },
  {
   "cell_type": "code",
   "execution_count": 11,
   "metadata": {
    "colab": {},
    "colab_type": "code",
    "id": "mfkX5WgGmSyX"
   },
   "outputs": [],
   "source": [
    "y_train_cat = to_categorical(y_train, num_classes=n_classes)\n",
    "y_val_cat = to_categorical(y_val, num_classes=n_classes)"
   ]
  },
  {
   "cell_type": "code",
   "execution_count": 12,
   "metadata": {
    "colab": {
     "base_uri": "https://localhost:8080/",
     "height": 34
    },
    "colab_type": "code",
    "id": "M6PDO0CPmSyZ",
    "outputId": "373e24b0-f37c-445d-ee64-03c7bebf0059"
   },
   "outputs": [
    {
     "data": {
      "text/plain": [
       "(12600, 11)"
      ]
     },
     "execution_count": 12,
     "metadata": {},
     "output_type": "execute_result"
    }
   ],
   "source": [
    "y_train_cat.shape #11 classi"
   ]
  },
  {
   "cell_type": "code",
   "execution_count": 59,
   "metadata": {
    "colab": {
     "base_uri": "https://localhost:8080/",
     "height": 89
    },
    "colab_type": "code",
    "id": "xCaSzQrnmSya",
    "outputId": "5c3e0d64-cfe7-41a3-ed4f-061a44e6a9a3"
   },
   "outputs": [],
   "source": [
    "input_layer = Input(shape=(x_train.shape[1],))\n",
    "l = Dense(1024, input_shape=(x_train.shape[1],), activation='relu',\n",
    "          kernel_regularizer=l2(0.01),\n",
    "          activity_regularizer=l1(0.01))(input_layer)\n",
    "l = Dropout(0.2)(l)\n",
    "l = Dense(1024, activation='relu')(l)\n",
    "l = Dropout(0.2)(l)\n",
    "l = Dense(256, activation='relu')(l)\n",
    "l = Dropout(0.2)(l)\n",
    "output = Dense(n_classes, activation='softmax')(l)\n",
    "model = Model(input_layer, output)\n",
    "model.compile(loss='categorical_crossentropy',optimizer=Adam(), metrics=['accuracy'])"
   ]
  },
  {
   "cell_type": "code",
   "execution_count": 60,
   "metadata": {
    "colab": {
     "base_uri": "https://localhost:8080/",
     "height": 885
    },
    "colab_type": "code",
    "id": "Aduszu4uEAzP",
    "outputId": "804f9d34-bb8a-4bae-86ab-2806c65b313d",
    "scrolled": true
   },
   "outputs": [
    {
     "name": "stdout",
     "output_type": "stream",
     "text": [
      "Train on 12600 samples, validate on 1400 samples\n",
      "Epoch 1/100\n",
      "12600/12600 - 3s - loss: 9.3769 - acc: 0.5093 - val_loss: 6.3134 - val_acc: 0.7171\n",
      "Epoch 2/100\n",
      "12600/12600 - 2s - loss: 4.9077 - acc: 0.7761 - val_loss: 3.3867 - val_acc: 0.8443\n",
      "Epoch 3/100\n",
      "12600/12600 - 2s - loss: 2.6663 - acc: 0.8721 - val_loss: 1.9250 - val_acc: 0.8914\n",
      "Epoch 4/100\n",
      "12600/12600 - 2s - loss: 1.5451 - acc: 0.9144 - val_loss: 1.1989 - val_acc: 0.9207\n",
      "Epoch 5/100\n",
      "12600/12600 - 2s - loss: 1.0004 - acc: 0.9341 - val_loss: 0.8470 - val_acc: 0.9364\n",
      "Epoch 6/100\n",
      "12600/12600 - 2s - loss: 0.7245 - acc: 0.9468 - val_loss: 0.6810 - val_acc: 0.9271\n",
      "Epoch 7/100\n",
      "12600/12600 - 2s - loss: 0.5865 - acc: 0.9494 - val_loss: 0.5861 - val_acc: 0.9307\n",
      "Epoch 8/100\n",
      "12600/12600 - 2s - loss: 0.5046 - acc: 0.9532 - val_loss: 0.5475 - val_acc: 0.9307\n",
      "Epoch 9/100\n",
      "12600/12600 - 2s - loss: 0.4506 - acc: 0.9571 - val_loss: 0.5290 - val_acc: 0.9343\n",
      "Epoch 10/100\n",
      "12600/12600 - 2s - loss: 0.4125 - acc: 0.9594 - val_loss: 0.4899 - val_acc: 0.9336\n",
      "Epoch 11/100\n",
      "12600/12600 - 2s - loss: 0.3800 - acc: 0.9621 - val_loss: 0.4667 - val_acc: 0.9407\n",
      "Epoch 12/100\n",
      "12600/12600 - 2s - loss: 0.3522 - acc: 0.9643 - val_loss: 0.4885 - val_acc: 0.9214\n",
      "Epoch 13/100\n",
      "12600/12600 - 2s - loss: 0.3521 - acc: 0.9583 - val_loss: 0.4550 - val_acc: 0.9293\n",
      "Epoch 14/100\n",
      "12600/12600 - 2s - loss: 0.3576 - acc: 0.9537 - val_loss: 0.4439 - val_acc: 0.9293\n",
      "Epoch 15/100\n",
      "12600/12600 - 2s - loss: 0.3519 - acc: 0.9567 - val_loss: 0.4505 - val_acc: 0.9286\n",
      "Epoch 16/100\n",
      "12600/12600 - 2s - loss: 0.3520 - acc: 0.9540 - val_loss: 0.4413 - val_acc: 0.9343\n",
      "Epoch 17/100\n",
      "12600/12600 - 2s - loss: 0.3268 - acc: 0.9633 - val_loss: 0.4369 - val_acc: 0.9350\n",
      "Epoch 18/100\n",
      "12600/12600 - 2s - loss: 0.3303 - acc: 0.9575 - val_loss: 0.4533 - val_acc: 0.9179\n",
      "Epoch 19/100\n",
      "12600/12600 - 2s - loss: 0.3260 - acc: 0.9566 - val_loss: 0.4383 - val_acc: 0.9357\n",
      "Epoch 20/100\n",
      "12600/12600 - 2s - loss: 0.3184 - acc: 0.9599 - val_loss: 0.4333 - val_acc: 0.9307\n",
      "Epoch 21/100\n",
      "12600/12600 - 2s - loss: 0.3209 - acc: 0.9564 - val_loss: 0.4517 - val_acc: 0.9271\n",
      "Epoch 22/100\n",
      "12600/12600 - 2s - loss: 0.3089 - acc: 0.9615 - val_loss: 0.4488 - val_acc: 0.9307\n",
      "Epoch 23/100\n",
      "12600/12600 - 2s - loss: 0.3048 - acc: 0.9594 - val_loss: 0.4237 - val_acc: 0.9343\n",
      "Epoch 24/100\n",
      "12600/12600 - 2s - loss: 0.3019 - acc: 0.9604 - val_loss: 0.4224 - val_acc: 0.9350\n",
      "Epoch 25/100\n",
      "12600/12600 - 2s - loss: 0.2912 - acc: 0.9648 - val_loss: 0.4273 - val_acc: 0.9336\n",
      "Epoch 26/100\n",
      "12600/12600 - 2s - loss: 0.2851 - acc: 0.9633 - val_loss: 0.4101 - val_acc: 0.9336\n",
      "Epoch 27/100\n",
      "12600/12600 - 2s - loss: 0.2785 - acc: 0.9619 - val_loss: 0.4034 - val_acc: 0.9386\n",
      "Epoch 28/100\n",
      "12600/12600 - 2s - loss: 0.2749 - acc: 0.9648 - val_loss: 0.4233 - val_acc: 0.9300\n",
      "Epoch 29/100\n",
      "12600/12600 - 2s - loss: 0.2797 - acc: 0.9636 - val_loss: 0.3984 - val_acc: 0.9393\n",
      "Epoch 30/100\n",
      "12600/12600 - 2s - loss: 0.2750 - acc: 0.9611 - val_loss: 0.3917 - val_acc: 0.9407\n",
      "Epoch 31/100\n",
      "12600/12600 - 2s - loss: 0.2794 - acc: 0.9628 - val_loss: 0.4240 - val_acc: 0.9257\n",
      "Epoch 32/100\n",
      "12600/12600 - 2s - loss: 0.2843 - acc: 0.9586 - val_loss: 0.3976 - val_acc: 0.9400\n",
      "Epoch 33/100\n",
      "\n",
      "Epoch 00033: ReduceLROnPlateau reducing learning rate to 0.000800000037997961.\n",
      "12600/12600 - 2s - loss: 0.2966 - acc: 0.9539 - val_loss: 0.4565 - val_acc: 0.9171\n",
      "Epoch 34/100\n",
      "12600/12600 - 2s - loss: 0.3056 - acc: 0.9560 - val_loss: 0.4002 - val_acc: 0.9364\n",
      "Epoch 35/100\n",
      "12600/12600 - 2s - loss: 0.2745 - acc: 0.9648 - val_loss: 0.4185 - val_acc: 0.9307\n",
      "Epoch 36/100\n",
      "\n",
      "Epoch 00036: ReduceLROnPlateau reducing learning rate to 0.0006400000303983689.\n",
      "12600/12600 - 2s - loss: 0.2604 - acc: 0.9680 - val_loss: 0.4128 - val_acc: 0.9314\n",
      "Epoch 37/100\n",
      "12600/12600 - 2s - loss: 0.2540 - acc: 0.9691 - val_loss: 0.3924 - val_acc: 0.9386\n",
      "Epoch 38/100\n",
      "12600/12600 - 2s - loss: 0.2350 - acc: 0.9725 - val_loss: 0.3456 - val_acc: 0.9471\n",
      "Epoch 39/100\n",
      "12600/12600 - 2s - loss: 0.2198 - acc: 0.9756 - val_loss: 0.3623 - val_acc: 0.9407\n",
      "Epoch 40/100\n",
      "12600/12600 - 2s - loss: 0.2038 - acc: 0.9803 - val_loss: 0.3630 - val_acc: 0.9386\n",
      "Epoch 41/100\n",
      "\n",
      "Epoch 00041: ReduceLROnPlateau reducing learning rate to 0.0005120000336319208.\n",
      "12600/12600 - 2s - loss: 0.1968 - acc: 0.9795 - val_loss: 0.3585 - val_acc: 0.9429\n",
      "Epoch 42/100\n",
      "12600/12600 - 2s - loss: 0.1902 - acc: 0.9791 - val_loss: 0.3529 - val_acc: 0.9379\n",
      "Epoch 43/100\n",
      "12600/12600 - 2s - loss: 0.1738 - acc: 0.9855 - val_loss: 0.3425 - val_acc: 0.9421\n",
      "Epoch 44/100\n",
      "12600/12600 - 2s - loss: 0.1772 - acc: 0.9821 - val_loss: 0.3370 - val_acc: 0.9450\n",
      "Epoch 45/100\n",
      "12600/12600 - 2s - loss: 0.1726 - acc: 0.9821 - val_loss: 0.3188 - val_acc: 0.9493\n",
      "Epoch 46/100\n",
      "12600/12600 - 2s - loss: 0.1664 - acc: 0.9814 - val_loss: 0.3249 - val_acc: 0.9386\n",
      "Epoch 47/100\n",
      "12600/12600 - 2s - loss: 0.1606 - acc: 0.9838 - val_loss: 0.3343 - val_acc: 0.9429\n",
      "Epoch 48/100\n",
      "\n",
      "Epoch 00048: ReduceLROnPlateau reducing learning rate to 0.00040960004553198815.\n",
      "12600/12600 - 2s - loss: 0.1597 - acc: 0.9835 - val_loss: 0.3309 - val_acc: 0.9421\n",
      "Epoch 49/100\n",
      "12600/12600 - 2s - loss: 0.1532 - acc: 0.9850 - val_loss: 0.3303 - val_acc: 0.9393\n",
      "Epoch 50/100\n",
      "12600/12600 - 2s - loss: 0.1415 - acc: 0.9884 - val_loss: 0.3272 - val_acc: 0.9436\n",
      "Epoch 51/100\n",
      "12600/12600 - 2s - loss: 0.1376 - acc: 0.9887 - val_loss: 0.3144 - val_acc: 0.9407\n",
      "Epoch 52/100\n",
      "12600/12600 - 2s - loss: 0.1352 - acc: 0.9889 - val_loss: 0.3232 - val_acc: 0.9457\n",
      "Epoch 53/100\n",
      "12600/12600 - 2s - loss: 0.1331 - acc: 0.9878 - val_loss: 0.3120 - val_acc: 0.9457\n",
      "Epoch 54/100\n",
      "12600/12600 - 2s - loss: 0.1324 - acc: 0.9870 - val_loss: 0.2920 - val_acc: 0.9471\n",
      "Epoch 55/100\n",
      "12600/12600 - 2s - loss: 0.1339 - acc: 0.9867 - val_loss: 0.2996 - val_acc: 0.9457\n",
      "Epoch 56/100\n",
      "12600/12600 - 2s - loss: 0.1315 - acc: 0.9860 - val_loss: 0.2919 - val_acc: 0.9464\n",
      "Epoch 57/100\n",
      "12600/12600 - 2s - loss: 0.1312 - acc: 0.9855 - val_loss: 0.3090 - val_acc: 0.9429\n",
      "Epoch 58/100\n",
      "12600/12600 - 2s - loss: 0.1302 - acc: 0.9867 - val_loss: 0.3162 - val_acc: 0.9414\n",
      "Epoch 59/100\n",
      "12600/12600 - 2s - loss: 0.1329 - acc: 0.9847 - val_loss: 0.2908 - val_acc: 0.9493\n",
      "Epoch 60/100\n",
      "12600/12600 - 2s - loss: 0.1331 - acc: 0.9851 - val_loss: 0.2949 - val_acc: 0.9436\n",
      "Epoch 61/100\n",
      "12600/12600 - 2s - loss: 0.1371 - acc: 0.9829 - val_loss: 0.3161 - val_acc: 0.9400\n",
      "Epoch 62/100\n",
      "\n",
      "Epoch 00062: ReduceLROnPlateau reducing learning rate to 0.00032768002711236477.\n",
      "12600/12600 - 2s - loss: 0.1365 - acc: 0.9815 - val_loss: 0.3197 - val_acc: 0.9350\n",
      "Epoch 63/100\n",
      "12600/12600 - 2s - loss: 0.1428 - acc: 0.9817 - val_loss: 0.3295 - val_acc: 0.9386\n",
      "Epoch 64/100\n",
      "12600/12600 - 2s - loss: 0.1368 - acc: 0.9827 - val_loss: 0.3056 - val_acc: 0.9493\n",
      "Epoch 65/100\n",
      "\n",
      "Epoch 00065: ReduceLROnPlateau reducing learning rate to 0.0003.\n",
      "12600/12600 - 2s - loss: 0.1311 - acc: 0.9845 - val_loss: 0.3120 - val_acc: 0.9414\n",
      "Epoch 66/100\n",
      "12600/12600 - 2s - loss: 0.1263 - acc: 0.9875 - val_loss: 0.3084 - val_acc: 0.9443\n",
      "Epoch 67/100\n",
      "12600/12600 - 2s - loss: 0.1215 - acc: 0.9883 - val_loss: 0.2975 - val_acc: 0.9479\n",
      "Epoch 68/100\n",
      "\n",
      "Epoch 00068: ReduceLROnPlateau reducing learning rate to 0.0003.\n",
      "12600/12600 - 2s - loss: 0.1168 - acc: 0.9900 - val_loss: 0.3031 - val_acc: 0.9400\n",
      "Epoch 69/100\n",
      "12600/12600 - 2s - loss: 0.1159 - acc: 0.9895 - val_loss: 0.3065 - val_acc: 0.9421\n",
      "Epoch 00069: early stopping\n"
     ]
    }
   ],
   "source": [
    "history = model.fit(x_train, y_train_cat, validation_data=(x_val, y_val_cat), \n",
    "                    epochs = 100, batch_size=1024, verbose=2,\n",
    "                    callbacks=[lr_decay, early])"
   ]
  },
  {
   "cell_type": "code",
   "execution_count": 61,
   "metadata": {
    "colab": {
     "base_uri": "https://localhost:8080/",
     "height": 542
    },
    "colab_type": "code",
    "id": "dSBrPLNqmSye",
    "outputId": "4c56cb4b-0a03-49cb-fd8f-dc5a775137dd"
   },
   "outputs": [
    {
     "data": {
      "image/png": "[encoded data removed]",
      "text/plain": [
       "<Figure size 432x288 with 1 Axes>"
      ]
     },
     "metadata": {
      "needs_background": "light"
     },
     "output_type": "display_data"
    },
    {
     "data": {
      "image/png": "[encoded data removed]",
      "text/plain": [
       "<Figure size 432x288 with 1 Axes>"
      ]
     },
     "metadata": {
      "needs_background": "light"
     },
     "output_type": "display_data"
    }
   ],
   "source": [
    "plot_history(history)"
   ]
  },
  {
   "cell_type": "code",
   "execution_count": 62,
   "metadata": {
    "colab": {
     "base_uri": "https://localhost:8080/",
     "height": 330
    },
    "colab_type": "code",
    "id": "9alkYo6_OlBp",
    "outputId": "97cd8153-5c6e-4422-d866-511c309c3c9b"
   },
   "outputs": [
    {
     "name": "stdout",
     "output_type": "stream",
     "text": [
      "              precision    recall  f1-score   support\n",
      "\n",
      "           0       0.94      0.97      0.95       136\n",
      "           1       0.93      0.96      0.94       129\n",
      "           2       0.96      0.87      0.92       124\n",
      "           3       0.97      0.96      0.97       137\n",
      "           4       0.99      0.91      0.95       121\n",
      "           5       0.89      0.97      0.93       134\n",
      "           6       0.92      0.91      0.91       128\n",
      "           7       0.96      0.95      0.95       116\n",
      "           8       0.98      0.95      0.97       146\n",
      "           9       0.91      0.95      0.93       146\n",
      "          10       0.94      0.96      0.95        83\n",
      "\n",
      "    accuracy                           0.94      1400\n",
      "   macro avg       0.94      0.94      0.94      1400\n",
      "weighted avg       0.94      0.94      0.94      1400\n",
      "\n"
     ]
    }
   ],
   "source": [
    "print(classification_report(y_val, model.predict(x_val).argmax(axis=1)))"
   ]
  },
  {
   "cell_type": "code",
   "execution_count": 17,
   "metadata": {
    "colab": {
     "base_uri": "https://localhost:8080/",
     "height": 350
    },
    "colab_type": "code",
    "id": "DHYijqOBPatQ",
    "outputId": "bdd4b27d-bd31-4fcf-a547-ca349c67ff0b"
   },
   "outputs": [
    {
     "data": {
      "image/png": "[encoded data removed]",
      "text/plain": [
       "<Figure size 936x360 with 1 Axes>"
      ]
     },
     "metadata": {
      "needs_background": "light"
     },
     "output_type": "display_data"
    }
   ],
   "source": [
    "index = ['p','q','r','s','t','u','v','w','x','y','z']\n",
    "\n",
    "plt.figure(figsize = (13,5))\n",
    "cf_matrix = confusion_matrix(y_val, model.predict(x_val).argmax(axis=1))\n",
    "ax = sns.heatmap(cf_matrix, xticklabels=index, yticklabels=index, cmap='Greens',\n",
    "                 cbar=False, annot=True, fmt='d', linewidths=2, linecolor='gray')\n",
    "ax.tick_params(left=False, bottom=False)\n",
    "plt.ylabel('True Label')\n",
    "plt.xlabel('Predicted Label')\n",
    "plt.title('Confusion Matrix')\n",
    "plt.yticks(rotation=0)\n",
    "plt.show()"
   ]
  },
  {
   "cell_type": "code",
   "execution_count": 35,
   "metadata": {},
   "outputs": [],
   "source": [
    "input_layer = Input(shape=(x_train.shape[1],))\n",
    "l = Dense(1024, input_shape=(x_train.shape[1],), activation='relu')(input_layer)\n",
    "l = Dropout(0.2)(l)\n",
    "l = Dense(1024, activation='relu')(l)\n",
    "l = Dropout(0.2)(l)\n",
    "l = Dense(256, activation='relu')(l)\n",
    "l = Dropout(0.2)(l)\n",
    "output = Dense(n_classes, activation='softmax')(l)\n",
    "final_model = Model(input_layer, output)\n",
    "final_model.compile(loss='categorical_crossentropy',optimizer=Adam(), metrics=['accuracy'])"
   ]
  },
  {
   "cell_type": "code",
   "execution_count": 36,
   "metadata": {
    "scrolled": true
   },
   "outputs": [
    {
     "name": "stdout",
     "output_type": "stream",
     "text": [
      "Epoch 1/30\n",
      "14000/14000 [==============================] - 2s 166us/sample - loss: 1.2593 - acc: 0.6037\n",
      "Epoch 2/30\n",
      "14000/14000 [==============================] - 2s 135us/sample - loss: 0.5882 - acc: 0.8182\n",
      "Epoch 3/30\n",
      "14000/14000 [==============================] - 2s 142us/sample - loss: 0.3879 - acc: 0.8843\n",
      "Epoch 4/30\n",
      "14000/14000 [==============================] - 2s 139us/sample - loss: 0.2827 - acc: 0.9153\n",
      "Epoch 5/30\n",
      "14000/14000 [==============================] - 2s 137us/sample - loss: 0.2197 - acc: 0.9338\n",
      "Epoch 6/30\n",
      "14000/14000 [==============================] - 2s 136us/sample - loss: 0.1677 - acc: 0.9514\n",
      "Epoch 7/30\n",
      "14000/14000 [==============================] - 2s 139us/sample - loss: 0.1364 - acc: 0.9604\n",
      "Epoch 8/30\n",
      "14000/14000 [==============================] - 2s 137us/sample - loss: 0.1127 - acc: 0.9664\n",
      "Epoch 9/30\n",
      "14000/14000 [==============================] - 2s 148us/sample - loss: 0.0970 - acc: 0.9710\n",
      "Epoch 10/30\n",
      "14000/14000 [==============================] - 2s 142us/sample - loss: 0.0834 - acc: 0.9748\n",
      "Epoch 11/30\n",
      "14000/14000 [==============================] - 2s 139us/sample - loss: 0.0673 - acc: 0.9796\n",
      "Epoch 12/30\n",
      "14000/14000 [==============================] - 2s 142us/sample - loss: 0.0560 - acc: 0.9826\n",
      "Epoch 13/30\n",
      "14000/14000 [==============================] - 2s 138us/sample - loss: 0.0503 - acc: 0.9836\n",
      "Epoch 14/30\n",
      "14000/14000 [==============================] - 2s 140us/sample - loss: 0.0442 - acc: 0.9856\n",
      "Epoch 15/30\n",
      "14000/14000 [==============================] - 2s 147us/sample - loss: 0.0395 - acc: 0.9871\n",
      "Epoch 16/30\n",
      "14000/14000 [==============================] - 2s 144us/sample - loss: 0.0384 - acc: 0.9864\n",
      "Epoch 17/30\n",
      "14000/14000 [==============================] - 2s 139us/sample - loss: 0.0351 - acc: 0.9882\n",
      "Epoch 18/30\n",
      "14000/14000 [==============================] - 2s 137us/sample - loss: 0.0304 - acc: 0.9905\n",
      "Epoch 19/30\n",
      "14000/14000 [==============================] - 2s 138us/sample - loss: 0.0343 - acc: 0.9886\n",
      "Epoch 20/30\n",
      "14000/14000 [==============================] - 2s 135us/sample - loss: 0.0369 - acc: 0.9869\n",
      "Epoch 21/30\n",
      "14000/14000 [==============================] - 2s 144us/sample - loss: 0.0274 - acc: 0.9911\n",
      "Epoch 22/30\n",
      "14000/14000 [==============================] - 2s 144us/sample - loss: 0.0242 - acc: 0.9917\n",
      "Epoch 23/30\n",
      "14000/14000 [==============================] - 2s 146us/sample - loss: 0.0176 - acc: 0.9949\n",
      "Epoch 24/30\n",
      "14000/14000 [==============================] - 2s 146us/sample - loss: 0.0196 - acc: 0.9934\n",
      "Epoch 25/30\n",
      "14000/14000 [==============================] - 2s 139us/sample - loss: 0.0163 - acc: 0.9947\n",
      "Epoch 26/30\n",
      "14000/14000 [==============================] - 2s 141us/sample - loss: 0.0175 - acc: 0.9948\n",
      "Epoch 27/30\n",
      "14000/14000 [==============================] - 2s 142us/sample - loss: 0.0155 - acc: 0.9946\n",
      "Epoch 28/30\n",
      "14000/14000 [==============================] - 2s 144us/sample - loss: 0.0156 - acc: 0.9946\n",
      "Epoch 29/30\n",
      "14000/14000 [==============================] - 2s 143us/sample - loss: 0.0105 - acc: 0.9966\n",
      "Epoch 30/30\n",
      "14000/14000 [==============================] - 2s 146us/sample - loss: 0.0133 - acc: 0.9957\n"
     ]
    }
   ],
   "source": [
    "history = final_model.fit(np.vstack((x_train, x_val)), np.vstack((y_train_cat, y_val_cat)), \n",
    "                          epochs = 30, batch_size=1024, verbose=1)"
   ]
  },
  {
   "cell_type": "code",
   "execution_count": 37,
   "metadata": {},
   "outputs": [
    {
     "data": {
      "image/png": "[encoded data removed]",
      "text/plain": [
       "<Figure size 432x288 with 1 Axes>"
      ]
     },
     "metadata": {
      "needs_background": "light"
     },
     "output_type": "display_data"
    },
    {
     "data": {
      "image/png": "[encoded data removed]",
      "text/plain": [
       "<Figure size 432x288 with 1 Axes>"
      ]
     },
     "metadata": {
      "needs_background": "light"
     },
     "output_type": "display_data"
    }
   ],
   "source": [
    "plt.figure()\n",
    "plt.xlabel('Epochs')\n",
    "plt.ylabel('Loss')\n",
    "plt.plot(history.history['loss'])\n",
    "plt.legend(['Training'])\n",
    "\n",
    "plt.figure()\n",
    "plt.xlabel('Epochs')\n",
    "plt.ylabel('Accuracy')\n",
    "plt.plot(history.history['acc'])\n",
    "plt.legend(['Training'], loc='lower right')\n",
    "plt.show()"
   ]
  },
  {
   "cell_type": "code",
   "execution_count": 38,
   "metadata": {},
   "outputs": [],
   "source": [
    "y_pred_test = final_model.predict(x_test).argmax(axis=1)"
   ]
  },
  {
   "cell_type": "code",
   "execution_count": 39,
   "metadata": {},
   "outputs": [],
   "source": [
    "y_pred_test = y_pred_test + first_letter"
   ]
  },
  {
   "cell_type": "code",
   "execution_count": 40,
   "metadata": {},
   "outputs": [
    {
     "data": {
      "text/plain": [
       "array([22, 26, 25, ..., 22, 23, 20])"
      ]
     },
     "execution_count": 40,
     "metadata": {},
     "output_type": "execute_result"
    }
   ],
   "source": [
    "y_pred_test"
   ]
  },
  {
   "cell_type": "code",
   "execution_count": 41,
   "metadata": {},
   "outputs": [],
   "source": [
    "np.savetxt('Pranav_Kasela_846965_score2.txt', y_pred_test, fmt='%d')"
   ]
  },
  {
   "cell_type": "markdown",
   "metadata": {
    "colab_type": "text",
    "id": "v609mrfFmSyg"
   },
   "source": [
    "# AutoEncoder"
   ]
  },
  {
   "cell_type": "code",
   "execution_count": 25,
   "metadata": {
    "colab": {},
    "colab_type": "code",
    "id": "Ulax0bYCmSyh"
   },
   "outputs": [],
   "source": [
    "Encoded_shape = 150\n",
    "\n",
    "input_image = Input(shape=(x_train.shape[1],))\n",
    "encoded_1 = Dense(350, activation='relu')(input_image)\n",
    "encoded_2 = Dense(Encoded_shape, activation='relu')(encoded_1)\n",
    "decoded_1 = Dense(350, activation='relu')(encoded_2)\n",
    "decoded_2 = Dense(784, activation='relu')(decoded_1)\n",
    "\n",
    "#autoencoder\n",
    "autoencoder = Model(input_image, decoded_2)\n",
    "#encoder\n",
    "encoder = Model(input_image, encoded_2)\n",
    "\n",
    "#decoder\n",
    "encoded_input = Input(shape=(Encoded_shape,))\n",
    "decoder_layer_1 = autoencoder.layers[-2](encoded_input)\n",
    "decoder_layer_2 = autoencoder.layers[-1](decoder_layer_1)\n",
    "decoder = Model(encoded_input, decoder_layer_2)"
   ]
  },
  {
   "cell_type": "code",
   "execution_count": 26,
   "metadata": {
    "colab": {
     "base_uri": "https://localhost:8080/",
     "height": 1000
    },
    "colab_type": "code",
    "id": "PqWuyysmmSyk",
    "outputId": "5b77e6b0-4751-4dbe-e3c5-301fcc8e39ed",
    "scrolled": true
   },
   "outputs": [
    {
     "name": "stdout",
     "output_type": "stream",
     "text": [
      "Train on 12600 samples, validate on 1400 samples\n",
      "Epoch 1/150\n",
      "12600/12600 [==============================] - 1s 45us/sample - loss: 0.0831 - val_loss: 0.0581\n",
      "Epoch 2/150\n",
      "12600/12600 [==============================] - 0s 28us/sample - loss: 0.0435 - val_loss: 0.0314\n",
      "Epoch 3/150\n",
      "12600/12600 [==============================] - 0s 28us/sample - loss: 0.0254 - val_loss: 0.0216\n",
      "Epoch 4/150\n",
      "12600/12600 [==============================] - 0s 28us/sample - loss: 0.0187 - val_loss: 0.0171\n",
      "Epoch 5/150\n",
      "12600/12600 [==============================] - 0s 28us/sample - loss: 0.0152 - val_loss: 0.0144\n",
      "Epoch 6/150\n",
      "12600/12600 [==============================] - 0s 28us/sample - loss: 0.0136 - val_loss: 0.0130\n",
      "Epoch 7/150\n",
      "12600/12600 [==============================] - 0s 29us/sample - loss: 0.0119 - val_loss: 0.0121\n",
      "Epoch 8/150\n",
      "12600/12600 [==============================] - 0s 29us/sample - loss: 0.0111 - val_loss: 0.0110\n",
      "Epoch 9/150\n",
      "12600/12600 [==============================] - 0s 28us/sample - loss: 0.0102 - val_loss: 0.0103\n",
      "Epoch 10/150\n",
      "12600/12600 [==============================] - 0s 28us/sample - loss: 0.0096 - val_loss: 0.0098\n",
      "Epoch 11/150\n",
      "12600/12600 [==============================] - 0s 29us/sample - loss: 0.0091 - val_loss: 0.0093\n",
      "Epoch 12/150\n",
      "12600/12600 [==============================] - 0s 29us/sample - loss: 0.0089 - val_loss: 0.0091\n",
      "Epoch 13/150\n",
      "12600/12600 [==============================] - 0s 28us/sample - loss: 0.0085 - val_loss: 0.0086\n",
      "Epoch 14/150\n",
      "12600/12600 [==============================] - 0s 28us/sample - loss: 0.0080 - val_loss: 0.0083\n",
      "Epoch 15/150\n",
      "12600/12600 [==============================] - 0s 29us/sample - loss: 0.0078 - val_loss: 0.0081\n",
      "Epoch 16/150\n",
      "12600/12600 [==============================] - 0s 28us/sample - loss: 0.0076 - val_loss: 0.0078\n",
      "Epoch 17/150\n",
      "12600/12600 [==============================] - 0s 28us/sample - loss: 0.0073 - val_loss: 0.0077\n",
      "Epoch 18/150\n",
      "12600/12600 [==============================] - 0s 29us/sample - loss: 0.0072 - val_loss: 0.0074\n",
      "Epoch 19/150\n",
      "12600/12600 [==============================] - 0s 28us/sample - loss: 0.0070 - val_loss: 0.0074\n",
      "Epoch 20/150\n",
      "12600/12600 [==============================] - 0s 27us/sample - loss: 0.0069 - val_loss: 0.0073\n",
      "Epoch 21/150\n",
      "12600/12600 [==============================] - 0s 28us/sample - loss: 0.0067 - val_loss: 0.0070\n",
      "Epoch 22/150\n",
      "12600/12600 [==============================] - 0s 28us/sample - loss: 0.0065 - val_loss: 0.0070\n",
      "Epoch 23/150\n",
      "12600/12600 [==============================] - 0s 30us/sample - loss: 0.0065 - val_loss: 0.0067\n",
      "Epoch 24/150\n",
      "12600/12600 [==============================] - 0s 35us/sample - loss: 0.0063 - val_loss: 0.0067\n",
      "Epoch 25/150\n",
      "12600/12600 [==============================] - 0s 28us/sample - loss: 0.0062 - val_loss: 0.0066\n",
      "Epoch 26/150\n",
      "12600/12600 [==============================] - 0s 28us/sample - loss: 0.0061 - val_loss: 0.0065\n",
      "Epoch 27/150\n",
      "12600/12600 [==============================] - 0s 29us/sample - loss: 0.0060 - val_loss: 0.0063\n",
      "Epoch 28/150\n",
      "12600/12600 [==============================] - 0s 27us/sample - loss: 0.0059 - val_loss: 0.0064\n",
      "Epoch 29/150\n",
      "12600/12600 [==============================] - 0s 28us/sample - loss: 0.0059 - val_loss: 0.0062\n",
      "Epoch 30/150\n",
      "12600/12600 [==============================] - 0s 28us/sample - loss: 0.0057 - val_loss: 0.0061\n",
      "Epoch 31/150\n",
      "12600/12600 [==============================] - 0s 28us/sample - loss: 0.0057 - val_loss: 0.0061\n",
      "Epoch 32/150\n",
      "12600/12600 [==============================] - 0s 28us/sample - loss: 0.0056 - val_loss: 0.0060\n",
      "Epoch 33/150\n",
      "12600/12600 [==============================] - 0s 29us/sample - loss: 0.0056 - val_loss: 0.0060\n",
      "Epoch 34/150\n",
      "12600/12600 [==============================] - 0s 28us/sample - loss: 0.0055 - val_loss: 0.0059\n",
      "Epoch 35/150\n",
      "12600/12600 [==============================] - 0s 28us/sample - loss: 0.0055 - val_loss: 0.0058\n",
      "Epoch 36/150\n",
      "12600/12600 [==============================] - 0s 28us/sample - loss: 0.0054 - val_loss: 0.0058\n",
      "Epoch 37/150\n",
      "12600/12600 [==============================] - 0s 28us/sample - loss: 0.0053 - val_loss: 0.0058\n",
      "Epoch 38/150\n",
      "12600/12600 [==============================] - 0s 28us/sample - loss: 0.0054 - val_loss: 0.0057\n",
      "Epoch 39/150\n",
      "12600/12600 [==============================] - 0s 28us/sample - loss: 0.0052 - val_loss: 0.0057\n",
      "Epoch 40/150\n",
      "12600/12600 [==============================] - 0s 28us/sample - loss: 0.0053 - val_loss: 0.0057\n",
      "Epoch 41/150\n",
      "12600/12600 [==============================] - 0s 28us/sample - loss: 0.0052 - val_loss: 0.0055\n",
      "Epoch 42/150\n",
      "12600/12600 [==============================] - 0s 28us/sample - loss: 0.0051 - val_loss: 0.0056\n",
      "Epoch 43/150\n",
      "12600/12600 [==============================] - 0s 28us/sample - loss: 0.0051 - val_loss: 0.0055\n",
      "Epoch 44/150\n",
      "12600/12600 [==============================] - 0s 28us/sample - loss: 0.0050 - val_loss: 0.0054\n",
      "Epoch 45/150\n",
      "12600/12600 [==============================] - 0s 28us/sample - loss: 0.0050 - val_loss: 0.0054\n",
      "Epoch 46/150\n",
      "12600/12600 [==============================] - 0s 28us/sample - loss: 0.0050 - val_loss: 0.0055\n",
      "Epoch 47/150\n",
      "12600/12600 [==============================] - 0s 28us/sample - loss: 0.0049 - val_loss: 0.0053\n",
      "Epoch 48/150\n",
      "12600/12600 [==============================] - 0s 28us/sample - loss: 0.0049 - val_loss: 0.0054\n",
      "Epoch 49/150\n",
      "12600/12600 [==============================] - 0s 28us/sample - loss: 0.0049 - val_loss: 0.0054\n",
      "Epoch 50/150\n",
      "12600/12600 [==============================] - 0s 28us/sample - loss: 0.0049 - val_loss: 0.0053\n",
      "Epoch 51/150\n",
      "12600/12600 [==============================] - 0s 27us/sample - loss: 0.0048 - val_loss: 0.0052\n",
      "Epoch 52/150\n",
      "12600/12600 [==============================] - 0s 27us/sample - loss: 0.0048 - val_loss: 0.0052\n",
      "Epoch 53/150\n",
      "12600/12600 [==============================] - 0s 28us/sample - loss: 0.0048 - val_loss: 0.0053\n",
      "Epoch 54/150\n",
      "12600/12600 [==============================] - 0s 28us/sample - loss: 0.0048 - val_loss: 0.0051\n",
      "Epoch 55/150\n",
      "12600/12600 [==============================] - 0s 28us/sample - loss: 0.0047 - val_loss: 0.0052\n",
      "Epoch 56/150\n",
      "12600/12600 [==============================] - 0s 29us/sample - loss: 0.0047 - val_loss: 0.0050\n",
      "Epoch 57/150\n",
      "12600/12600 [==============================] - 0s 28us/sample - loss: 0.0047 - val_loss: 0.0051\n",
      "Epoch 58/150\n",
      "12600/12600 [==============================] - 0s 28us/sample - loss: 0.0047 - val_loss: 0.0051\n",
      "Epoch 59/150\n",
      "12600/12600 [==============================] - 0s 28us/sample - loss: 0.0046 - val_loss: 0.0052\n",
      "Epoch 60/150\n",
      "12600/12600 [==============================] - 0s 28us/sample - loss: 0.0046 - val_loss: 0.0050\n",
      "Epoch 61/150\n",
      "12600/12600 [==============================] - 0s 28us/sample - loss: 0.0046 - val_loss: 0.0050\n",
      "Epoch 62/150\n",
      "12600/12600 [==============================] - 0s 28us/sample - loss: 0.0046 - val_loss: 0.0050\n",
      "Epoch 63/150\n",
      "12600/12600 [==============================] - 0s 28us/sample - loss: 0.0045 - val_loss: 0.0050\n",
      "Epoch 64/150\n",
      "12600/12600 [==============================] - 0s 28us/sample - loss: 0.0045 - val_loss: 0.0051\n",
      "Epoch 65/150\n",
      "12600/12600 [==============================] - 0s 27us/sample - loss: 0.0046 - val_loss: 0.0049\n",
      "Epoch 66/150\n",
      "12600/12600 [==============================] - 0s 28us/sample - loss: 0.0045 - val_loss: 0.0049\n",
      "Epoch 67/150\n",
      "12600/12600 [==============================] - 0s 28us/sample - loss: 0.0045 - val_loss: 0.0049\n",
      "Epoch 68/150\n",
      "12600/12600 [==============================] - 0s 28us/sample - loss: 0.0045 - val_loss: 0.0049\n",
      "Epoch 69/150\n",
      "12600/12600 [==============================] - 0s 28us/sample - loss: 0.0044 - val_loss: 0.0049\n",
      "Epoch 70/150\n",
      "12600/12600 [==============================] - 0s 28us/sample - loss: 0.0044 - val_loss: 0.0049\n",
      "Epoch 71/150\n",
      "12600/12600 [==============================] - 0s 28us/sample - loss: 0.0044 - val_loss: 0.0049\n",
      "Epoch 72/150\n",
      "12600/12600 [==============================] - 0s 27us/sample - loss: 0.0044 - val_loss: 0.0048\n",
      "Epoch 73/150\n",
      "12600/12600 [==============================] - 0s 28us/sample - loss: 0.0043 - val_loss: 0.0048\n",
      "Epoch 74/150\n",
      "12600/12600 [==============================] - 0s 28us/sample - loss: 0.0044 - val_loss: 0.0048\n",
      "Epoch 75/150\n",
      "12600/12600 [==============================] - 0s 28us/sample - loss: 0.0043 - val_loss: 0.0048\n"
     ]
    },
    {
     "name": "stdout",
     "output_type": "stream",
     "text": [
      "Epoch 76/150\n",
      "12600/12600 [==============================] - 0s 28us/sample - loss: 0.0044 - val_loss: 0.0047\n",
      "Epoch 77/150\n",
      "12600/12600 [==============================] - 0s 33us/sample - loss: 0.0043 - val_loss: 0.0047\n",
      "Epoch 78/150\n",
      "12600/12600 [==============================] - 0s 35us/sample - loss: 0.0043 - val_loss: 0.0047\n",
      "Epoch 79/150\n",
      "12600/12600 [==============================] - 0s 33us/sample - loss: 0.0043 - val_loss: 0.0047\n",
      "Epoch 80/150\n",
      "12600/12600 [==============================] - 0s 28us/sample - loss: 0.0043 - val_loss: 0.0047\n",
      "Epoch 81/150\n",
      "12600/12600 [==============================] - 0s 29us/sample - loss: 0.0042 - val_loss: 0.0047\n",
      "Epoch 82/150\n",
      "12600/12600 [==============================] - 0s 29us/sample - loss: 0.0042 - val_loss: 0.0047\n",
      "Epoch 83/150\n",
      "12600/12600 [==============================] - 0s 28us/sample - loss: 0.0042 - val_loss: 0.0048\n",
      "Epoch 84/150\n",
      "12600/12600 [==============================] - 0s 28us/sample - loss: 0.0042 - val_loss: 0.0046\n",
      "Epoch 85/150\n",
      "12600/12600 [==============================] - 0s 32us/sample - loss: 0.0042 - val_loss: 0.0047\n",
      "Epoch 86/150\n",
      "12600/12600 [==============================] - 0s 30us/sample - loss: 0.0042 - val_loss: 0.0046\n",
      "Epoch 87/150\n",
      "12600/12600 [==============================] - 0s 28us/sample - loss: 0.0042 - val_loss: 0.0046\n",
      "Epoch 88/150\n",
      "12600/12600 [==============================] - 0s 29us/sample - loss: 0.0042 - val_loss: 0.0047\n",
      "Epoch 89/150\n",
      "12600/12600 [==============================] - 0s 33us/sample - loss: 0.0043 - val_loss: 0.0046\n",
      "Epoch 90/150\n",
      "12600/12600 [==============================] - 0s 30us/sample - loss: 0.0042 - val_loss: 0.0046\n",
      "Epoch 91/150\n",
      "12600/12600 [==============================] - 0s 28us/sample - loss: 0.0041 - val_loss: 0.0046\n",
      "Epoch 92/150\n",
      "12600/12600 [==============================] - 0s 27us/sample - loss: 0.0041 - val_loss: 0.0045\n",
      "Epoch 93/150\n",
      "12600/12600 [==============================] - 0s 27us/sample - loss: 0.0041 - val_loss: 0.0046\n",
      "Epoch 94/150\n",
      "12600/12600 [==============================] - 0s 28us/sample - loss: 0.0041 - val_loss: 0.0046\n",
      "Epoch 95/150\n",
      "12600/12600 [==============================] - 0s 27us/sample - loss: 0.0042 - val_loss: 0.0046\n",
      "Epoch 96/150\n",
      "12600/12600 [==============================] - 1s 48us/sample - loss: 0.0041 - val_loss: 0.0045\n",
      "Epoch 97/150\n",
      "12600/12600 [==============================] - 1s 71us/sample - loss: 0.0041 - val_loss: 0.0045\n",
      "Epoch 98/150\n",
      "12600/12600 [==============================] - 1s 72us/sample - loss: 0.0041 - val_loss: 0.0045\n",
      "Epoch 99/150\n",
      "12600/12600 [==============================] - 1s 69us/sample - loss: 0.0041 - val_loss: 0.0046\n",
      "Epoch 100/150\n",
      "12600/12600 [==============================] - 1s 65us/sample - loss: 0.0041 - val_loss: 0.0045\n",
      "Epoch 101/150\n",
      "12600/12600 [==============================] - 1s 49us/sample - loss: 0.0040 - val_loss: 0.0045\n",
      "Epoch 102/150\n",
      "12600/12600 [==============================] - 1s 66us/sample - loss: 0.0040 - val_loss: 0.0045\n",
      "Epoch 103/150\n",
      "12600/12600 [==============================] - 1s 69us/sample - loss: 0.0041 - val_loss: 0.0046\n",
      "Epoch 104/150\n",
      "12600/12600 [==============================] - 1s 71us/sample - loss: 0.0040 - val_loss: 0.0045\n",
      "Epoch 105/150\n",
      "12600/12600 [==============================] - 1s 67us/sample - loss: 0.0040 - val_loss: 0.0045\n",
      "Epoch 106/150\n",
      "12600/12600 [==============================] - 1s 70us/sample - loss: 0.0040 - val_loss: 0.0045\n",
      "Epoch 107/150\n",
      "12600/12600 [==============================] - 1s 71us/sample - loss: 0.0041 - val_loss: 0.0045\n",
      "Epoch 108/150\n",
      "12600/12600 [==============================] - 1s 69us/sample - loss: 0.0040 - val_loss: 0.0045\n",
      "Epoch 109/150\n",
      "12600/12600 [==============================] - 1s 69us/sample - loss: 0.0040 - val_loss: 0.0044\n",
      "Epoch 110/150\n",
      "12600/12600 [==============================] - 1s 71us/sample - loss: 0.0040 - val_loss: 0.0045\n",
      "Epoch 111/150\n",
      "12600/12600 [==============================] - 1s 68us/sample - loss: 0.0039 - val_loss: 0.0044\n",
      "Epoch 112/150\n",
      "12600/12600 [==============================] - 1s 67us/sample - loss: 0.0039 - val_loss: 0.0044\n",
      "Epoch 113/150\n",
      "12600/12600 [==============================] - 1s 64us/sample - loss: 0.0040 - val_loss: 0.0044\n",
      "Epoch 114/150\n",
      "12600/12600 [==============================] - 1s 63us/sample - loss: 0.0039 - val_loss: 0.0044\n",
      "Epoch 115/150\n",
      "12600/12600 [==============================] - 1s 53us/sample - loss: 0.0040 - val_loss: 0.0044\n",
      "Epoch 116/150\n",
      "12600/12600 [==============================] - 1s 73us/sample - loss: 0.0039 - val_loss: 0.0044\n",
      "Epoch 117/150\n",
      "12600/12600 [==============================] - 1s 60us/sample - loss: 0.0039 - val_loss: 0.0045\n",
      "Epoch 118/150\n",
      "12600/12600 [==============================] - 1s 66us/sample - loss: 0.0040 - val_loss: 0.0044\n",
      "Epoch 119/150\n",
      "12600/12600 [==============================] - 1s 68us/sample - loss: 0.0039 - val_loss: 0.0043\n",
      "Epoch 120/150\n",
      "12600/12600 [==============================] - 1s 69us/sample - loss: 0.0040 - val_loss: 0.0045\n",
      "Epoch 121/150\n",
      "12600/12600 [==============================] - 1s 66us/sample - loss: 0.0039 - val_loss: 0.0043\n",
      "Epoch 122/150\n",
      "12600/12600 [==============================] - 1s 59us/sample - loss: 0.0039 - val_loss: 0.0044\n",
      "Epoch 123/150\n",
      "12600/12600 [==============================] - 1s 65us/sample - loss: 0.0039 - val_loss: 0.0044\n",
      "Epoch 124/150\n",
      "12600/12600 [==============================] - 1s 62us/sample - loss: 0.0039 - val_loss: 0.0044\n",
      "Epoch 125/150\n",
      "12600/12600 [==============================] - 1s 59us/sample - loss: 0.0039 - val_loss: 0.0044\n",
      "Epoch 126/150\n",
      "12600/12600 [==============================] - 1s 68us/sample - loss: 0.0040 - val_loss: 0.0043\n",
      "Epoch 127/150\n",
      "12600/12600 [==============================] - 1s 57us/sample - loss: 0.0038 - val_loss: 0.0043\n",
      "Epoch 128/150\n",
      "12600/12600 [==============================] - 1s 67us/sample - loss: 0.0038 - val_loss: 0.0044\n",
      "Epoch 129/150\n",
      "12600/12600 [==============================] - 1s 71us/sample - loss: 0.0038 - val_loss: 0.0043\n",
      "Epoch 130/150\n",
      "12600/12600 [==============================] - 1s 54us/sample - loss: 0.0038 - val_loss: 0.0043\n",
      "Epoch 131/150\n",
      "12600/12600 [==============================] - 1s 72us/sample - loss: 0.0038 - val_loss: 0.0043\n",
      "Epoch 132/150\n",
      "12600/12600 [==============================] - 1s 68us/sample - loss: 0.0039 - val_loss: 0.0043\n",
      "Epoch 133/150\n",
      "12600/12600 [==============================] - 1s 65us/sample - loss: 0.0038 - val_loss: 0.0043\n",
      "Epoch 134/150\n",
      "12600/12600 [==============================] - 1s 65us/sample - loss: 0.0038 - val_loss: 0.0045\n",
      "Epoch 135/150\n",
      "12600/12600 [==============================] - 1s 61us/sample - loss: 0.0038 - val_loss: 0.0043\n",
      "Epoch 136/150\n",
      "12600/12600 [==============================] - 1s 79us/sample - loss: 0.0038 - val_loss: 0.0044\n",
      "Epoch 137/150\n",
      "12600/12600 [==============================] - 1s 58us/sample - loss: 0.0038 - val_loss: 0.0043\n",
      "Epoch 138/150\n",
      "12600/12600 [==============================] - 1s 68us/sample - loss: 0.0038 - val_loss: 0.0042\n",
      "Epoch 139/150\n",
      "12600/12600 [==============================] - 1s 60us/sample - loss: 0.0038 - val_loss: 0.0045\n",
      "Epoch 140/150\n",
      "12600/12600 [==============================] - 1s 66us/sample - loss: 0.0038 - val_loss: 0.0042\n",
      "Epoch 141/150\n",
      "12600/12600 [==============================] - 1s 76us/sample - loss: 0.0038 - val_loss: 0.0044\n",
      "Epoch 142/150\n",
      "12600/12600 [==============================] - 1s 74us/sample - loss: 0.0038 - val_loss: 0.0042\n",
      "Epoch 143/150\n",
      "12600/12600 [==============================] - 1s 73us/sample - loss: 0.0038 - val_loss: 0.0043\n",
      "Epoch 144/150\n",
      "12600/12600 [==============================] - 1s 69us/sample - loss: 0.0038 - val_loss: 0.0043\n",
      "Epoch 145/150\n",
      "12600/12600 [==============================] - 1s 68us/sample - loss: 0.0038 - val_loss: 0.0043\n",
      "Epoch 146/150\n",
      "12600/12600 [==============================] - 1s 76us/sample - loss: 0.0038 - val_loss: 0.0043\n",
      "Epoch 147/150\n",
      "12600/12600 [==============================] - 1s 73us/sample - loss: 0.0038 - val_loss: 0.0043\n",
      "Epoch 148/150\n",
      "12600/12600 [==============================] - 1s 69us/sample - loss: 0.0038 - val_loss: 0.0042\n",
      "Epoch 149/150\n",
      "12600/12600 [==============================] - 1s 71us/sample - loss: 0.0038 - val_loss: 0.0043\n",
      "Epoch 150/150\n",
      "12600/12600 [==============================] - 1s 71us/sample - loss: 0.0037 - val_loss: 0.0043\n"
     ]
    },
    {
     "data": {
      "text/plain": [
       "<tensorflow.python.keras.callbacks.History at 0x7fbf782b7f60>"
      ]
     },
     "execution_count": 26,
     "metadata": {},
     "output_type": "execute_result"
    }
   ],
   "source": [
    "autoencoder.compile(optimizer='adam', loss='mse')\n",
    "autoencoder.fit(x_train,x_train, epochs=150,\n",
    "                batch_size=512,validation_data=(x_val, x_val), callbacks=[early])"
   ]
  },
  {
   "cell_type": "code",
   "execution_count": 27,
   "metadata": {
    "colab": {
     "base_uri": "https://localhost:8080/",
     "height": 248
    },
    "colab_type": "code",
    "id": "ZJzsJqYomSyr",
    "outputId": "cfc78aa7-6d7c-4c10-9546-744c4b9fcbf7"
   },
   "outputs": [
    {
     "data": {
      "image/png": "[encoded data removed]",
      "text/plain": [
       "<Figure size 1440x288 with 20 Axes>"
      ]
     },
     "metadata": {
      "needs_background": "light"
     },
     "output_type": "display_data"
    }
   ],
   "source": [
    "encoded_imgs = encoder.predict(x_val)\n",
    "decoded_imgs = decoder.predict(encoded_imgs)\n",
    "\n",
    "n = 10 \n",
    "plt.figure(figsize=(20, 4))\n",
    "for i in range(n):\n",
    "    # original\n",
    "    ax = plt.subplot(2, n, i + 1)\n",
    "    plt.imshow(x_val[i].reshape(28, 28))\n",
    "    plt.gray()\n",
    "    ax.get_xaxis().set_visible(False)\n",
    "    ax.get_yaxis().set_visible(False)\n",
    "\n",
    "    # reconstruction\n",
    "    ax = plt.subplot(2, n, i + 1 + n)\n",
    "    plt.imshow(decoded_imgs[i].reshape(28, 28))\n",
    "    plt.gray()\n",
    "    ax.get_xaxis().set_visible(False)\n",
    "    ax.get_yaxis().set_visible(False)\n",
    "plt.show()"
   ]
  },
  {
   "cell_type": "code",
   "execution_count": 49,
   "metadata": {},
   "outputs": [
    {
     "data": {
      "image/png": "[encoded data removed]",
      "text/plain": [
       "<Figure size 1080x1080 with 30 Axes>"
      ]
     },
     "metadata": {
      "needs_background": "light"
     },
     "output_type": "display_data"
    }
   ],
   "source": [
    "#one could apply also binarization for a better output image (atleast for the human eye)\n",
    "plt.figure(figsize=(15,15))\n",
    "for i in range(n):\n",
    "    # original\n",
    "    ax = plt.subplot(3, n, i + 1)\n",
    "    plt.imshow(x_val[i].reshape(28, 28))\n",
    "    plt.gray()\n",
    "    ax.get_xaxis().set_visible(False)\n",
    "    ax.get_yaxis().set_visible(False)\n",
    "\n",
    "    # reconstruction\n",
    "    ax = plt.subplot(3, n, i + 1 + n)\n",
    "    plt.imshow(decoded_imgs[i].reshape(28, 28))\n",
    "    plt.gray()\n",
    "    ax.get_xaxis().set_visible(False)\n",
    "    ax.get_yaxis().set_visible(False)\n",
    "    \n",
    "    # reconstruction\n",
    "    ax = plt.subplot(3, n, i + 1 + n + n)\n",
    "    plt.imshow(binarize(decoded_imgs[i].reshape(28, 28), 0.5))\n",
    "    plt.gray()\n",
    "    ax.get_xaxis().set_visible(False)\n",
    "    ax.get_yaxis().set_visible(False)\n",
    "plt.show()"
   ]
  },
  {
   "cell_type": "code",
   "execution_count": 28,
   "metadata": {
    "colab": {},
    "colab_type": "code",
    "id": "yHMN-SlsmSym"
   },
   "outputs": [],
   "source": [
    "layer1 = Dense(256, activation = 'relu')(encoded_2)\n",
    "layer1 = Dropout(0.2)(layer1)\n",
    "layer2 = Dense(256, activation='sigmoid')(layer1)\n",
    "layer2 = Dropout(0.2)(layer2)\n",
    "#layer2 = Dense(64, activation='relu')(layer2)\n",
    "output = Dense(n_classes, activation='softmax')(layer2)\n",
    "model_enc = Model(input_image, output)\n",
    "model_enc.layers[0].trainable=False\n",
    "model_enc.layers[1].trainable=False\n",
    "model_enc.layers[2].trainable=False\n",
    "\n",
    "model_enc.compile(loss='categorical_crossentropy',optimizer=Adam(learning_rate=0.01), metrics=['accuracy'])"
   ]
  },
  {
   "cell_type": "code",
   "execution_count": 29,
   "metadata": {
    "colab": {
     "base_uri": "https://localhost:8080/",
     "height": 1000
    },
    "colab_type": "code",
    "id": "ZmUgxaTBmSyo",
    "outputId": "c6da5969-d26d-4d26-ebb7-08f734d8fba8",
    "scrolled": true
   },
   "outputs": [
    {
     "name": "stdout",
     "output_type": "stream",
     "text": [
      "Train on 12600 samples, validate on 1400 samples\n",
      "Epoch 1/100\n",
      "12600/12600 [==============================] - 1s 74us/sample - loss: 2.4408 - acc: 0.2098 - val_loss: 1.5542 - val_acc: 0.5243\n",
      "Epoch 2/100\n",
      "12600/12600 [==============================] - 1s 42us/sample - loss: 1.2834 - acc: 0.5682 - val_loss: 0.9554 - val_acc: 0.6971\n",
      "Epoch 3/100\n",
      "12600/12600 [==============================] - 1s 41us/sample - loss: 0.9465 - acc: 0.6867 - val_loss: 0.7521 - val_acc: 0.7586\n",
      "Epoch 4/100\n",
      "12600/12600 [==============================] - 1s 40us/sample - loss: 0.8027 - acc: 0.7413 - val_loss: 0.6768 - val_acc: 0.7843\n",
      "Epoch 5/100\n",
      "12600/12600 [==============================] - 1s 41us/sample - loss: 0.7124 - acc: 0.7712 - val_loss: 0.6198 - val_acc: 0.8007\n",
      "Epoch 6/100\n",
      "12600/12600 [==============================] - 0s 30us/sample - loss: 0.6563 - acc: 0.7849 - val_loss: 0.5468 - val_acc: 0.8164\n",
      "Epoch 7/100\n",
      "12600/12600 [==============================] - 0s 37us/sample - loss: 0.6321 - acc: 0.7957 - val_loss: 0.5078 - val_acc: 0.8321\n",
      "Epoch 8/100\n",
      "12600/12600 [==============================] - 0s 40us/sample - loss: 0.5983 - acc: 0.8079 - val_loss: 0.5067 - val_acc: 0.8321\n",
      "Epoch 9/100\n",
      "12600/12600 [==============================] - 1s 40us/sample - loss: 0.5652 - acc: 0.8192 - val_loss: 0.4734 - val_acc: 0.8486\n",
      "Epoch 10/100\n",
      "12600/12600 [==============================] - 0s 35us/sample - loss: 0.5137 - acc: 0.8366 - val_loss: 0.4553 - val_acc: 0.8514\n",
      "Epoch 11/100\n",
      "12600/12600 [==============================] - 0s 35us/sample - loss: 0.5063 - acc: 0.8386 - val_loss: 0.4263 - val_acc: 0.8607\n",
      "Epoch 12/100\n",
      "12600/12600 [==============================] - 1s 41us/sample - loss: 0.4825 - acc: 0.8475 - val_loss: 0.4136 - val_acc: 0.8621\n",
      "Epoch 13/100\n",
      "12600/12600 [==============================] - 1s 40us/sample - loss: 0.4765 - acc: 0.8503 - val_loss: 0.3994 - val_acc: 0.8736\n",
      "Epoch 14/100\n",
      "12600/12600 [==============================] - 0s 37us/sample - loss: 0.4611 - acc: 0.8551 - val_loss: 0.4010 - val_acc: 0.8721\n",
      "Epoch 15/100\n",
      "12600/12600 [==============================] - 0s 32us/sample - loss: 0.4261 - acc: 0.8649 - val_loss: 0.3683 - val_acc: 0.8786\n",
      "Epoch 16/100\n",
      "12600/12600 [==============================] - 0s 39us/sample - loss: 0.4264 - acc: 0.8633 - val_loss: 0.3765 - val_acc: 0.8714\n",
      "Epoch 17/100\n",
      "12600/12600 [==============================] - 1s 40us/sample - loss: 0.4159 - acc: 0.8688 - val_loss: 0.3634 - val_acc: 0.8800\n",
      "Epoch 18/100\n",
      "12600/12600 [==============================] - 0s 40us/sample - loss: 0.4064 - acc: 0.8686 - val_loss: 0.3404 - val_acc: 0.8871\n",
      "Epoch 19/100\n",
      "12600/12600 [==============================] - 0s 29us/sample - loss: 0.3846 - acc: 0.8785 - val_loss: 0.3482 - val_acc: 0.8879\n",
      "Epoch 20/100\n",
      "12600/12600 [==============================] - 1s 41us/sample - loss: 0.3865 - acc: 0.8744 - val_loss: 0.3296 - val_acc: 0.8950\n",
      "Epoch 21/100\n",
      "12600/12600 [==============================] - 1s 40us/sample - loss: 0.3668 - acc: 0.8840 - val_loss: 0.3385 - val_acc: 0.8971\n",
      "Epoch 22/100\n",
      "12600/12600 [==============================] - 0s 40us/sample - loss: 0.3742 - acc: 0.8806 - val_loss: 0.3155 - val_acc: 0.8964\n",
      "Epoch 23/100\n",
      "12600/12600 [==============================] - 0s 30us/sample - loss: 0.3601 - acc: 0.8822 - val_loss: 0.3252 - val_acc: 0.9007\n",
      "Epoch 24/100\n",
      "12600/12600 [==============================] - 1s 40us/sample - loss: 0.3419 - acc: 0.8883 - val_loss: 0.3237 - val_acc: 0.8921\n",
      "Epoch 25/100\n",
      "12600/12600 [==============================] - 1s 40us/sample - loss: 0.3431 - acc: 0.8918 - val_loss: 0.3017 - val_acc: 0.9064\n",
      "Epoch 26/100\n",
      "12600/12600 [==============================] - 1s 41us/sample - loss: 0.3455 - acc: 0.8919 - val_loss: 0.3150 - val_acc: 0.9071\n",
      "Epoch 27/100\n",
      "12600/12600 [==============================] - 0s 31us/sample - loss: 0.3404 - acc: 0.8899 - val_loss: 0.3346 - val_acc: 0.8936\n",
      "Epoch 28/100\n",
      "11776/12600 [===========================>..] - ETA: 0s - loss: 0.3399 - acc: 0.8922\n",
      "Epoch 00028: ReduceLROnPlateau reducing learning rate to 0.007999999821186066.\n",
      "12600/12600 [==============================] - 1s 47us/sample - loss: 0.3359 - acc: 0.8940 - val_loss: 0.3152 - val_acc: 0.9021\n",
      "Epoch 29/100\n",
      "12600/12600 [==============================] - 1s 41us/sample - loss: 0.3161 - acc: 0.8979 - val_loss: 0.2874 - val_acc: 0.9043\n",
      "Epoch 30/100\n",
      "12600/12600 [==============================] - 1s 42us/sample - loss: 0.3057 - acc: 0.9023 - val_loss: 0.3010 - val_acc: 0.9050\n",
      "Epoch 31/100\n",
      "12600/12600 [==============================] - 0s 29us/sample - loss: 0.3007 - acc: 0.9022 - val_loss: 0.2919 - val_acc: 0.9093\n",
      "Epoch 32/100\n",
      "12600/12600 [==============================] - 1s 40us/sample - loss: 0.3027 - acc: 0.9014 - val_loss: 0.2749 - val_acc: 0.9171\n",
      "Epoch 33/100\n",
      "12600/12600 [==============================] - 1s 41us/sample - loss: 0.2932 - acc: 0.9060 - val_loss: 0.2904 - val_acc: 0.9043\n",
      "Epoch 34/100\n",
      "12600/12600 [==============================] - 1s 41us/sample - loss: 0.2909 - acc: 0.9064 - val_loss: 0.2967 - val_acc: 0.9057\n",
      "Epoch 35/100\n",
      "11776/12600 [===========================>..] - ETA: 0s - loss: 0.2939 - acc: 0.9062\n",
      "Epoch 00035: ReduceLROnPlateau reducing learning rate to 0.006399999558925629.\n",
      "12600/12600 [==============================] - 0s 32us/sample - loss: 0.2931 - acc: 0.9059 - val_loss: 0.3041 - val_acc: 0.9093\n",
      "Epoch 36/100\n",
      "12600/12600 [==============================] - 0s 36us/sample - loss: 0.2756 - acc: 0.9116 - val_loss: 0.2804 - val_acc: 0.9171\n",
      "Epoch 37/100\n",
      "12600/12600 [==============================] - 0s 39us/sample - loss: 0.2661 - acc: 0.9133 - val_loss: 0.2709 - val_acc: 0.9186\n",
      "Epoch 38/100\n",
      "12600/12600 [==============================] - 1s 40us/sample - loss: 0.2586 - acc: 0.9158 - val_loss: 0.2825 - val_acc: 0.9179\n",
      "Epoch 39/100\n",
      "12600/12600 [==============================] - 0s 35us/sample - loss: 0.2711 - acc: 0.9121 - val_loss: 0.2899 - val_acc: 0.9100\n",
      "Epoch 40/100\n",
      "12288/12600 [============================>.] - ETA: 0s - loss: 0.2684 - acc: 0.9119\n",
      "Epoch 00040: ReduceLROnPlateau reducing learning rate to 0.0051199994981288915.\n",
      "12600/12600 [==============================] - 0s 33us/sample - loss: 0.2707 - acc: 0.9113 - val_loss: 0.2767 - val_acc: 0.9236\n",
      "Epoch 41/100\n",
      "12600/12600 [==============================] - 1s 40us/sample - loss: 0.2488 - acc: 0.9194 - val_loss: 0.2682 - val_acc: 0.9200\n",
      "Epoch 42/100\n",
      "12600/12600 [==============================] - 0s 40us/sample - loss: 0.2465 - acc: 0.9200 - val_loss: 0.2766 - val_acc: 0.9129\n",
      "Epoch 43/100\n",
      "12600/12600 [==============================] - 0s 39us/sample - loss: 0.2462 - acc: 0.9186 - val_loss: 0.2652 - val_acc: 0.9207\n",
      "Epoch 44/100\n",
      "12600/12600 [==============================] - 0s 30us/sample - loss: 0.2417 - acc: 0.9224 - val_loss: 0.2782 - val_acc: 0.9157\n",
      "Epoch 45/100\n",
      "12600/12600 [==============================] - 1s 41us/sample - loss: 0.2466 - acc: 0.9206 - val_loss: 0.2685 - val_acc: 0.9157\n",
      "Epoch 46/100\n",
      "12600/12600 [==============================] - 1s 42us/sample - loss: 0.2355 - acc: 0.9219 - val_loss: 0.2634 - val_acc: 0.9193\n",
      "Epoch 47/100\n",
      "12600/12600 [==============================] - 1s 42us/sample - loss: 0.2397 - acc: 0.9219 - val_loss: 0.2662 - val_acc: 0.9200\n",
      "Epoch 48/100\n",
      "12600/12600 [==============================] - 0s 31us/sample - loss: 0.2418 - acc: 0.9214 - val_loss: 0.2762 - val_acc: 0.9229\n",
      "Epoch 49/100\n",
      "11264/12600 [=========================>....] - ETA: 0s - loss: 0.2342 - acc: 0.9246\n",
      "Epoch 00049: ReduceLROnPlateau reducing learning rate to 0.004095999523997307.\n",
      "12600/12600 [==============================] - 1s 42us/sample - loss: 0.2362 - acc: 0.9235 - val_loss: 0.2697 - val_acc: 0.9164\n",
      "Epoch 50/100\n",
      "12600/12600 [==============================] - 1s 40us/sample - loss: 0.2357 - acc: 0.9244 - val_loss: 0.2669 - val_acc: 0.9164\n",
      "Epoch 51/100\n",
      "12600/12600 [==============================] - 1s 41us/sample - loss: 0.2255 - acc: 0.9269 - val_loss: 0.2647 - val_acc: 0.9214\n",
      "Epoch 52/100\n",
      "11264/12600 [=========================>....] - ETA: 0s - loss: 0.2248 - acc: 0.9264\n",
      "Epoch 00052: ReduceLROnPlateau reducing learning rate to 0.0032767996191978457.\n",
      "12600/12600 [==============================] - 0s 31us/sample - loss: 0.2303 - acc: 0.9242 - val_loss: 0.2718 - val_acc: 0.9221\n",
      "Epoch 53/100\n"
     ]
    },
    {
     "name": "stdout",
     "output_type": "stream",
     "text": [
      "12600/12600 [==============================] - 1s 41us/sample - loss: 0.2186 - acc: 0.9279 - val_loss: 0.2516 - val_acc: 0.9264\n",
      "Epoch 54/100\n",
      "12600/12600 [==============================] - 0s 39us/sample - loss: 0.2186 - acc: 0.9275 - val_loss: 0.2642 - val_acc: 0.9179\n",
      "Epoch 55/100\n",
      "12600/12600 [==============================] - 1s 41us/sample - loss: 0.2226 - acc: 0.9289 - val_loss: 0.2534 - val_acc: 0.9236\n",
      "Epoch 56/100\n",
      "10240/12600 [=======================>......] - ETA: 0s - loss: 0.2046 - acc: 0.9331\n",
      "Epoch 00056: ReduceLROnPlateau reducing learning rate to 0.0026214396581053737.\n",
      "12600/12600 [==============================] - 0s 30us/sample - loss: 0.2088 - acc: 0.9310 - val_loss: 0.2549 - val_acc: 0.9243\n",
      "Epoch 57/100\n",
      "12600/12600 [==============================] - 0s 39us/sample - loss: 0.2091 - acc: 0.9320 - val_loss: 0.2529 - val_acc: 0.9243\n",
      "Epoch 58/100\n",
      "12600/12600 [==============================] - 1s 40us/sample - loss: 0.2064 - acc: 0.9338 - val_loss: 0.2578 - val_acc: 0.9214\n",
      "Epoch 59/100\n",
      "11264/12600 [=========================>....] - ETA: 0s - loss: 0.2020 - acc: 0.9345\n",
      "Epoch 00059: ReduceLROnPlateau reducing learning rate to 0.0020971518009901048.\n",
      "12600/12600 [==============================] - 1s 40us/sample - loss: 0.2038 - acc: 0.9340 - val_loss: 0.2581 - val_acc: 0.9207\n",
      "Epoch 60/100\n",
      "12600/12600 [==============================] - 0s 34us/sample - loss: 0.2046 - acc: 0.9321 - val_loss: 0.2598 - val_acc: 0.9250\n",
      "Epoch 61/100\n",
      "12600/12600 [==============================] - 1s 40us/sample - loss: 0.2007 - acc: 0.9348 - val_loss: 0.2494 - val_acc: 0.9257\n",
      "Epoch 62/100\n",
      "12600/12600 [==============================] - 1s 41us/sample - loss: 0.2009 - acc: 0.9333 - val_loss: 0.2497 - val_acc: 0.9264\n",
      "Epoch 63/100\n",
      "12600/12600 [==============================] - 1s 42us/sample - loss: 0.2067 - acc: 0.9297 - val_loss: 0.2543 - val_acc: 0.9207\n",
      "Epoch 64/100\n",
      "12288/12600 [============================>.] - ETA: 0s - loss: 0.1944 - acc: 0.9367\n",
      "Epoch 00064: ReduceLROnPlateau reducing learning rate to 0.0016777213662862779.\n",
      "12600/12600 [==============================] - 1s 41us/sample - loss: 0.1957 - acc: 0.9365 - val_loss: 0.2557 - val_acc: 0.9207\n",
      "Epoch 65/100\n",
      "12600/12600 [==============================] - 1s 44us/sample - loss: 0.1985 - acc: 0.9338 - val_loss: 0.2489 - val_acc: 0.9271\n",
      "Epoch 66/100\n",
      "12600/12600 [==============================] - 0s 39us/sample - loss: 0.1910 - acc: 0.9372 - val_loss: 0.2642 - val_acc: 0.9186\n",
      "Epoch 67/100\n",
      "12600/12600 [==============================] - 0s 39us/sample - loss: 0.1991 - acc: 0.9357 - val_loss: 0.2490 - val_acc: 0.9257\n",
      "Epoch 68/100\n",
      "12288/12600 [============================>.] - ETA: 0s - loss: 0.1910 - acc: 0.9382\n",
      "Epoch 00068: ReduceLROnPlateau reducing learning rate to 0.0013421771116554739.\n",
      "12600/12600 [==============================] - 0s 32us/sample - loss: 0.1909 - acc: 0.9383 - val_loss: 0.2596 - val_acc: 0.9271\n",
      "Epoch 69/100\n",
      "12600/12600 [==============================] - 0s 39us/sample - loss: 0.1900 - acc: 0.9383 - val_loss: 0.2543 - val_acc: 0.9236\n",
      "Epoch 70/100\n",
      "12600/12600 [==============================] - 1s 40us/sample - loss: 0.1913 - acc: 0.9364 - val_loss: 0.2486 - val_acc: 0.9300\n",
      "Epoch 71/100\n",
      "12600/12600 [==============================] - 1s 40us/sample - loss: 0.1843 - acc: 0.9375 - val_loss: 0.2547 - val_acc: 0.9243\n",
      "Epoch 72/100\n",
      "12600/12600 [==============================] - 0s 33us/sample - loss: 0.1918 - acc: 0.9367 - val_loss: 0.2509 - val_acc: 0.9243\n",
      "Epoch 73/100\n",
      "11776/12600 [===========================>..] - ETA: 0s - loss: 0.1871 - acc: 0.9402\n",
      "Epoch 00073: ReduceLROnPlateau reducing learning rate to 0.001073741726577282.\n",
      "12600/12600 [==============================] - 0s 37us/sample - loss: 0.1882 - acc: 0.9395 - val_loss: 0.2521 - val_acc: 0.9243\n",
      "Epoch 74/100\n",
      "12600/12600 [==============================] - 0s 39us/sample - loss: 0.1877 - acc: 0.9371 - val_loss: 0.2552 - val_acc: 0.9257\n",
      "Epoch 75/100\n",
      "12600/12600 [==============================] - 0s 38us/sample - loss: 0.1863 - acc: 0.9403 - val_loss: 0.2492 - val_acc: 0.9271\n",
      "Epoch 76/100\n",
      "11776/12600 [===========================>..] - ETA: 0s - loss: 0.1946 - acc: 0.9363\n",
      "Epoch 00076: ReduceLROnPlateau reducing learning rate to 0.0008589933626353742.\n",
      "12600/12600 [==============================] - 0s 36us/sample - loss: 0.1965 - acc: 0.9360 - val_loss: 0.2491 - val_acc: 0.9279\n",
      "Epoch 77/100\n",
      "12600/12600 [==============================] - 0s 35us/sample - loss: 0.1895 - acc: 0.9358 - val_loss: 0.2537 - val_acc: 0.9243\n",
      "Epoch 78/100\n",
      "12600/12600 [==============================] - 0s 39us/sample - loss: 0.1895 - acc: 0.9394 - val_loss: 0.2550 - val_acc: 0.9257\n",
      "Epoch 79/100\n",
      "11264/12600 [=========================>....] - ETA: 0s - loss: 0.1856 - acc: 0.9380\n",
      "Epoch 00079: ReduceLROnPlateau reducing learning rate to 0.0006871947087347508.\n",
      "12600/12600 [==============================] - 1s 40us/sample - loss: 0.1842 - acc: 0.9387 - val_loss: 0.2488 - val_acc: 0.9257\n",
      "Epoch 80/100\n",
      "12600/12600 [==============================] - 0s 37us/sample - loss: 0.1847 - acc: 0.9410 - val_loss: 0.2543 - val_acc: 0.9243\n",
      "Epoch 81/100\n",
      "12600/12600 [==============================] - 0s 32us/sample - loss: 0.1776 - acc: 0.9404 - val_loss: 0.2475 - val_acc: 0.9271\n",
      "Epoch 82/100\n",
      "12600/12600 [==============================] - 1s 40us/sample - loss: 0.1816 - acc: 0.9390 - val_loss: 0.2513 - val_acc: 0.9264\n",
      "Epoch 83/100\n",
      "12600/12600 [==============================] - 0s 39us/sample - loss: 0.1781 - acc: 0.9440 - val_loss: 0.2534 - val_acc: 0.9243\n",
      "Epoch 84/100\n",
      "11264/12600 [=========================>....] - ETA: 0s - loss: 0.1793 - acc: 0.9394\n",
      "Epoch 00084: ReduceLROnPlateau reducing learning rate to 0.0005497557576745749.\n",
      "12600/12600 [==============================] - 1s 40us/sample - loss: 0.1782 - acc: 0.9401 - val_loss: 0.2508 - val_acc: 0.9271\n",
      "Epoch 85/100\n",
      "12600/12600 [==============================] - 0s 30us/sample - loss: 0.1802 - acc: 0.9410 - val_loss: 0.2478 - val_acc: 0.9271\n",
      "Epoch 86/100\n",
      "12600/12600 [==============================] - 1s 40us/sample - loss: 0.1857 - acc: 0.9374 - val_loss: 0.2458 - val_acc: 0.9279\n",
      "Epoch 87/100\n",
      "12600/12600 [==============================] - 1s 40us/sample - loss: 0.1823 - acc: 0.9402 - val_loss: 0.2508 - val_acc: 0.9257\n",
      "Epoch 88/100\n",
      "12600/12600 [==============================] - 1s 40us/sample - loss: 0.1729 - acc: 0.9440 - val_loss: 0.2486 - val_acc: 0.9286\n",
      "Epoch 89/100\n",
      "11264/12600 [=========================>....] - ETA: 0s - loss: 0.1835 - acc: 0.9409\n",
      "Epoch 00089: ReduceLROnPlateau reducing learning rate to 0.0004398046061396599.\n",
      "12600/12600 [==============================] - 0s 32us/sample - loss: 0.1849 - acc: 0.9395 - val_loss: 0.2481 - val_acc: 0.9264\n",
      "Epoch 90/100\n",
      "12600/12600 [==============================] - 1s 43us/sample - loss: 0.1789 - acc: 0.9411 - val_loss: 0.2478 - val_acc: 0.9271\n",
      "Epoch 91/100\n",
      "12600/12600 [==============================] - 1s 40us/sample - loss: 0.1745 - acc: 0.9423 - val_loss: 0.2482 - val_acc: 0.9279\n",
      "Epoch 92/100\n",
      "11776/12600 [===========================>..] - ETA: 0s - loss: 0.1720 - acc: 0.9423\n",
      "Epoch 00092: ReduceLROnPlateau reducing learning rate to 0.00035184368025511505.\n",
      "12600/12600 [==============================] - 0s 39us/sample - loss: 0.1748 - acc: 0.9417 - val_loss: 0.2491 - val_acc: 0.9257\n",
      "Epoch 93/100\n",
      "12600/12600 [==============================] - 0s 33us/sample - loss: 0.1796 - acc: 0.9425 - val_loss: 0.2494 - val_acc: 0.9250\n",
      "Epoch 94/100\n",
      "12600/12600 [==============================] - 0s 38us/sample - loss: 0.1714 - acc: 0.9441 - val_loss: 0.2500 - val_acc: 0.9243\n",
      "Epoch 95/100\n",
      "11264/12600 [=========================>....] - ETA: 0s - loss: 0.1753 - acc: 0.9422\n",
      "Epoch 00095: ReduceLROnPlateau reducing learning rate to 0.0003.\n",
      "12600/12600 [==============================] - 1s 41us/sample - loss: 0.1763 - acc: 0.9417 - val_loss: 0.2500 - val_acc: 0.9271\n",
      "Epoch 96/100\n",
      "12600/12600 [==============================] - 1s 40us/sample - loss: 0.1763 - acc: 0.9433 - val_loss: 0.2470 - val_acc: 0.9271\n",
      "Epoch 97/100\n",
      "12600/12600 [==============================] - 0s 34us/sample - loss: 0.1805 - acc: 0.9382 - val_loss: 0.2489 - val_acc: 0.9257\n",
      "Epoch 98/100\n",
      "12288/12600 [============================>.] - ETA: 0s - loss: 0.1752 - acc: 0.9420\n",
      "Epoch 00098: ReduceLROnPlateau reducing learning rate to 0.0003.\n",
      "12600/12600 [==============================] - 0s 36us/sample - loss: 0.1756 - acc: 0.9421 - val_loss: 0.2520 - val_acc: 0.9250\n",
      "Epoch 99/100\n",
      "12600/12600 [==============================] - 0s 39us/sample - loss: 0.1811 - acc: 0.9413 - val_loss: 0.2495 - val_acc: 0.9250\n",
      "Epoch 100/100\n",
      "12600/12600 [==============================] - 0s 39us/sample - loss: 0.1760 - acc: 0.9429 - val_loss: 0.2504 - val_acc: 0.9250\n"
     ]
    }
   ],
   "source": [
    "history = model_enc.fit(x_train, y_train_cat, validation_data=(x_val, y_val_cat),\n",
    "                        batch_size=512, epochs=100, callbacks=[lr_decay])"
   ]
  },
  {
   "cell_type": "code",
   "execution_count": 30,
   "metadata": {
    "colab": {},
    "colab_type": "code",
    "id": "vNc1Qv6fmSyq"
   },
   "outputs": [
    {
     "data": {
      "image/png": "[encoded data removed]",
      "text/plain": [
       "<Figure size 432x288 with 1 Axes>"
      ]
     },
     "metadata": {
      "needs_background": "light"
     },
     "output_type": "display_data"
    },
    {
     "data": {
      "image/png": "[encoded data removed]",
      "text/plain": [
       "<Figure size 432x288 with 1 Axes>"
      ]
     },
     "metadata": {
      "needs_background": "light"
     },
     "output_type": "display_data"
    }
   ],
   "source": [
    "plot_history(history)"
   ]
  },
  {
   "cell_type": "code",
   "execution_count": 31,
   "metadata": {
    "colab": {},
    "colab_type": "code",
    "id": "EoWxkvTHa5FZ"
   },
   "outputs": [
    {
     "name": "stdout",
     "output_type": "stream",
     "text": [
      "              precision    recall  f1-score   support\n",
      "\n",
      "           0       0.96      0.96      0.96       136\n",
      "           1       0.88      0.96      0.92       129\n",
      "           2       0.90      0.90      0.90       124\n",
      "           3       0.99      0.96      0.97       137\n",
      "           4       0.94      0.89      0.92       121\n",
      "           5       0.89      0.94      0.91       134\n",
      "           6       0.90      0.87      0.88       128\n",
      "           7       0.92      0.95      0.93       116\n",
      "           8       0.96      0.92      0.94       146\n",
      "           9       0.91      0.88      0.90       146\n",
      "          10       0.92      0.96      0.94        83\n",
      "\n",
      "    accuracy                           0.93      1400\n",
      "   macro avg       0.92      0.93      0.93      1400\n",
      "weighted avg       0.93      0.93      0.92      1400\n",
      "\n"
     ]
    }
   ],
   "source": [
    "print(classification_report(y_val, model_enc.predict(x_val).argmax(axis=1)))"
   ]
  },
  {
   "cell_type": "code",
   "execution_count": 32,
   "metadata": {
    "colab": {
     "base_uri": "https://localhost:8080/",
     "height": 350
    },
    "colab_type": "code",
    "id": "fKif2irLGZhY",
    "outputId": "a25ad0ea-44a0-4510-d4c2-47b84900ff24"
   },
   "outputs": [
    {
     "data": {
      "image/png": "[encoded data removed]",
      "text/plain": [
       "<Figure size 936x360 with 1 Axes>"
      ]
     },
     "metadata": {
      "needs_background": "light"
     },
     "output_type": "display_data"
    }
   ],
   "source": [
    "index = ['p','q','r','s','t','u','v','w','x','y','z']\n",
    "\n",
    "plt.figure(figsize = (13,5))\n",
    "cf_matrix = confusion_matrix(y_val, model_enc.predict(x_val).argmax(axis=1))\n",
    "ax = sns.heatmap(cf_matrix, xticklabels=index, yticklabels=index, cmap='Greens',\n",
    "                 cbar=False, annot=True, fmt='d', linewidths=2, linecolor='gray')\n",
    "ax.tick_params(left=False, bottom=False)\n",
    "plt.ylabel('True Label')\n",
    "plt.xlabel('Predicted Label')\n",
    "plt.title('Confusion Matrix')\n",
    "plt.yticks(rotation=0)\n",
    "plt.show()"
   ]
  },
  {
   "cell_type": "code",
   "execution_count": 119,
   "metadata": {},
   "outputs": [
    {
     "data": {
      "image/png": "[encoded data removed]",
      "text/plain": [
       "<Figure size 1080x1080 with 7 Axes>"
      ]
     },
     "metadata": {
      "needs_background": "light"
     },
     "output_type": "display_data"
    }
   ],
   "source": [
    "image_index = [2, 28, 46, 47, 69, 132, 166] #few letter I found manually\n",
    "plt.figure(figsize=(15,15))\n",
    "import string\n",
    "d={}\n",
    "for i, letter in enumerate(string.ascii_lowercase):\n",
    "    d[i+1] = letter\n",
    "\n",
    "for i, index in enumerate(image_index):\n",
    "    ax = plt.subplot(3, n, i + 1)\n",
    "    plt.imshow(x_val[index].reshape(28, 28))\n",
    "    plt.text(10, -2, d[y_val[index]+first_letter],fontsize=12)\n",
    "    plt.gray()\n",
    "    ax.get_xaxis().set_visible(False)\n",
    "    ax.get_yaxis().set_visible(False)"
   ]
  },
  {
   "cell_type": "code",
   "execution_count": 107,
   "metadata": {},
   "outputs": [],
   "source": []
  }
 ],
 "metadata": {
  "accelerator": "GPU",
  "colab": {
   "collapsed_sections": [],
   "name": "Assignment2.ipynb",
   "provenance": []
  },
  "kernelspec": {
   "display_name": "Python 3",
   "language": "python",
   "name": "python3"
  },
  "language_info": {
   "codemirror_mode": {
    "name": "ipython",
    "version": 3
   },
   "file_extension": ".py",
   "mimetype": "text/x-python",
   "name": "python",
   "nbconvert_exporter": "python",
   "pygments_lexer": "ipython3",
   "version": "3.7.3"
  },
  "widgets": {
   "application/vnd.jupyter.widget-state+json": {
    "state": {},
    "version_major": 2,
    "version_minor": 0
   }
  }
 },
 "nbformat": 4,
 "nbformat_minor": 1
}
